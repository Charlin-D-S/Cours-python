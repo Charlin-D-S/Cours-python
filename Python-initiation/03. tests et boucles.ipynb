{
 "cells": [
  {
   "cell_type": "markdown",
   "id": "9f2a6f38-8511-45a1-b123-ea4b955ce6f7",
   "metadata": {},
   "source": [
    "# Structures condionnelles et boucles\n",
    "\n",
    "Dans ce Notebook, nous allons aborder les thèmes suivants : \n",
    "* les structures **if, else**\n",
    "* la boucle **for**\n",
    "* la boucle **while**\n",
    "* les instructions **break** et **continue**\n",
    "\n",
    "\n",
    "# Structures conditionnelles\n",
    "\n",
    "Nous allons tester différentes conditions en utilisant les mots clés : **if**, **else** et **elif**.  \n",
    "Il est important de respecter la syntaxe, en particulier l'indentation !"
   ]
  },
  {
   "cell_type": "code",
   "execution_count": 8,
   "id": "84dd3b07-53eb-466e-b70e-2cda2a94c196",
   "metadata": {},
   "outputs": [
    {
     "name": "stdout",
     "output_type": "stream",
     "text": [
      "la variable a(12) est strictement supérieure à 5\n"
     ]
    }
   ],
   "source": [
    "a = 12\n",
    "\n",
    "# Simple if\n",
    "if a > 5:\n",
    "    print(\"la variable a({}) est strictement supérieure à 5\".format(a))"
   ]
  },
  {
   "cell_type": "code",
   "execution_count": 10,
   "id": "8145a313-826f-45a8-993d-4beb8e061b78",
   "metadata": {},
   "outputs": [
    {
     "name": "stdout",
     "output_type": "stream",
     "text": [
      "la variable a(3) est inférieure ou égale à 5\n"
     ]
    }
   ],
   "source": [
    "a = 3\n",
    "\n",
    "# if else\n",
    "if a > 5:\n",
    "    print(\"la variable a({}) est strictement supérieure à 5\".format(a))\n",
    "else:\n",
    "    print(\"la variable a({}) est inférieure ou égale à 5\".format(a))"
   ]
  },
  {
   "cell_type": "code",
   "execution_count": 11,
   "id": "5dd4d3de-5857-41a3-bc4e-15dd795f97ae",
   "metadata": {},
   "outputs": [
    {
     "name": "stdout",
     "output_type": "stream",
     "text": [
      "ville\n"
     ]
    }
   ],
   "source": [
    "nb_habitants = 750\n",
    "\n",
    "if nb_habitants < 500:\n",
    "    print(\"village\")\n",
    "elif nb_habitants < 10000:\n",
    "    print(\"ville\")\n",
    "else:\n",
    "    print(\"grande ville\")"
   ]
  },
  {
   "cell_type": "code",
   "execution_count": 15,
   "id": "7815cef8-44ca-49b3-9817-2ea0825f9c16",
   "metadata": {},
   "outputs": [
    {
     "name": "stdout",
     "output_type": "stream",
     "text": [
      "Année validée\n"
     ]
    }
   ],
   "source": [
    "# Conditions multiples\n",
    "\n",
    "note_maths = 14\n",
    "note_info = 20\n",
    "validation_anglais = True\n",
    "\n",
    "if note_maths > 10 and note_info > 10 and validation_anglais:\n",
    "    print(\"Année validée\")"
   ]
  },
  {
   "cell_type": "code",
   "execution_count": 17,
   "id": "9a09ef06-6919-4cb1-b5e7-149f2aa59c50",
   "metadata": {},
   "outputs": [
    {
     "name": "stdout",
     "output_type": "stream",
     "text": [
      "Félicitation, continuez comme ça !\n"
     ]
    }
   ],
   "source": [
    "# Conditions en cascade\n",
    "if note_maths > 10:\n",
    "    if note_info > 10:\n",
    "        if validation_anglais:\n",
    "            print(\"Félicitation, continuez comme ça !\")\n",
    "        else:\n",
    "            print(\"Work harder\")\n",
    "    else:\n",
    "        print(\"il y a 10 types de personnes, ceux qui sont bons en info et les autres\")\n",
    "else:\n",
    "    print(\"1+1=2\")"
   ]
  },
  {
   "cell_type": "markdown",
   "id": "c4c5c961",
   "metadata": {},
   "source": [
    "---\n",
    "\n",
    "# Boucles"
   ]
  },
  {
   "cell_type": "markdown",
   "id": "7e1fd944",
   "metadata": {},
   "source": [
    "Les boucles sont utiles pour répéter de nombreuses fois la même opération.  \n",
    "Par exemple si l'on souhaite afficher tous les éléments d'une liste, écrire autant de **print** qu'il y a d'éléments serait assez pénible.  \n",
    "  \n",
    "Comme pour les structures conditionnelles, il est très important de respecter l'indentation !"
   ]
  },
  {
   "cell_type": "markdown",
   "id": "55b55b8a",
   "metadata": {},
   "source": [
    "## La boucle for\n",
    "\n",
    "Il y a plusieurs manières d'utiliser la boucle **for**, voici quelques exemples.  \n",
    "  \n",
    "Il est très fréquent d'utiliser avec les boucles la méthode **range(start, stop, step)** qui génére une suite d'entiers\n",
    "* start : Valeur de départ de la séquence (optionnelle). Par défaut, elle est définie à 0.\n",
    "* stop : Valeur de fin de la séquence (exclue).\n",
    "* step : Pas d'incrément (optionnel). Par défaut, il est défini à 1."
   ]
  },
  {
   "cell_type": "code",
   "execution_count": 6,
   "id": "8fbebc28-bb46-4305-8c95-11bd39ea539e",
   "metadata": {},
   "outputs": [
    {
     "name": "stdout",
     "output_type": "stream",
     "text": [
      "1\n",
      "2\n",
      "3\n",
      "4\n",
      "5\n"
     ]
    }
   ],
   "source": [
    "# Afficher les entiers entre 1 et 6\n",
    "for i in range(1, 6):\n",
    "    print(i)"
   ]
  },
  {
   "cell_type": "code",
   "execution_count": 15,
   "id": "727b1eb8-dafb-4981-aac9-595e88cdc668",
   "metadata": {},
   "outputs": [
    {
     "name": "stdout",
     "output_type": "stream",
     "text": [
      "0\t0\n",
      "1\t1\n",
      "2\t4\n",
      "3\t9\n",
      "4\t16\n",
      "5\t25\n"
     ]
    }
   ],
   "source": [
    "for i in range(6):\n",
    "    print(i, i ** 2, sep=\"\\t\")"
   ]
  },
  {
   "cell_type": "code",
   "execution_count": 1,
   "id": "0b89419d-4716-4e6e-a17a-9a4ff5b612c6",
   "metadata": {},
   "outputs": [
    {
     "name": "stdout",
     "output_type": "stream",
     "text": [
      "Hello Luke\n",
      "Hello Leia\n",
      "Hello Han\n",
      "Hello Obi-Wan\n"
     ]
    }
   ],
   "source": [
    "# Parcours d'une liste\n",
    "personnages = [\"Luke\", \"Leia\", \"Han\", \"Obi-Wan\"]\n",
    "\n",
    "for p in personnages:\n",
    "    print(\"Hello \" + p)"
   ]
  },
  {
   "cell_type": "code",
   "execution_count": 21,
   "id": "38f13664-4253-4f9c-a660-b13cdee95fb5",
   "metadata": {},
   "outputs": [
    {
     "name": "stdout",
     "output_type": "stream",
     "text": [
      "Personnage 0 : Luke\n",
      "Personnage 1 : Leia\n",
      "Personnage 2 : Han\n",
      "Personnage 3 : Obi-Wan\n"
     ]
    }
   ],
   "source": [
    "# Parcours d'une liste par indice\n",
    "for i in range(len(personnages)):\n",
    "    print(\"Personnage \" + str(i) + \" : \" + personnages[i])"
   ]
  },
  {
   "cell_type": "markdown",
   "id": "d10db939-f1f7-4125-81d0-2baa306ecff9",
   "metadata": {},
   "source": [
    "La fonction **enumerate()** est utilisée pour itérer simultanément sur les indices et les éléments.  \n",
    "Elle permet de générer un tuple(indice, élément)"
   ]
  },
  {
   "cell_type": "code",
   "execution_count": 24,
   "id": "22c84d8d-8778-4741-81b3-f82df31ae5fa",
   "metadata": {},
   "outputs": [
    {
     "data": {
      "text/plain": [
       "[(0, 'Luke'), (1, 'Leia'), (2, 'Han'), (3, 'Obi-Wan')]"
      ]
     },
     "execution_count": 24,
     "metadata": {},
     "output_type": "execute_result"
    }
   ],
   "source": [
    "list(enumerate(personnages))"
   ]
  },
  {
   "cell_type": "code",
   "execution_count": 22,
   "id": "8db778d6-c08e-46f3-b5ee-d683c8925bea",
   "metadata": {},
   "outputs": [
    {
     "name": "stdout",
     "output_type": "stream",
     "text": [
      "Personnage 0 : Luke\n",
      "Personnage 1 : Leia\n",
      "Personnage 2 : Han\n",
      "Personnage 3 : Obi-Wan\n"
     ]
    }
   ],
   "source": [
    "# Parcours d'une liste en utilisant enumerate\n",
    "for numero, nom in enumerate(personnages):\n",
    "    print(\"Personnage \" + str(numero) + \" : \" + nom)"
   ]
  },
  {
   "cell_type": "code",
   "execution_count": 9,
   "id": "243282af-573e-4740-8f45-0f41a8722832",
   "metadata": {},
   "outputs": [
    {
     "name": "stdout",
     "output_type": "stream",
     "text": [
      "D - a - r - k -   - V - a - d - o - r - "
     ]
    }
   ],
   "source": [
    "# Parcours d'une chaîne de caractères\n",
    "for char in \"Dark Vador\":\n",
    "    print(char, end=\" - \")"
   ]
  },
  {
   "cell_type": "code",
   "execution_count": 19,
   "id": "a3fbd442-7d4a-40e0-8e3e-4d7f74587786",
   "metadata": {},
   "outputs": [
    {
     "name": "stdout",
     "output_type": "stream",
     "text": [
      "Salut les lapinous"
     ]
    }
   ],
   "source": [
    "import time\n",
    "\n",
    "message = \"Salut les lapinous\"\n",
    "for i in range(len(message)):\n",
    "    time.sleep(0.5)\n",
    "    print(message[i], end=\"\")"
   ]
  },
  {
   "cell_type": "code",
   "execution_count": 12,
   "id": "93bc590c-94db-4f5d-9b9f-4dad7b2c3dec",
   "metadata": {},
   "outputs": [
    {
     "name": "stdout",
     "output_type": "stream",
     "text": [
      "sucre\n",
      "poire\n",
      "lait\n",
      "sel\n"
     ]
    }
   ],
   "source": [
    "ingredients = {'sucre': '100g', 'poire': 2, 'lait': '1L', 'sel': True}\n",
    "\n",
    "# Parcours des clés d'un dictionnaire\n",
    "for cle in ingredients:\n",
    "    print(cle)"
   ]
  },
  {
   "cell_type": "markdown",
   "id": "96722b86",
   "metadata": {},
   "source": [
    "## La boucle while\n",
    "\n",
    "Le principe de la boucle **while** est le suivant :\n",
    "* une condition d'entrée dans la boucle est définie\n",
    "* tant que la condition est vérifiée, le code dans la boucle est exécuté"
   ]
  },
  {
   "cell_type": "code",
   "execution_count": 32,
   "id": "90e966ed",
   "metadata": {},
   "outputs": [
    {
     "name": "stdout",
     "output_type": "stream",
     "text": [
      "5...4...3...2...1...0...Boom\n"
     ]
    }
   ],
   "source": [
    "cpt = 5\n",
    "while cpt >= 0:\n",
    "    print(cpt, end=\"...\")\n",
    "    cpt -= 1      # cpt = cpt - 1\n",
    "print(\"Boom\")"
   ]
  },
  {
   "cell_type": "code",
   "execution_count": 35,
   "id": "f60d63f7-5195-4eb1-8eaf-6d67e7b6eb63",
   "metadata": {},
   "outputs": [
    {
     "name": "stdin",
     "output_type": "stream",
     "text": [
      "Entrez un nombre pair :  3\n"
     ]
    },
    {
     "name": "stdout",
     "output_type": "stream",
     "text": [
      "Ce n'est pas un nombre pair.\n"
     ]
    },
    {
     "name": "stdin",
     "output_type": "stream",
     "text": [
      "Entrez un nombre pair :  5\n"
     ]
    },
    {
     "name": "stdout",
     "output_type": "stream",
     "text": [
      "Ce n'est pas un nombre pair.\n"
     ]
    },
    {
     "name": "stdin",
     "output_type": "stream",
     "text": [
      "Entrez un nombre pair :  4\n"
     ]
    },
    {
     "name": "stdout",
     "output_type": "stream",
     "text": [
      "Merci, vous avez entré un nombre pair.\n"
     ]
    }
   ],
   "source": [
    "user_input = input(\"Entrez un nombre pair : \")\n",
    "while int(user_input) % 2 != 0:\n",
    "    print(\"Ce n'est pas un nombre pair.\")\n",
    "    user_input = input(\"Entrez un nombre pair : \")\n",
    "print(\"Merci, vous avez entré un nombre pair.\")"
   ]
  },
  {
   "cell_type": "markdown",
   "id": "996d14a7",
   "metadata": {},
   "source": [
    "### Critère d'arrêt\n",
    "\n",
    "La différence principale avec la boucle **for** est le critère d'arrêt.  \n",
    "Dans une boucle **for**, ce critère est clair : la boucle itère sur les éléments d'un objet itérable, nécessairement de taille finie.  \n",
    "  \n",
    "Au contraire, dans la boucle **while**, ce critère peut ne jamais se réaliser et l'on se retrouve alors dans une boucle infinie...  \n",
    "\n",
    "Par exemple si l'on se trompe dans le nom des indices, voici le résultat :"
   ]
  },
  {
   "cell_type": "code",
   "execution_count": null,
   "id": "1ce2c93f",
   "metadata": {},
   "outputs": [],
   "source": [
    "# Utilisez le bouton \"Stop\" (carré noir) de Jupyter pour arrêter le programme en cours\n",
    "i = 1\n",
    "j = 1\n",
    "while i <= 5:\n",
    "    j = j + 1"
   ]
  },
  {
   "cell_type": "code",
   "execution_count": 34,
   "id": "0f94122a",
   "metadata": {},
   "outputs": [
    {
     "name": "stdout",
     "output_type": "stream",
     "text": [
      "1\n",
      "67414191\n"
     ]
    }
   ],
   "source": [
    "print(i)\n",
    "print(j)"
   ]
  },
  {
   "cell_type": "markdown",
   "id": "814219e1",
   "metadata": {},
   "source": [
    "## L'instruction break"
   ]
  },
  {
   "cell_type": "markdown",
   "id": "c7b2fbf1",
   "metadata": {},
   "source": [
    "Une manière alternative de spécifier un critère d'arrêt est d'utiliser l'instruction `break`. Lorsque cette instruction est atteinte et exécutée, la boucle est immédiatement interrompue.\n",
    "\n",
    "Illustrons son fonctionnement à l'aide d'un exemple. La première ligne crée une boucle infinie, dans la mesure où, par définition, `True` est toujours évalué à `True`. Le programme demande ensuite à l'utilisateur de taper un prénom, et ce infiniment jusqu'à que l'utilisateur tape le prénom attendu. Dans ce cas seulement, l'instruction `break` est atteinte et la boucle s'arrête. Le message \"Bienvenue <votre_prenom>\" s'affiche enfin, dans la mesure où le deuxième `print` n'est pas inclus dans la boucle."
   ]
  },
  {
   "cell_type": "code",
   "execution_count": 41,
   "id": "206829d8",
   "metadata": {},
   "outputs": [
    {
     "name": "stdout",
     "output_type": "stream",
     "text": [
      "Entrez un nombre entre 1 et 20\n"
     ]
    },
    {
     "name": "stdin",
     "output_type": "stream",
     "text": [
      " -1\n"
     ]
    },
    {
     "name": "stdout",
     "output_type": "stream",
     "text": [
      "Entre 1 et 20 !!!\n"
     ]
    },
    {
     "name": "stdin",
     "output_type": "stream",
     "text": [
      " a\n"
     ]
    },
    {
     "name": "stdout",
     "output_type": "stream",
     "text": [
      "Veuillez entrer un entier valide\n"
     ]
    },
    {
     "name": "stdin",
     "output_type": "stream",
     "text": [
      " 10\n"
     ]
    },
    {
     "name": "stdout",
     "output_type": "stream",
     "text": [
      "moins grand\n"
     ]
    },
    {
     "name": "stdin",
     "output_type": "stream",
     "text": [
      " 5\n"
     ]
    },
    {
     "name": "stdout",
     "output_type": "stream",
     "text": [
      "moins grand\n"
     ]
    },
    {
     "name": "stdin",
     "output_type": "stream",
     "text": [
      " 2\n"
     ]
    },
    {
     "name": "stdout",
     "output_type": "stream",
     "text": [
      "moins grand\n"
     ]
    },
    {
     "name": "stdin",
     "output_type": "stream",
     "text": [
      " 1\n"
     ]
    },
    {
     "name": "stdout",
     "output_type": "stream",
     "text": [
      "Félicitations, vous avez trouvé le nombre secret : 1\n"
     ]
    }
   ],
   "source": [
    "import random\n",
    "\n",
    "nombre_aleatoire = random.randint(1, 20)\n",
    "\n",
    "print(\"Entrez un nombre entre 1 et 20\")\n",
    "while True:\n",
    "    nombre_saisi = input()\n",
    "    try:\n",
    "        nombre_saisi = int(nombre_saisi)\n",
    "        if nombre_saisi == nombre_aleatoire:\n",
    "            break\n",
    "        elif nombre_saisi < 1 or nombre_saisi > 20:\n",
    "            print(\"Entre 1 et 20 !!!\")        \n",
    "        elif nombre_saisi > nombre_aleatoire:\n",
    "            print(\"moins grand\")\n",
    "        elif nombre_saisi < nombre_aleatoire:\n",
    "            print(\"plus grand\")\n",
    "    except ValueError:\n",
    "        print(\"Veuillez entrer un entier valide\")\n",
    "        \n",
    "print(\"Félicitations, vous avez trouvé le nombre secret :\", nombre_aleatoire)"
   ]
  },
  {
   "cell_type": "markdown",
   "id": "37b6e4c9",
   "metadata": {},
   "source": [
    "Il est important de noter qu'une instruction `break` ne met fin qu'à la boucle de niveau directement supérieur à elle. Dans le cas d'une boucle à plusieurs niveaux, il est tout à fait possible que les opérations continuent même lorsqu'une instruction `break` a été atteinte. \n",
    "\n",
    "Illustrons ce principe avec un exemple."
   ]
  },
  {
   "cell_type": "code",
   "execution_count": null,
   "id": "3a543b94",
   "metadata": {},
   "outputs": [],
   "source": [
    "i = 0\n",
    "while i <= 5:\n",
    "    for j in range(5):\n",
    "        if j == 2:\n",
    "            print(\"Break.\")\n",
    "            break\n",
    "    i += 1"
   ]
  },
  {
   "cell_type": "markdown",
   "id": "e153cac7",
   "metadata": {},
   "source": [
    "A chaque itération de la boucle `while`, une boucle `for` est lancée, qui atteint une instruction `break` à la troisième itération (lorsque `j` vaut 2). Cela a pour effet de mettre fin à la boucle `for`, mais pas à la boucle `while`, qui exécute la suite de ses instructions (l'incrémentation de `i` d'une unité) avant de passer à l'itération suivante."
   ]
  },
  {
   "cell_type": "markdown",
   "id": "094dc86f",
   "metadata": {},
   "source": [
    "## L'instruction continue"
   ]
  },
  {
   "cell_type": "markdown",
   "id": "cf914709",
   "metadata": {},
   "source": [
    "L'instruction `continue` permet de passer à l'itération suivante de la boucle.\n",
    "\n",
    "Agrémentons l'exemple précédent pour illustrer son fonctionnement. Tant qu'un prénom différent de celui attendu est rentré, l'instruction `continue` est évaluée, et le programme continue à demander un prénom à l'utilisateur. Lorsque le bon prénom est rentré, le programme demande à l'utilisateur de rentrer un mot de passe. Si le mot de passe est celui attendu, l'instruction `break` est atteinte et exécutée, la boucle s'arrête. En cas de mauvais mot de passe en revanche, la boucle redémarre au début du bloc d'exécution, il faut donc de nouveau rentrer un prénom avant le mot de passe."
   ]
  },
  {
   "cell_type": "code",
   "execution_count": 18,
   "id": "ca4de212",
   "metadata": {},
   "outputs": [
    {
     "name": "stdout",
     "output_type": "stream",
     "text": [
      "Veuillez entrer votre prénom.\n"
     ]
    },
    {
     "name": "stdin",
     "output_type": "stream",
     "text": [
      " ludo\n"
     ]
    },
    {
     "name": "stdout",
     "output_type": "stream",
     "text": [
      "Veuillez entrer votre prénom.\n"
     ]
    },
    {
     "name": "stdin",
     "output_type": "stream",
     "text": [
      " \n"
     ]
    },
    {
     "name": "stdout",
     "output_type": "stream",
     "text": [
      "Veuillez entrer votre mot de passe.\n"
     ]
    },
    {
     "name": "stdin",
     "output_type": "stream",
     "text": [
      " \n"
     ]
    },
    {
     "name": "stdout",
     "output_type": "stream",
     "text": [
      "Veuillez entrer votre prénom.\n"
     ]
    },
    {
     "name": "stdin",
     "output_type": "stream",
     "text": [
      " \n"
     ]
    },
    {
     "name": "stdout",
     "output_type": "stream",
     "text": [
      "Veuillez entrer votre mot de passe.\n"
     ]
    },
    {
     "name": "stdin",
     "output_type": "stream",
     "text": [
      " insee2021\n"
     ]
    },
    {
     "name": "stdout",
     "output_type": "stream",
     "text": [
      "Bienvenue \n"
     ]
    }
   ],
   "source": [
    "votre_prenom = \"\"\n",
    "\n",
    "while True:\n",
    "    print(\"Veuillez entrer votre prénom.\")\n",
    "    prenom = input()\n",
    "    if prenom != votre_prenom:\n",
    "        continue\n",
    "    print(\"Veuillez entrer votre mot de passe.\")\n",
    "    mdp = input()\n",
    "    if mdp == \"insee2021\":\n",
    "        break\n",
    "print(\"Bienvenue \" + votre_prenom)"
   ]
  },
  {
   "cell_type": "markdown",
   "id": "8ef5df33",
   "metadata": {},
   "source": [
    "NB : le code ci-dessus à seulement valeur d'exemple. Comme on le verra dans un prochain tutoriel sur les bonnes pratiques de code, il ne faut **jamais écrire de secrets (mots de passe, tokens..) en clair dans son code.**"
   ]
  },
  {
   "cell_type": "markdown",
   "id": "db5ddd0a",
   "metadata": {},
   "source": [
    "---\n",
    "\n",
    "# Exercices"
   ]
  },
  {
   "cell_type": "markdown",
   "id": "ba5ac474",
   "metadata": {},
   "source": [
    "### Questions de compréhension"
   ]
  },
  {
   "cell_type": "markdown",
   "id": "ae6fd0f4",
   "metadata": {},
   "source": [
    "- 1/ Comment fonctionne une boucle `for` ?\n",
    "- 2/ La variable d'itération définie lors d'une boucle `for` persiste-t-elle en mémoire une fois la boucle terminée ?\n",
    "- 3/ Que fait la fonction `range` ? Pourquoi est-elle particulièrement utile dans le cadre des boucles `for` ?\n",
    "- 4/ Que fait la fonction `enumerate` ? Pourquoi est-elle particulièrement utile dans le cadre des boucles `for` ?\n",
    "- 5/ Comment fonctionne une boucle `while` ?\n",
    "- 6/ Quand s'arrête une boucle `while` ? En quoi cela diffère-t-il des boucles `for` ? \n",
    "- 7/ Que fait l'instruction `break` ?\n",
    "- 8/ Que fait l'instruction `continue` ?"
   ]
  },
  {
   "cell_type": "code",
   "execution_count": null,
   "id": "04ddbb9d",
   "metadata": {
    "tags": []
   },
   "outputs": [],
   "source": [
    "# Testez votre réponse dans cette cellule\n"
   ]
  },
  {
   "cell_type": "code",
   "execution_count": null,
   "id": "299d1955",
   "metadata": {
    "tags": []
   },
   "outputs": [],
   "source": [
    "# Exécuter cette cellule pour afficher la solution\n",
    "%load -r 3-33 solutions.py"
   ]
  },
  {
   "cell_type": "markdown",
   "id": "b0246c5a",
   "metadata": {},
   "source": [
    "### Prédiction de résultats de boucles `while`"
   ]
  },
  {
   "cell_type": "markdown",
   "id": "7a2f0622",
   "metadata": {},
   "source": [
    "Essayer de prédire ce que vont produire les boucles `while` suivantes, et vérifiez vos résultats."
   ]
  },
  {
   "cell_type": "code",
   "execution_count": null,
   "id": "82460e71",
   "metadata": {},
   "outputs": [],
   "source": [
    "# 1.\n",
    "i = 0\n",
    "while i <= 10:\n",
    "    print(i)\n",
    "    \n",
    "# 2.\n",
    "a = 1\n",
    "while (a < 10):\n",
    "    a += 1\n",
    "    if a == 5:\n",
    "        break\n",
    "    print(\"Condition d'arrêt atteinte.\")\n",
    "    \n",
    "# 3.\n",
    "while False:\n",
    "    print(\"hello world\")\n",
    "\n",
    "# 4.\n",
    "while True:\n",
    "    print(\"hello world\")\n",
    "    break\n",
    "\n",
    "# 5.\n",
    "while 5 >= 3:\n",
    "    continue\n",
    "    print(\"hello world\")"
   ]
  },
  {
   "cell_type": "code",
   "execution_count": null,
   "id": "dd23a799",
   "metadata": {
    "tags": []
   },
   "outputs": [],
   "source": [
    "# Testez votre réponse dans cette cellule\n"
   ]
  },
  {
   "cell_type": "code",
   "execution_count": null,
   "id": "fa2243ef",
   "metadata": {
    "tags": []
   },
   "outputs": [],
   "source": [
    "# Exécuter cette cellule pour afficher la solution\n",
    "%load -r 37-51 solutions.py"
   ]
  },
  {
   "cell_type": "markdown",
   "id": "8e4906a3",
   "metadata": {},
   "source": [
    "### Effet d'une erreur d'indentation"
   ]
  },
  {
   "cell_type": "markdown",
   "id": "e0902f3b",
   "metadata": {},
   "source": [
    "Source : [python.sdv.univ-paris-diderot.fr](https://python.sdv.univ-paris-diderot.fr/06_tests/)"
   ]
  },
  {
   "cell_type": "markdown",
   "id": "77a20772",
   "metadata": {},
   "source": [
    "Afin de visualiser l'importance de l'indentation dans les blocs d'instruction, essayez de prédire ce que vont respectivement retourner les deux programmes suivants. Lequel a l'effet attendu ?"
   ]
  },
  {
   "cell_type": "code",
   "execution_count": null,
   "id": "224c7e98",
   "metadata": {},
   "outputs": [],
   "source": [
    "nombres = [4, 5, 6]\n",
    "for nb in nombres:\n",
    "    if nb == 5:\n",
    "        print(\"Le test est vrai\")\n",
    "        print(\"car la variable nb vaut {nb}\")"
   ]
  },
  {
   "cell_type": "code",
   "execution_count": null,
   "id": "753a0ee6",
   "metadata": {
    "tags": []
   },
   "outputs": [],
   "source": [
    "nombres = [4, 5, 6]\n",
    "for nb in nombres:\n",
    "    if nb == 5:\n",
    "        print(\"Le test est vrai\")\n",
    "    print(\"car la variable nb vaut {nb}\")"
   ]
  },
  {
   "cell_type": "code",
   "execution_count": null,
   "id": "564dd1db",
   "metadata": {
    "tags": []
   },
   "outputs": [],
   "source": [
    "# Testez votre réponse dans cette cellule\n"
   ]
  },
  {
   "cell_type": "code",
   "execution_count": null,
   "id": "cbadd651",
   "metadata": {
    "tags": []
   },
   "outputs": [],
   "source": [
    "# Exécuter cette cellule pour afficher la solution\n",
    "%load -r 55-58 solutions.py"
   ]
  },
  {
   "cell_type": "markdown",
   "id": "0786a04d",
   "metadata": {},
   "source": [
    "### Convertir une boucle `for` en boucle `while`"
   ]
  },
  {
   "cell_type": "markdown",
   "id": "0ecba721",
   "metadata": {},
   "source": [
    "Réécrivez la boucle `for` suivante à l'aide d'une boucle `while`."
   ]
  },
  {
   "cell_type": "code",
   "execution_count": null,
   "id": "6e2a0582",
   "metadata": {
    "tags": []
   },
   "outputs": [],
   "source": [
    "gamme = ['do', 're', 'mi', 'fa', 'sol', 'la', 'si']\n",
    "\n",
    "for i, note in enumerate(gamme):\n",
    "    print(\"La note numéro \" + str(i) + \" de la gamme de do majeur est \" + note)"
   ]
  },
  {
   "cell_type": "code",
   "execution_count": null,
   "id": "9bb2bf36",
   "metadata": {
    "tags": []
   },
   "outputs": [],
   "source": [
    "# Testez votre réponse dans cette cellule\n"
   ]
  },
  {
   "cell_type": "code",
   "execution_count": null,
   "id": "bcfc1ab6",
   "metadata": {
    "tags": []
   },
   "outputs": [],
   "source": [
    "# Exécuter cette cellule pour afficher la solution\n",
    "%load -r 62-68 solutions.py"
   ]
  },
  {
   "cell_type": "markdown",
   "id": "0defdf4c",
   "metadata": {},
   "source": [
    "### Recherche d'un élément dans une liste"
   ]
  },
  {
   "cell_type": "markdown",
   "id": "ccb5117f",
   "metadata": {},
   "source": [
    "Soit un entier cible `n_cible` et une liste d'entiers `l` tels que définis dans la cellule suivante. A l'aide d'une boucle `for` et de la fonction `enumerate` :\n",
    "- vérifier si l'entier cible est présent dans la liste `l`. \n",
    "- si oui, afficher le message 'Le nombre `n_cible` est à la position `i` de la liste', et mettre fin à la boucle."
   ]
  },
  {
   "cell_type": "code",
   "execution_count": null,
   "id": "fe82328c",
   "metadata": {},
   "outputs": [],
   "source": [
    "n_cible = 78\n",
    "\n",
    "l = [12, 98, 65, 39, 78, 55, 119, 27, 33]"
   ]
  },
  {
   "cell_type": "code",
   "execution_count": null,
   "id": "d52550ab",
   "metadata": {
    "tags": []
   },
   "outputs": [],
   "source": [
    "# Testez votre réponse dans cette cellule\n"
   ]
  },
  {
   "cell_type": "code",
   "execution_count": null,
   "id": "d42b1a10",
   "metadata": {
    "tags": []
   },
   "outputs": [],
   "source": [
    "# Exécuter cette cellule pour afficher la solution\n",
    "%load -r 72-84 solutions.py"
   ]
  },
  {
   "cell_type": "markdown",
   "id": "0d32db43",
   "metadata": {},
   "source": [
    "### Suite de Fibonacci"
   ]
  },
  {
   "cell_type": "markdown",
   "id": "5d665c77",
   "metadata": {
    "tags": []
   },
   "source": [
    "La suite de Fibonacci se définit de la manière suivante : \n",
    "- les deux premiers nombres sont 0 et 1\n",
    "- chaque autre nombre de la suite s'obtient en additionnant les deux nombres qui le précèdent\n",
    "\n",
    "Ecrire un programme permettant de calculer les $n$ premiers termes de la suite à l'aide d'une boucle `for`."
   ]
  },
  {
   "cell_type": "code",
   "execution_count": null,
   "id": "5142f201",
   "metadata": {
    "tags": []
   },
   "outputs": [],
   "source": [
    "# Testez votre réponse dans cette cellule\n"
   ]
  },
  {
   "cell_type": "code",
   "execution_count": null,
   "id": "73d7baae",
   "metadata": {
    "tags": []
   },
   "outputs": [],
   "source": [
    "# Exécuter cette cellule pour afficher la solution\n",
    "%load -r 88-96 solutions.py"
   ]
  },
  {
   "cell_type": "markdown",
   "id": "73ec5be3",
   "metadata": {},
   "source": [
    "### Dictionnaire des tables de multiplication"
   ]
  },
  {
   "cell_type": "markdown",
   "id": "2f0992f6",
   "metadata": {
    "tags": []
   },
   "source": [
    "A l'aide de deux boucles `for` imbriquées, construire un dictionnaire `tables` permettant de réaliser les tables de multiplication jusqu'à la table de 12. Requêtez votre dictionnaire pour vérifier sa pertinence.\n",
    "\n",
    "Voici quelques exemples de requête que doit renvoyer votre dictionnaire : \n",
    "- tables[2][3] -> 6\n",
    "- tables[9][5] -> 45\n",
    "- tables[12][7] -> 84"
   ]
  },
  {
   "cell_type": "code",
   "execution_count": null,
   "id": "2013b93d",
   "metadata": {
    "tags": []
   },
   "outputs": [],
   "source": [
    "# Testez votre réponse dans cette cellule\n"
   ]
  },
  {
   "cell_type": "code",
   "execution_count": null,
   "id": "ec69e6cc",
   "metadata": {
    "tags": []
   },
   "outputs": [],
   "source": [
    "# Exécuter cette cellule pour afficher la solution\n",
    "%load -r 100-109 solutions.py"
   ]
  },
  {
   "cell_type": "markdown",
   "id": "616c94c8",
   "metadata": {},
   "source": [
    "### Calcul du minimum et du maximum d'une série \"à la main\""
   ]
  },
  {
   "cell_type": "markdown",
   "id": "886186de",
   "metadata": {
    "tags": []
   },
   "source": [
    "Calculer le minimum et le maximum de la série de valeurs suivantes, sans utiliser les fonctions `min` et `max` de Python. \n",
    "\n",
    "x = [8, 18, 6, 0, 15, 17.5, 9, 1]"
   ]
  },
  {
   "cell_type": "code",
   "execution_count": null,
   "id": "45434230",
   "metadata": {
    "tags": []
   },
   "outputs": [],
   "source": [
    "# Testez votre réponse dans cette cellule\n"
   ]
  },
  {
   "cell_type": "code",
   "execution_count": null,
   "id": "0d906097",
   "metadata": {
    "tags": []
   },
   "outputs": [],
   "source": [
    "# Exécuter cette cellule pour afficher la solution\n",
    "%load -r 113-124 solutions.py"
   ]
  },
  {
   "cell_type": "markdown",
   "id": "1ccced65",
   "metadata": {},
   "source": [
    "### Calcul de moyenne et de variance \"à la main\""
   ]
  },
  {
   "cell_type": "markdown",
   "id": "a9b419b8",
   "metadata": {
    "tags": []
   },
   "source": [
    "Calculer la moyenne et la variance de la série de valeurs suivantes, sans utiliser des fonctions déjà codées : \n",
    "\n",
    "x = [8, 18, 6, 0, 15, 17.5, 9, 1]\n",
    "\n",
    "Pour rappel, les formules sont :\n",
    "- moyenne : $$\\bar{x} = {\\frac {1}{n}}\\sum_{i=1}^{n}x_{i}$$\n",
    "- variance : $$\\sigma^2 = {\\frac {1}{n}}\\sum_{i=1}^{n} (x_{i}-\\bar{x})^2$$\n",
    "\n",
    "NB : \n",
    "- n à la puissance k s'écrit en Python `n**k`\n",
    "- en pratique, il ne faut surtout pas essayer de recoder soi-même ce genre de fonctions, mais utiliser des fonctions issues de packages adaptés, comme `numpy`."
   ]
  },
  {
   "cell_type": "code",
   "execution_count": null,
   "id": "120ddc65",
   "metadata": {
    "tags": []
   },
   "outputs": [],
   "source": [
    "# Testez votre réponse dans cette cellule\n"
   ]
  },
  {
   "cell_type": "code",
   "execution_count": null,
   "id": "2a5317c0",
   "metadata": {
    "tags": []
   },
   "outputs": [],
   "source": [
    "# Exécuter cette cellule pour afficher la solution\n",
    "%load -r 128-147 solutions.py"
   ]
  },
  {
   "cell_type": "markdown",
   "id": "08af1af7",
   "metadata": {},
   "source": [
    "### Usage avancé de la fonction `range`"
   ]
  },
  {
   "cell_type": "markdown",
   "id": "f32d73d4",
   "metadata": {
    "tags": []
   },
   "source": [
    "Nous avons vu plus haut l'usage basique de la fonction `range` : `range(n)` crée un objet itérable qui contient l'ensemble des entiers de $0$ à $n-1$. Les usages possibles de cette fonction sont cependant plus complets, et parfois utiles dans le cadre de problèmes précis.\n",
    "\n",
    "La syntaxe complète de la fonction est `range(start, stop, step)` où :\n",
    "- `start` est l'entier à partir duquel commence la séquence d'entiers\n",
    "- `stop` est l'entier avant lequel se termine la séquence d'entiers\n",
    "- `step` est le pas, i.e. la valeur de l'incrément entre chaque entier de la séquence.\n",
    "\n",
    "Seul le paramètre `stop` est obligatoire, c'est celui qui est utilisé lorsqu'on appelle `range(n)`.\n",
    "\n",
    "En utilisant la fonction `range`, afficher :\n",
    "- l'ensemble des entiers de 0 à 10 (10 exclu)\n",
    "- l'ensemble des entiers de 10 à 20 (20 inclus)\n",
    "- l'ensemble des nombres pairs compris entre 30 et 40 (40 inclus)\n",
    "- l'ensemble des multiples de 10 entre 1 et 100 (100 exclu)\n",
    "- l'ensemble des entiers de 10 à 20 (20 inclus), dans l'ordre inverse (de 20 à 10)"
   ]
  },
  {
   "cell_type": "code",
   "execution_count": null,
   "id": "1d944fa3",
   "metadata": {
    "tags": []
   },
   "outputs": [],
   "source": [
    "# Testez votre réponse dans cette cellule\n"
   ]
  },
  {
   "cell_type": "code",
   "execution_count": null,
   "id": "52cf9daf",
   "metadata": {
    "tags": []
   },
   "outputs": [],
   "source": [
    "# Exécuter cette cellule pour afficher la solution\n",
    "%load -r 151-159 solutions.py"
   ]
  },
  {
   "cell_type": "markdown",
   "id": "a827c581",
   "metadata": {},
   "source": [
    "### Le juste prix, version améliorée"
   ]
  },
  {
   "cell_type": "markdown",
   "id": "07bc765a",
   "metadata": {
    "tags": []
   },
   "source": [
    "Dans le précédent tutoriel, nous avons codé un jeu du juste prix. Mais il était un peu limité, puisqu'il fallait réexécuter le code à chaque étape du jeu. A l'aide de boucles, réécrivez le jeu de manière complètement automatique.\n",
    "\n",
    "Rappel des règles : \n",
    "\n",
    "**En utilisant `input` et les instructions `if`, `elif` et `else`**, coder le programme suivant : \n",
    "- demander une valeur à l'utilisateur, qui sera stockée dans une variable `p`\n",
    "- si `p` est strictement inférieur à $15$, imprimer (avec la fonction `print`) le message \"trop bas !\".\n",
    "- si `p` est strictement supérieur à $15$, imprimer le message \"trop haut !\".\n",
    "- si `p` est égal à $15$, imprimer le message \"dans le mille !\"\n",
    "\n",
    "Attention, `input` renvoie par défaut une chaîne de caractère. Il faut donc convertir la valeur de `p` au format entier (via la fonction `int`) pour que le jeu fonctionne."
   ]
  },
  {
   "cell_type": "code",
   "execution_count": null,
   "id": "88e20bf0",
   "metadata": {
    "tags": []
   },
   "outputs": [],
   "source": [
    "# Testez votre réponse dans cette cellule\n"
   ]
  },
  {
   "cell_type": "code",
   "execution_count": null,
   "id": "dc8a66cd",
   "metadata": {
    "tags": []
   },
   "outputs": [],
   "source": [
    "# Exécuter cette cellule pour afficher la solution\n",
    "%load -r 163-178 solutions.py"
   ]
  },
  {
   "cell_type": "code",
   "execution_count": null,
   "id": "f8318e1c",
   "metadata": {},
   "outputs": [],
   "source": []
  }
 ],
 "metadata": {
  "jupytext": {
   "cell_metadata_filter": "tags,-all",
   "main_language": "python",
   "notebook_metadata_filter": "-all"
  },
  "kernelspec": {
   "display_name": "Python 3",
   "language": "python",
   "name": "python3"
  },
  "language_info": {
   "codemirror_mode": {
    "name": "ipython",
    "version": 3
   },
   "file_extension": ".py",
   "mimetype": "text/x-python",
   "name": "python",
   "nbconvert_exporter": "python",
   "pygments_lexer": "ipython3",
   "version": "3.7.10"
  }
 },
 "nbformat": 4,
 "nbformat_minor": 5
}
