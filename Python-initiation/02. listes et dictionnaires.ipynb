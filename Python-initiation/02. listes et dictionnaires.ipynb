{
 "cells": [
  {
   "cell_type": "markdown",
   "id": "31f58bd9",
   "metadata": {},
   "source": [
    "# Conteneurs\n",
    "\n",
    "Il existe plusieurs structures de données :\n",
    "* Listes (list) :  collection ordonnée et modifiable d'éléments\n",
    "* Dictionnaires (dict) : collection non ordonnée de paires **clé-valeur**\n",
    "* Ensembles (set) : collection non ordonnée d'éléments **uniques**\n",
    "* Tuples (tuple) : collection ordonnée et immuable d'éléments\n",
    "\n",
    "Nous allons ici nous concentrer sur les deux structures les plus courantes : les **listes** et les **dictionnaires**\n",
    "\n",
    "# Listes\n",
    "\n",
    "Propriétés des listes Python : \n",
    "* **Indexation** : Les éléments d'une liste sont indexés, ce qui signifie qu'ils peuvent être accédés en utilisant leur position dans la liste. L'index du premier élément est 0, et l'index du dernier élément est len(liste) - 1.\n",
    "* **Mutable** : Les listes sont des objets mutables, ce qui signifie que vous pouvez modifier leurs éléments. Vous pouvez ajouter, supprimer ou modifier des éléments.\n",
    "* **Hétérogénéité** : Les listes peuvent contenir des éléments de différents types de données : entiers, chaînes de caractères, booléens, voire d'autres listes.\n",
    "* **Longueur variable** : Les listes peuvent contenir un nombre variable d'éléments. Elles peuvent être vides (sans éléments) ou contenir un nombre illimité d'éléments.\n",
    "\n",
    "## Créer une liste"
   ]
  },
  {
   "cell_type": "code",
   "execution_count": 68,
   "id": "03322cfa",
   "metadata": {},
   "outputs": [
    {
     "data": {
      "text/plain": [
       "[22, 29, 35, 56]"
      ]
     },
     "execution_count": 68,
     "metadata": {},
     "output_type": "execute_result"
    }
   ],
   "source": [
    "# Liste d'entiers\n",
    "a = [22, 29, 35, 56]\n",
    "a"
   ]
  },
  {
   "cell_type": "code",
   "execution_count": 105,
   "id": "56fdc664-5def-4f67-a6cf-ef3ee590e463",
   "metadata": {},
   "outputs": [
    {
     "data": {
      "text/plain": [
       "list"
      ]
     },
     "execution_count": 105,
     "metadata": {},
     "output_type": "execute_result"
    }
   ],
   "source": [
    "type(a)"
   ]
  },
  {
   "cell_type": "code",
   "execution_count": 36,
   "id": "90b3f254",
   "metadata": {},
   "outputs": [
    {
     "name": "stdout",
     "output_type": "stream",
     "text": [
      "['bonjour', 20, True]\n"
     ]
    }
   ],
   "source": [
    "# Liste mixte\n",
    "b = [\"bonjour\", 20, True]\n",
    "print(b)"
   ]
  },
  {
   "cell_type": "code",
   "execution_count": 37,
   "id": "9777fa7f-7550-48a1-9a78-396fea75841a",
   "metadata": {},
   "outputs": [
    {
     "data": {
      "text/plain": [
       "[22, 29, 35, 56, 'bonjour', 20, True]"
      ]
     },
     "execution_count": 37,
     "metadata": {},
     "output_type": "execute_result"
    }
   ],
   "source": [
    "# Concaténation\n",
    "a + b"
   ]
  },
  {
   "cell_type": "code",
   "execution_count": 38,
   "id": "14e46d28-87e5-4e9a-a453-dfc226f09ea5",
   "metadata": {},
   "outputs": [
    {
     "data": {
      "text/plain": [
       "[22, 29, 35, 56, 22, 29, 35, 56]"
      ]
     },
     "execution_count": 38,
     "metadata": {},
     "output_type": "execute_result"
    }
   ],
   "source": [
    "# Répétition\n",
    "a * 2"
   ]
  },
  {
   "cell_type": "markdown",
   "id": "08917751-1004-4450-99a7-5d77388432f7",
   "metadata": {},
   "source": [
    "Il existe de nombreuses autres possibilités pour créer des listes."
   ]
  },
  {
   "cell_type": "code",
   "execution_count": 42,
   "id": "e6c943a4-c153-4eea-94da-38740943919b",
   "metadata": {},
   "outputs": [
    {
     "data": {
      "text/plain": [
       "[1, 2, 3, 4, 5, 6]"
      ]
     },
     "execution_count": 42,
     "metadata": {},
     "output_type": "execute_result"
    }
   ],
   "source": [
    "list(range(1, 7))"
   ]
  },
  {
   "cell_type": "code",
   "execution_count": 45,
   "id": "1ce49e16-7f99-4222-bda4-0f739921d847",
   "metadata": {},
   "outputs": [
    {
     "data": {
      "text/plain": [
       "[1, 2, 3, 4, 5, 6]"
      ]
     },
     "execution_count": 45,
     "metadata": {},
     "output_type": "execute_result"
    }
   ],
   "source": [
    "[x for x in range(1, 7)]"
   ]
  },
  {
   "cell_type": "code",
   "execution_count": 46,
   "id": "76e03d7f-9423-435e-82ca-749351a0d5c1",
   "metadata": {},
   "outputs": [
    {
     "data": {
      "text/plain": [
       "['bleu', 'blanc', 'rouge', 'vert', 'jaune']"
      ]
     },
     "execution_count": 46,
     "metadata": {},
     "output_type": "execute_result"
    }
   ],
   "source": [
    "# En séparant une chaîne de caractères\n",
    "c = \"bleu;blanc;rouge;vert;jaune\"\n",
    "c.split(\";\")"
   ]
  },
  {
   "cell_type": "markdown",
   "id": "f806e022-173f-4ee3-bafa-1b9db106d952",
   "metadata": {},
   "source": [
    "## Méthodes utiles"
   ]
  },
  {
   "cell_type": "code",
   "execution_count": 6,
   "id": "6b7fb4b1-a68b-4faa-9445-a4decce20211",
   "metadata": {},
   "outputs": [
    {
     "data": {
      "text/plain": [
       "4"
      ]
     },
     "execution_count": 6,
     "metadata": {},
     "output_type": "execute_result"
    }
   ],
   "source": [
    "# Nombre d'éléments\n",
    "len(a)"
   ]
  },
  {
   "cell_type": "code",
   "execution_count": 9,
   "id": "2c67984c-0c43-4210-96c3-8a155c8e22b4",
   "metadata": {},
   "outputs": [
    {
     "data": {
      "text/plain": [
       "22"
      ]
     },
     "execution_count": 9,
     "metadata": {},
     "output_type": "execute_result"
    }
   ],
   "source": [
    "# Premier élément\n",
    "a[0]"
   ]
  },
  {
   "cell_type": "code",
   "execution_count": 10,
   "id": "0c8439ab-090b-4f47-9c9b-a5c3c2694fad",
   "metadata": {},
   "outputs": [
    {
     "data": {
      "text/plain": [
       "56"
      ]
     },
     "execution_count": 10,
     "metadata": {},
     "output_type": "execute_result"
    }
   ],
   "source": [
    "# Dernier élément\n",
    "a[-1]"
   ]
  },
  {
   "cell_type": "code",
   "execution_count": 14,
   "id": "ae8a31c9-30ad-478f-9e9f-d518e0ebf049",
   "metadata": {},
   "outputs": [
    {
     "data": {
      "text/plain": [
       "[29, 35, 56]"
      ]
     },
     "execution_count": 14,
     "metadata": {},
     "output_type": "execute_result"
    }
   ],
   "source": [
    "# Tous les éléments à partir de la position 1\n",
    "a[1:]"
   ]
  },
  {
   "cell_type": "code",
   "execution_count": 69,
   "id": "c18b8f62-4f98-4935-9c66-c6ab3cb3bd8e",
   "metadata": {},
   "outputs": [
    {
     "data": {
      "text/plain": [
       "1"
      ]
     },
     "execution_count": 69,
     "metadata": {},
     "output_type": "execute_result"
    }
   ],
   "source": [
    "# Trouver la position d'un élément\n",
    "a.index(29)"
   ]
  },
  {
   "cell_type": "code",
   "execution_count": 82,
   "id": "650cd5a4-d0ee-4f3d-ae54-0ea8a1516b46",
   "metadata": {},
   "outputs": [
    {
     "name": "stdout",
     "output_type": "stream",
     "text": [
      "a[::-1] : [56, 35, 29, 22]\n",
      "a :       [22, 29, 35, 56]\n"
     ]
    }
   ],
   "source": [
    "# Inverser une liste (sans modifier la liste d'origine)\n",
    "print(\"a[::-1] : \" + str(a[::-1]))\n",
    "print(\"a :       \" + str(a))"
   ]
  },
  {
   "cell_type": "code",
   "execution_count": 90,
   "id": "7e9e2798-6063-43d4-a47c-44fa5a26e024",
   "metadata": {},
   "outputs": [
    {
     "data": {
      "text/plain": [
       "[56, 35, 29, 22]"
      ]
     },
     "execution_count": 90,
     "metadata": {},
     "output_type": "execute_result"
    }
   ],
   "source": [
    "# Inverser une liste (ici l'inversion est sauvegardée dans la variable **a** )\n",
    "a.reverse()\n",
    "a"
   ]
  },
  {
   "cell_type": "code",
   "execution_count": 93,
   "id": "b68a112f-818c-4762-a219-333a4a480748",
   "metadata": {},
   "outputs": [
    {
     "data": {
      "text/plain": [
       "[22, 29, 35, 56]"
      ]
     },
     "execution_count": 93,
     "metadata": {},
     "output_type": "execute_result"
    }
   ],
   "source": [
    "# Trier une liste (sans modifier la liste d'origine)\n",
    "sorted(a)"
   ]
  },
  {
   "cell_type": "code",
   "execution_count": 98,
   "id": "bb6348e5-89c4-4526-b96d-8cae6782e1a6",
   "metadata": {},
   "outputs": [
    {
     "data": {
      "text/plain": [
       "[56, 35, 29, 22]"
      ]
     },
     "execution_count": 98,
     "metadata": {},
     "output_type": "execute_result"
    }
   ],
   "source": [
    "# Order décroissant\n",
    "sorted(a, reverse=True)"
   ]
  },
  {
   "cell_type": "code",
   "execution_count": 96,
   "id": "10a43b37-dd7d-40ec-bace-ac9d6da11425",
   "metadata": {},
   "outputs": [
    {
     "name": "stdout",
     "output_type": "stream",
     "text": [
      "Avant : [56, 35, 29, 22]\n",
      "Après : [22, 29, 35, 56]\n"
     ]
    }
   ],
   "source": [
    "# Trier une liste (en sauvegardant la modification dans la variable **a**)\n",
    "print(\"Avant : \" + str(a))\n",
    "a.sort()\n",
    "print(\"Après : \" + str(a))"
   ]
  },
  {
   "cell_type": "markdown",
   "id": "f05b3816-696e-452a-908e-d7772180108b",
   "metadata": {},
   "source": [
    "## Ajouter, modifier et supprimer"
   ]
  },
  {
   "cell_type": "code",
   "execution_count": 57,
   "id": "dad32735-d53a-4310-bc63-b9ab676493e0",
   "metadata": {},
   "outputs": [
    {
     "data": {
      "text/plain": [
       "[22, 29, 35, 56, 44]"
      ]
     },
     "execution_count": 57,
     "metadata": {},
     "output_type": "execute_result"
    }
   ],
   "source": [
    "# Ajouter à la fin\n",
    "a.append(44)\n",
    "a"
   ]
  },
  {
   "cell_type": "code",
   "execution_count": 58,
   "id": "d6c11bf8-ceda-4d7b-94dc-30ed70744c13",
   "metadata": {},
   "outputs": [
    {
     "data": {
      "text/plain": [
       "[22, 29, 88, 35, 56, 44]"
      ]
     },
     "execution_count": 58,
     "metadata": {},
     "output_type": "execute_result"
    }
   ],
   "source": [
    "# Insérer à une position précise\n",
    "a.insert(2, 88)\n",
    "a"
   ]
  },
  {
   "cell_type": "code",
   "execution_count": 59,
   "id": "3536c0f4-c0d7-4f6b-a3c3-40e61e227bfb",
   "metadata": {},
   "outputs": [
    {
     "data": {
      "text/plain": [
       "[99, 29, 88, 35, 56, 44]"
      ]
     },
     "execution_count": 59,
     "metadata": {},
     "output_type": "execute_result"
    }
   ],
   "source": [
    "# Modifier\n",
    "a[0] = 99\n",
    "a"
   ]
  },
  {
   "cell_type": "code",
   "execution_count": 60,
   "id": "89b5df2c-91ab-4f89-a8f1-7cbfd1d112f1",
   "metadata": {},
   "outputs": [
    {
     "data": {
      "text/plain": [
       "[99, 29, 88, 56, 44]"
      ]
     },
     "execution_count": 60,
     "metadata": {},
     "output_type": "execute_result"
    }
   ],
   "source": [
    "# Supprimer par position\n",
    "a.pop(3)\n",
    "a"
   ]
  },
  {
   "cell_type": "code",
   "execution_count": 63,
   "id": "e17f977a-6009-4c25-9cc1-c83a851121f2",
   "metadata": {},
   "outputs": [
    {
     "data": {
      "text/plain": [
       "[99, 29, 88, 56]"
      ]
     },
     "execution_count": 63,
     "metadata": {},
     "output_type": "execute_result"
    }
   ],
   "source": [
    "# Supprimer par valeur\n",
    "a.remove(44)\n",
    "a"
   ]
  },
  {
   "cell_type": "markdown",
   "id": "bf64bba2-86c6-4511-a994-371ac7f27d3a",
   "metadata": {},
   "source": [
    "---\n",
    "\n",
    "# Dictionnaires\n",
    "\n",
    "Propriétés importantes d'un dictionnaire en Python :\n",
    "* **Indexation par clé** : Les éléments d'un dictionnaire sont indexés par des clés plutôt que par des positions. **Chaque clé doit être unique** dans le dictionnaire, et elle est associée à une valeur correspondante. La recherche d'une valeur associée à une clé est très rapide.\n",
    "* **Mutable** : Les dictionnaires sont des objets mutables, ce qui signifie que vous pouvez ajouter, supprimer ou modifier des éléments du dictionnaire après sa création.\n",
    "* **Hétérogénéité** : Les dictionnaires peuvent contenir des paires clé-valeur avec des types de données différents. Les clés peuvent être de types immuables tels que les chaînes de caractères, les entiers... Les valeurs peuvent être de n'importe quel type de données valide en Python.\n",
    "* **Longueur variable** : Les dictionnaires peuvent contenir un nombre variable de paires clé-valeur. Ils peuvent être vides (sans paires clé-valeur) ou contenir un nombre illimité de paires.\n",
    "* **Non ordonné** : Contrairement aux listes, les éléments d'un dictionnaire n'ont pas d'ordre défini. L'ordre dans lequel les paires clé-valeur sont stockées n'est pas garanti et peut changer lors des opérations de modification du dictionnaire.\n",
    "\n",
    "\n",
    "## Créer un dictionnaire\n"
   ]
  },
  {
   "cell_type": "code",
   "execution_count": 102,
   "id": "a3a5d37f-e699-4647-85ec-919dd76b9e18",
   "metadata": {},
   "outputs": [
    {
     "data": {
      "text/plain": [
       "{'sucre': '100g', 'poire': 2, 'lait': '1L', 'sel': True}"
      ]
     },
     "execution_count": 102,
     "metadata": {},
     "output_type": "execute_result"
    }
   ],
   "source": [
    "ingredients = {'sucre': '100g', 'poire': 2, 'lait': '1L', 'sel': True}\n",
    "ingredients"
   ]
  },
  {
   "cell_type": "code",
   "execution_count": 104,
   "id": "fd02561d-25cb-4d88-bac8-6c9f8ce69c58",
   "metadata": {},
   "outputs": [
    {
     "data": {
      "text/plain": [
       "list"
      ]
     },
     "execution_count": 104,
     "metadata": {},
     "output_type": "execute_result"
    }
   ],
   "source": [
    "type(ingredients)"
   ]
  },
  {
   "cell_type": "code",
   "execution_count": 108,
   "id": "1e187a9e-1187-4465-b906-96100e810ba9",
   "metadata": {},
   "outputs": [
    {
     "data": {
      "text/plain": [
       "4"
      ]
     },
     "execution_count": 108,
     "metadata": {},
     "output_type": "execute_result"
    }
   ],
   "source": [
    "# Nombre d'éléments\n",
    "len(ingredients)"
   ]
  },
  {
   "cell_type": "code",
   "execution_count": 107,
   "id": "d024f130-a274-4e2a-a569-419c3944f102",
   "metadata": {},
   "outputs": [
    {
     "data": {
      "text/plain": [
       "'1L'"
      ]
     },
     "execution_count": 107,
     "metadata": {},
     "output_type": "execute_result"
    }
   ],
   "source": [
    "# Recherche par clé\n",
    "ingredients['lait']"
   ]
  },
  {
   "cell_type": "code",
   "execution_count": 118,
   "id": "4c0d3e6f-3288-4424-bf4f-56558c8a247d",
   "metadata": {},
   "outputs": [
    {
     "data": {
      "text/plain": [
       "'1L'"
      ]
     },
     "execution_count": 118,
     "metadata": {},
     "output_type": "execute_result"
    }
   ],
   "source": [
    "# Recherche par clé - autre possibilité\n",
    "ingredients.get('lait')"
   ]
  },
  {
   "cell_type": "markdown",
   "id": "5a443ee9-a6ed-46a6-b956-c91aacc0a733",
   "metadata": {},
   "source": [
    "## Ajouter, modifier et supprimer"
   ]
  },
  {
   "cell_type": "code",
   "execution_count": 116,
   "id": "0d4b4e8e-29dd-4197-8837-b09b0d39247b",
   "metadata": {},
   "outputs": [
    {
     "data": {
      "text/plain": [
       "{'sucre': '35g', 'poire': 2, 'lait': '1L', 'sel': True, 'fraise': '200g'}"
      ]
     },
     "execution_count": 116,
     "metadata": {},
     "output_type": "execute_result"
    }
   ],
   "source": [
    "# Ajouter un élément\n",
    "ingredients['fraise'] =  '200g'\n",
    "ingredients"
   ]
  },
  {
   "cell_type": "code",
   "execution_count": 117,
   "id": "1c9ea9e3-1ddf-46c2-8e01-bdc5420d10b2",
   "metadata": {},
   "outputs": [
    {
     "data": {
      "text/plain": [
       "{'sucre': '35g', 'poire': 2, 'lait': '1L', 'sel': True, 'fraise': '200g'}"
      ]
     },
     "execution_count": 117,
     "metadata": {},
     "output_type": "execute_result"
    }
   ],
   "source": [
    "# Modifier\n",
    "ingredients['sucre'] =  '35g'\n",
    "ingredients"
   ]
  },
  {
   "cell_type": "code",
   "execution_count": 127,
   "id": "05186cce-4ae9-49e9-88bb-d084cf1c6952",
   "metadata": {},
   "outputs": [
    {
     "data": {
      "text/plain": [
       "{'sucre': '35g', 'poire': 2, 'sel': True, 'fraise': '200g'}"
      ]
     },
     "execution_count": 127,
     "metadata": {},
     "output_type": "execute_result"
    }
   ],
   "source": [
    "# Supprimer \n",
    "ingredients.pop('lait')\n",
    "ingredients"
   ]
  },
  {
   "cell_type": "markdown",
   "id": "e4cb6b64-cb9f-42e0-b6d3-52d5cdf93b88",
   "metadata": {},
   "source": [
    "## Méthodes utiles"
   ]
  },
  {
   "cell_type": "code",
   "execution_count": 122,
   "id": "9a94912a-5c00-471a-81be-e5f70e2fa594",
   "metadata": {},
   "outputs": [
    {
     "data": {
      "text/plain": [
       "['sucre', 'poire', 'lait', 'sel', 'fraise']"
      ]
     },
     "execution_count": 122,
     "metadata": {},
     "output_type": "execute_result"
    }
   ],
   "source": [
    "# Liste des clés\n",
    "list(ingredients.keys())"
   ]
  },
  {
   "cell_type": "code",
   "execution_count": 123,
   "id": "0b58b6da-6823-45f4-bf12-038041309de0",
   "metadata": {},
   "outputs": [
    {
     "data": {
      "text/plain": [
       "['35g', 2, '1L', True, '200g']"
      ]
     },
     "execution_count": 123,
     "metadata": {},
     "output_type": "execute_result"
    }
   ],
   "source": [
    "# Liste des valeurs\n",
    "list(ingredients.values())"
   ]
  },
  {
   "cell_type": "code",
   "execution_count": 124,
   "id": "44d8a219-f199-40e3-8d22-915256874093",
   "metadata": {},
   "outputs": [
    {
     "data": {
      "text/plain": [
       "[('sucre', '35g'),\n",
       " ('poire', 2),\n",
       " ('lait', '1L'),\n",
       " ('sel', True),\n",
       " ('fraise', '200g')]"
      ]
     },
     "execution_count": 124,
     "metadata": {},
     "output_type": "execute_result"
    }
   ],
   "source": [
    "# Liste des items (liste de tuples)\n",
    "list(ingredients.items())"
   ]
  },
  {
   "cell_type": "markdown",
   "id": "54014a9f",
   "metadata": {},
   "source": [
    "---\n",
    "\n",
    "# Exercices\n",
    "\n",
    "### Exercice\n",
    "\n",
    "Créez 4 listes portant les noms des 4 saisons, contenant chacune les noms des mois associés (les mois de changement de saison seront attribués à la saison précédente). Puis créez une liste `saisons` contenant les 4 listes. Essayez de prévoir ce que vont renvoyer (type de l'objet, nombre d'éléments et contenu) les instructions suivantes, puis vérifiez le. \n",
    "\n",
    "- `saisons`\n",
    "- `saisons[0]`\n",
    "- `saisons[0][0]`\n",
    "- `saisons[1][-1]`\n",
    "- `saisons[2][:3]`\n",
    "- `saisons[1][1:2] + saisons[-1][3:]`\n",
    "- `saisons[2:]`\n",
    "- `saisons + saisons[0]`\n",
    "- `saisons[3][::]`\n",
    "- `saisons[3][::-1]`\n",
    "- `saisons * 3`\n"
   ]
  },
  {
   "cell_type": "code",
   "execution_count": null,
   "id": "8039615f",
   "metadata": {
    "lines_to_next_cell": 2
   },
   "outputs": [],
   "source": [
    "# Testez votre réponse dans cette cellule\n"
   ]
  },
  {
   "cell_type": "code",
   "execution_count": null,
   "id": "08c35197",
   "metadata": {},
   "outputs": [],
   "source": [
    "# Exécuter cette cellule pour afficher la solution\n",
    "%load -r 3-41 solutions.py"
   ]
  },
  {
   "cell_type": "markdown",
   "id": "0dbdb6a3",
   "metadata": {},
   "source": [
    "### Exercice\n",
    "\n",
    "En ajoutant, supprimant et modifiant des éléments, nettoyez la liste suivante pour qu'elle contienne les notes de musique \"do re mi fa sol la si\" dans le bon ordre.\n",
    "\n",
    "`l = [\"do\", \"re\", \"re\", \"re\", \"fa\", \"sol\", \"solsi\", \"la\"]`\n"
   ]
  },
  {
   "cell_type": "code",
   "execution_count": null,
   "id": "2ef6109f",
   "metadata": {
    "lines_to_next_cell": 2
   },
   "outputs": [],
   "source": [
    "# Testez votre réponse dans cette cellule\n"
   ]
  },
  {
   "cell_type": "code",
   "execution_count": null,
   "id": "9fbbe58b",
   "metadata": {},
   "outputs": [],
   "source": [
    "# Exécuter cette cellule pour afficher la solution\n",
    "%load -r 45-56 solutions.py"
   ]
  },
  {
   "cell_type": "markdown",
   "id": "aad93ff9",
   "metadata": {},
   "source": [
    "### Exercice\n",
    "\n",
    "Proposez deux méthodes pour inverser la liste `[\"une\", \"liste\", \"quelconque\"]`. Quelle est la différence majeure entre les deux méthodes ?\n"
   ]
  },
  {
   "cell_type": "code",
   "execution_count": null,
   "id": "b3afe0fa",
   "metadata": {
    "lines_to_next_cell": 2
   },
   "outputs": [],
   "source": [
    "# Testez votre réponse dans cette cellule\n"
   ]
  },
  {
   "cell_type": "code",
   "execution_count": null,
   "id": "87ad9ff6",
   "metadata": {},
   "outputs": [],
   "source": [
    "# Exécuter cette cellule pour afficher la solution\n",
    "%load -r 60-75 solutions.py"
   ]
  },
  {
   "cell_type": "markdown",
   "id": "4b2ff4ae",
   "metadata": {},
   "source": [
    "### Exercice\n",
    "\n",
    "Nous avons vu que l'instruction `ma_liste.pop(i)` supprimait le i-ème élément de la liste `ma_liste`. A l'aide de la documentation Python ou d'une recherche sur Google, déterminez le comportement par défaut de cette méthode, c'est à dire ce qu'il se passe lorsqu'on ne donne aucun paramètre à la fonction `pop`. Vérifiez que vous observez bien ce comportement à l'aide d'un exemple de votre choix.\n"
   ]
  },
  {
   "cell_type": "code",
   "execution_count": null,
   "id": "4aa8ca88",
   "metadata": {
    "lines_to_next_cell": 2
   },
   "outputs": [],
   "source": [
    "# Testez votre réponse dans cette cellule\n"
   ]
  },
  {
   "cell_type": "code",
   "execution_count": null,
   "id": "3064b8fc",
   "metadata": {},
   "outputs": [],
   "source": [
    "# Exécuter cette cellule pour afficher la solution\n",
    "%load -r 79-81 solutions.py"
   ]
  },
  {
   "cell_type": "markdown",
   "id": "298d8523",
   "metadata": {},
   "source": [
    "### Exercice\n",
    "\n",
    "Il existe beaucoup d'autres méthodes *built-in* pour les listes que celles que nous avons déjà vues. Par exemple : `min` et `max`. Vérifiez leur comportement : \n",
    "- sur une liste composée uniquement d'objets numériques (`int` et `float`) ;\n",
    "- sur une liste composée uniquement de chaînes de caractères ;\n",
    "- sur une liste composée d'un mélange d'objets numériques et textuels.\n"
   ]
  },
  {
   "cell_type": "code",
   "execution_count": null,
   "id": "87af1e40",
   "metadata": {
    "lines_to_next_cell": 2
   },
   "outputs": [],
   "source": [
    "# Testez votre réponse dans cette cellule\n"
   ]
  },
  {
   "cell_type": "code",
   "execution_count": null,
   "id": "c51abdcb",
   "metadata": {},
   "outputs": [],
   "source": [
    "# Exécuter cette cellule pour afficher la solution\n",
    "%load -r 85-91 solutions.py"
   ]
  },
  {
   "cell_type": "markdown",
   "id": "898a26de",
   "metadata": {},
   "source": [
    "### Exercice\n",
    "\n",
    "Essayer de créer une liste vide. Vérifiez son type. Quel intérêt cela pourrait-il avoir ?\n"
   ]
  },
  {
   "cell_type": "code",
   "execution_count": null,
   "id": "947cb8d9",
   "metadata": {
    "lines_to_next_cell": 2
   },
   "outputs": [],
   "source": [
    "# Testez votre réponse dans cette cellule\n"
   ]
  },
  {
   "cell_type": "code",
   "execution_count": null,
   "id": "3745900e",
   "metadata": {},
   "outputs": [],
   "source": [
    "# Exécuter cette cellule pour afficher la solution\n",
    "%load -r 95-107 solutions.py"
   ]
  },
  {
   "cell_type": "markdown",
   "id": "69dfc97a",
   "metadata": {},
   "source": [
    "### Exercice\n",
    "\n",
    "Dans le tutoriel, nous avons vu les fonctions `list` et `tuple` qui permettent de passer d'un type à l'autre. En réalité, le fonctionnement de ces fonctions est plus subtil : le code `list(mon_objet)` renvoie la \"version liste\" de cet objet, de la même manière par exemple que `str(3)` renvoie `'3'`, c'est à dire la version *string* de l'entier `3`.\n",
    "\n",
    "A l'aide de la fonction `list`, trouver les \"versions liste\" des objets suivants :\n",
    "- le tuple `a = (1, 2, 3)` ;\n",
    "- la chaîne de caractères `b = \"bonjour\"` ;\n",
    "- l'entier `c = 5`\n"
   ]
  },
  {
   "cell_type": "code",
   "execution_count": null,
   "id": "f96da8f7",
   "metadata": {
    "lines_to_next_cell": 2
   },
   "outputs": [],
   "source": [
    "# Testez votre réponse dans cette cellule\n"
   ]
  },
  {
   "cell_type": "code",
   "execution_count": null,
   "id": "0880cd48",
   "metadata": {},
   "outputs": [],
   "source": [
    "# Exécuter cette cellule pour afficher la solution\n",
    "%load -r 111-125 solutions.py"
   ]
  },
  {
   "cell_type": "markdown",
   "id": "87dee362",
   "metadata": {},
   "source": [
    "### Exercice\n",
    "\n",
    "Nous avons vu que les tuples avaient la particularité d'être non-modifiables. Mais est-ce que cette propriété se transfère de manière récursive ? Par exemple, est-ce qu'une liste contenue dans un tuple est-elle même non-modifiable ? Vérifiez à l'aide d'un exemple de votre choix.\n"
   ]
  },
  {
   "cell_type": "code",
   "execution_count": null,
   "id": "ade89d67",
   "metadata": {
    "lines_to_next_cell": 2
   },
   "outputs": [],
   "source": [
    "# Testez votre réponse dans cette cellule\n"
   ]
  },
  {
   "cell_type": "code",
   "execution_count": null,
   "id": "40ec1eee",
   "metadata": {},
   "outputs": [],
   "source": [
    "# Exécuter cette cellule pour afficher la solution\n",
    "%load -r 129-134 solutions.py"
   ]
  },
  {
   "cell_type": "markdown",
   "id": "1a41cb4b",
   "metadata": {},
   "source": [
    "### Exercice\n",
    "\n",
    "Lisez la partie concernant l'agrégation et la dissociation de séquences dans la [documentation Python](https://docs.python.org/fr/3/tutorial/datastructures.html#tuples-and-sequences). La dissociation est une propriété souvent utilisée en pratique. Vérifiez qu'elle fonctionne sur les différents objets séquentiels que nous avons vus jusqu'à maintenant (chaînes de caractères, listes et tuples).\n"
   ]
  },
  {
   "cell_type": "code",
   "execution_count": null,
   "id": "3e4cc2b6",
   "metadata": {
    "lines_to_next_cell": 2
   },
   "outputs": [],
   "source": [
    "# Testez votre réponse dans cette cellule\n"
   ]
  },
  {
   "cell_type": "code",
   "execution_count": null,
   "id": "5809286f",
   "metadata": {
    "lines_to_next_cell": 2
   },
   "outputs": [],
   "source": [
    "# Exécuter cette cellule pour afficher la solution\n",
    "%load -r 138-145 solutions.py"
   ]
  },
  {
   "cell_type": "code",
   "execution_count": null,
   "id": "262aa0a4",
   "metadata": {},
   "outputs": [],
   "source": []
  }
 ],
 "metadata": {
  "jupytext": {
   "cell_metadata_filter": "-all",
   "main_language": "python",
   "notebook_metadata_filter": "-all"
  },
  "kernelspec": {
   "display_name": "Python 3",
   "language": "python",
   "name": "python3"
  },
  "language_info": {
   "codemirror_mode": {
    "name": "ipython",
    "version": 3
   },
   "file_extension": ".py",
   "mimetype": "text/x-python",
   "name": "python",
   "nbconvert_exporter": "python",
   "pygments_lexer": "ipython3",
   "version": "3.7.10"
  }
 },
 "nbformat": 4,
 "nbformat_minor": 5
}
