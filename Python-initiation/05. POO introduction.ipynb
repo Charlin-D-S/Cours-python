{
 "cells": [
  {
   "cell_type": "markdown",
   "id": "05fa2819",
   "metadata": {},
   "source": [
    "# La programmation orientée objet\n",
    "\n",
    "La Programmation Orientée Objet (POO) est un paradigme de programmation qui permet de structurer les programmes autour d'**objets**, qui contiennent :\n",
    "* des **attributs** (caractéristiques de l'objet)\n",
    "* des **méthodes** (fonctions propres à l'objet)\n",
    "\n",
    "En Python, il est possible mais pas obligatoire d'utiliser la POO. Cependant, le fonctionnement interne de Python est fortement teinté de POO.\n",
    "\n",
    "## « Tout est objet »\n",
    "\n",
    "**En Python, tout est un objet** (au sens de la POO). Regardons ce que cela signifie en récupérant le type de différents objets que nous avons vus dans les précédents tutoriels."
   ]
  },
  {
   "cell_type": "code",
   "execution_count": 24,
   "id": "4da9ffb9-24be-4f8b-9806-f5ea234342f3",
   "metadata": {},
   "outputs": [
    {
     "name": "stdout",
     "output_type": "stream",
     "text": [
      "<class 'int'>\n",
      "<class 'str'>\n",
      "<class 'list'>\n",
      "<class 'dict'>\n",
      "<class 'function'>\n"
     ]
    }
   ],
   "source": [
    "print(type(1))\n",
    "print(type(\"bonjour\"))\n",
    "print(type([]))\n",
    "print(type({}))          \n",
    "print(type(lambda x: x**2))"
   ]
  },
  {
   "cell_type": "markdown",
   "id": "a5726a93-7563-4f1a-b285-306170f9200c",
   "metadata": {},
   "source": [
    "## Définir ses propres objets\n",
    "\n",
    "Pour créer un **objet**, nous avons besoin dans un premier temps d'un modèle : une **classe**.   \n",
    "Nous pouvons voir la classe comme un « *moule* » qui permettra ensuite de construire des objets.   \n",
    "Par exemple, nous créons une classe `Velo` dont voici la documentation :\n",
    "```python\n",
    "    \"\"\"\n",
    "    Classe représentant un vélo.\n",
    "\n",
    "    Attributs:\n",
    "        couleur (str): La couleur du vélo.\n",
    "        vitesse (int): La vitesse actuelle du vélo.\n",
    "        porte_bagage (bool): Indique si le vélo a un porte-bagage.\n",
    "\n",
    "    Méthodes:\n",
    "        __init__(couleur, porte_bagage=False): Construit un nouvel objet Velo \n",
    "        __str__(): représentation en chaîne de caractères d'un objet Velo\n",
    "        accelerer(acceleration): Accélère le vélo en ajoutant l'accélération à sa vitesse actuelle.\n",
    "        ralentir(deceleration): Ralentit le vélo en soustrayant la décélération de sa vitesse actuelle.\n",
    "        installer_porte_bagage(): Installe un porte-bagage sur le vélo en le mettant à True.\n",
    "        est_arrete(): Vérifie si le vélo est complètement arrêté.\n",
    "\n",
    "    \"\"\"\n",
    "```"
   ]
  },
  {
   "cell_type": "code",
   "execution_count": 41,
   "id": "d6a421fd-e6ee-4a99-ab89-4f1dcddbd808",
   "metadata": {},
   "outputs": [],
   "source": [
    "class Velo:\n",
    "    def __init__(self, couleur, porte_bagage=False):\n",
    "        self.couleur = couleur\n",
    "        self.vitesse = 0\n",
    "        self.porte_bagage = porte_bagage\n",
    "        \n",
    "    def __str__(self):\n",
    "        s = \"Je suis un vélo \" + self.couleur + \".\"\n",
    "        s += \" Ma vitesse est de : \" + str(self.vitesse) + \".\"\n",
    "        if self.porte_bagage:\n",
    "            s += \" J'ai un porte-bagages.\"\n",
    "        return s\n",
    "\n",
    "    def accelerer(self, acceleration):\n",
    "        self.vitesse += acceleration\n",
    "\n",
    "    def ralentir(self, deceleration):\n",
    "        self.vitesse -= deceleration\n",
    "        if self.vitesse < 0:\n",
    "            self.vitesse = 0\n",
    "\n",
    "    def installer_porte_bagage(self):\n",
    "        self.porte_bagage = True\n",
    "            \n",
    "    def est_arrete(self):\n",
    "        return self.vitesse == 0"
   ]
  },
  {
   "cell_type": "markdown",
   "id": "4ede8908-da6c-4fb6-916d-77cb199ace1d",
   "metadata": {},
   "source": [
    "Avec cette classe nous pouvons maintenant créer des **instances** (objets) de type `Velo`"
   ]
  },
  {
   "cell_type": "code",
   "execution_count": 44,
   "id": "63528705-e731-4739-bd0f-59cc41cad1e8",
   "metadata": {},
   "outputs": [
    {
     "name": "stdout",
     "output_type": "stream",
     "text": [
      "Je suis un vélo bleu. Ma vitesse est de : 0.\n",
      "Je suis un vélo violet. Ma vitesse est de : 0. J'ai un porte-bagages.\n"
     ]
    }
   ],
   "source": [
    "v1 = Velo(\"bleu\")\n",
    "print(v1)\n",
    "\n",
    "v2 = Velo(\"violet\", True)\n",
    "print(v2)"
   ]
  },
  {
   "cell_type": "code",
   "execution_count": 45,
   "id": "077e2777-3a3e-40b5-ba12-d14d1df946f8",
   "metadata": {},
   "outputs": [
    {
     "name": "stdout",
     "output_type": "stream",
     "text": [
      "Je suis un vélo bleu. Ma vitesse est de : 20. J'ai un porte-bagages.\n"
     ]
    }
   ],
   "source": [
    "# Nous pouvons appliquer les méthodes définies dans la classe à cet objet velo\n",
    "v1.accelerer(20)\n",
    "v1.installer_porte_bagage()\n",
    "print(v1)"
   ]
  },
  {
   "cell_type": "markdown",
   "id": "45fcad6e",
   "metadata": {},
   "source": [
    "Analysons la syntaxe de construction d'une classe d'objets :\n",
    "- l'instruction `class` définit la **classe d'objets**. Différents objets pourront être créés selon le modèle défini par cette classe.  \n",
    "  Par convention, le nom de la classe doit commencer par une majuscule.\n",
    "- la classe spécifie un certains nombres de fonctions que l'on appelle **méthodes** : ce sont des fonctions spécifiques à la classe d'objets définie.\n",
    "- la méthode `__init__`, est appelée le **constructeur**. Elle est **obligatoire**, sinon il est impossible d'instancier d'objets de la classe.  \n",
    "  Elle permet de définir les **attributs** attachés à cette classe d'objets.  \n",
    "  Il est possible de passer des paramètres au constructeur (ex : `couleur`) pour définir des attributs propres à une **instance** de l'objet.\n",
    "- le constructeur a un paramètre obligatoire : `self`. C'est une référence aux **instances** qui vont être créées à partir de cette classe.  \n",
    "  La syntaxe suivante définit un attribut : `self.attribut = valeur`.\n",
    "- La méthode `__str__` (facultative) permet de redéfinir la représentation en chaîne de caractères d'un objet.\n",
    "- les autres méthodes sont définies par l'utilisateur. Elles prennent également le `self` en paramètre, pour accéder aux attributs et méthodes.     \n",
    "  Comme ce sont des fonctions, elles peuvent également admettre d'autres paramètres."
   ]
  },
  {
   "cell_type": "markdown",
   "id": "f1828b6f",
   "metadata": {},
   "source": [
    "## Attributs"
   ]
  },
  {
   "cell_type": "markdown",
   "id": "c8408d33",
   "metadata": {},
   "source": [
    "Un attribut est une **variable associée à un objet**. Un attribut peut contenir n'importe quel objet Python."
   ]
  },
  {
   "cell_type": "markdown",
   "id": "e5284d62",
   "metadata": {},
   "source": [
    "### Accéder aux attributs"
   ]
  },
  {
   "cell_type": "markdown",
   "id": "695ed6d0",
   "metadata": {},
   "source": [
    "Une fois que l'objet est instancié, il est possible d'accéder à ses attributs. La syntaxe est simple : `instance.attribut`."
   ]
  },
  {
   "cell_type": "code",
   "execution_count": 33,
   "id": "79251c45",
   "metadata": {},
   "outputs": [
    {
     "name": "stdout",
     "output_type": "stream",
     "text": [
      "bleu\n",
      "violet\n",
      "\n",
      "40\n",
      "0\n"
     ]
    }
   ],
   "source": [
    "print(v1.couleur)\n",
    "print(v2.couleur)\n",
    "print()\n",
    "print(v1.vitesse)\n",
    "print(v2.vitesse)"
   ]
  },
  {
   "cell_type": "markdown",
   "id": "ee8a3d69",
   "metadata": {},
   "source": [
    "On voit bien que les deux instances sont **autonomes** : bien qu'elles soient du même type, leurs attributs diffèrent."
   ]
  },
  {
   "cell_type": "markdown",
   "id": "68756456",
   "metadata": {},
   "source": [
    "### Modifier un attribut"
   ]
  },
  {
   "cell_type": "markdown",
   "id": "8aff504e",
   "metadata": {},
   "source": [
    "Modifier un attribut d'une instance est très simple, la syntaxe est : `instance.attribut = nouvelle_valeur`."
   ]
  },
  {
   "cell_type": "code",
   "execution_count": 34,
   "id": "4152011a",
   "metadata": {},
   "outputs": [
    {
     "name": "stdout",
     "output_type": "stream",
     "text": [
      "jaune\n"
     ]
    }
   ],
   "source": [
    "v2.couleur = \"jaune\"\n",
    "print(v2.couleur)"
   ]
  },
  {
   "cell_type": "markdown",
   "id": "df325e5c",
   "metadata": {},
   "source": [
    "### Attributs de classe"
   ]
  },
  {
   "cell_type": "markdown",
   "id": "db71805e",
   "metadata": {},
   "source": [
    "Chaque instance de `Velo` a ses propres attributs d'instance (couleur, vitesse, porte_bagage).   \n",
    "Il est possible d'avoir des attributs communs à tous les Velos : **les attributs de classe**.  \n",
    "  \n",
    "Créons la classe `VeloBis` pour illustrer avec un attribut comptant le nombre de `VeloBis` créés."
   ]
  },
  {
   "cell_type": "code",
   "execution_count": 35,
   "id": "21505063-7ffd-474d-b12a-08458cd43ade",
   "metadata": {},
   "outputs": [],
   "source": [
    "class VeloBis:\n",
    "    nb_velos_bis = 0                                       # Attribut de classe pour compter le nombre de VeloBis\n",
    "\n",
    "    def __init__(self, couleur, porte_bagage=False):\n",
    "        self.couleur = couleur\n",
    "        self.vitesse = 0\n",
    "        self.porte_bagage = porte_bagage\n",
    "        VeloBis.nb_velos_bis += 1"
   ]
  },
  {
   "cell_type": "code",
   "execution_count": 39,
   "id": "e2f0e946-f515-4adf-8dc4-4f4cb7094229",
   "metadata": {},
   "outputs": [
    {
     "name": "stdout",
     "output_type": "stream",
     "text": [
      "4\n",
      "5\n",
      "6\n"
     ]
    }
   ],
   "source": [
    "print(VeloBis.nb_velos_bis)\n",
    "vb1 = VeloBis(\"rose\")\n",
    "print(VeloBis.nb_velos_bis)\n",
    "vb2 = VeloBis(\"orange\")\n",
    "print(VeloBis.nb_velos_bis)"
   ]
  },
  {
   "cell_type": "markdown",
   "id": "3c41e0ed",
   "metadata": {},
   "source": [
    "## Méthodes"
   ]
  },
  {
   "cell_type": "markdown",
   "id": "70403336",
   "metadata": {},
   "source": [
    "Une méthode est une **fonction associée à un objet**. Elle peut utiliser ses attributs, les modifier, et faire intervenir d'autres méthodes de l'objet."
   ]
  },
  {
   "cell_type": "markdown",
   "id": "bca2a151",
   "metadata": {},
   "source": [
    "### Appeler une méthode"
   ]
  },
  {
   "cell_type": "markdown",
   "id": "48298bbd",
   "metadata": {},
   "source": [
    "La syntaxe pour appeler une méthode d'un objet instancié est la suivante : `instance.methode(parametres)`."
   ]
  },
  {
   "cell_type": "code",
   "execution_count": 46,
   "id": "eb41e4fb",
   "metadata": {},
   "outputs": [
    {
     "data": {
      "text/plain": [
       "False"
      ]
     },
     "execution_count": 46,
     "metadata": {},
     "output_type": "execute_result"
    }
   ],
   "source": [
    "v1.est_arrete()"
   ]
  },
  {
   "cell_type": "markdown",
   "id": "e1fd9ba7",
   "metadata": {},
   "source": [
    "**Remarque** : les méthodes n'ont pas d'existence propre en dehors de l'objet.  \n",
    "Nous ne pouvons pas appeler la méthode `est_arrete()` seule, cela n'a pas de sens."
   ]
  },
  {
   "cell_type": "code",
   "execution_count": 47,
   "id": "b57b780b",
   "metadata": {},
   "outputs": [
    {
     "ename": "NameError",
     "evalue": "name 'est_arrete' is not defined",
     "output_type": "error",
     "traceback": [
      "\u001b[0;31m---------------------------------------------------------------------------\u001b[0m",
      "\u001b[0;31mNameError\u001b[0m                                 Traceback (most recent call last)",
      "\u001b[0;32m<ipython-input-47-018b7f64ec5d>\u001b[0m in \u001b[0;36m<module>\u001b[0;34m\u001b[0m\n\u001b[0;32m----> 1\u001b[0;31m \u001b[0mest_arrete\u001b[0m\u001b[0;34m(\u001b[0m\u001b[0;34m)\u001b[0m\u001b[0;34m\u001b[0m\u001b[0;34m\u001b[0m\u001b[0m\n\u001b[0m",
      "\u001b[0;31mNameError\u001b[0m: name 'est_arrete' is not defined"
     ]
    }
   ],
   "source": [
    "est_arrete()"
   ]
  },
  {
   "cell_type": "markdown",
   "id": "6c9b5e6a",
   "metadata": {},
   "source": [
    "**Remarque 2** : \n",
    "* le 1er paramètre de chaque méthode d'instance est toujours `self` pour faire référence à l'objet lui même\n",
    "* lors des appels aux méthodes, on ne spécifie pas ce paramètre `self`"
   ]
  },
  {
   "cell_type": "markdown",
   "id": "4bd51788",
   "metadata": {},
   "source": [
    "### Agir sur les attributs"
   ]
  },
  {
   "cell_type": "markdown",
   "id": "52256772",
   "metadata": {},
   "source": [
    "Tout l'intérêt des méthodes est qu'elles peuvent accéder aux attributs, les modifier et mettre en place des contrôles.  \n",
    "Par exemple :\n",
    "- si l'on n'utilise pas les méthodes `accelerer` et `decelerer`, il est possible de se retrouver avec une vitesse négative"
   ]
  },
  {
   "cell_type": "code",
   "execution_count": 49,
   "id": "bef86587",
   "metadata": {},
   "outputs": [
    {
     "name": "stdout",
     "output_type": "stream",
     "text": [
      "Je suis un vélo bleu. Ma vitesse est de : -10. J'ai un porte-bagages.\n"
     ]
    }
   ],
   "source": [
    "v1.vitesse = -10\n",
    "print(v1)"
   ]
  },
  {
   "cell_type": "markdown",
   "id": "33fa8d67-a08b-4bcb-ba5a-9ce50914768a",
   "metadata": {},
   "source": [
    "Modifier directement un attribut de cette manière est une mauvaise pratique car on n'effectue aucun contrôle sur ce qui est saisi.  \n",
    "Il est possible d'aller encore plus loin :"
   ]
  },
  {
   "cell_type": "code",
   "execution_count": 54,
   "id": "6d791364-cf84-49ab-9e77-3eebadfc7610",
   "metadata": {},
   "outputs": [
    {
     "name": "stdout",
     "output_type": "stream",
     "text": [
      "Je suis un vélo Sieste. Ma vitesse est de : Jean-Michel. J'ai un porte-bagages.\n"
     ]
    }
   ],
   "source": [
    "v1.vitesse = \"Jean-Michel\"\n",
    "print(v1)"
   ]
  },
  {
   "cell_type": "markdown",
   "id": "6f829717-e148-4584-81b7-b0d064a6443d",
   "metadata": {},
   "source": [
    "En utilisant les **méthodes**, cela évite de se retrouver dans des situations absurdes ou incohérentes.  "
   ]
  },
  {
   "cell_type": "code",
   "execution_count": 57,
   "id": "11fdcdde-5439-4b36-b0f6-0408ba35a267",
   "metadata": {},
   "outputs": [
    {
     "name": "stdout",
     "output_type": "stream",
     "text": [
      "Je suis un vélo Bleu. Ma vitesse est de : 10.\n",
      "Je suis un vélo Bleu. Ma vitesse est de : 0.\n"
     ]
    }
   ],
   "source": [
    "v1 = Velo(\"Bleu\")\n",
    "v1.accelerer(10)\n",
    "print(v1)\n",
    "v1.ralentir(20)\n",
    "print(v1)"
   ]
  },
  {
   "cell_type": "markdown",
   "id": "ed682ae4-b473-4763-bc56-849f380fc544",
   "metadata": {},
   "source": [
    "## Bonus : la classe Property\n",
    "\n",
    "Pour écarter tout problème, une solution intéressante est d'utiliser la classe [**property**](https://python.sdv.univ-paris-diderot.fr/19_avoir_la_classe_avec_les_objets/#1952-la-solution-la-classe-property).  \n",
    "Cette classe property permet sans changer la syntaxe d'accès aux attributs d'appeler des mutateurs."
   ]
  },
  {
   "cell_type": "code",
   "execution_count": 82,
   "id": "56c4cb9b-e54a-4fb9-9028-061d82b62ede",
   "metadata": {},
   "outputs": [],
   "source": [
    "class Velo:\n",
    "    def __init__(self, couleur, porte_bagage=False):\n",
    "        self.couleur = couleur\n",
    "        self._vitesse = 0                                    # Attribut privé pour stocker la vitesse\n",
    "        self.porte_bagage = porte_bagage\n",
    "\n",
    "    def __str__(self):\n",
    "        s = \"Je suis un vélo \" + self.couleur + \".\"\n",
    "        s += \" Ma vitesse est de : \" + str(self.vitesse) + \".\"\n",
    "        if self.porte_bagage:\n",
    "            s += \" J'ai un porte-bagages.\"\n",
    "        return s\n",
    "\n",
    "    @property\n",
    "    def vitesse(self):\n",
    "        return self._vitesse\n",
    "\n",
    "    @vitesse.setter\n",
    "    def vitesse(self, nouvelle_vitesse):\n",
    "        if nouvelle_vitesse >= 0:\n",
    "            self._vitesse = nouvelle_vitesse\n",
    "        else:\n",
    "            raise ValueError(\"La vitesse doit être un nombre positif.\")\n",
    "\n",
    "    def installer_porte_bagage(self):\n",
    "        self.porte_bagage = True\n",
    "\n",
    "    def est_arrete(self):\n",
    "        return self.vitesse == 0"
   ]
  },
  {
   "cell_type": "code",
   "execution_count": 83,
   "id": "8afe08f4-659c-4541-b5fa-0e6a302d4728",
   "metadata": {},
   "outputs": [
    {
     "name": "stdout",
     "output_type": "stream",
     "text": [
      "Je suis un vélo noir. Ma vitesse est de : 0.\n",
      "Je suis un vélo noir. Ma vitesse est de : 10.\n"
     ]
    },
    {
     "ename": "ValueError",
     "evalue": "La vitesse doit être un nombre positif.",
     "output_type": "error",
     "traceback": [
      "\u001b[0;31m---------------------------------------------------------------------------\u001b[0m",
      "\u001b[0;31mValueError\u001b[0m                                Traceback (most recent call last)",
      "\u001b[0;32m<ipython-input-83-ce34ae713190>\u001b[0m in \u001b[0;36m<module>\u001b[0;34m\u001b[0m\n\u001b[1;32m      3\u001b[0m \u001b[0mv3\u001b[0m\u001b[0;34m.\u001b[0m\u001b[0mvitesse\u001b[0m \u001b[0;34m=\u001b[0m \u001b[0;36m10\u001b[0m\u001b[0;34m\u001b[0m\u001b[0;34m\u001b[0m\u001b[0m\n\u001b[1;32m      4\u001b[0m \u001b[0mprint\u001b[0m\u001b[0;34m(\u001b[0m\u001b[0mv3\u001b[0m\u001b[0;34m)\u001b[0m\u001b[0;34m\u001b[0m\u001b[0;34m\u001b[0m\u001b[0m\n\u001b[0;32m----> 5\u001b[0;31m \u001b[0mv3\u001b[0m\u001b[0;34m.\u001b[0m\u001b[0mvitesse\u001b[0m \u001b[0;34m=\u001b[0m \u001b[0;34m-\u001b[0m\u001b[0;36m20\u001b[0m\u001b[0;34m\u001b[0m\u001b[0;34m\u001b[0m\u001b[0m\n\u001b[0m\u001b[1;32m      6\u001b[0m \u001b[0mprint\u001b[0m\u001b[0;34m(\u001b[0m\u001b[0mv3\u001b[0m\u001b[0;34m)\u001b[0m\u001b[0;34m\u001b[0m\u001b[0;34m\u001b[0m\u001b[0m\n",
      "\u001b[0;32m<ipython-input-82-ef4dfc81c727>\u001b[0m in \u001b[0;36mvitesse\u001b[0;34m(self, nouvelle_vitesse)\u001b[0m\n\u001b[1;32m     21\u001b[0m             \u001b[0mself\u001b[0m\u001b[0;34m.\u001b[0m\u001b[0m_vitesse\u001b[0m \u001b[0;34m=\u001b[0m \u001b[0mnouvelle_vitesse\u001b[0m\u001b[0;34m\u001b[0m\u001b[0;34m\u001b[0m\u001b[0m\n\u001b[1;32m     22\u001b[0m         \u001b[0;32melse\u001b[0m\u001b[0;34m:\u001b[0m\u001b[0;34m\u001b[0m\u001b[0;34m\u001b[0m\u001b[0m\n\u001b[0;32m---> 23\u001b[0;31m             \u001b[0;32mraise\u001b[0m \u001b[0mValueError\u001b[0m\u001b[0;34m(\u001b[0m\u001b[0;34m\"La vitesse doit être un nombre positif.\"\u001b[0m\u001b[0;34m)\u001b[0m\u001b[0;34m\u001b[0m\u001b[0;34m\u001b[0m\u001b[0m\n\u001b[0m\u001b[1;32m     24\u001b[0m \u001b[0;34m\u001b[0m\u001b[0m\n\u001b[1;32m     25\u001b[0m     \u001b[0;32mdef\u001b[0m \u001b[0minstaller_porte_bagage\u001b[0m\u001b[0;34m(\u001b[0m\u001b[0mself\u001b[0m\u001b[0;34m)\u001b[0m\u001b[0;34m:\u001b[0m\u001b[0;34m\u001b[0m\u001b[0;34m\u001b[0m\u001b[0m\n",
      "\u001b[0;31mValueError\u001b[0m: La vitesse doit être un nombre positif."
     ]
    }
   ],
   "source": [
    "v3 = Velo(\"noir\")\n",
    "print(v3)\n",
    "v3.vitesse = 10\n",
    "print(v3)\n",
    "v3.vitesse = -20\n",
    "print(v3)"
   ]
  },
  {
   "cell_type": "markdown",
   "id": "7edfd189-ef28-40c5-a46b-26639127c243",
   "metadata": {},
   "source": [
    "# TODO : next chapter\n",
    "\n",
    "pour la suite, énoncer les principes de la POO et passer vers VSCode  \n",
    "  \n",
    "La Programmation Orientée Objet (POO) est un paradigme de programmation qui permet d'organiser et de structurer le code en utilisant des objets. Les objets sont des entités qui regroupent des données (attributs) et des actions (méthodes) qui leur sont associées. La POO repose sur plusieurs principes fondamentaux :\n",
    "* Encapsulation : L'encapsulation consiste à regrouper les données et les méthodes qui les manipulent au sein d'un même objet. Cela permet de cacher les détails d'implémentation et de fournir une interface cohérente pour interagir avec l'objet.\n",
    "* Héritage : L'héritage permet de créer de nouvelles classes à partir de classes existantes, en héritant de leurs attributs et méthodes. Cela favorise la réutilisation du code et la création d'une hiérarchie de classes.\n",
    "* Polymorphisme : Le polymorphisme permet à des objets de classes différentes de répondre de manière différente à une même action. Cela permet de manipuler des objets de différentes classes de manière uniforme, en utilisant des interfaces communes.\n",
    "\n",
    "La POO permet d'organiser le code de manière plus structurée, de favoriser la réutilisation et la maintenance du code, et de modéliser les concepts du domaine d'application de manière naturelle. Elle est largement utilisée dans de nombreux langages de programmation, dont Python, pour développer des applications complexes et évolutives."
   ]
  },
  {
   "cell_type": "markdown",
   "id": "7dedf92a-6023-454f-afff-ea7741c820ee",
   "metadata": {},
   "source": [
    "---\n",
    "\n",
    "# Bonnes pratiques\n",
    "\n",
    "Pour conclure cette introduction au langage Python, voici une liste de bonnes pratiques généralement suivies par les développeurs.  \n",
    "Le respect de ces pratiques est fortement recommandé et vous aidera à mieux coder.\n",
    "\n",
    "### Convention de nommage\n",
    "\n",
    "* variables\n",
    "    * donner des noms explicites (éviter les `toto`, `var1` ...)\n",
    "    * en minuscules avec des mots séparés par des underscores (snake_case)\n",
    "        * exception pour les variables **constantes** : utiliser des MAJUSCULES avec des mots séparés par des underscores\n",
    "    * cela permet d'avoir un code plus lisible pour vous même et pour les autres\n",
    "* fonctions et méthodes\n",
    "    * idem que pour les variables\n",
    "* classes\n",
    "    * utiliser le **camelCase** : chaque mot commence par une Majuscule.\n",
    "    * ex : `VeloElectrique`\n",
    "\n",
    "### Indenter correctement le code : \n",
    "\n",
    "Utilisez une indentation de 4 espaces pour chaque niveau d'indentation.  \n",
    "L'indentation correcte est essentielle en Python, car elle détermine la structure du code.\n",
    "\n",
    "### Ajouter des commentaires pertinents\n",
    "\n",
    "Dès qu'il y a un peu de complexité, commentez votre code pour expliquer son fonctionnement.  \n",
    "Ajoutez des docstrings aux fonctions, classes et modules pour expliquer leur fonctionnement, leurs paramètres et leurs valeurs de retour."
   ]
  },
  {
   "cell_type": "markdown",
   "id": "25ef0a85",
   "metadata": {},
   "source": [
    "---\n",
    "\n",
    "# Exercices\n",
    "\n",
    "## Exercice 1\n",
    "\n",
    "Créez une classe `Etudiant` avec les attributs :\n",
    "* nom\n",
    "* age\n",
    "* liste_notes\n",
    "\n",
    "Avec les méthodes :\n",
    "* __init__() : constructeur\n",
    "* ajouter_note() : pour ajouter une nouvelle note à la liste\n",
    "* calculer_moyenne() : calculer la moyenne des notes"
   ]
  },
  {
   "cell_type": "code",
   "execution_count": null,
   "id": "38b19a85",
   "metadata": {},
   "outputs": [],
   "source": [
    "# Testez votre réponse dans cette cellule\n"
   ]
  },
  {
   "cell_type": "markdown",
   "id": "9bb0ab82-1100-4cdb-b593-a249d28943bb",
   "metadata": {},
   "source": [
    "## Exercice 2\n",
    "\n",
    "Créer une classe `Point` qui représente les coordonnées d'un point en 2D.  \n",
    "Ajouter une méthode distance(autre_point) qui calcule la distance avec un autre point.  \n",
    "\n",
    "Créez une classe `Cercle` avec les attributs centre (de la classe Point) et rayon.   \n",
    "Ajoutez une méthode calculer_surface() qui renvoie la surface du cercle."
   ]
  },
  {
   "cell_type": "code",
   "execution_count": null,
   "id": "a0976a71-34b6-4a56-8df5-3e98f43d5408",
   "metadata": {},
   "outputs": [],
   "source": [
    "# Testez votre réponse dans cette cellule\n"
   ]
  },
  {
   "cell_type": "markdown",
   "id": "5cef6f20",
   "metadata": {},
   "source": [
    "## Exercice 3"
   ]
  },
  {
   "cell_type": "markdown",
   "id": "7ab96007",
   "metadata": {},
   "source": [
    "Créez une classe CompteBancaire avec les attributs suivants :\n",
    "* titulaire : le nom du titulaire du compte (chaîne de caractères)\n",
    "* solde : le solde du compte (nombre réel)\n",
    "\n",
    "La classe devra avoir les méthodes suivantes :\n",
    "\n",
    "* `__init__(self, titulaire)` : le constructeur de la classe\n",
    "* `deposer(self, montant)` : une méthode qui permet de déposer un montant sur le compte. Le montant devra être ajouté au solde\n",
    "* `retirer(self, montant)` : une méthode qui permet de retirer un montant du compte. Le montant devra être soustrait du solde\n",
    "* `afficher_solde(self)` : une méthode qui affiche le solde du compte\n",
    "* `transferer(autreCompte, montant)` qui transfère de l'argent du compte vers l'autre si le solde est suffisant\n",
    "    \n",
    "Créer 2 Comptes et tester les différentes fonctionnalités."
   ]
  },
  {
   "cell_type": "code",
   "execution_count": null,
   "id": "dd2f9739",
   "metadata": {},
   "outputs": [],
   "source": [
    "# Testez votre réponse dans cette cellule\n"
   ]
  }
 ],
 "metadata": {
  "jupytext": {
   "cell_metadata_filter": "-all",
   "main_language": "python",
   "notebook_metadata_filter": "-all"
  },
  "kernelspec": {
   "display_name": "Python 3",
   "language": "python",
   "name": "python3"
  },
  "language_info": {
   "codemirror_mode": {
    "name": "ipython",
    "version": 3
   },
   "file_extension": ".py",
   "mimetype": "text/x-python",
   "name": "python",
   "nbconvert_exporter": "python",
   "pygments_lexer": "ipython3",
   "version": "3.7.10"
  }
 },
 "nbformat": 4,
 "nbformat_minor": 5
}
