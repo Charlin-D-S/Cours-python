{
 "cells": [
  {
   "cell_type": "markdown",
   "id": "38594c08-b62b-41e0-9f15-0af16e655f0c",
   "metadata": {},
   "source": [
    "# Avant propos\n",
    "\n",
    "Pour réaliser ce Notebook, je me suis inspiré de : \n",
    "* la formation [**Initiation à Python**](https://github.com/InseeFrLab/formation-python-initiation) du SSP Cloud INSEE, \n",
    "* cours de Python dispensés à l'ENSAE par [Lino Galiana](https://pythonds.linogaliana.fr/rappels2a/) et [Xavier Dupré](http://www.xavierdupre.fr/app/ensae_teaching_cs/helpsphinx/index.html)\n",
    "* https://python.sdv.univ-paris-diderot.fr/\n",
    "\n",
    "---"
   ]
  },
  {
   "cell_type": "markdown",
   "id": "1fffa8ea",
   "metadata": {},
   "source": [
    "# Types et variables\n",
    "\n",
    "Dans ce chapitre, nous allons découvrir les types de base en python :\n",
    "* numériques\n",
    "    * **int** : entiers\n",
    "    * **float** : décimaux\n",
    "* chaines de caractères : **str**\n",
    "* booléens : **bool**\n",
    "\n",
    "---\n",
    "\n",
    "# Affectation de variables"
   ]
  },
  {
   "cell_type": "code",
   "execution_count": 4,
   "id": "a4f46774-67c4-4547-8074-ded35066fb22",
   "metadata": {},
   "outputs": [],
   "source": [
    "# Créer la variable a et lui affecter la valeur 8\n",
    "a = 8\n",
    "\n",
    "# Créer la variable b et lui affecter la chaîne de caractère \"texte\"\n",
    "b = \"texte\"\n",
    "\n",
    "# Créer la variable c et lui affecter le booléen True\n",
    "c = True"
   ]
  },
  {
   "cell_type": "code",
   "execution_count": 21,
   "id": "a9379a9e-fd5f-42f3-a084-b5aa600b805a",
   "metadata": {},
   "outputs": [
    {
     "data": {
      "text/plain": [
       "8"
      ]
     },
     "execution_count": 21,
     "metadata": {},
     "output_type": "execute_result"
    }
   ],
   "source": [
    "# Afficher le contenu de a\n",
    "a"
   ]
  },
  {
   "cell_type": "markdown",
   "id": "ed535ec7-9667-4030-b778-a1376a6f2f48",
   "metadata": {},
   "source": [
    "Remarque : Un notebook n'affiche que la dernière valeur qui lui est demandé.  \n",
    "Pour réaliser plusieurs affichage, il faut utiliser la méthode **print**"
   ]
  },
  {
   "cell_type": "code",
   "execution_count": 25,
   "id": "7bbd3d44-e1e6-4a3e-8b43-ec82cc31b43d",
   "metadata": {},
   "outputs": [
    {
     "name": "stdout",
     "output_type": "stream",
     "text": [
      "8\n",
      "texte\n",
      "True\n"
     ]
    }
   ],
   "source": [
    "print(a)\n",
    "print(b)\n",
    "print(c)"
   ]
  },
  {
   "cell_type": "markdown",
   "id": "43b6d660-7826-4294-977e-5d5c75e2113c",
   "metadata": {},
   "source": [
    "Python est **langage typé dynamiquement**.  \n",
    "Cela siginifie qu'il est possible de modifier le type d'une variable sans contrainte.  \n",
    "Si la variable **a** contient du texte, il est possible de lui affecter ensuite un entier."
   ]
  },
  {
   "cell_type": "code",
   "execution_count": 26,
   "id": "86af58e1-8339-485a-92db-4527ba53823e",
   "metadata": {},
   "outputs": [
    {
     "name": "stdout",
     "output_type": "stream",
     "text": [
      "8\n",
      "abcd\n",
      "False\n"
     ]
    }
   ],
   "source": [
    "print(a)\n",
    "a = \"abcd\"\n",
    "print(a)\n",
    "a = False\n",
    "print(a)"
   ]
  },
  {
   "cell_type": "markdown",
   "id": "a068d334-bf01-419e-947f-f2284d216720",
   "metadata": {},
   "source": [
    "**Astuce** : Pour afficher toutes les variables créées et leurs valeurs, vous pouvez utiliser la commande `%whos`"
   ]
  },
  {
   "cell_type": "code",
   "execution_count": 6,
   "id": "566c3c72-9800-4d60-8b6e-1826a8a1b086",
   "metadata": {},
   "outputs": [
    {
     "name": "stdout",
     "output_type": "stream",
     "text": [
      "Variable   Type    Data/Info\n",
      "----------------------------\n",
      "a          int     8\n",
      "b          str     texte\n",
      "c          bool    True\n"
     ]
    }
   ],
   "source": [
    "%whos"
   ]
  },
  {
   "cell_type": "markdown",
   "id": "acf2cd01-1b12-4072-820a-32817bc469be",
   "metadata": {},
   "source": [
    "---\n",
    "\n",
    "# Nombres\n",
    "\n",
    "La fonction `type` permet de connaitre le type"
   ]
  },
  {
   "cell_type": "code",
   "execution_count": 1,
   "id": "3d718d47",
   "metadata": {
    "lines_to_next_cell": 2
   },
   "outputs": [
    {
     "data": {
      "text/plain": [
       "int"
      ]
     },
     "execution_count": 1,
     "metadata": {},
     "output_type": "execute_result"
    }
   ],
   "source": [
    "a = 8\n",
    "type(a)"
   ]
  },
  {
   "cell_type": "code",
   "execution_count": 2,
   "id": "21a3874c",
   "metadata": {},
   "outputs": [
    {
     "data": {
      "text/plain": [
       "float"
      ]
     },
     "execution_count": 2,
     "metadata": {},
     "output_type": "execute_result"
    }
   ],
   "source": [
    "b = 33.5\n",
    "type(b)"
   ]
  },
  {
   "cell_type": "code",
   "execution_count": 6,
   "id": "96091fdf-4c8f-4ebe-814f-3d9de9f9baad",
   "metadata": {},
   "outputs": [
    {
     "data": {
      "text/plain": [
       "inf"
      ]
     },
     "execution_count": 6,
     "metadata": {},
     "output_type": "execute_result"
    }
   ],
   "source": [
    "float('inf')"
   ]
  },
  {
   "cell_type": "markdown",
   "id": "c2cf0b12",
   "metadata": {},
   "source": [
    "## Convertions\n",
    "\n",
    "Les fonctions `float` et `int` peuvent être utilisées pour passer d'un type à l'autre.\n"
   ]
  },
  {
   "cell_type": "code",
   "execution_count": 18,
   "id": "75de646f",
   "metadata": {
    "lines_to_next_cell": 2
   },
   "outputs": [
    {
     "data": {
      "text/plain": [
       "8.0"
      ]
     },
     "execution_count": 18,
     "metadata": {},
     "output_type": "execute_result"
    }
   ],
   "source": [
    "# Conversion en float\n",
    "float(a)"
   ]
  },
  {
   "cell_type": "code",
   "execution_count": 22,
   "id": "3415a94f",
   "metadata": {},
   "outputs": [
    {
     "data": {
      "text/plain": [
       "33"
      ]
     },
     "execution_count": 22,
     "metadata": {},
     "output_type": "execute_result"
    }
   ],
   "source": [
    "# Conversion en int (partie entière)\n",
    "int(b)"
   ]
  },
  {
   "cell_type": "code",
   "execution_count": 24,
   "id": "2718e40c",
   "metadata": {
    "lines_to_next_cell": 2
   },
   "outputs": [
    {
     "data": {
      "text/plain": [
       "2100.0"
      ]
     },
     "execution_count": 24,
     "metadata": {},
     "output_type": "execute_result"
    }
   ],
   "source": [
    "# Notation scientifique\n",
    "2.1e3"
   ]
  },
  {
   "cell_type": "markdown",
   "id": "cf2f6538",
   "metadata": {},
   "source": [
    "## Opérations arithmétiques de base\n"
   ]
  },
  {
   "cell_type": "code",
   "execution_count": null,
   "id": "111f67ac",
   "metadata": {
    "lines_to_next_cell": 2
   },
   "outputs": [],
   "source": [
    "# Addition\n",
    "1 + 1"
   ]
  },
  {
   "cell_type": "code",
   "execution_count": null,
   "id": "af305f4f",
   "metadata": {
    "lines_to_next_cell": 2
   },
   "outputs": [],
   "source": [
    "# Soustraction\n",
    "6 - 2"
   ]
  },
  {
   "cell_type": "code",
   "execution_count": null,
   "id": "5ac606d4",
   "metadata": {
    "lines_to_next_cell": 2
   },
   "outputs": [],
   "source": [
    "# Multiplication\n",
    "3 * 4"
   ]
  },
  {
   "cell_type": "code",
   "execution_count": 25,
   "id": "c7b1e419",
   "metadata": {
    "lines_to_next_cell": 2
   },
   "outputs": [
    {
     "data": {
      "text/plain": [
       "2.2"
      ]
     },
     "execution_count": 25,
     "metadata": {},
     "output_type": "execute_result"
    }
   ],
   "source": [
    "# Division\n",
    "11 / 5"
   ]
  },
  {
   "cell_type": "code",
   "execution_count": 27,
   "id": "1098dbda",
   "metadata": {
    "lines_to_next_cell": 2
   },
   "outputs": [
    {
     "data": {
      "text/plain": [
       "2"
      ]
     },
     "execution_count": 27,
     "metadata": {},
     "output_type": "execute_result"
    }
   ],
   "source": [
    "# Division euclidienne : quotient\n",
    "11 // 5"
   ]
  },
  {
   "cell_type": "code",
   "execution_count": 26,
   "id": "03de41ee",
   "metadata": {
    "lines_to_next_cell": 2
   },
   "outputs": [
    {
     "data": {
      "text/plain": [
       "1"
      ]
     },
     "execution_count": 26,
     "metadata": {},
     "output_type": "execute_result"
    }
   ],
   "source": [
    "# Division euclidienne : reste (modulo)\n",
    "11 % 5"
   ]
  },
  {
   "cell_type": "code",
   "execution_count": 7,
   "id": "1cb64954",
   "metadata": {
    "lines_to_next_cell": 2
   },
   "outputs": [
    {
     "data": {
      "text/plain": [
       "1024"
      ]
     },
     "execution_count": 7,
     "metadata": {},
     "output_type": "execute_result"
    }
   ],
   "source": [
    "# Puissance\n",
    "2 ** 10"
   ]
  },
  {
   "cell_type": "code",
   "execution_count": 9,
   "id": "40357d35",
   "metadata": {
    "lines_to_next_cell": 2
   },
   "outputs": [
    {
     "data": {
      "text/plain": [
       "6.0"
      ]
     },
     "execution_count": 9,
     "metadata": {},
     "output_type": "execute_result"
    }
   ],
   "source": [
    "# Racine carrée\n",
    "36 ** 0.5"
   ]
  },
  {
   "cell_type": "markdown",
   "id": "626cd26b",
   "metadata": {},
   "source": [
    "---\n",
    "\n",
    "# Chaînes de charactères\n",
    "\n",
    "Les chaînes de caractères (strings) sont utilisées pour stocker de l'information textuelle.\n",
    "\n",
    "Un *string* se définit en mettant l'information entre apostrophes `'` ou entre guillemets `\"`. \n",
    "\n",
    "## Définition\n"
   ]
  },
  {
   "cell_type": "code",
   "execution_count": 7,
   "id": "147abc43",
   "metadata": {
    "lines_to_next_cell": 2
   },
   "outputs": [
    {
     "data": {
      "text/plain": [
       "'une chaine de caractères définie avec des apostrophes'"
      ]
     },
     "execution_count": 7,
     "metadata": {},
     "output_type": "execute_result"
    }
   ],
   "source": [
    "a = 'une chaine de caractères définie avec des apostrophes'\n",
    "a"
   ]
  },
  {
   "cell_type": "code",
   "execution_count": 8,
   "id": "a0978753",
   "metadata": {
    "lines_to_next_cell": 2
   },
   "outputs": [
    {
     "data": {
      "text/plain": [
       "'une chaine de caractères définie avec des guillemets'"
      ]
     },
     "execution_count": 8,
     "metadata": {},
     "output_type": "execute_result"
    }
   ],
   "source": [
    "b = \"une chaine de caractères définie avec des guillemets\"\n",
    "b"
   ]
  },
  {
   "cell_type": "code",
   "execution_count": 12,
   "id": "2e652623",
   "metadata": {},
   "outputs": [
    {
     "data": {
      "text/plain": [
       "\"j'inclus l'apostrophe\""
      ]
     },
     "execution_count": 12,
     "metadata": {},
     "output_type": "execute_result"
    }
   ],
   "source": [
    "# Pour inclure une apostrophe à l'intérieur de la chaine\n",
    "\"j'inclus l'apostrophe\""
   ]
  },
  {
   "cell_type": "code",
   "execution_count": 14,
   "id": "ad301fa6",
   "metadata": {},
   "outputs": [
    {
     "data": {
      "text/plain": [
       "'les \"guillemets\" sont là'"
      ]
     },
     "execution_count": 14,
     "metadata": {},
     "output_type": "execute_result"
    }
   ],
   "source": [
    "# Pour inclure des guillemets à l'intérieur de la chaine\n",
    "'les \"guillemets\" sont là'"
   ]
  },
  {
   "cell_type": "markdown",
   "id": "5257fba2",
   "metadata": {},
   "source": [
    "## Métodes utiles\n",
    "\n",
    "Voici un aperçu de quelques méthodes utiles. De nombreuses autres existent (voir [documentation officielle](https://docs.python.org/3/library/stdtypes.html#string-methods))"
   ]
  },
  {
   "cell_type": "code",
   "execution_count": 19,
   "id": "c7c8bc03",
   "metadata": {},
   "outputs": [
    {
     "data": {
      "text/plain": [
       "18"
      ]
     },
     "execution_count": 19,
     "metadata": {},
     "output_type": "execute_result"
    }
   ],
   "source": [
    "# Longueur d'une chaîne (nombre de caractères)\n",
    "len(\"J'ai 18 caractères\")"
   ]
  },
  {
   "cell_type": "code",
   "execution_count": 5,
   "id": "49ef3b12-0412-4de2-bee4-4522770286ba",
   "metadata": {},
   "outputs": [
    {
     "data": {
      "text/plain": [
       "'Je suis ton père'"
      ]
     },
     "execution_count": 5,
     "metadata": {},
     "output_type": "execute_result"
    }
   ],
   "source": [
    "# Concaténation\n",
    "\"I am\" + \"your father\""
   ]
  },
  {
   "cell_type": "code",
   "execution_count": 2,
   "id": "899b3fd0-58e1-4db1-a0b8-36742ca43cb6",
   "metadata": {},
   "outputs": [
    {
     "ename": "TypeError",
     "evalue": "can only concatenate str (not \"int\") to str",
     "output_type": "error",
     "traceback": [
      "\u001b[0;31m---------------------------------------------------------------------------\u001b[0m",
      "\u001b[0;31mTypeError\u001b[0m                                 Traceback (most recent call last)",
      "\u001b[0;32m<ipython-input-2-c5f1b8edd9c4>\u001b[0m in \u001b[0;36m<module>\u001b[0;34m\u001b[0m\n\u001b[1;32m      1\u001b[0m \u001b[0;31m# Concaténation avec un nombre\u001b[0m\u001b[0;34m\u001b[0m\u001b[0;34m\u001b[0m\u001b[0;34m\u001b[0m\u001b[0m\n\u001b[1;32m      2\u001b[0m \u001b[0mannee\u001b[0m \u001b[0;34m=\u001b[0m \u001b[0;36m2\u001b[0m\u001b[0;34m\u001b[0m\u001b[0;34m\u001b[0m\u001b[0m\n\u001b[0;32m----> 3\u001b[0;31m \u001b[0;34m\"je suis en \"\u001b[0m \u001b[0;34m+\u001b[0m \u001b[0mannee\u001b[0m \u001b[0;34m+\u001b[0m \u001b[0;34m\"ème année\"\u001b[0m\u001b[0;34m\u001b[0m\u001b[0;34m\u001b[0m\u001b[0m\n\u001b[0m",
      "\u001b[0;31mTypeError\u001b[0m: can only concatenate str (not \"int\") to str"
     ]
    }
   ],
   "source": [
    "# Concaténation avec un nombre\n",
    "annee = 2\n",
    "\"je suis en \" + annee + \"ème année\""
   ]
  },
  {
   "cell_type": "markdown",
   "id": "3992f0d9-ea96-43f7-bd89-5f506571e1ad",
   "metadata": {},
   "source": [
    "Problème, il faut au préalable convertir le nombre en chaîne de caractères.  \n",
    "La méthode **str** fait le travail."
   ]
  },
  {
   "cell_type": "code",
   "execution_count": 3,
   "id": "647bc6b6-c571-4d9b-bc98-c613ed49cfb8",
   "metadata": {},
   "outputs": [
    {
     "data": {
      "text/plain": [
       "'je suis en 2ème année'"
      ]
     },
     "execution_count": 3,
     "metadata": {},
     "output_type": "execute_result"
    }
   ],
   "source": [
    "# Concaténation avec un nombre - après convertion du nombre en string\n",
    "annee = 2\n",
    "\"je suis en \" + str(annee) + \"ème année\""
   ]
  },
  {
   "cell_type": "code",
   "execution_count": 4,
   "id": "dd19c9b3-ae94-4b08-b9b6-4f784f1f894e",
   "metadata": {},
   "outputs": [
    {
     "data": {
      "text/plain": [
       "'hop hop hop hop hop '"
      ]
     },
     "execution_count": 4,
     "metadata": {},
     "output_type": "execute_result"
    }
   ],
   "source": [
    "# Répétition\n",
    "\"hop \" * 5"
   ]
  },
  {
   "cell_type": "code",
   "execution_count": 7,
   "id": "5e9bf25a-b070-4dbc-aaea-5ff145ef9d9f",
   "metadata": {},
   "outputs": [
    {
     "data": {
      "text/plain": [
       "\"C'EST OK\""
      ]
     },
     "execution_count": 7,
     "metadata": {},
     "output_type": "execute_result"
    }
   ],
   "source": [
    "# Mettre en majuscules\n",
    "\"C'est OK\".upper()"
   ]
  },
  {
   "cell_type": "code",
   "execution_count": 1,
   "id": "5f2ccc31-250e-4949-98a4-614fb12e5cce",
   "metadata": {},
   "outputs": [
    {
     "data": {
      "text/plain": [
       "\"c'est ok\""
      ]
     },
     "execution_count": 1,
     "metadata": {},
     "output_type": "execute_result"
    }
   ],
   "source": [
    "# Mettre en minuscules\n",
    "\"C'est OK\".lower()"
   ]
  },
  {
   "cell_type": "code",
   "execution_count": 7,
   "id": "addc29e7-9837-4913-8f43-a9d0d7e39686",
   "metadata": {},
   "outputs": [
    {
     "data": {
      "text/plain": [
       "2"
      ]
     },
     "execution_count": 7,
     "metadata": {},
     "output_type": "execute_result"
    }
   ],
   "source": [
    "# Compter le nombre d'occurences\n",
    "\"Mangez cinq fruits et légumes par jour\".count(\"a\")"
   ]
  },
  {
   "cell_type": "code",
   "execution_count": 13,
   "id": "60717c75-931d-42c5-b098-4be935205d69",
   "metadata": {},
   "outputs": [
    {
     "data": {
      "text/plain": [
       "['Mangez', 'cinq', 'fruits', 'et', 'légumes', 'par', 'jour']"
      ]
     },
     "execution_count": 13,
     "metadata": {},
     "output_type": "execute_result"
    }
   ],
   "source": [
    "# Créer une liste de mots\n",
    "\"Mangez cinq fruits et légumes par jour\".split()"
   ]
  },
  {
   "cell_type": "code",
   "execution_count": 9,
   "id": "ac484b37-afe3-4715-8c06-6eee9f9b8849",
   "metadata": {},
   "outputs": [
    {
     "data": {
      "text/plain": [
       "['un', 'deux', 'trois', 'soleil']"
      ]
     },
     "execution_count": 9,
     "metadata": {},
     "output_type": "execute_result"
    }
   ],
   "source": [
    "# Séparer les mots selon un caractère spécifique\n",
    "\"un-deux-trois-soleil\".split(\"-\")"
   ]
  },
  {
   "cell_type": "code",
   "execution_count": 10,
   "id": "ce6954e1-88de-46a9-957d-e19265f2c3e4",
   "metadata": {},
   "outputs": [
    {
     "data": {
      "text/plain": [
       "'mon numéro est : 06 12 34 56 78'"
      ]
     },
     "execution_count": 10,
     "metadata": {},
     "output_type": "execute_result"
    }
   ],
   "source": [
    "# Utiliser les strings comme templates\n",
    "\"mon numéro est : {}\".format(\"06 12 34 56 78\")"
   ]
  },
  {
   "cell_type": "code",
   "execution_count": 8,
   "id": "47b84eab-8829-42c9-8f88-0ecb4810dd3c",
   "metadata": {},
   "outputs": [
    {
     "data": {
      "text/plain": [
       "True"
      ]
     },
     "execution_count": 8,
     "metadata": {},
     "output_type": "execute_result"
    }
   ],
   "source": [
    "# Commence par ?\n",
    "\"vélo\".startswith(\"vé\")"
   ]
  },
  {
   "cell_type": "code",
   "execution_count": 7,
   "id": "70fcfef6-9469-4cc4-8196-45ae8a9cfd51",
   "metadata": {},
   "outputs": [
    {
     "data": {
      "text/plain": [
       "True"
      ]
     },
     "execution_count": 7,
     "metadata": {},
     "output_type": "execute_result"
    }
   ],
   "source": [
    "# Se termine par ?\n",
    "\"vélo\".endswith(\"lo\")"
   ]
  },
  {
   "cell_type": "markdown",
   "id": "d76c4c5b-2e7a-4e36-a5c2-c13b5b059542",
   "metadata": {},
   "source": [
    "## Extraire des sous-chaînes\n",
    "\n",
    "Une chaîne de caractères est considérée en Python comme une liste de caractères.  \n",
    "Il est donc possible d'extraire différents éléments de cette liste"
   ]
  },
  {
   "cell_type": "code",
   "execution_count": 20,
   "id": "47055e87",
   "metadata": {
    "lines_to_next_cell": 2
   },
   "outputs": [
    {
     "data": {
      "text/plain": [
       "'c'"
      ]
     },
     "execution_count": 20,
     "metadata": {},
     "output_type": "execute_result"
    }
   ],
   "source": [
    "# Premier élémént\n",
    "\"c'est de toute beauté\"[0]"
   ]
  },
  {
   "cell_type": "code",
   "execution_count": 21,
   "id": "bcca11ae",
   "metadata": {
    "lines_to_next_cell": 2
   },
   "outputs": [
    {
     "data": {
      "text/plain": [
       "\"'\""
      ]
     },
     "execution_count": 21,
     "metadata": {},
     "output_type": "execute_result"
    }
   ],
   "source": [
    "# Deuxième élémént\n",
    "\"c'est de toute beauté\"[1]"
   ]
  },
  {
   "cell_type": "code",
   "execution_count": 22,
   "id": "4297e33c",
   "metadata": {
    "lines_to_next_cell": 2
   },
   "outputs": [
    {
     "data": {
      "text/plain": [
       "'é'"
      ]
     },
     "execution_count": 22,
     "metadata": {},
     "output_type": "execute_result"
    }
   ],
   "source": [
    "# Dernier élémént\n",
    "\"c'est de toute beauté\"[-1]"
   ]
  },
  {
   "cell_type": "code",
   "execution_count": 24,
   "id": "2d0fed2d",
   "metadata": {
    "lines_to_next_cell": 2
   },
   "outputs": [
    {
     "data": {
      "text/plain": [
       "'de toute beauté'"
      ]
     },
     "execution_count": 24,
     "metadata": {},
     "output_type": "execute_result"
    }
   ],
   "source": [
    "# À partir d'un certain caractère\n",
    "\"c'est de toute beauté\"[6:]"
   ]
  },
  {
   "cell_type": "code",
   "execution_count": 27,
   "id": "88f1b2f1",
   "metadata": {
    "lines_to_next_cell": 2
   },
   "outputs": [
    {
     "data": {
      "text/plain": [
       "\"c'est de\""
      ]
     },
     "execution_count": 27,
     "metadata": {},
     "output_type": "execute_result"
    }
   ],
   "source": [
    "# Jusqu'à un certain caractère\n",
    "\"c'est de toute beauté\"[:8]"
   ]
  },
  {
   "cell_type": "code",
   "execution_count": 30,
   "id": "17d7a409",
   "metadata": {
    "lines_to_next_cell": 2
   },
   "outputs": [
    {
     "data": {
      "text/plain": [
       "'toute'"
      ]
     },
     "execution_count": 30,
     "metadata": {},
     "output_type": "execute_result"
    }
   ],
   "source": [
    "# Extraire une sous-chaîne\n",
    "\"c'est de toute beauté\"[9:14]"
   ]
  },
  {
   "cell_type": "code",
   "execution_count": 31,
   "id": "86f6724a",
   "metadata": {
    "lines_to_next_cell": 2
   },
   "outputs": [
    {
     "data": {
      "text/plain": [
       "'td ot eué'"
      ]
     },
     "execution_count": 31,
     "metadata": {},
     "output_type": "execute_result"
    }
   ],
   "source": [
    "# Extraire tous les 2 caractères, à partir de la 4 ème position\n",
    "\"c'est de toute beauté\"[4::2]"
   ]
  },
  {
   "cell_type": "code",
   "execution_count": 32,
   "id": "e9e08afc",
   "metadata": {},
   "outputs": [
    {
     "data": {
      "text/plain": [
       "\"étuaeb etuot ed tse'c\""
      ]
     },
     "execution_count": 32,
     "metadata": {},
     "output_type": "execute_result"
    }
   ],
   "source": [
    "# Inverser une chaîne\n",
    "\"c'est de toute beauté\"[::-1]"
   ]
  },
  {
   "cell_type": "markdown",
   "id": "ce563838-9280-46c1-bf45-a100745b012c",
   "metadata": {},
   "source": [
    "### Caractères spéciaux\n",
    "\n",
    "Pour insérer des caractères spéciaux au sein d'une chaîne de caractère, il faut utiliser le caractère d'échappement `\\`.\n",
    "\n",
    "| Caractère  | Description                   |\n",
    "|------------|-------------------------------|\n",
    "| \\          | Caractère d'échappement       |\n",
    "| \\\\'        | Apostrophe                    |\n",
    "| \\\\\"        | Guillemets doubles            |\n",
    "| \\\\n        | Retour à la ligne             |\n",
    "| \\\\t        | Tabulation horizontale        |\n",
    "| \\\\r        | Retour chariot                |"
   ]
  },
  {
   "cell_type": "code",
   "execution_count": 14,
   "id": "d1e22b47-42b3-4992-a1f5-5dd2743cbd5d",
   "metadata": {},
   "outputs": [
    {
     "name": "stdout",
     "output_type": "stream",
     "text": [
      "une chaîne\n",
      "sur 2 lignes\n"
     ]
    }
   ],
   "source": [
    "c = \"une chaîne\\nsur 2 lignes\"\n",
    "print(c)"
   ]
  },
  {
   "cell_type": "code",
   "execution_count": 15,
   "id": "fd4e83fd-e547-434e-a87a-ad34b1986852",
   "metadata": {},
   "outputs": [
    {
     "name": "stdout",
     "output_type": "stream",
     "text": [
      "une autre \"possibilité\" pour\n",
      "avoir une chaîne sur 2 lignes\n"
     ]
    }
   ],
   "source": [
    "# Définir une chaîne de caractères sur plusieurs lignes\n",
    "d = \"\"\"une autre \\\"possibilité\\\" pour\n",
    "avoir une chaîne sur 2 lignes\"\"\"\n",
    "print(d)"
   ]
  },
  {
   "cell_type": "markdown",
   "id": "586f2b3d-996f-46e2-8c52-8f7310a3f443",
   "metadata": {},
   "source": [
    "---\n",
    "\n",
    "# Boléens\n",
    "\n",
    "Les Booléens ne peuvent prendre que deux valeurs : `True` et `False`  \n",
    "Attention à bien respecter la notation avec la première lettre en majuscule et les autres en minuscule.  "
   ]
  },
  {
   "cell_type": "code",
   "execution_count": 28,
   "id": "e62e1255-43bf-4d92-a7c3-21c84649d301",
   "metadata": {},
   "outputs": [
    {
     "data": {
      "text/plain": [
       "bool"
      ]
     },
     "execution_count": 28,
     "metadata": {},
     "output_type": "execute_result"
    }
   ],
   "source": [
    "type(True)"
   ]
  },
  {
   "cell_type": "markdown",
   "id": "be4884df-e5a2-49c7-b963-fcb1c2e854f2",
   "metadata": {},
   "source": [
    "## Opérateurs de comparaison\n",
    "\n",
    "| Opérateur | Signification |\n",
    "| --- | --- |\n",
    "| == | Egal à  |\n",
    "| != | Non égal à  |\n",
    "| < | Strictement inférieur à  |\n",
    "| > | Strictement supérieur à  |\n",
    "| <= | Inférieur ou égal à  |\n",
    "| >= | Supérieur ou égal à  |"
   ]
  },
  {
   "cell_type": "code",
   "execution_count": 35,
   "id": "c1829778-e4ed-40e5-8998-a6fab2483006",
   "metadata": {},
   "outputs": [
    {
     "data": {
      "text/plain": [
       "True"
      ]
     },
     "execution_count": 35,
     "metadata": {},
     "output_type": "execute_result"
    }
   ],
   "source": [
    "8 > 5"
   ]
  },
  {
   "cell_type": "code",
   "execution_count": 36,
   "id": "c1b467cf-24d2-4e03-abe0-b12c82268b40",
   "metadata": {},
   "outputs": [
    {
     "data": {
      "text/plain": [
       "True"
      ]
     },
     "execution_count": 36,
     "metadata": {},
     "output_type": "execute_result"
    }
   ],
   "source": [
    "1+1 == 2"
   ]
  },
  {
   "cell_type": "code",
   "execution_count": 37,
   "id": "37270faa-6f02-4107-a91c-4a2b62ba45cf",
   "metadata": {},
   "outputs": [
    {
     "data": {
      "text/plain": [
       "True"
      ]
     },
     "execution_count": 37,
     "metadata": {},
     "output_type": "execute_result"
    }
   ],
   "source": [
    "[1, 2, 3] == [1, 2, 3]"
   ]
  },
  {
   "cell_type": "code",
   "execution_count": 38,
   "id": "2c4feabe-8ac0-4b4a-adca-ead7e3c4fd4b",
   "metadata": {},
   "outputs": [
    {
     "data": {
      "text/plain": [
       "True"
      ]
     },
     "execution_count": 38,
     "metadata": {},
     "output_type": "execute_result"
    }
   ],
   "source": [
    "\"girafe\" != \"gnou\""
   ]
  },
  {
   "cell_type": "code",
   "execution_count": 41,
   "id": "e9151970-506b-494d-a997-104e7275d4b4",
   "metadata": {},
   "outputs": [
    {
     "data": {
      "text/plain": [
       "True"
      ]
     },
     "execution_count": 41,
     "metadata": {},
     "output_type": "execute_result"
    }
   ],
   "source": [
    "# Enchainement d'opérateurs\n",
    "1 < 2 == 2 >= 1 != 2"
   ]
  },
  {
   "cell_type": "markdown",
   "id": "b919832b-8b66-4fa7-a345-65bfa2a07f46",
   "metadata": {},
   "source": [
    "## Opérateurs and, or, not\n"
   ]
  },
  {
   "cell_type": "code",
   "execution_count": 43,
   "id": "19331573-a290-44c5-ad16-11e0d7f6869d",
   "metadata": {},
   "outputs": [
    {
     "data": {
      "text/plain": [
       "False"
      ]
     },
     "execution_count": 43,
     "metadata": {},
     "output_type": "execute_result"
    }
   ],
   "source": [
    "a = True\n",
    "b = False\n",
    "\n",
    "a and b"
   ]
  },
  {
   "cell_type": "code",
   "execution_count": 44,
   "id": "ff200c87-9758-4a66-943c-04880efa01ad",
   "metadata": {},
   "outputs": [
    {
     "data": {
      "text/plain": [
       "True"
      ]
     },
     "execution_count": 44,
     "metadata": {},
     "output_type": "execute_result"
    }
   ],
   "source": [
    "a or b"
   ]
  },
  {
   "cell_type": "code",
   "execution_count": 45,
   "id": "01c4349b-ecf9-4038-899f-f3cc19fb657b",
   "metadata": {},
   "outputs": [
    {
     "data": {
      "text/plain": [
       "False"
      ]
     },
     "execution_count": 45,
     "metadata": {},
     "output_type": "execute_result"
    }
   ],
   "source": [
    "not a"
   ]
  },
  {
   "cell_type": "code",
   "execution_count": 46,
   "id": "9ba81580-98af-43ac-b713-12e0a0f22b08",
   "metadata": {},
   "outputs": [
    {
     "data": {
      "text/plain": [
       "True"
      ]
     },
     "execution_count": 46,
     "metadata": {},
     "output_type": "execute_result"
    }
   ],
   "source": [
    "(a or b) and (a and not b)"
   ]
  },
  {
   "cell_type": "markdown",
   "id": "b62361be",
   "metadata": {},
   "source": [
    "---\n",
    "\n",
    "# Exercices\n",
    "\n",
    "## Exercice 1\n",
    "\n",
    "Calculer la somme des longueurs des trois chaînes de caractères suivantes : \n",
    "- \"une première chaîne\"\n",
    "- \"et une deuxième\"\n",
    "- \"jamais deux sans trois\"\n",
    "\n"
   ]
  },
  {
   "cell_type": "code",
   "execution_count": null,
   "id": "efd71469",
   "metadata": {
    "lines_to_next_cell": 2
   },
   "outputs": [],
   "source": [
    "# Tapez votre réponse dans cette cellule\n"
   ]
  },
  {
   "cell_type": "markdown",
   "id": "997fb146",
   "metadata": {},
   "source": [
    "## Exercice 2\n",
    "\n",
    "Quel est le type adapté pour définir un code postal ?\n",
    "\n",
    "Essayer de définir les codes postaux suivants au format `int` et au format `string` :\n",
    "- 92120\n",
    "- 02350\n",
    "\n",
    "Que concluez-vous ?\n"
   ]
  },
  {
   "cell_type": "code",
   "execution_count": null,
   "id": "ee49d2d0",
   "metadata": {
    "lines_to_next_cell": 2
   },
   "outputs": [],
   "source": [
    "# Tapez votre réponse dans cette cellule\n"
   ]
  },
  {
   "cell_type": "markdown",
   "id": "ddf5e507",
   "metadata": {},
   "source": [
    "## Exercice 3\n",
    "\n",
    "Compter le nombre de fois où la lettre e est présente dans la chaîne suivante :\n",
    "`Je compte le nombre de e dans cette chaîne de caractères`"
   ]
  },
  {
   "cell_type": "code",
   "execution_count": null,
   "id": "25c0946b",
   "metadata": {
    "lines_to_next_cell": 2
   },
   "outputs": [],
   "source": [
    "# Tapez votre réponse dans cette cellule\n"
   ]
  },
  {
   "cell_type": "markdown",
   "id": "e51b3d24",
   "metadata": {},
   "source": [
    "## Exercice 4\n",
    "\n",
    "Repérer la première position où la lettre e est présente dans la chaîne suivante : \"Je fais un comptage des e.\"\n",
    "\n",
    "**Indice** : on peut utiliser la méthode *built-in* [find](https://docs.python.org/fr/3/library/stdtypes.html#str.find).\n"
   ]
  },
  {
   "cell_type": "code",
   "execution_count": null,
   "id": "3a40f428",
   "metadata": {
    "lines_to_next_cell": 2
   },
   "outputs": [],
   "source": [
    "# Tapez votre réponse dans cette cellule\n"
   ]
  },
  {
   "cell_type": "markdown",
   "id": "f21fdce8",
   "metadata": {},
   "source": [
    "## Exercice 5\n",
    "\n",
    "Supprimer les espaces superflus au début et à la fin de la chaîne suivante :\n",
    "\n",
    "**Indice** : on peut utiliser la méthode *built-in* [strip](https://docs.python.org/fr/3/library/stdtypes.html#str.strip)."
   ]
  },
  {
   "cell_type": "code",
   "execution_count": null,
   "id": "b0d95b47",
   "metadata": {
    "lines_to_next_cell": 2
   },
   "outputs": [],
   "source": [
    "# Tapez votre réponse dans cette cellule\n",
    "a = \"    Un string très mal formatté.         \""
   ]
  },
  {
   "cell_type": "markdown",
   "id": "a4c7ce8c",
   "metadata": {},
   "source": [
    "## Exercice 6\n",
    "\n",
    "Réaliser la suite d'opérations suivantes à l'aide des opérateurs d'incrémentation, et imprimer la valeur finale :\n",
    "- initialiser une variable à 1\n",
    "- lui soustraire 5\n",
    "- la multiplier par 4\n",
    "- lui ajouter 22\n"
   ]
  },
  {
   "cell_type": "code",
   "execution_count": null,
   "id": "05f37d05",
   "metadata": {
    "lines_to_next_cell": 2
   },
   "outputs": [],
   "source": [
    "# Tapez votre réponse dans cette cellule\n"
   ]
  },
  {
   "cell_type": "markdown",
   "id": "cc101934",
   "metadata": {},
   "source": [
    "## Exercice 7\n",
    "\n",
    "Considérons les deux séquences suivantes :\n",
    "- \"nous sommes en\"\n",
    "- \"2022\"\n",
    "\n",
    "Trouvez à partir du tutoriel deux manières différentes de les utiliser pour composer la séquence \"nous sommes en 2022\"."
   ]
  },
  {
   "cell_type": "code",
   "execution_count": 8,
   "id": "cbbe3960",
   "metadata": {},
   "outputs": [],
   "source": [
    "# Tapez votre réponse dans cette cellule\n"
   ]
  }
 ],
 "metadata": {
  "jupytext": {
   "cell_metadata_filter": "-all",
   "main_language": "python",
   "notebook_metadata_filter": "-all"
  },
  "kernelspec": {
   "display_name": "Python 3",
   "language": "python",
   "name": "python3"
  },
  "language_info": {
   "codemirror_mode": {
    "name": "ipython",
    "version": 3
   },
   "file_extension": ".py",
   "mimetype": "text/x-python",
   "name": "python",
   "nbconvert_exporter": "python",
   "pygments_lexer": "ipython3",
   "version": "3.7.10"
  }
 },
 "nbformat": 4,
 "nbformat_minor": 5
}
