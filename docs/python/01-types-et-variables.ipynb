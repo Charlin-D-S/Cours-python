{
  "cells": [
    {
      "cell_type": "markdown",
      "metadata": {},
      "source": [
        "# Types et variables\n",
        "\n",
        "Ludovic Deneuville\n",
        "\n",
        "## Avant de commencer\n",
        "\n",
        "-   Téléchargez ce\n",
        "    <a href=\"01-types-et-variables.ipynb\" target=\"_blank\">notebook\n",
        "    Jupyter</a>\n",
        "-   Connectez-vous au\n",
        "    <a href=\"https://jupyther.ensai.fr/\" target=\"_blank\">Jupyter</a>\n",
        "    ENSAI avec id et mot de passe\n",
        "    -   ou une autre plate-forme (SSPCloud, Jupyter Lab, Google Colab,\n",
        "        Kaggle…)\n",
        "-   Importez le fichier .ipynb\n",
        "\n",
        "## Introduction\n",
        "\n",
        "Dans ce notebook, nous allons découvrir les types de base en python :\n",
        "\n",
        "-   numériques\n",
        "    -   **int** : entiers\n",
        "    -   **float** : décimaux\n",
        "-   chaines de caractères : **str**\n",
        "-   booléens : **bool**\n",
        "\n",
        "## 1 Affectation de variables"
      ],
      "id": "6a6ff0ce-fff3-4434-9be7-a731ee8773e8"
    },
    {
      "cell_type": "code",
      "execution_count": 1,
      "metadata": {
        "vscode": {
          "languageId": "python"
        }
      },
      "outputs": [],
      "source": [
        "# Créer la variable a et lui affecter la valeur 8\n",
        "a = 8\n",
        "\n",
        "# Créer la variable b et lui affecter la chaîne de caractère \"texte\"\n",
        "b = \"texte\"\n",
        "\n",
        "# Créer la variable c et lui affecter le booléen True\n",
        "c = True"
      ],
      "id": "9f4f3936"
    },
    {
      "cell_type": "code",
      "execution_count": 2,
      "metadata": {
        "vscode": {
          "languageId": "python"
        }
      },
      "outputs": [],
      "source": [
        "# Afficher le contenu de a\n",
        "a"
      ],
      "id": "c9e5f54d"
    },
    {
      "cell_type": "markdown",
      "metadata": {},
      "source": [
        "Remarque : Un notebook n’affiche que la dernière valeur qui lui est\n",
        "demandé.  \n",
        "Pour réaliser plusieurs affichage, il faut utiliser la méthode **print**"
      ],
      "id": "7fa80cf8-d65c-4899-a97a-38434bd320c8"
    },
    {
      "cell_type": "code",
      "execution_count": 3,
      "metadata": {
        "vscode": {
          "languageId": "python"
        }
      },
      "outputs": [],
      "source": [
        "print(a+1)\n",
        "print(b)\n",
        "print(c)"
      ],
      "id": "890fe8aa"
    },
    {
      "cell_type": "markdown",
      "metadata": {},
      "source": [
        "Python est **langage typé dynamiquement**.  \n",
        "Cela siginifie qu’il est possible de modifier le type d’une variable\n",
        "sans contrainte.  \n",
        "Si la variable **a** contient du texte, il est possible de lui affecter\n",
        "ensuite un entier."
      ],
      "id": "28cd1ea7-5414-46f8-808f-8231317542ae"
    },
    {
      "cell_type": "code",
      "execution_count": 4,
      "metadata": {
        "vscode": {
          "languageId": "python"
        }
      },
      "outputs": [],
      "source": [
        "print(a)\n",
        "a = \"abcd\"\n",
        "print(a)\n",
        "a = False\n",
        "print(a)"
      ],
      "id": "61c9ca9b"
    },
    {
      "cell_type": "markdown",
      "metadata": {},
      "source": [
        "**Astuce** : Pour afficher toutes les variables créées et leurs valeurs,\n",
        "vous pouvez utiliser la commande `%whos`"
      ],
      "id": "3bd90911-f964-4e5f-8d2b-99acbf349d89"
    },
    {
      "cell_type": "code",
      "execution_count": 5,
      "metadata": {
        "vscode": {
          "languageId": "python"
        }
      },
      "outputs": [],
      "source": [
        "%whos"
      ],
      "id": "5702d97f"
    },
    {
      "cell_type": "markdown",
      "metadata": {},
      "source": [
        "------------------------------------------------------------------------\n",
        "\n",
        "## 2 Nombres\n",
        "\n",
        "La fonction `type` permet de connaitre le type"
      ],
      "id": "56953dfb-3e96-4f50-ba41-d7190dad3d22"
    },
    {
      "cell_type": "code",
      "execution_count": 6,
      "metadata": {
        "vscode": {
          "languageId": "python"
        }
      },
      "outputs": [],
      "source": [
        "a = 8\n",
        "type(a)"
      ],
      "id": "aed26614"
    },
    {
      "cell_type": "code",
      "execution_count": 7,
      "metadata": {
        "vscode": {
          "languageId": "python"
        }
      },
      "outputs": [],
      "source": [
        "b = 33.5\n",
        "type(b)"
      ],
      "id": "25b26d47"
    },
    {
      "cell_type": "code",
      "execution_count": 8,
      "metadata": {
        "vscode": {
          "languageId": "python"
        }
      },
      "outputs": [],
      "source": [
        "float('inf')"
      ],
      "id": "6c55439a"
    },
    {
      "cell_type": "markdown",
      "metadata": {},
      "source": [
        "### 2.1 Convertions\n",
        "\n",
        "Les fonctions `float` et `int` peuvent être utilisées pour passer d’un\n",
        "type à l’autre."
      ],
      "id": "1bfd6800-fb1c-4715-ba82-027c13677002"
    },
    {
      "cell_type": "code",
      "execution_count": 9,
      "metadata": {
        "vscode": {
          "languageId": "python"
        }
      },
      "outputs": [],
      "source": [
        "# Conversion en float\n",
        "float(a)"
      ],
      "id": "a64a6158"
    },
    {
      "cell_type": "code",
      "execution_count": 10,
      "metadata": {
        "vscode": {
          "languageId": "python"
        }
      },
      "outputs": [],
      "source": [
        "# Conversion en int (partie entière)\n",
        "int(b)"
      ],
      "id": "96620915"
    },
    {
      "cell_type": "code",
      "execution_count": 11,
      "metadata": {
        "vscode": {
          "languageId": "python"
        }
      },
      "outputs": [],
      "source": [
        "# Notation scientifique\n",
        "2.1e3"
      ],
      "id": "4cc68bb4"
    },
    {
      "cell_type": "markdown",
      "metadata": {},
      "source": [
        "### 2.2 Opérations arithmétiques de base"
      ],
      "id": "15692de9-b2e2-47bd-8627-e919470d793f"
    },
    {
      "cell_type": "code",
      "execution_count": 12,
      "metadata": {
        "vscode": {
          "languageId": "python"
        }
      },
      "outputs": [],
      "source": [
        "# Addition\n",
        "1 + 1"
      ],
      "id": "80d2c09d"
    },
    {
      "cell_type": "code",
      "execution_count": 13,
      "metadata": {
        "vscode": {
          "languageId": "python"
        }
      },
      "outputs": [],
      "source": [
        "# Soustraction\n",
        "6 - 2"
      ],
      "id": "64a559fb"
    },
    {
      "cell_type": "code",
      "execution_count": 14,
      "metadata": {
        "vscode": {
          "languageId": "python"
        }
      },
      "outputs": [],
      "source": [
        "# Multiplication\n",
        "3 * 4"
      ],
      "id": "b0c486fe"
    },
    {
      "cell_type": "code",
      "execution_count": 15,
      "metadata": {
        "vscode": {
          "languageId": "python"
        }
      },
      "outputs": [],
      "source": [
        "# Division\n",
        "11 / 5"
      ],
      "id": "91a4d67a"
    },
    {
      "cell_type": "code",
      "execution_count": 16,
      "metadata": {
        "vscode": {
          "languageId": "python"
        }
      },
      "outputs": [],
      "source": [
        "# Division euclidienne : quotient\n",
        "11 // 5"
      ],
      "id": "f727d34b"
    },
    {
      "cell_type": "code",
      "execution_count": 17,
      "metadata": {
        "vscode": {
          "languageId": "python"
        }
      },
      "outputs": [],
      "source": [
        "# Division euclidienne : reste (modulo)\n",
        "11 % 5"
      ],
      "id": "a867ed94"
    },
    {
      "cell_type": "code",
      "execution_count": 18,
      "metadata": {
        "vscode": {
          "languageId": "python"
        }
      },
      "outputs": [],
      "source": [
        "# Puissance\n",
        "2 ** 10"
      ],
      "id": "b5a480be"
    },
    {
      "cell_type": "code",
      "execution_count": 19,
      "metadata": {
        "vscode": {
          "languageId": "python"
        }
      },
      "outputs": [],
      "source": [
        "# Racine carrée\n",
        "36 ** 0.5"
      ],
      "id": "c1a59c03"
    },
    {
      "cell_type": "markdown",
      "metadata": {},
      "source": [
        "------------------------------------------------------------------------\n",
        "\n",
        "## 3 Chaînes de charactères\n",
        "\n",
        "Les chaînes de caractères (strings) sont utilisées pour stocker de\n",
        "l’information textuelle.\n",
        "\n",
        "Un *string* se définit en mettant l’information entre apostrophes `'` ou\n",
        "entre guillemets `\"`.\n",
        "\n",
        "### 3.1 Définition"
      ],
      "id": "9251de9c-21c5-4012-a718-59143cc8444d"
    },
    {
      "cell_type": "code",
      "execution_count": 20,
      "metadata": {
        "vscode": {
          "languageId": "python"
        }
      },
      "outputs": [],
      "source": [
        "a = 'une chaine de caractères définie avec des apostrophes'\n",
        "a"
      ],
      "id": "1c21ba5a"
    },
    {
      "cell_type": "code",
      "execution_count": 21,
      "metadata": {
        "vscode": {
          "languageId": "python"
        }
      },
      "outputs": [],
      "source": [
        "b = \"une chaine de caractères définie avec des guillemets\"\n",
        "b"
      ],
      "id": "2ed285be"
    },
    {
      "cell_type": "code",
      "execution_count": 22,
      "metadata": {
        "vscode": {
          "languageId": "python"
        }
      },
      "outputs": [],
      "source": [
        "# Pour inclure une apostrophe à l'intérieur de la chaine\n",
        "\"j'inclus l'apostrophe\""
      ],
      "id": "d5367e1a"
    },
    {
      "cell_type": "code",
      "execution_count": 23,
      "metadata": {
        "vscode": {
          "languageId": "python"
        }
      },
      "outputs": [],
      "source": [
        "# Pour inclure des guillemets à l'intérieur de la chaine\n",
        "'les \"guillemets\" sont là'"
      ],
      "id": "6ceccdb0"
    },
    {
      "cell_type": "markdown",
      "metadata": {},
      "source": [
        "### 3.2 Métodes utiles\n",
        "\n",
        "Voici un aperçu de quelques méthodes utiles. De nombreuses autres\n",
        "existent (voir [documentation\n",
        "officielle](https://docs.python.org/3/library/stdtypes.html#string-methods))"
      ],
      "id": "f33691bf-bde6-4748-bba8-f6f8dd9cc389"
    },
    {
      "cell_type": "code",
      "execution_count": 24,
      "metadata": {
        "vscode": {
          "languageId": "python"
        }
      },
      "outputs": [],
      "source": [
        "# Longueur d'une chaîne (nombre de caractères)\n",
        "len(\"J'ai 18 caractères\")"
      ],
      "id": "43bbc8d6"
    },
    {
      "cell_type": "code",
      "execution_count": 25,
      "metadata": {
        "vscode": {
          "languageId": "python"
        }
      },
      "outputs": [],
      "source": [
        "# Concaténation\n",
        "\"I am\" + \"your father\"\n",
        "\" \".join(\"I am\", \"your father\")"
      ],
      "id": "30830422"
    },
    {
      "cell_type": "code",
      "execution_count": 26,
      "metadata": {
        "vscode": {
          "languageId": "python"
        }
      },
      "outputs": [],
      "source": [
        "# Concaténation avec un nombre\n",
        "annee = 2\n",
        "\"je suis en \" + annee + \"ème année\""
      ],
      "id": "2ec7fb7c"
    },
    {
      "cell_type": "markdown",
      "metadata": {},
      "source": [
        "Problème, il faut au préalable convertir le nombre en chaîne de\n",
        "caractères.  \n",
        "La méthode **str** fait le travail."
      ],
      "id": "b29e08d6-ba4f-4df8-acc6-ca7e61ea6f9c"
    },
    {
      "cell_type": "code",
      "execution_count": 27,
      "metadata": {
        "vscode": {
          "languageId": "python"
        }
      },
      "outputs": [],
      "source": [
        "# Concaténation avec un nombre - après convertion du nombre en string\n",
        "annee = 2\n",
        "\"je suis en \" + str(annee) + \"ème année\""
      ],
      "id": "0a24bfb6"
    },
    {
      "cell_type": "code",
      "execution_count": 28,
      "metadata": {
        "vscode": {
          "languageId": "python"
        }
      },
      "outputs": [],
      "source": [
        "# Répétition\n",
        "\"hop \" * 5"
      ],
      "id": "323bd16f"
    },
    {
      "cell_type": "code",
      "execution_count": 29,
      "metadata": {
        "vscode": {
          "languageId": "python"
        }
      },
      "outputs": [],
      "source": [
        "# Mettre en majuscules\n",
        "\"C'est OK\".upper()"
      ],
      "id": "d855cc72"
    },
    {
      "cell_type": "code",
      "execution_count": 30,
      "metadata": {
        "vscode": {
          "languageId": "python"
        }
      },
      "outputs": [],
      "source": [
        "# Mettre en minuscules\n",
        "\"C'est OK\".lower()"
      ],
      "id": "a1b19464"
    },
    {
      "cell_type": "code",
      "execution_count": 31,
      "metadata": {
        "vscode": {
          "languageId": "python"
        }
      },
      "outputs": [],
      "source": [
        "# Compter le nombre d'occurences\n",
        "\"Mangez cinq fruits et légumes par jour\".count(\"a\")"
      ],
      "id": "db765704"
    },
    {
      "cell_type": "code",
      "execution_count": 32,
      "metadata": {
        "vscode": {
          "languageId": "python"
        }
      },
      "outputs": [],
      "source": [
        "# Créer une liste de mots\n",
        "\"Mangez cinq fruits et légumes par jour\".split()"
      ],
      "id": "14c1d1c2"
    },
    {
      "cell_type": "code",
      "execution_count": 33,
      "metadata": {
        "vscode": {
          "languageId": "python"
        }
      },
      "outputs": [],
      "source": [
        "# Séparer les mots selon un caractère spécifique\n",
        "\"un-deux-trois-soleil\".split(\"-\")"
      ],
      "id": "5911d412"
    },
    {
      "cell_type": "code",
      "execution_count": 34,
      "metadata": {
        "vscode": {
          "languageId": "python"
        }
      },
      "outputs": [],
      "source": [
        "# Utiliser les strings comme templates\n",
        "\"mon numéro est : {}\".format(\"06 12 34 56 78\")"
      ],
      "id": "b66d7460"
    },
    {
      "cell_type": "code",
      "execution_count": 35,
      "metadata": {
        "vscode": {
          "languageId": "python"
        }
      },
      "outputs": [],
      "source": [
        "# Commence par ?\n",
        "\"vélo\".startswith(\"vé\")"
      ],
      "id": "49ab51d0"
    },
    {
      "cell_type": "code",
      "execution_count": 36,
      "metadata": {
        "vscode": {
          "languageId": "python"
        }
      },
      "outputs": [],
      "source": [
        "# Se termine par ?\n",
        "\"vélo\".endswith(\"lo\")"
      ],
      "id": "44aa48eb"
    },
    {
      "cell_type": "markdown",
      "metadata": {},
      "source": [
        "### 3.3 Extraire des sous-chaînes\n",
        "\n",
        "Une chaîne de caractères est considérée en Python comme une liste de\n",
        "caractères.  \n",
        "Il est donc possible d’extraire différents éléments de cette liste"
      ],
      "id": "719fd6dd-ce33-4bbf-b8da-a906a81e235b"
    },
    {
      "cell_type": "code",
      "execution_count": 37,
      "metadata": {
        "vscode": {
          "languageId": "python"
        }
      },
      "outputs": [],
      "source": [
        "# Premier élémént\n",
        "\"c'est de toute beauté\"[0]"
      ],
      "id": "bbe117fc"
    },
    {
      "cell_type": "code",
      "execution_count": 38,
      "metadata": {
        "vscode": {
          "languageId": "python"
        }
      },
      "outputs": [],
      "source": [
        "# Deuxième élémént\n",
        "\"c'est de toute beauté\"[1]"
      ],
      "id": "020e9aa7"
    },
    {
      "cell_type": "code",
      "execution_count": 39,
      "metadata": {
        "vscode": {
          "languageId": "python"
        }
      },
      "outputs": [],
      "source": [
        "# Dernier élémént\n",
        "\"c'est de toute beauté\"[-1]"
      ],
      "id": "6fa29daa"
    },
    {
      "cell_type": "code",
      "execution_count": 40,
      "metadata": {
        "vscode": {
          "languageId": "python"
        }
      },
      "outputs": [],
      "source": [
        "# À partir d'un certain caractère\n",
        "\"c'est de toute beauté\"[6:]"
      ],
      "id": "c549b225"
    },
    {
      "cell_type": "code",
      "execution_count": 41,
      "metadata": {
        "vscode": {
          "languageId": "python"
        }
      },
      "outputs": [],
      "source": [
        "# Jusqu'à un certain caractère\n",
        "\"c'est de toute beauté\"[:8]"
      ],
      "id": "563c6882"
    },
    {
      "cell_type": "code",
      "execution_count": 42,
      "metadata": {
        "vscode": {
          "languageId": "python"
        }
      },
      "outputs": [],
      "source": [
        "# Extraire une sous-chaîne\n",
        "\"c'est de toute beauté\"[9:14]"
      ],
      "id": "4e0f0002"
    },
    {
      "cell_type": "code",
      "execution_count": 43,
      "metadata": {
        "vscode": {
          "languageId": "python"
        }
      },
      "outputs": [],
      "source": [
        "# Extraire tous les 2 caractères, à partir de la 4 ème position\n",
        "\"c'est de toute beauté\"[4::2]"
      ],
      "id": "c2927b5d"
    },
    {
      "cell_type": "code",
      "execution_count": 44,
      "metadata": {
        "vscode": {
          "languageId": "python"
        }
      },
      "outputs": [],
      "source": [
        "# Inverser une chaîne\n",
        "\"c'est de toute beauté\"[::-1]"
      ],
      "id": "ac07de59"
    },
    {
      "cell_type": "markdown",
      "metadata": {},
      "source": [
        "#### Caractères spéciaux\n",
        "\n",
        "Pour insérer des caractères spéciaux au sein d’une chaîne de caractère,\n",
        "il faut utiliser le caractère d’échappement `\\`.\n",
        "\n",
        "| Caractère | Description             |\n",
        "|-----------|-------------------------|\n",
        "| \\\\        | Caractère d’échappement |\n",
        "| \\\\        | Apostrophe              |\n",
        "| \\\\        | Guillemets doubles      |\n",
        "| \\n        | Retour à la ligne       |\n",
        "| \\t        | Tabulation horizontale  |\n",
        "| \\r        | Retour chariot          |"
      ],
      "id": "4072f39d-3530-4651-9eb8-81abdd3405c6"
    },
    {
      "cell_type": "code",
      "execution_count": 45,
      "metadata": {
        "vscode": {
          "languageId": "python"
        }
      },
      "outputs": [],
      "source": [
        "c = \"une chaîne\\nsur 2 lignes\"\n",
        "print(c)"
      ],
      "id": "e97bbc90"
    },
    {
      "cell_type": "code",
      "execution_count": 46,
      "metadata": {
        "vscode": {
          "languageId": "python"
        }
      },
      "outputs": [],
      "source": [
        "# Définir une chaîne de caractères sur plusieurs lignes\n",
        "d = \"\"\"une autre \\\"possibilité\\\" pour\n",
        "avoir une chaîne sur 2 lignes\"\"\"\n",
        "print(d)"
      ],
      "id": "224a10d0"
    },
    {
      "cell_type": "markdown",
      "metadata": {},
      "source": [
        "------------------------------------------------------------------------\n",
        "\n",
        "## 4 Boléens\n",
        "\n",
        "Les Booléens ne peuvent prendre que deux valeurs : `True` et `False`  \n",
        "Attention à bien respecter la notation avec la première lettre en\n",
        "majuscule et les autres en minuscule."
      ],
      "id": "f4d8588c-5697-4e14-80f8-df49776b8590"
    },
    {
      "cell_type": "code",
      "execution_count": 47,
      "metadata": {
        "vscode": {
          "languageId": "python"
        }
      },
      "outputs": [],
      "source": [
        "type(True)"
      ],
      "id": "73159a2d"
    },
    {
      "cell_type": "markdown",
      "metadata": {},
      "source": [
        "### 4.1 Opérateurs de comparaison\n",
        "\n",
        "| Opérateur | Signification           |\n",
        "|-----------|-------------------------|\n",
        "| ==        | Egal à                  |\n",
        "| !=        | Non égal à              |\n",
        "| \\<        | Strictement inférieur à |\n",
        "| \\>        | Strictement supérieur à |\n",
        "| \\<=       | Inférieur ou égal à     |\n",
        "| \\>=       | Supérieur ou égal à     |"
      ],
      "id": "92e90f5c-f3b6-48b6-a86e-22e3be918243"
    },
    {
      "cell_type": "code",
      "execution_count": 48,
      "metadata": {
        "vscode": {
          "languageId": "python"
        }
      },
      "outputs": [],
      "source": [
        "8 > 5"
      ],
      "id": "47833f24"
    },
    {
      "cell_type": "code",
      "execution_count": 49,
      "metadata": {
        "vscode": {
          "languageId": "python"
        }
      },
      "outputs": [],
      "source": [
        "1+1 == 2"
      ],
      "id": "3f18e4c4"
    },
    {
      "cell_type": "code",
      "execution_count": 50,
      "metadata": {
        "vscode": {
          "languageId": "python"
        }
      },
      "outputs": [],
      "source": [
        "[1, 2, 3] == [1, 2, 3]"
      ],
      "id": "4b9f8a6d"
    },
    {
      "cell_type": "code",
      "execution_count": 51,
      "metadata": {
        "vscode": {
          "languageId": "python"
        }
      },
      "outputs": [],
      "source": [
        "\"girafe\" != \"gnou\""
      ],
      "id": "f29da7a9"
    },
    {
      "cell_type": "code",
      "execution_count": 52,
      "metadata": {
        "vscode": {
          "languageId": "python"
        }
      },
      "outputs": [],
      "source": [
        "# Enchainement d'opérateurs\n",
        "1 < 2 == 2 >= 1 != 2"
      ],
      "id": "c126fd4c"
    },
    {
      "cell_type": "markdown",
      "metadata": {},
      "source": [
        "### 4.2 Opérateurs and, or, not"
      ],
      "id": "37176e83-0ba6-457e-94d5-b62dcf901583"
    },
    {
      "cell_type": "code",
      "execution_count": 53,
      "metadata": {
        "vscode": {
          "languageId": "python"
        }
      },
      "outputs": [],
      "source": [
        "a = True\n",
        "b = False\n",
        "\n",
        "a and b"
      ],
      "id": "d1637634"
    },
    {
      "cell_type": "code",
      "execution_count": 54,
      "metadata": {
        "vscode": {
          "languageId": "python"
        }
      },
      "outputs": [],
      "source": [
        "a or b"
      ],
      "id": "fbb81149"
    },
    {
      "cell_type": "code",
      "execution_count": 55,
      "metadata": {
        "vscode": {
          "languageId": "python"
        }
      },
      "outputs": [],
      "source": [
        "not a"
      ],
      "id": "6ece8b36"
    },
    {
      "cell_type": "code",
      "execution_count": 56,
      "metadata": {
        "vscode": {
          "languageId": "python"
        }
      },
      "outputs": [],
      "source": [
        "(a or b) and (a and not b)"
      ],
      "id": "42ea3daf"
    },
    {
      "cell_type": "markdown",
      "metadata": {},
      "source": [
        "------------------------------------------------------------------------\n",
        "\n",
        "## 5 Exercices\n",
        "\n",
        "### 5.1 Exercice 1\n",
        "\n",
        "Calculer la somme des longueurs des trois chaînes de caractères\n",
        "suivantes :\n",
        "\n",
        "-   “une première chaîne”\n",
        "-   “et une deuxième”\n",
        "-   “jamais deux sans trois”"
      ],
      "id": "29c15563-8c01-40e8-a036-ca63408188d8"
    },
    {
      "cell_type": "code",
      "execution_count": 57,
      "metadata": {
        "vscode": {
          "languageId": "python"
        }
      },
      "outputs": [],
      "source": [
        "# Tapez votre réponse dans cette cellule"
      ],
      "id": "88c1cff6"
    },
    {
      "cell_type": "markdown",
      "metadata": {},
      "source": [
        "### 5.2 Exercice 2\n",
        "\n",
        "Quel est le type adapté pour définir un code postal ?\n",
        "\n",
        "Essayer de définir les codes postaux suivants au format `int` et au\n",
        "format `string` :\n",
        "\n",
        "-   92120\n",
        "-   02350\n",
        "\n",
        "Que concluez-vous ?"
      ],
      "id": "357ea42a-72be-4e49-9b1a-08dae0018043"
    },
    {
      "cell_type": "code",
      "execution_count": 58,
      "metadata": {
        "vscode": {
          "languageId": "python"
        }
      },
      "outputs": [],
      "source": [
        "# Tapez votre réponse dans cette cellule"
      ],
      "id": "13df0b50"
    },
    {
      "cell_type": "markdown",
      "metadata": {},
      "source": [
        "### 5.3 Exercice 3\n",
        "\n",
        "Compter le nombre de fois où la lettre e est présente dans la chaîne\n",
        "suivante : `Je compte le nombre de e dans cette chaîne de caractères`"
      ],
      "id": "f9b9c1bc-3440-4f20-9aaa-dd80d3c984c0"
    },
    {
      "cell_type": "code",
      "execution_count": 59,
      "metadata": {
        "vscode": {
          "languageId": "python"
        }
      },
      "outputs": [],
      "source": [
        "# Tapez votre réponse dans cette cellule"
      ],
      "id": "25cb7ebf"
    },
    {
      "cell_type": "markdown",
      "metadata": {},
      "source": [
        "### 5.4 Exercice 4\n",
        "\n",
        "Repérer la première position où la lettre e est présente dans la chaîne\n",
        "suivante : “Je fais un comptage des e.”\n",
        "\n",
        "**Indice** : on peut utiliser la méthode *built-in*\n",
        "[find](https://docs.python.org/fr/3/library/stdtypes.html#str.find)."
      ],
      "id": "5512625c-188f-42d6-bbce-7931410efaf2"
    },
    {
      "cell_type": "code",
      "execution_count": 60,
      "metadata": {
        "vscode": {
          "languageId": "python"
        }
      },
      "outputs": [],
      "source": [
        "# Tapez votre réponse dans cette cellule"
      ],
      "id": "c6a0d591"
    },
    {
      "cell_type": "markdown",
      "metadata": {},
      "source": [
        "### 5.5 Exercice 5\n",
        "\n",
        "Supprimer les espaces superflus au début et à la fin de la chaîne\n",
        "suivante :\n",
        "\n",
        "**Indice** : on peut utiliser la méthode *built-in*\n",
        "[strip](https://docs.python.org/fr/3/library/stdtypes.html#str.strip)."
      ],
      "id": "8fcc5866-730e-4af3-a45e-f6835df72b97"
    },
    {
      "cell_type": "code",
      "execution_count": 61,
      "metadata": {
        "vscode": {
          "languageId": "python"
        }
      },
      "outputs": [],
      "source": [
        "# Tapez votre réponse dans cette cellule\n",
        "a = \"    Un string très mal formatté.         \""
      ],
      "id": "9032b41f"
    },
    {
      "cell_type": "markdown",
      "metadata": {},
      "source": [
        "### 5.6 Exercice 6\n",
        "\n",
        "Réaliser la suite d’opérations suivantes à l’aide des opérateurs\n",
        "d’incrémentation, et imprimer la valeur finale :\n",
        "\n",
        "-   initialiser une variable à 1\n",
        "-   lui soustraire 5\n",
        "-   la multiplier par 4\n",
        "-   lui ajouter 22"
      ],
      "id": "588d4f48-4452-44df-9249-05b271abb2ac"
    },
    {
      "cell_type": "code",
      "execution_count": 62,
      "metadata": {
        "vscode": {
          "languageId": "python"
        }
      },
      "outputs": [],
      "source": [
        "# Tapez votre réponse dans cette cellule"
      ],
      "id": "a129c1dd"
    },
    {
      "cell_type": "markdown",
      "metadata": {},
      "source": [
        "### 5.7 Exercice 7\n",
        "\n",
        "Considérons les deux séquences suivantes :\n",
        "\n",
        "-   “nous sommes en”\n",
        "-   “2022”\n",
        "\n",
        "Trouvez à partir du tutoriel deux manières différentes de les utiliser\n",
        "pour composer la séquence “nous sommes en 2022”."
      ],
      "id": "33d98a3e-31f5-4d75-a2e5-d5d2daed5c69"
    },
    {
      "cell_type": "code",
      "execution_count": 63,
      "metadata": {
        "vscode": {
          "languageId": "python"
        }
      },
      "outputs": [],
      "source": [
        "# Tapez votre réponse dans cette cellule"
      ],
      "id": "28778bac"
    }
  ],
  "nbformat": 4,
  "nbformat_minor": 5,
  "metadata": {
    "kernelspec": {
      "name": "python3",
      "display_name": "Python 3 (ipykernel)",
      "language": "python",
      "path": "/opt/hostedtoolcache/Python/3.10.14/x64/share/jupyter/kernels/python3"
    },
    "language_info": {
      "name": "python",
      "codemirror_mode": {
        "name": "ipython",
        "version": "3"
      },
      "file_extension": ".py",
      "mimetype": "text/x-python",
      "nbconvert_exporter": "python",
      "pygments_lexer": "ipython3",
      "version": "3.10.14"
    }
  }
}