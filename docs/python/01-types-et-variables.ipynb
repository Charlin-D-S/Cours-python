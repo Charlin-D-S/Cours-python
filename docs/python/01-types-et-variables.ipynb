{
  "cells": [
    {
      "cell_type": "raw",
      "id": "4675e55a",
      "metadata": {},
      "source": [
        "---\n",
        "title: Types et variables\n",
        "description: |\n",
        "  - Téléchargez ce notebook en cliquant sur *Jupyter* (en dessous de la table des matières)\n",
        "  - Importez le fichier .ipynb dans [Jupyter](https://jupyther.ensai.fr/){.external target=\"_blank\"}\n",
        "author: \"Ludovic Deneuville\"\n",
        "format:\n",
        "  html:\n",
        "    toc: true\n",
        "    toc-location: left\n",
        "    toc-expand: 3\n",
        "  ipynb: default\n",
        "from: markdown+emoji\n",
        "---"
      ]
    },
    {
      "cell_type": "markdown",
      "id": "9a81d23e",
      "metadata": {},
      "source": [
        "Pour réaliser ce Notebook, je me suis inspiré de : \n",
        "\n",
        "- la formation [**Initiation à Python**](https://github.com/InseeFrLab/formation-python-initiation) du SSP Cloud INSEE, \n",
        "- cours de Python dispensés à l'ENSAE par [Lino Galiana](https://pythonds.linogaliana.fr/rappels2a/) et [Xavier Dupré](http://www.xavierdupre.fr/app/ensae_teaching_cs/helpsphinx/index.html)\n",
        "- https://python.sdv.univ-paris-diderot.fr/"
      ]
    },
    {
      "cell_type": "raw",
      "id": "6cce78bd",
      "metadata": {},
      "source": [
        "---\n",
        "\n",
        "\n",
        "# \n",
        "\n",
        "Dans ce chapitre, nous allons découvrir les types de base en python :\n",
        "\n",
        "* numériques\n",
        "    * **int** : entiers\n",
        "    * **float** : décimaux\n",
        "* chaines de caractères : **str**\n",
        "* booléens : **bool**\n",
        "\n",
        "---"
      ]
    },
    {
      "cell_type": "markdown",
      "id": "88eadf70",
      "metadata": {},
      "source": [
        "## Affectation de variables\n"
      ]
    },
    {
      "cell_type": "code",
      "execution_count": null,
      "id": "12cacc3c",
      "metadata": {
        "vscode": {
          "languageId": "python"
        }
      },
      "outputs": [],
      "source": [
        "# Créer la variable a et lui affecter la valeur 8\n",
        "a = 8\n",
        "\n",
        "# Créer la variable b et lui affecter la chaîne de caractère \"texte\"\n",
        "b = \"texte\"\n",
        "\n",
        "# Créer la variable c et lui affecter le booléen True\n",
        "c = True"
      ]
    },
    {
      "cell_type": "code",
      "execution_count": null,
      "id": "c970dc75",
      "metadata": {
        "vscode": {
          "languageId": "python"
        }
      },
      "outputs": [],
      "source": [
        "# Afficher le contenu de a\n",
        "a"
      ]
    },
    {
      "cell_type": "markdown",
      "id": "456b6c34",
      "metadata": {},
      "source": [
        "Remarque : Un notebook n'affiche que la dernière valeur qui lui est demandé.  \n",
        "Pour réaliser plusieurs affichage, il faut utiliser la méthode **print**\n"
      ]
    },
    {
      "cell_type": "code",
      "execution_count": null,
      "id": "2651ede3",
      "metadata": {
        "vscode": {
          "languageId": "python"
        }
      },
      "outputs": [],
      "source": [
        "print(a+1)\n",
        "print(b)\n",
        "print(c)"
      ]
    },
    {
      "cell_type": "markdown",
      "id": "e8c64bc4",
      "metadata": {},
      "source": [
        "Python est **langage typé dynamiquement**.  \n",
        "Cela siginifie qu'il est possible de modifier le type d'une variable sans contrainte.  \n",
        "Si la variable **a** contient du texte, il est possible de lui affecter ensuite un entier.\n"
      ]
    },
    {
      "cell_type": "code",
      "execution_count": null,
      "id": "a33e579a",
      "metadata": {
        "vscode": {
          "languageId": "python"
        }
      },
      "outputs": [],
      "source": [
        "print(a)\n",
        "a = \"abcd\"\n",
        "print(a)\n",
        "a = False\n",
        "print(a)"
      ]
    },
    {
      "cell_type": "markdown",
      "id": "4977a8c5",
      "metadata": {},
      "source": [
        "**Astuce** : Pour afficher toutes les variables créées et leurs valeurs, vous pouvez utiliser la commande `%whos`\n"
      ]
    },
    {
      "cell_type": "code",
      "execution_count": null,
      "id": "54466817",
      "metadata": {
        "vscode": {
          "languageId": "python"
        }
      },
      "outputs": [],
      "source": [
        "%whos"
      ]
    },
    {
      "cell_type": "markdown",
      "id": "3548fd9f",
      "metadata": {},
      "source": [
        "---\n",
        "\n",
        "## Nombres\n",
        "\n",
        "La fonction `type` permet de connaitre le type\n"
      ]
    },
    {
      "cell_type": "code",
      "execution_count": null,
      "id": "643545d6",
      "metadata": {
        "lines_to_next_cell": 2,
        "vscode": {
          "languageId": "python"
        }
      },
      "outputs": [],
      "source": [
        "a = 8\n",
        "type(a)"
      ]
    },
    {
      "cell_type": "code",
      "execution_count": null,
      "id": "ebccb758",
      "metadata": {
        "vscode": {
          "languageId": "python"
        }
      },
      "outputs": [],
      "source": [
        "b = 33.5\n",
        "type(b)"
      ]
    },
    {
      "cell_type": "code",
      "execution_count": null,
      "id": "80f45d45",
      "metadata": {
        "vscode": {
          "languageId": "python"
        }
      },
      "outputs": [],
      "source": [
        "float('inf')"
      ]
    },
    {
      "cell_type": "markdown",
      "id": "2c86559f",
      "metadata": {},
      "source": [
        "### Convertions\n",
        "\n",
        "Les fonctions `float` et `int` peuvent être utilisées pour passer d'un type à l'autre.\n"
      ]
    },
    {
      "cell_type": "code",
      "execution_count": null,
      "id": "04f83b0b",
      "metadata": {
        "lines_to_next_cell": 2,
        "vscode": {
          "languageId": "python"
        }
      },
      "outputs": [],
      "source": [
        "# Conversion en float\n",
        "float(a)"
      ]
    },
    {
      "cell_type": "code",
      "execution_count": null,
      "id": "fc7025d9",
      "metadata": {
        "vscode": {
          "languageId": "python"
        }
      },
      "outputs": [],
      "source": [
        "# Conversion en int (partie entière)\n",
        "int(b)"
      ]
    },
    {
      "cell_type": "code",
      "execution_count": null,
      "id": "d47facdc",
      "metadata": {
        "lines_to_next_cell": 2,
        "vscode": {
          "languageId": "python"
        }
      },
      "outputs": [],
      "source": [
        "# Notation scientifique\n",
        "2.1e3"
      ]
    },
    {
      "cell_type": "markdown",
      "id": "ec86a039",
      "metadata": {},
      "source": [
        "### Opérations arithmétiques de base\n"
      ]
    },
    {
      "cell_type": "code",
      "execution_count": null,
      "id": "0a55391d",
      "metadata": {
        "lines_to_next_cell": 2,
        "vscode": {
          "languageId": "python"
        }
      },
      "outputs": [],
      "source": [
        "# Addition\n",
        "1 + 1"
      ]
    },
    {
      "cell_type": "code",
      "execution_count": null,
      "id": "8f78b83c",
      "metadata": {
        "lines_to_next_cell": 2,
        "vscode": {
          "languageId": "python"
        }
      },
      "outputs": [],
      "source": [
        "# Soustraction\n",
        "6 - 2"
      ]
    },
    {
      "cell_type": "code",
      "execution_count": null,
      "id": "3f23a28f",
      "metadata": {
        "lines_to_next_cell": 2,
        "vscode": {
          "languageId": "python"
        }
      },
      "outputs": [],
      "source": [
        "# Multiplication\n",
        "3 * 4"
      ]
    },
    {
      "cell_type": "code",
      "execution_count": null,
      "id": "77fbbe0e",
      "metadata": {
        "lines_to_next_cell": 2,
        "vscode": {
          "languageId": "python"
        }
      },
      "outputs": [],
      "source": [
        "# Division\n",
        "11 / 5"
      ]
    },
    {
      "cell_type": "code",
      "execution_count": null,
      "id": "ba90010a",
      "metadata": {
        "lines_to_next_cell": 2,
        "vscode": {
          "languageId": "python"
        }
      },
      "outputs": [],
      "source": [
        "# Division euclidienne : quotient\n",
        "11 // 5"
      ]
    },
    {
      "cell_type": "code",
      "execution_count": null,
      "id": "2d6f6865",
      "metadata": {
        "lines_to_next_cell": 2,
        "vscode": {
          "languageId": "python"
        }
      },
      "outputs": [],
      "source": [
        "# Division euclidienne : reste (modulo)\n",
        "11 % 5"
      ]
    },
    {
      "cell_type": "code",
      "execution_count": null,
      "id": "df418d8e",
      "metadata": {
        "lines_to_next_cell": 2,
        "vscode": {
          "languageId": "python"
        }
      },
      "outputs": [],
      "source": [
        "# Puissance\n",
        "2 ** 10"
      ]
    },
    {
      "cell_type": "code",
      "execution_count": null,
      "id": "4294a362",
      "metadata": {
        "lines_to_next_cell": 2,
        "vscode": {
          "languageId": "python"
        }
      },
      "outputs": [],
      "source": [
        "# Racine carrée\n",
        "36 ** 0.5"
      ]
    },
    {
      "cell_type": "raw",
      "id": "94b6fcbb",
      "metadata": {},
      "source": [
        "---"
      ]
    },
    {
      "cell_type": "markdown",
      "id": "767891cb",
      "metadata": {},
      "source": [
        "## Chaînes de charactères\n",
        "\n",
        "Les chaînes de caractères (strings) sont utilisées pour stocker de l'information textuelle.\n",
        "\n",
        "Un *string* se définit en mettant l'information entre apostrophes `'` ou entre guillemets `\"`. \n",
        "\n",
        "### Définition\n"
      ]
    },
    {
      "cell_type": "code",
      "execution_count": null,
      "id": "6a3512ad",
      "metadata": {
        "lines_to_next_cell": 2,
        "vscode": {
          "languageId": "python"
        }
      },
      "outputs": [],
      "source": [
        "a = 'une chaine de caractères définie avec des apostrophes'\n",
        "a"
      ]
    },
    {
      "cell_type": "code",
      "execution_count": null,
      "id": "06ed92c3",
      "metadata": {
        "lines_to_next_cell": 2,
        "vscode": {
          "languageId": "python"
        }
      },
      "outputs": [],
      "source": [
        "b = \"une chaine de caractères définie avec des guillemets\"\n",
        "b"
      ]
    },
    {
      "cell_type": "code",
      "execution_count": null,
      "id": "d4bc57f6",
      "metadata": {
        "vscode": {
          "languageId": "python"
        }
      },
      "outputs": [],
      "source": [
        "# Pour inclure une apostrophe à l'intérieur de la chaine\n",
        "\"j'inclus l'apostrophe\""
      ]
    },
    {
      "cell_type": "code",
      "execution_count": null,
      "id": "3193aaae",
      "metadata": {
        "vscode": {
          "languageId": "python"
        }
      },
      "outputs": [],
      "source": [
        "# Pour inclure des guillemets à l'intérieur de la chaine\n",
        "'les \"guillemets\" sont là'"
      ]
    },
    {
      "cell_type": "markdown",
      "id": "69dec04b",
      "metadata": {},
      "source": [
        "### Métodes utiles\n",
        "\n",
        "Voici un aperçu de quelques méthodes utiles. De nombreuses autres existent (voir [documentation officielle](https://docs.python.org/3/library/stdtypes.html#string-methods))\n"
      ]
    },
    {
      "cell_type": "code",
      "execution_count": null,
      "id": "cb19ec37",
      "metadata": {
        "vscode": {
          "languageId": "python"
        }
      },
      "outputs": [],
      "source": [
        "# Longueur d'une chaîne (nombre de caractères)\n",
        "len(\"J'ai 18 caractères\")"
      ]
    },
    {
      "cell_type": "code",
      "execution_count": null,
      "id": "4445b155",
      "metadata": {
        "vscode": {
          "languageId": "python"
        }
      },
      "outputs": [],
      "source": [
        "# Concaténation\n",
        "\"I am\" + \"your father\""
      ]
    },
    {
      "cell_type": "code",
      "execution_count": null,
      "id": "4cb7ec37",
      "metadata": {
        "vscode": {
          "languageId": "python"
        }
      },
      "outputs": [],
      "source": [
        "# Concaténation avec un nombre\n",
        "annee = 2\n",
        "\"je suis en \" + annee + \"ème année\""
      ]
    },
    {
      "cell_type": "markdown",
      "id": "b1d1dad0",
      "metadata": {},
      "source": [
        "Problème, il faut au préalable convertir le nombre en chaîne de caractères.  \n",
        "La méthode **str** fait le travail.\n"
      ]
    },
    {
      "cell_type": "code",
      "execution_count": null,
      "id": "848aed50",
      "metadata": {
        "vscode": {
          "languageId": "python"
        }
      },
      "outputs": [],
      "source": [
        "# Concaténation avec un nombre - après convertion du nombre en string\n",
        "annee = 2\n",
        "\"je suis en \" + str(annee) + \"ème année\""
      ]
    },
    {
      "cell_type": "code",
      "execution_count": null,
      "id": "08c5a5c7",
      "metadata": {
        "vscode": {
          "languageId": "python"
        }
      },
      "outputs": [],
      "source": [
        "# Répétition\n",
        "\"hop \" * 5"
      ]
    },
    {
      "cell_type": "code",
      "execution_count": null,
      "id": "79eab915",
      "metadata": {
        "vscode": {
          "languageId": "python"
        }
      },
      "outputs": [],
      "source": [
        "# Mettre en majuscules\n",
        "\"C'est OK\".upper()"
      ]
    },
    {
      "cell_type": "code",
      "execution_count": null,
      "id": "55b28ce6",
      "metadata": {
        "vscode": {
          "languageId": "python"
        }
      },
      "outputs": [],
      "source": [
        "# Mettre en minuscules\n",
        "\"C'est OK\".lower()"
      ]
    },
    {
      "cell_type": "code",
      "execution_count": null,
      "id": "a7fbbf12",
      "metadata": {
        "vscode": {
          "languageId": "python"
        }
      },
      "outputs": [],
      "source": [
        "# Compter le nombre d'occurences\n",
        "\"Mangez cinq fruits et légumes par jour\".count(\"a\")"
      ]
    },
    {
      "cell_type": "code",
      "execution_count": null,
      "id": "1472ee25",
      "metadata": {
        "vscode": {
          "languageId": "python"
        }
      },
      "outputs": [],
      "source": [
        "# Créer une liste de mots\n",
        "\"Mangez cinq fruits et légumes par jour\".split()"
      ]
    },
    {
      "cell_type": "code",
      "execution_count": null,
      "id": "59b58a24",
      "metadata": {
        "vscode": {
          "languageId": "python"
        }
      },
      "outputs": [],
      "source": [
        "# Séparer les mots selon un caractère spécifique\n",
        "\"un-deux-trois-soleil\".split(\"-\")"
      ]
    },
    {
      "cell_type": "code",
      "execution_count": null,
      "id": "0a6bd372",
      "metadata": {
        "vscode": {
          "languageId": "python"
        }
      },
      "outputs": [],
      "source": [
        "# Utiliser les strings comme templates\n",
        "\"mon numéro est : {}\".format(\"06 12 34 56 78\")"
      ]
    },
    {
      "cell_type": "code",
      "execution_count": null,
      "id": "c1b7a04e",
      "metadata": {
        "vscode": {
          "languageId": "python"
        }
      },
      "outputs": [],
      "source": [
        "# Commence par ?\n",
        "\"vélo\".startswith(\"vé\")"
      ]
    },
    {
      "cell_type": "code",
      "execution_count": null,
      "id": "a5118339",
      "metadata": {
        "vscode": {
          "languageId": "python"
        }
      },
      "outputs": [],
      "source": [
        "# Se termine par ?\n",
        "\"vélo\".endswith(\"lo\")"
      ]
    },
    {
      "cell_type": "markdown",
      "id": "21c097f2",
      "metadata": {},
      "source": [
        "### Extraire des sous-chaînes\n",
        "\n",
        "Une chaîne de caractères est considérée en Python comme une liste de caractères.  \n",
        "Il est donc possible d'extraire différents éléments de cette liste\n"
      ]
    },
    {
      "cell_type": "code",
      "execution_count": null,
      "id": "44e9d0d5",
      "metadata": {
        "lines_to_next_cell": 2,
        "vscode": {
          "languageId": "python"
        }
      },
      "outputs": [],
      "source": [
        "# Premier élémént\n",
        "\"c'est de toute beauté\"[0]"
      ]
    },
    {
      "cell_type": "code",
      "execution_count": null,
      "id": "8966f72a",
      "metadata": {
        "lines_to_next_cell": 2,
        "vscode": {
          "languageId": "python"
        }
      },
      "outputs": [],
      "source": [
        "# Deuxième élémént\n",
        "\"c'est de toute beauté\"[1]"
      ]
    },
    {
      "cell_type": "code",
      "execution_count": null,
      "id": "869df622",
      "metadata": {
        "lines_to_next_cell": 2,
        "vscode": {
          "languageId": "python"
        }
      },
      "outputs": [],
      "source": [
        "# Dernier élémént\n",
        "\"c'est de toute beauté\"[-1]"
      ]
    },
    {
      "cell_type": "code",
      "execution_count": null,
      "id": "ab7f994a",
      "metadata": {
        "lines_to_next_cell": 2,
        "vscode": {
          "languageId": "python"
        }
      },
      "outputs": [],
      "source": [
        "# À partir d'un certain caractère\n",
        "\"c'est de toute beauté\"[6:]"
      ]
    },
    {
      "cell_type": "code",
      "execution_count": null,
      "id": "250cae46",
      "metadata": {
        "lines_to_next_cell": 2,
        "vscode": {
          "languageId": "python"
        }
      },
      "outputs": [],
      "source": [
        "# Jusqu'à un certain caractère\n",
        "\"c'est de toute beauté\"[:8]"
      ]
    },
    {
      "cell_type": "code",
      "execution_count": null,
      "id": "14b5c1ce",
      "metadata": {
        "lines_to_next_cell": 2,
        "vscode": {
          "languageId": "python"
        }
      },
      "outputs": [],
      "source": [
        "# Extraire une sous-chaîne\n",
        "\"c'est de toute beauté\"[9:14]"
      ]
    },
    {
      "cell_type": "code",
      "execution_count": null,
      "id": "d883eb3b",
      "metadata": {
        "lines_to_next_cell": 2,
        "vscode": {
          "languageId": "python"
        }
      },
      "outputs": [],
      "source": [
        "# Extraire tous les 2 caractères, à partir de la 4 ème position\n",
        "\"c'est de toute beauté\"[4::2]"
      ]
    },
    {
      "cell_type": "code",
      "execution_count": null,
      "id": "4edfc921",
      "metadata": {
        "vscode": {
          "languageId": "python"
        }
      },
      "outputs": [],
      "source": [
        "# Inverser une chaîne\n",
        "\"c'est de toute beauté\"[::-1]"
      ]
    },
    {
      "cell_type": "markdown",
      "id": "897a0774",
      "metadata": {},
      "source": [
        "#### Caractères spéciaux\n",
        "\n",
        "Pour insérer des caractères spéciaux au sein d'une chaîne de caractère, il faut utiliser le caractère d'échappement `\\`.\n",
        "\n",
        "| Caractère  | Description                   |\n",
        "|------------|-------------------------------|\n",
        "| \\          | Caractère d'échappement       |\n",
        "| \\\\'        | Apostrophe                    |\n",
        "| \\\\\"        | Guillemets doubles            |\n",
        "| \\\\n        | Retour à la ligne             |\n",
        "| \\\\t        | Tabulation horizontale        |\n",
        "| \\\\r        | Retour chariot                |\n"
      ]
    },
    {
      "cell_type": "code",
      "execution_count": null,
      "id": "c3747cc9",
      "metadata": {
        "vscode": {
          "languageId": "python"
        }
      },
      "outputs": [],
      "source": [
        "c = \"une chaîne\\nsur 2 lignes\"\n",
        "print(c)"
      ]
    },
    {
      "cell_type": "code",
      "execution_count": null,
      "id": "32933884",
      "metadata": {
        "vscode": {
          "languageId": "python"
        }
      },
      "outputs": [],
      "source": [
        "# Définir une chaîne de caractères sur plusieurs lignes\n",
        "d = \"\"\"une autre \\\"possibilité\\\" pour\n",
        "avoir une chaîne sur 2 lignes\"\"\"\n",
        "print(d)"
      ]
    },
    {
      "cell_type": "markdown",
      "id": "a48724ed",
      "metadata": {},
      "source": [
        "---\n",
        "\n",
        "## Boléens\n",
        "\n",
        "Les Booléens ne peuvent prendre que deux valeurs : `True` et `False`  \n",
        "Attention à bien respecter la notation avec la première lettre en majuscule et les autres en minuscule.  \n"
      ]
    },
    {
      "cell_type": "code",
      "execution_count": null,
      "id": "e3798813",
      "metadata": {
        "vscode": {
          "languageId": "python"
        }
      },
      "outputs": [],
      "source": [
        "type(True)"
      ]
    },
    {
      "cell_type": "markdown",
      "id": "012e5b6f",
      "metadata": {},
      "source": [
        "### Opérateurs de comparaison\n",
        "\n",
        "| Opérateur | Signification |\n",
        "| --- | --- |\n",
        "| == | Egal à  |\n",
        "| != | Non égal à  |\n",
        "| < | Strictement inférieur à  |\n",
        "| > | Strictement supérieur à  |\n",
        "| <= | Inférieur ou égal à  |\n",
        "| >= | Supérieur ou égal à  |\n"
      ]
    },
    {
      "cell_type": "code",
      "execution_count": null,
      "id": "ebfb5cee",
      "metadata": {
        "vscode": {
          "languageId": "python"
        }
      },
      "outputs": [],
      "source": [
        "8 > 5"
      ]
    },
    {
      "cell_type": "code",
      "execution_count": null,
      "id": "3a5a9dbf",
      "metadata": {
        "vscode": {
          "languageId": "python"
        }
      },
      "outputs": [],
      "source": [
        "1+1 == 2"
      ]
    },
    {
      "cell_type": "code",
      "execution_count": null,
      "id": "22d6e756",
      "metadata": {
        "vscode": {
          "languageId": "python"
        }
      },
      "outputs": [],
      "source": [
        "[1, 2, 3] == [1, 2, 3]"
      ]
    },
    {
      "cell_type": "code",
      "execution_count": null,
      "id": "c42ce1ca",
      "metadata": {
        "vscode": {
          "languageId": "python"
        }
      },
      "outputs": [],
      "source": [
        "\"girafe\" != \"gnou\""
      ]
    },
    {
      "cell_type": "code",
      "execution_count": null,
      "id": "c9ba4607",
      "metadata": {
        "vscode": {
          "languageId": "python"
        }
      },
      "outputs": [],
      "source": [
        "# Enchainement d'opérateurs\n",
        "1 < 2 == 2 >= 1 != 2"
      ]
    },
    {
      "cell_type": "markdown",
      "id": "e6af1fd2",
      "metadata": {},
      "source": [
        "### Opérateurs and, or, not\n"
      ]
    },
    {
      "cell_type": "code",
      "execution_count": null,
      "id": "459738b3",
      "metadata": {
        "vscode": {
          "languageId": "python"
        }
      },
      "outputs": [],
      "source": [
        "a = True\n",
        "b = False\n",
        "\n",
        "a and b"
      ]
    },
    {
      "cell_type": "code",
      "execution_count": null,
      "id": "2c602ac9",
      "metadata": {
        "vscode": {
          "languageId": "python"
        }
      },
      "outputs": [],
      "source": [
        "a or b"
      ]
    },
    {
      "cell_type": "code",
      "execution_count": null,
      "id": "28616db1",
      "metadata": {
        "vscode": {
          "languageId": "python"
        }
      },
      "outputs": [],
      "source": [
        "not a"
      ]
    },
    {
      "cell_type": "code",
      "execution_count": null,
      "id": "2057bdfd",
      "metadata": {
        "vscode": {
          "languageId": "python"
        }
      },
      "outputs": [],
      "source": [
        "(a or b) and (a and not b)"
      ]
    },
    {
      "cell_type": "raw",
      "id": "7574c8bc",
      "metadata": {},
      "source": [
        "---"
      ]
    },
    {
      "cell_type": "markdown",
      "id": "d9dd8cf0",
      "metadata": {},
      "source": [
        "## Exercices\n",
        "\n",
        "### Exercice 1\n",
        "\n",
        "Calculer la somme des longueurs des trois chaînes de caractères suivantes : \n",
        "- \"une première chaîne\"\n",
        "- \"et une deuxième\"\n",
        "- \"jamais deux sans trois\"\n"
      ]
    },
    {
      "cell_type": "code",
      "execution_count": null,
      "id": "014c247e",
      "metadata": {
        "lines_to_next_cell": 2,
        "vscode": {
          "languageId": "python"
        }
      },
      "outputs": [],
      "source": [
        "# Tapez votre réponse dans cette cellule"
      ]
    },
    {
      "cell_type": "markdown",
      "id": "20a12161",
      "metadata": {},
      "source": [
        "### Exercice 2\n",
        "\n",
        "Quel est le type adapté pour définir un code postal ?\n",
        "\n",
        "Essayer de définir les codes postaux suivants au format `int` et au format `string` :\n",
        "- 92120\n",
        "- 02350\n",
        "\n",
        "Que concluez-vous ?\n"
      ]
    },
    {
      "cell_type": "code",
      "execution_count": null,
      "id": "c7d83429",
      "metadata": {
        "lines_to_next_cell": 2,
        "vscode": {
          "languageId": "python"
        }
      },
      "outputs": [],
      "source": [
        "# Tapez votre réponse dans cette cellule"
      ]
    },
    {
      "cell_type": "markdown",
      "id": "d71e433c",
      "metadata": {},
      "source": [
        "### Exercice 3\n",
        "\n",
        "Compter le nombre de fois où la lettre e est présente dans la chaîne suivante :\n",
        "`Je compte le nombre de e dans cette chaîne de caractères`\n"
      ]
    },
    {
      "cell_type": "code",
      "execution_count": null,
      "id": "ff156a4e",
      "metadata": {
        "lines_to_next_cell": 2,
        "vscode": {
          "languageId": "python"
        }
      },
      "outputs": [],
      "source": [
        "# Tapez votre réponse dans cette cellule"
      ]
    },
    {
      "cell_type": "markdown",
      "id": "2972da90",
      "metadata": {},
      "source": [
        "### Exercice 4\n",
        "\n",
        "Repérer la première position où la lettre e est présente dans la chaîne suivante : \"Je fais un comptage des e.\"\n",
        "\n",
        "**Indice** : on peut utiliser la méthode *built-in* [find](https://docs.python.org/fr/3/library/stdtypes.html#str.find).\n"
      ]
    },
    {
      "cell_type": "code",
      "execution_count": null,
      "id": "bbdb1b10",
      "metadata": {
        "lines_to_next_cell": 2,
        "vscode": {
          "languageId": "python"
        }
      },
      "outputs": [],
      "source": [
        "# Tapez votre réponse dans cette cellule"
      ]
    },
    {
      "cell_type": "markdown",
      "id": "3a902430",
      "metadata": {},
      "source": [
        "### Exercice 5\n",
        "\n",
        "Supprimer les espaces superflus au début et à la fin de la chaîne suivante :\n",
        "\n",
        "**Indice** : on peut utiliser la méthode *built-in* [strip](https://docs.python.org/fr/3/library/stdtypes.html#str.strip).\n"
      ]
    },
    {
      "cell_type": "code",
      "execution_count": null,
      "id": "b791ea13",
      "metadata": {
        "lines_to_next_cell": 2,
        "vscode": {
          "languageId": "python"
        }
      },
      "outputs": [],
      "source": [
        "# Tapez votre réponse dans cette cellule\n",
        "a = \"    Un string très mal formatté.         \""
      ]
    },
    {
      "cell_type": "markdown",
      "id": "b3b7e0b9",
      "metadata": {},
      "source": [
        "### Exercice 6\n",
        "\n",
        "Réaliser la suite d'opérations suivantes à l'aide des opérateurs d'incrémentation, et imprimer la valeur finale :\n",
        "- initialiser une variable à 1\n",
        "- lui soustraire 5\n",
        "- la multiplier par 4\n",
        "- lui ajouter 22\n"
      ]
    },
    {
      "cell_type": "code",
      "execution_count": null,
      "id": "f3544065",
      "metadata": {
        "lines_to_next_cell": 2,
        "vscode": {
          "languageId": "python"
        }
      },
      "outputs": [],
      "source": [
        "# Tapez votre réponse dans cette cellule"
      ]
    },
    {
      "cell_type": "markdown",
      "id": "4339159f",
      "metadata": {},
      "source": [
        "### Exercice 7\n",
        "\n",
        "Considérons les deux séquences suivantes :\n",
        "- \"nous sommes en\"\n",
        "- \"2022\"\n",
        "\n",
        "Trouvez à partir du tutoriel deux manières différentes de les utiliser pour composer la séquence \"nous sommes en 2022\".\n"
      ]
    },
    {
      "cell_type": "code",
      "execution_count": null,
      "id": "04a0aaaa",
      "metadata": {
        "vscode": {
          "languageId": "python"
        }
      },
      "outputs": [],
      "source": [
        "# Tapez votre réponse dans cette cellule"
      ]
    }
  ],
  "metadata": {
    "kernelspec": {
      "display_name": "Python 3 (ipykernel)",
      "language": "python",
      "name": "python3"
    }
  },
  "nbformat": 4,
  "nbformat_minor": 5
}
