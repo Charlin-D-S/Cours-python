{
  "cells": [
    {
      "cell_type": "raw",
      "metadata": {},
      "source": [
        "---\n",
        "title: Types et variables\n",
        "description: Python\n",
        "format:\n",
        "  html:\n",
        "    toc: true\n",
        "    toc-location: left\n",
        "    toc-expand: 3\n",
        "  ipynb: default\n",
        "from: markdown+emoji\n",
        "---"
      ],
      "id": "4675e55a"
    },
    {
      "cell_type": "markdown",
      "metadata": {},
      "source": [
        "Pour réaliser ce Notebook, je me suis inspiré de : \n",
        "\n",
        "- la formation [**Initiation à Python**](https://github.com/InseeFrLab/formation-python-initiation) du SSP Cloud INSEE, \n",
        "- cours de Python dispensés à l'ENSAE par [Lino Galiana](https://pythonds.linogaliana.fr/rappels2a/) et [Xavier Dupré](http://www.xavierdupre.fr/app/ensae_teaching_cs/helpsphinx/index.html)\n",
        "- https://python.sdv.univ-paris-diderot.fr/"
      ],
      "id": "9a81d23e"
    },
    {
      "cell_type": "raw",
      "metadata": {},
      "source": [
        "---\n",
        "\n",
        "\n",
        "# \n",
        "\n",
        "Dans ce chapitre, nous allons découvrir les types de base en python :\n",
        "\n",
        "* numériques\n",
        "    * **int** : entiers\n",
        "    * **float** : décimaux\n",
        "* chaines de caractères : **str**\n",
        "* booléens : **bool**\n",
        "\n",
        "---"
      ],
      "id": "6cce78bd"
    },
    {
      "cell_type": "markdown",
      "metadata": {},
      "source": [
        "## Affectation de variables\n"
      ],
      "id": "88eadf70"
    },
    {
      "cell_type": "code",
      "metadata": {
        "vscode": {
          "languageId": "python"
        }
      },
      "source": [
        "# Créer la variable a et lui affecter la valeur 8\n",
        "a = 8\n",
        "\n",
        "# Créer la variable b et lui affecter la chaîne de caractère \"texte\"\n",
        "b = \"texte\"\n",
        "\n",
        "# Créer la variable c et lui affecter le booléen True\n",
        "c = True"
      ],
      "id": "12cacc3c",
      "execution_count": null,
      "outputs": []
    },
    {
      "cell_type": "code",
      "metadata": {
        "vscode": {
          "languageId": "python"
        }
      },
      "source": [
        "# Afficher le contenu de a\n",
        "a"
      ],
      "id": "c970dc75",
      "execution_count": null,
      "outputs": []
    },
    {
      "cell_type": "markdown",
      "metadata": {},
      "source": [
        "Remarque : Un notebook n'affiche que la dernière valeur qui lui est demandé.  \n",
        "Pour réaliser plusieurs affichage, il faut utiliser la méthode **print**\n"
      ],
      "id": "456b6c34"
    },
    {
      "cell_type": "code",
      "metadata": {
        "vscode": {
          "languageId": "python"
        }
      },
      "source": [
        "print(a+1)\n",
        "print(b)\n",
        "print(c)"
      ],
      "id": "2651ede3",
      "execution_count": null,
      "outputs": []
    },
    {
      "cell_type": "markdown",
      "metadata": {},
      "source": [
        "Python est **langage typé dynamiquement**.  \n",
        "Cela siginifie qu'il est possible de modifier le type d'une variable sans contrainte.  \n",
        "Si la variable **a** contient du texte, il est possible de lui affecter ensuite un entier.\n"
      ],
      "id": "e8c64bc4"
    },
    {
      "cell_type": "code",
      "metadata": {
        "vscode": {
          "languageId": "python"
        }
      },
      "source": [
        "print(a)\n",
        "a = \"abcd\"\n",
        "print(a)\n",
        "a = False\n",
        "print(a)"
      ],
      "id": "a33e579a",
      "execution_count": null,
      "outputs": []
    },
    {
      "cell_type": "markdown",
      "metadata": {},
      "source": [
        "**Astuce** : Pour afficher toutes les variables créées et leurs valeurs, vous pouvez utiliser la commande `%whos`\n"
      ],
      "id": "4977a8c5"
    },
    {
      "cell_type": "code",
      "metadata": {
        "vscode": {
          "languageId": "python"
        }
      },
      "source": [
        "%whos"
      ],
      "id": "54466817",
      "execution_count": null,
      "outputs": []
    },
    {
      "cell_type": "markdown",
      "metadata": {},
      "source": [
        "---\n",
        "\n",
        "## Nombres\n",
        "\n",
        "La fonction `type` permet de connaitre le type\n"
      ],
      "id": "3548fd9f"
    },
    {
      "cell_type": "code",
      "metadata": {
        "lines_to_next_cell": 2,
        "vscode": {
          "languageId": "python"
        }
      },
      "source": [
        "a = 8\n",
        "type(a)"
      ],
      "id": "643545d6",
      "execution_count": null,
      "outputs": []
    },
    {
      "cell_type": "code",
      "metadata": {
        "vscode": {
          "languageId": "python"
        }
      },
      "source": [
        "b = 33.5\n",
        "type(b)"
      ],
      "id": "ebccb758",
      "execution_count": null,
      "outputs": []
    },
    {
      "cell_type": "code",
      "metadata": {
        "vscode": {
          "languageId": "python"
        }
      },
      "source": [
        "float('inf')"
      ],
      "id": "80f45d45",
      "execution_count": null,
      "outputs": []
    },
    {
      "cell_type": "markdown",
      "metadata": {},
      "source": [
        "### Convertions\n",
        "\n",
        "Les fonctions `float` et `int` peuvent être utilisées pour passer d'un type à l'autre.\n"
      ],
      "id": "2c86559f"
    },
    {
      "cell_type": "code",
      "metadata": {
        "lines_to_next_cell": 2,
        "vscode": {
          "languageId": "python"
        }
      },
      "source": [
        "# Conversion en float\n",
        "float(a)"
      ],
      "id": "04f83b0b",
      "execution_count": null,
      "outputs": []
    },
    {
      "cell_type": "code",
      "metadata": {
        "vscode": {
          "languageId": "python"
        }
      },
      "source": [
        "# Conversion en int (partie entière)\n",
        "int(b)"
      ],
      "id": "fc7025d9",
      "execution_count": null,
      "outputs": []
    },
    {
      "cell_type": "code",
      "metadata": {
        "lines_to_next_cell": 2,
        "vscode": {
          "languageId": "python"
        }
      },
      "source": [
        "# Notation scientifique\n",
        "2.1e3"
      ],
      "id": "d47facdc",
      "execution_count": null,
      "outputs": []
    },
    {
      "cell_type": "markdown",
      "metadata": {},
      "source": [
        "### Opérations arithmétiques de base\n"
      ],
      "id": "ec86a039"
    },
    {
      "cell_type": "code",
      "metadata": {
        "lines_to_next_cell": 2,
        "vscode": {
          "languageId": "python"
        }
      },
      "source": [
        "# Addition\n",
        "1 + 1"
      ],
      "id": "0a55391d",
      "execution_count": null,
      "outputs": []
    },
    {
      "cell_type": "code",
      "metadata": {
        "lines_to_next_cell": 2,
        "vscode": {
          "languageId": "python"
        }
      },
      "source": [
        "# Soustraction\n",
        "6 - 2"
      ],
      "id": "8f78b83c",
      "execution_count": null,
      "outputs": []
    },
    {
      "cell_type": "code",
      "metadata": {
        "lines_to_next_cell": 2,
        "vscode": {
          "languageId": "python"
        }
      },
      "source": [
        "# Multiplication\n",
        "3 * 4"
      ],
      "id": "3f23a28f",
      "execution_count": null,
      "outputs": []
    },
    {
      "cell_type": "code",
      "metadata": {
        "lines_to_next_cell": 2,
        "vscode": {
          "languageId": "python"
        }
      },
      "source": [
        "# Division\n",
        "11 / 5"
      ],
      "id": "77fbbe0e",
      "execution_count": null,
      "outputs": []
    },
    {
      "cell_type": "code",
      "metadata": {
        "lines_to_next_cell": 2,
        "vscode": {
          "languageId": "python"
        }
      },
      "source": [
        "# Division euclidienne : quotient\n",
        "11 // 5"
      ],
      "id": "ba90010a",
      "execution_count": null,
      "outputs": []
    },
    {
      "cell_type": "code",
      "metadata": {
        "lines_to_next_cell": 2,
        "vscode": {
          "languageId": "python"
        }
      },
      "source": [
        "# Division euclidienne : reste (modulo)\n",
        "11 % 5"
      ],
      "id": "2d6f6865",
      "execution_count": null,
      "outputs": []
    },
    {
      "cell_type": "code",
      "metadata": {
        "lines_to_next_cell": 2,
        "vscode": {
          "languageId": "python"
        }
      },
      "source": [
        "# Puissance\n",
        "2 ** 10"
      ],
      "id": "df418d8e",
      "execution_count": null,
      "outputs": []
    },
    {
      "cell_type": "code",
      "metadata": {
        "lines_to_next_cell": 2,
        "vscode": {
          "languageId": "python"
        }
      },
      "source": [
        "# Racine carrée\n",
        "36 ** 0.5"
      ],
      "id": "4294a362",
      "execution_count": null,
      "outputs": []
    },
    {
      "cell_type": "raw",
      "metadata": {},
      "source": [
        "---"
      ],
      "id": "94b6fcbb"
    },
    {
      "cell_type": "markdown",
      "metadata": {},
      "source": [
        "## Chaînes de charactères\n",
        "\n",
        "Les chaînes de caractères (strings) sont utilisées pour stocker de l'information textuelle.\n",
        "\n",
        "Un *string* se définit en mettant l'information entre apostrophes `'` ou entre guillemets `\"`. \n",
        "\n",
        "### Définition\n"
      ],
      "id": "767891cb"
    },
    {
      "cell_type": "code",
      "metadata": {
        "lines_to_next_cell": 2,
        "vscode": {
          "languageId": "python"
        }
      },
      "source": [
        "a = 'une chaine de caractères définie avec des apostrophes'\n",
        "a"
      ],
      "id": "6a3512ad",
      "execution_count": null,
      "outputs": []
    },
    {
      "cell_type": "code",
      "metadata": {
        "lines_to_next_cell": 2,
        "vscode": {
          "languageId": "python"
        }
      },
      "source": [
        "b = \"une chaine de caractères définie avec des guillemets\"\n",
        "b"
      ],
      "id": "06ed92c3",
      "execution_count": null,
      "outputs": []
    },
    {
      "cell_type": "code",
      "metadata": {
        "vscode": {
          "languageId": "python"
        }
      },
      "source": [
        "# Pour inclure une apostrophe à l'intérieur de la chaine\n",
        "\"j'inclus l'apostrophe\""
      ],
      "id": "d4bc57f6",
      "execution_count": null,
      "outputs": []
    },
    {
      "cell_type": "code",
      "metadata": {
        "vscode": {
          "languageId": "python"
        }
      },
      "source": [
        "# Pour inclure des guillemets à l'intérieur de la chaine\n",
        "'les \"guillemets\" sont là'"
      ],
      "id": "3193aaae",
      "execution_count": null,
      "outputs": []
    },
    {
      "cell_type": "markdown",
      "metadata": {},
      "source": [
        "### Métodes utiles\n",
        "\n",
        "Voici un aperçu de quelques méthodes utiles. De nombreuses autres existent (voir [documentation officielle](https://docs.python.org/3/library/stdtypes.html#string-methods))\n"
      ],
      "id": "69dec04b"
    },
    {
      "cell_type": "code",
      "metadata": {
        "vscode": {
          "languageId": "python"
        }
      },
      "source": [
        "# Longueur d'une chaîne (nombre de caractères)\n",
        "len(\"J'ai 18 caractères\")"
      ],
      "id": "cb19ec37",
      "execution_count": null,
      "outputs": []
    },
    {
      "cell_type": "code",
      "metadata": {
        "vscode": {
          "languageId": "python"
        }
      },
      "source": [
        "# Concaténation\n",
        "\"I am\" + \"your father\""
      ],
      "id": "4445b155",
      "execution_count": null,
      "outputs": []
    },
    {
      "cell_type": "code",
      "metadata": {
        "vscode": {
          "languageId": "python"
        }
      },
      "source": [
        "# Concaténation avec un nombre\n",
        "annee = 2\n",
        "\"je suis en \" + annee + \"ème année\""
      ],
      "id": "4cb7ec37",
      "execution_count": null,
      "outputs": []
    },
    {
      "cell_type": "markdown",
      "metadata": {},
      "source": [
        "Problème, il faut au préalable convertir le nombre en chaîne de caractères.  \n",
        "La méthode **str** fait le travail.\n"
      ],
      "id": "b1d1dad0"
    },
    {
      "cell_type": "code",
      "metadata": {
        "vscode": {
          "languageId": "python"
        }
      },
      "source": [
        "# Concaténation avec un nombre - après convertion du nombre en string\n",
        "annee = 2\n",
        "\"je suis en \" + str(annee) + \"ème année\""
      ],
      "id": "848aed50",
      "execution_count": null,
      "outputs": []
    },
    {
      "cell_type": "code",
      "metadata": {
        "vscode": {
          "languageId": "python"
        }
      },
      "source": [
        "# Répétition\n",
        "\"hop \" * 5"
      ],
      "id": "08c5a5c7",
      "execution_count": null,
      "outputs": []
    },
    {
      "cell_type": "code",
      "metadata": {
        "vscode": {
          "languageId": "python"
        }
      },
      "source": [
        "# Mettre en majuscules\n",
        "\"C'est OK\".upper()"
      ],
      "id": "79eab915",
      "execution_count": null,
      "outputs": []
    },
    {
      "cell_type": "code",
      "metadata": {
        "vscode": {
          "languageId": "python"
        }
      },
      "source": [
        "# Mettre en minuscules\n",
        "\"C'est OK\".lower()"
      ],
      "id": "55b28ce6",
      "execution_count": null,
      "outputs": []
    },
    {
      "cell_type": "code",
      "metadata": {
        "vscode": {
          "languageId": "python"
        }
      },
      "source": [
        "# Compter le nombre d'occurences\n",
        "\"Mangez cinq fruits et légumes par jour\".count(\"a\")"
      ],
      "id": "a7fbbf12",
      "execution_count": null,
      "outputs": []
    },
    {
      "cell_type": "code",
      "metadata": {
        "vscode": {
          "languageId": "python"
        }
      },
      "source": [
        "# Créer une liste de mots\n",
        "\"Mangez cinq fruits et légumes par jour\".split()"
      ],
      "id": "1472ee25",
      "execution_count": null,
      "outputs": []
    },
    {
      "cell_type": "code",
      "metadata": {
        "vscode": {
          "languageId": "python"
        }
      },
      "source": [
        "# Séparer les mots selon un caractère spécifique\n",
        "\"un-deux-trois-soleil\".split(\"-\")"
      ],
      "id": "59b58a24",
      "execution_count": null,
      "outputs": []
    },
    {
      "cell_type": "code",
      "metadata": {
        "vscode": {
          "languageId": "python"
        }
      },
      "source": [
        "# Utiliser les strings comme templates\n",
        "\"mon numéro est : {}\".format(\"06 12 34 56 78\")"
      ],
      "id": "0a6bd372",
      "execution_count": null,
      "outputs": []
    },
    {
      "cell_type": "code",
      "metadata": {
        "vscode": {
          "languageId": "python"
        }
      },
      "source": [
        "# Commence par ?\n",
        "\"vélo\".startswith(\"vé\")"
      ],
      "id": "c1b7a04e",
      "execution_count": null,
      "outputs": []
    },
    {
      "cell_type": "code",
      "metadata": {
        "vscode": {
          "languageId": "python"
        }
      },
      "source": [
        "# Se termine par ?\n",
        "\"vélo\".endswith(\"lo\")"
      ],
      "id": "a5118339",
      "execution_count": null,
      "outputs": []
    },
    {
      "cell_type": "markdown",
      "metadata": {},
      "source": [
        "### Extraire des sous-chaînes\n",
        "\n",
        "Une chaîne de caractères est considérée en Python comme une liste de caractères.  \n",
        "Il est donc possible d'extraire différents éléments de cette liste\n"
      ],
      "id": "21c097f2"
    },
    {
      "cell_type": "code",
      "metadata": {
        "lines_to_next_cell": 2,
        "vscode": {
          "languageId": "python"
        }
      },
      "source": [
        "# Premier élémént\n",
        "\"c'est de toute beauté\"[0]"
      ],
      "id": "44e9d0d5",
      "execution_count": null,
      "outputs": []
    },
    {
      "cell_type": "code",
      "metadata": {
        "lines_to_next_cell": 2,
        "vscode": {
          "languageId": "python"
        }
      },
      "source": [
        "# Deuxième élémént\n",
        "\"c'est de toute beauté\"[1]"
      ],
      "id": "8966f72a",
      "execution_count": null,
      "outputs": []
    },
    {
      "cell_type": "code",
      "metadata": {
        "lines_to_next_cell": 2,
        "vscode": {
          "languageId": "python"
        }
      },
      "source": [
        "# Dernier élémént\n",
        "\"c'est de toute beauté\"[-1]"
      ],
      "id": "869df622",
      "execution_count": null,
      "outputs": []
    },
    {
      "cell_type": "code",
      "metadata": {
        "lines_to_next_cell": 2,
        "vscode": {
          "languageId": "python"
        }
      },
      "source": [
        "# À partir d'un certain caractère\n",
        "\"c'est de toute beauté\"[6:]"
      ],
      "id": "ab7f994a",
      "execution_count": null,
      "outputs": []
    },
    {
      "cell_type": "code",
      "metadata": {
        "lines_to_next_cell": 2,
        "vscode": {
          "languageId": "python"
        }
      },
      "source": [
        "# Jusqu'à un certain caractère\n",
        "\"c'est de toute beauté\"[:8]"
      ],
      "id": "250cae46",
      "execution_count": null,
      "outputs": []
    },
    {
      "cell_type": "code",
      "metadata": {
        "lines_to_next_cell": 2,
        "vscode": {
          "languageId": "python"
        }
      },
      "source": [
        "# Extraire une sous-chaîne\n",
        "\"c'est de toute beauté\"[9:14]"
      ],
      "id": "14b5c1ce",
      "execution_count": null,
      "outputs": []
    },
    {
      "cell_type": "code",
      "metadata": {
        "lines_to_next_cell": 2,
        "vscode": {
          "languageId": "python"
        }
      },
      "source": [
        "# Extraire tous les 2 caractères, à partir de la 4 ème position\n",
        "\"c'est de toute beauté\"[4::2]"
      ],
      "id": "d883eb3b",
      "execution_count": null,
      "outputs": []
    },
    {
      "cell_type": "code",
      "metadata": {
        "vscode": {
          "languageId": "python"
        }
      },
      "source": [
        "# Inverser une chaîne\n",
        "\"c'est de toute beauté\"[::-1]"
      ],
      "id": "4edfc921",
      "execution_count": null,
      "outputs": []
    },
    {
      "cell_type": "markdown",
      "metadata": {},
      "source": [
        "#### Caractères spéciaux\n",
        "\n",
        "Pour insérer des caractères spéciaux au sein d'une chaîne de caractère, il faut utiliser le caractère d'échappement `\\`.\n",
        "\n",
        "| Caractère  | Description                   |\n",
        "|------------|-------------------------------|\n",
        "| \\          | Caractère d'échappement       |\n",
        "| \\\\'        | Apostrophe                    |\n",
        "| \\\\\"        | Guillemets doubles            |\n",
        "| \\\\n        | Retour à la ligne             |\n",
        "| \\\\t        | Tabulation horizontale        |\n",
        "| \\\\r        | Retour chariot                |\n"
      ],
      "id": "897a0774"
    },
    {
      "cell_type": "code",
      "metadata": {
        "vscode": {
          "languageId": "python"
        }
      },
      "source": [
        "c = \"une chaîne\\nsur 2 lignes\"\n",
        "print(c)"
      ],
      "id": "c3747cc9",
      "execution_count": null,
      "outputs": []
    },
    {
      "cell_type": "code",
      "metadata": {
        "vscode": {
          "languageId": "python"
        }
      },
      "source": [
        "# Définir une chaîne de caractères sur plusieurs lignes\n",
        "d = \"\"\"une autre \\\"possibilité\\\" pour\n",
        "avoir une chaîne sur 2 lignes\"\"\"\n",
        "print(d)"
      ],
      "id": "32933884",
      "execution_count": null,
      "outputs": []
    },
    {
      "cell_type": "markdown",
      "metadata": {},
      "source": [
        "---\n",
        "\n",
        "## Boléens\n",
        "\n",
        "Les Booléens ne peuvent prendre que deux valeurs : `True` et `False`  \n",
        "Attention à bien respecter la notation avec la première lettre en majuscule et les autres en minuscule.  \n"
      ],
      "id": "a48724ed"
    },
    {
      "cell_type": "code",
      "metadata": {
        "vscode": {
          "languageId": "python"
        }
      },
      "source": [
        "type(True)"
      ],
      "id": "e3798813",
      "execution_count": null,
      "outputs": []
    },
    {
      "cell_type": "markdown",
      "metadata": {},
      "source": [
        "### Opérateurs de comparaison\n",
        "\n",
        "| Opérateur | Signification |\n",
        "| --- | --- |\n",
        "| == | Egal à  |\n",
        "| != | Non égal à  |\n",
        "| < | Strictement inférieur à  |\n",
        "| > | Strictement supérieur à  |\n",
        "| <= | Inférieur ou égal à  |\n",
        "| >= | Supérieur ou égal à  |\n"
      ],
      "id": "012e5b6f"
    },
    {
      "cell_type": "code",
      "metadata": {
        "vscode": {
          "languageId": "python"
        }
      },
      "source": [
        "8 > 5"
      ],
      "id": "ebfb5cee",
      "execution_count": null,
      "outputs": []
    },
    {
      "cell_type": "code",
      "metadata": {
        "vscode": {
          "languageId": "python"
        }
      },
      "source": [
        "1+1 == 2"
      ],
      "id": "3a5a9dbf",
      "execution_count": null,
      "outputs": []
    },
    {
      "cell_type": "code",
      "metadata": {
        "vscode": {
          "languageId": "python"
        }
      },
      "source": [
        "[1, 2, 3] == [1, 2, 3]"
      ],
      "id": "22d6e756",
      "execution_count": null,
      "outputs": []
    },
    {
      "cell_type": "code",
      "metadata": {
        "vscode": {
          "languageId": "python"
        }
      },
      "source": [
        "\"girafe\" != \"gnou\""
      ],
      "id": "c42ce1ca",
      "execution_count": null,
      "outputs": []
    },
    {
      "cell_type": "code",
      "metadata": {
        "vscode": {
          "languageId": "python"
        }
      },
      "source": [
        "# Enchainement d'opérateurs\n",
        "1 < 2 == 2 >= 1 != 2"
      ],
      "id": "c9ba4607",
      "execution_count": null,
      "outputs": []
    },
    {
      "cell_type": "markdown",
      "metadata": {},
      "source": [
        "### Opérateurs and, or, not\n"
      ],
      "id": "e6af1fd2"
    },
    {
      "cell_type": "code",
      "metadata": {
        "vscode": {
          "languageId": "python"
        }
      },
      "source": [
        "a = True\n",
        "b = False\n",
        "\n",
        "a and b"
      ],
      "id": "459738b3",
      "execution_count": null,
      "outputs": []
    },
    {
      "cell_type": "code",
      "metadata": {
        "vscode": {
          "languageId": "python"
        }
      },
      "source": [
        "a or b"
      ],
      "id": "2c602ac9",
      "execution_count": null,
      "outputs": []
    },
    {
      "cell_type": "code",
      "metadata": {
        "vscode": {
          "languageId": "python"
        }
      },
      "source": [
        "not a"
      ],
      "id": "28616db1",
      "execution_count": null,
      "outputs": []
    },
    {
      "cell_type": "code",
      "metadata": {
        "vscode": {
          "languageId": "python"
        }
      },
      "source": [
        "(a or b) and (a and not b)"
      ],
      "id": "2057bdfd",
      "execution_count": null,
      "outputs": []
    },
    {
      "cell_type": "raw",
      "metadata": {},
      "source": [
        "---"
      ],
      "id": "7574c8bc"
    },
    {
      "cell_type": "markdown",
      "metadata": {},
      "source": [
        "## Exercices\n",
        "\n",
        "### Exercice 1\n",
        "\n",
        "Calculer la somme des longueurs des trois chaînes de caractères suivantes : \n",
        "- \"une première chaîne\"\n",
        "- \"et une deuxième\"\n",
        "- \"jamais deux sans trois\"\n"
      ],
      "id": "d9dd8cf0"
    },
    {
      "cell_type": "code",
      "metadata": {
        "lines_to_next_cell": 2,
        "vscode": {
          "languageId": "python"
        }
      },
      "source": [
        "# Tapez votre réponse dans cette cellule"
      ],
      "id": "014c247e",
      "execution_count": null,
      "outputs": []
    },
    {
      "cell_type": "markdown",
      "metadata": {},
      "source": [
        "### Exercice 2\n",
        "\n",
        "Quel est le type adapté pour définir un code postal ?\n",
        "\n",
        "Essayer de définir les codes postaux suivants au format `int` et au format `string` :\n",
        "- 92120\n",
        "- 02350\n",
        "\n",
        "Que concluez-vous ?\n"
      ],
      "id": "20a12161"
    },
    {
      "cell_type": "code",
      "metadata": {
        "lines_to_next_cell": 2,
        "vscode": {
          "languageId": "python"
        }
      },
      "source": [
        "# Tapez votre réponse dans cette cellule"
      ],
      "id": "c7d83429",
      "execution_count": null,
      "outputs": []
    },
    {
      "cell_type": "markdown",
      "metadata": {},
      "source": [
        "### Exercice 3\n",
        "\n",
        "Compter le nombre de fois où la lettre e est présente dans la chaîne suivante :\n",
        "`Je compte le nombre de e dans cette chaîne de caractères`\n"
      ],
      "id": "d71e433c"
    },
    {
      "cell_type": "code",
      "metadata": {
        "lines_to_next_cell": 2,
        "vscode": {
          "languageId": "python"
        }
      },
      "source": [
        "# Tapez votre réponse dans cette cellule"
      ],
      "id": "ff156a4e",
      "execution_count": null,
      "outputs": []
    },
    {
      "cell_type": "markdown",
      "metadata": {},
      "source": [
        "### Exercice 4\n",
        "\n",
        "Repérer la première position où la lettre e est présente dans la chaîne suivante : \"Je fais un comptage des e.\"\n",
        "\n",
        "**Indice** : on peut utiliser la méthode *built-in* [find](https://docs.python.org/fr/3/library/stdtypes.html#str.find).\n"
      ],
      "id": "2972da90"
    },
    {
      "cell_type": "code",
      "metadata": {
        "lines_to_next_cell": 2,
        "vscode": {
          "languageId": "python"
        }
      },
      "source": [
        "# Tapez votre réponse dans cette cellule"
      ],
      "id": "bbdb1b10",
      "execution_count": null,
      "outputs": []
    },
    {
      "cell_type": "markdown",
      "metadata": {},
      "source": [
        "### Exercice 5\n",
        "\n",
        "Supprimer les espaces superflus au début et à la fin de la chaîne suivante :\n",
        "\n",
        "**Indice** : on peut utiliser la méthode *built-in* [strip](https://docs.python.org/fr/3/library/stdtypes.html#str.strip).\n"
      ],
      "id": "3a902430"
    },
    {
      "cell_type": "code",
      "metadata": {
        "lines_to_next_cell": 2,
        "vscode": {
          "languageId": "python"
        }
      },
      "source": [
        "# Tapez votre réponse dans cette cellule\n",
        "a = \"    Un string très mal formatté.         \""
      ],
      "id": "b791ea13",
      "execution_count": null,
      "outputs": []
    },
    {
      "cell_type": "markdown",
      "metadata": {},
      "source": [
        "### Exercice 6\n",
        "\n",
        "Réaliser la suite d'opérations suivantes à l'aide des opérateurs d'incrémentation, et imprimer la valeur finale :\n",
        "- initialiser une variable à 1\n",
        "- lui soustraire 5\n",
        "- la multiplier par 4\n",
        "- lui ajouter 22\n"
      ],
      "id": "b3b7e0b9"
    },
    {
      "cell_type": "code",
      "metadata": {
        "lines_to_next_cell": 2,
        "vscode": {
          "languageId": "python"
        }
      },
      "source": [
        "# Tapez votre réponse dans cette cellule"
      ],
      "id": "f3544065",
      "execution_count": null,
      "outputs": []
    },
    {
      "cell_type": "markdown",
      "metadata": {},
      "source": [
        "### Exercice 7\n",
        "\n",
        "Considérons les deux séquences suivantes :\n",
        "- \"nous sommes en\"\n",
        "- \"2022\"\n",
        "\n",
        "Trouvez à partir du tutoriel deux manières différentes de les utiliser pour composer la séquence \"nous sommes en 2022\".\n"
      ],
      "id": "4339159f"
    },
    {
      "cell_type": "code",
      "metadata": {
        "vscode": {
          "languageId": "python"
        }
      },
      "source": [
        "# Tapez votre réponse dans cette cellule"
      ],
      "id": "04a0aaaa",
      "execution_count": null,
      "outputs": []
    }
  ],
  "metadata": {
    "kernelspec": {
      "name": "python3",
      "language": "python",
      "display_name": "Python 3 (ipykernel)"
    }
  },
  "nbformat": 4,
  "nbformat_minor": 5
}