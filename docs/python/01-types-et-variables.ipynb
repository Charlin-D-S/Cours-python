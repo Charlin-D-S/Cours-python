{
  "cells": [
    {
      "cell_type": "markdown",
      "metadata": {},
      "source": [
        "# Types et variables\n",
        "\n",
        "Ludovic Deneuville\n",
        "\n",
        "## Avant de commencer\n",
        "\n",
        "-   Téléchargez ce\n",
        "    <a href=\"01-types-et-variables.ipynb\" target=\"_blank\">notebook\n",
        "    Jupyter</a>\n",
        "-   Importez le fichier .ipynb dans\n",
        "    <a href=\"https://jupyther.ensai.fr/\" class=\"external\"\n",
        "    target=\"_blank\">Jupyter</a>\n",
        "\n",
        "## Avant propos\n",
        "\n",
        "Pour réaliser ce Notebook, je me suis inspiré de :\n",
        "\n",
        "-   la formation [**Initiation à\n",
        "    Python**](https://github.com/InseeFrLab/formation-python-initiation)\n",
        "    du SSP Cloud INSEE,\n",
        "-   cours de Python dispensés à l’ENSAE par [Lino\n",
        "    Galiana](https://pythonds.linogaliana.fr/rappels2a/) et [Xavier\n",
        "    Dupré](http://www.xavierdupre.fr/app/ensae_teaching_cs/helpsphinx/index.html)\n",
        "-   https://python.sdv.univ-paris-diderot.fr/\n",
        "\n",
        "Dans ce chapitre, nous allons découvrir les types de base en python :\n",
        "\n",
        "-   numériques\n",
        "    -   **int** : entiers\n",
        "    -   **float** : décimaux\n",
        "-   chaines de caractères : **str**\n",
        "-   booléens : **bool**\n",
        "\n",
        "## 1 Affectation de variables"
      ],
      "id": "c4af234d-630b-4f8f-830f-67a6d5879d6c"
    },
    {
      "cell_type": "code",
      "execution_count": 1,
      "metadata": {
        "vscode": {
          "languageId": "python"
        }
      },
      "outputs": [],
      "source": [
        "# Créer la variable a et lui affecter la valeur 8\n",
        "a = 8\n",
        "\n",
        "# Créer la variable b et lui affecter la chaîne de caractère \"texte\"\n",
        "b = \"texte\"\n",
        "\n",
        "# Créer la variable c et lui affecter le booléen True\n",
        "c = True"
      ],
      "id": "c410c198"
    },
    {
      "cell_type": "code",
      "execution_count": 2,
      "metadata": {
        "vscode": {
          "languageId": "python"
        }
      },
      "outputs": [],
      "source": [
        "# Afficher le contenu de a\n",
        "a"
      ],
      "id": "d95f5390"
    },
    {
      "cell_type": "markdown",
      "metadata": {},
      "source": [
        "Remarque : Un notebook n’affiche que la dernière valeur qui lui est\n",
        "demandé.  \n",
        "Pour réaliser plusieurs affichage, il faut utiliser la méthode **print**"
      ],
      "id": "28c1c853-225d-4421-b54d-64a7dc2e7a26"
    },
    {
      "cell_type": "code",
      "execution_count": 3,
      "metadata": {
        "vscode": {
          "languageId": "python"
        }
      },
      "outputs": [],
      "source": [
        "print(a+1)\n",
        "print(b)\n",
        "print(c)"
      ],
      "id": "51ab8f94"
    },
    {
      "cell_type": "markdown",
      "metadata": {},
      "source": [
        "Python est **langage typé dynamiquement**.  \n",
        "Cela siginifie qu’il est possible de modifier le type d’une variable\n",
        "sans contrainte.  \n",
        "Si la variable **a** contient du texte, il est possible de lui affecter\n",
        "ensuite un entier."
      ],
      "id": "1506538c-dc7f-4aae-9c19-832d5e7fd404"
    },
    {
      "cell_type": "code",
      "execution_count": 4,
      "metadata": {
        "vscode": {
          "languageId": "python"
        }
      },
      "outputs": [],
      "source": [
        "print(a)\n",
        "a = \"abcd\"\n",
        "print(a)\n",
        "a = False\n",
        "print(a)"
      ],
      "id": "3a09df93"
    },
    {
      "cell_type": "markdown",
      "metadata": {},
      "source": [
        "**Astuce** : Pour afficher toutes les variables créées et leurs valeurs,\n",
        "vous pouvez utiliser la commande `%whos`"
      ],
      "id": "62880a17-e51a-4ac9-816a-5882ab640fd2"
    },
    {
      "cell_type": "code",
      "execution_count": 5,
      "metadata": {
        "vscode": {
          "languageId": "python"
        }
      },
      "outputs": [],
      "source": [
        "%whos"
      ],
      "id": "54681b20"
    },
    {
      "cell_type": "markdown",
      "metadata": {},
      "source": [
        "------------------------------------------------------------------------\n",
        "\n",
        "## 2 Nombres\n",
        "\n",
        "La fonction `type` permet de connaitre le type"
      ],
      "id": "593ac239-bedf-4110-919e-4b827c60008e"
    },
    {
      "cell_type": "code",
      "execution_count": 6,
      "metadata": {
        "vscode": {
          "languageId": "python"
        }
      },
      "outputs": [],
      "source": [
        "a = 8\n",
        "type(a)"
      ],
      "id": "19d660e8"
    },
    {
      "cell_type": "code",
      "execution_count": 7,
      "metadata": {
        "vscode": {
          "languageId": "python"
        }
      },
      "outputs": [],
      "source": [
        "b = 33.5\n",
        "type(b)"
      ],
      "id": "2c64e582"
    },
    {
      "cell_type": "code",
      "execution_count": 8,
      "metadata": {
        "vscode": {
          "languageId": "python"
        }
      },
      "outputs": [],
      "source": [
        "float('inf')"
      ],
      "id": "193e259a"
    },
    {
      "cell_type": "markdown",
      "metadata": {},
      "source": [
        "### 2.1 Convertions\n",
        "\n",
        "Les fonctions `float` et `int` peuvent être utilisées pour passer d’un\n",
        "type à l’autre."
      ],
      "id": "d704df88-5414-4e3e-b565-6d36420ff5c9"
    },
    {
      "cell_type": "code",
      "execution_count": 9,
      "metadata": {
        "vscode": {
          "languageId": "python"
        }
      },
      "outputs": [],
      "source": [
        "# Conversion en float\n",
        "float(a)"
      ],
      "id": "54f680f1"
    },
    {
      "cell_type": "code",
      "execution_count": 10,
      "metadata": {
        "vscode": {
          "languageId": "python"
        }
      },
      "outputs": [],
      "source": [
        "# Conversion en int (partie entière)\n",
        "int(b)"
      ],
      "id": "338a98f8"
    },
    {
      "cell_type": "code",
      "execution_count": 11,
      "metadata": {
        "vscode": {
          "languageId": "python"
        }
      },
      "outputs": [],
      "source": [
        "# Notation scientifique\n",
        "2.1e3"
      ],
      "id": "edcbac7a"
    },
    {
      "cell_type": "markdown",
      "metadata": {},
      "source": [
        "### 2.2 Opérations arithmétiques de base"
      ],
      "id": "bd15ac8d-1c17-401b-b8b0-5012ed96b1da"
    },
    {
      "cell_type": "code",
      "execution_count": 12,
      "metadata": {
        "vscode": {
          "languageId": "python"
        }
      },
      "outputs": [],
      "source": [
        "# Addition\n",
        "1 + 1"
      ],
      "id": "7c6a87f5"
    },
    {
      "cell_type": "code",
      "execution_count": 13,
      "metadata": {
        "vscode": {
          "languageId": "python"
        }
      },
      "outputs": [],
      "source": [
        "# Soustraction\n",
        "6 - 2"
      ],
      "id": "af57c3f0"
    },
    {
      "cell_type": "code",
      "execution_count": 14,
      "metadata": {
        "vscode": {
          "languageId": "python"
        }
      },
      "outputs": [],
      "source": [
        "# Multiplication\n",
        "3 * 4"
      ],
      "id": "77cccc8c"
    },
    {
      "cell_type": "code",
      "execution_count": 15,
      "metadata": {
        "vscode": {
          "languageId": "python"
        }
      },
      "outputs": [],
      "source": [
        "# Division\n",
        "11 / 5"
      ],
      "id": "853619ba"
    },
    {
      "cell_type": "code",
      "execution_count": 16,
      "metadata": {
        "vscode": {
          "languageId": "python"
        }
      },
      "outputs": [],
      "source": [
        "# Division euclidienne : quotient\n",
        "11 // 5"
      ],
      "id": "ae318e1d"
    },
    {
      "cell_type": "code",
      "execution_count": 17,
      "metadata": {
        "vscode": {
          "languageId": "python"
        }
      },
      "outputs": [],
      "source": [
        "# Division euclidienne : reste (modulo)\n",
        "11 % 5"
      ],
      "id": "607ad988"
    },
    {
      "cell_type": "code",
      "execution_count": 18,
      "metadata": {
        "vscode": {
          "languageId": "python"
        }
      },
      "outputs": [],
      "source": [
        "# Puissance\n",
        "2 ** 10"
      ],
      "id": "2a29d53e"
    },
    {
      "cell_type": "code",
      "execution_count": 19,
      "metadata": {
        "vscode": {
          "languageId": "python"
        }
      },
      "outputs": [],
      "source": [
        "# Racine carrée\n",
        "36 ** 0.5"
      ],
      "id": "d7bf9efa"
    },
    {
      "cell_type": "markdown",
      "metadata": {},
      "source": [
        "------------------------------------------------------------------------\n",
        "\n",
        "## 3 Chaînes de charactères\n",
        "\n",
        "Les chaînes de caractères (strings) sont utilisées pour stocker de\n",
        "l’information textuelle.\n",
        "\n",
        "Un *string* se définit en mettant l’information entre apostrophes `'` ou\n",
        "entre guillemets `\"`.\n",
        "\n",
        "### 3.1 Définition"
      ],
      "id": "b263b2f5-810f-4b67-b22a-44feb8b61d09"
    },
    {
      "cell_type": "code",
      "execution_count": 20,
      "metadata": {
        "vscode": {
          "languageId": "python"
        }
      },
      "outputs": [],
      "source": [
        "a = 'une chaine de caractères définie avec des apostrophes'\n",
        "a"
      ],
      "id": "35d7e2ef"
    },
    {
      "cell_type": "code",
      "execution_count": 21,
      "metadata": {
        "vscode": {
          "languageId": "python"
        }
      },
      "outputs": [],
      "source": [
        "b = \"une chaine de caractères définie avec des guillemets\"\n",
        "b"
      ],
      "id": "1096ab31"
    },
    {
      "cell_type": "code",
      "execution_count": 22,
      "metadata": {
        "vscode": {
          "languageId": "python"
        }
      },
      "outputs": [],
      "source": [
        "# Pour inclure une apostrophe à l'intérieur de la chaine\n",
        "\"j'inclus l'apostrophe\""
      ],
      "id": "51235708"
    },
    {
      "cell_type": "code",
      "execution_count": 23,
      "metadata": {
        "vscode": {
          "languageId": "python"
        }
      },
      "outputs": [],
      "source": [
        "# Pour inclure des guillemets à l'intérieur de la chaine\n",
        "'les \"guillemets\" sont là'"
      ],
      "id": "c4abd928"
    },
    {
      "cell_type": "markdown",
      "metadata": {},
      "source": [
        "### 3.2 Métodes utiles\n",
        "\n",
        "Voici un aperçu de quelques méthodes utiles. De nombreuses autres\n",
        "existent (voir [documentation\n",
        "officielle](https://docs.python.org/3/library/stdtypes.html#string-methods))"
      ],
      "id": "009e1d70-3072-4c80-a2be-885f7aa28d76"
    },
    {
      "cell_type": "code",
      "execution_count": 24,
      "metadata": {
        "vscode": {
          "languageId": "python"
        }
      },
      "outputs": [],
      "source": [
        "# Longueur d'une chaîne (nombre de caractères)\n",
        "len(\"J'ai 18 caractères\")"
      ],
      "id": "1b7d1bef"
    },
    {
      "cell_type": "code",
      "execution_count": 25,
      "metadata": {
        "vscode": {
          "languageId": "python"
        }
      },
      "outputs": [],
      "source": [
        "# Concaténation\n",
        "\"I am\" + \"your father\"\n",
        "\" \".join(\"I am\", \"your father\")"
      ],
      "id": "3dc317a1"
    },
    {
      "cell_type": "code",
      "execution_count": 26,
      "metadata": {
        "vscode": {
          "languageId": "python"
        }
      },
      "outputs": [],
      "source": [
        "# Concaténation avec un nombre\n",
        "annee = 2\n",
        "\"je suis en \" + annee + \"ème année\""
      ],
      "id": "5060f244"
    },
    {
      "cell_type": "markdown",
      "metadata": {},
      "source": [
        "Problème, il faut au préalable convertir le nombre en chaîne de\n",
        "caractères.  \n",
        "La méthode **str** fait le travail."
      ],
      "id": "536a7a81-0127-432c-b6ff-f53ec9a1ebca"
    },
    {
      "cell_type": "code",
      "execution_count": 27,
      "metadata": {
        "vscode": {
          "languageId": "python"
        }
      },
      "outputs": [],
      "source": [
        "# Concaténation avec un nombre - après convertion du nombre en string\n",
        "annee = 2\n",
        "\"je suis en \" + str(annee) + \"ème année\""
      ],
      "id": "0104cf77"
    },
    {
      "cell_type": "code",
      "execution_count": 28,
      "metadata": {
        "vscode": {
          "languageId": "python"
        }
      },
      "outputs": [],
      "source": [
        "# Répétition\n",
        "\"hop \" * 5"
      ],
      "id": "9d8c9350"
    },
    {
      "cell_type": "code",
      "execution_count": 29,
      "metadata": {
        "vscode": {
          "languageId": "python"
        }
      },
      "outputs": [],
      "source": [
        "# Mettre en majuscules\n",
        "\"C'est OK\".upper()"
      ],
      "id": "a6240423"
    },
    {
      "cell_type": "code",
      "execution_count": 30,
      "metadata": {
        "vscode": {
          "languageId": "python"
        }
      },
      "outputs": [],
      "source": [
        "# Mettre en minuscules\n",
        "\"C'est OK\".lower()"
      ],
      "id": "b517c4de"
    },
    {
      "cell_type": "code",
      "execution_count": 31,
      "metadata": {
        "vscode": {
          "languageId": "python"
        }
      },
      "outputs": [],
      "source": [
        "# Compter le nombre d'occurences\n",
        "\"Mangez cinq fruits et légumes par jour\".count(\"a\")"
      ],
      "id": "a13842ef"
    },
    {
      "cell_type": "code",
      "execution_count": 32,
      "metadata": {
        "vscode": {
          "languageId": "python"
        }
      },
      "outputs": [],
      "source": [
        "# Créer une liste de mots\n",
        "\"Mangez cinq fruits et légumes par jour\".split()"
      ],
      "id": "6f841054"
    },
    {
      "cell_type": "code",
      "execution_count": 33,
      "metadata": {
        "vscode": {
          "languageId": "python"
        }
      },
      "outputs": [],
      "source": [
        "# Séparer les mots selon un caractère spécifique\n",
        "\"un-deux-trois-soleil\".split(\"-\")"
      ],
      "id": "4474888d"
    },
    {
      "cell_type": "code",
      "execution_count": 34,
      "metadata": {
        "vscode": {
          "languageId": "python"
        }
      },
      "outputs": [],
      "source": [
        "# Utiliser les strings comme templates\n",
        "\"mon numéro est : {}\".format(\"06 12 34 56 78\")"
      ],
      "id": "ee2b78db"
    },
    {
      "cell_type": "code",
      "execution_count": 35,
      "metadata": {
        "vscode": {
          "languageId": "python"
        }
      },
      "outputs": [],
      "source": [
        "# Commence par ?\n",
        "\"vélo\".startswith(\"vé\")"
      ],
      "id": "f7624e9e"
    },
    {
      "cell_type": "code",
      "execution_count": 36,
      "metadata": {
        "vscode": {
          "languageId": "python"
        }
      },
      "outputs": [],
      "source": [
        "# Se termine par ?\n",
        "\"vélo\".endswith(\"lo\")"
      ],
      "id": "1dd619ba"
    },
    {
      "cell_type": "markdown",
      "metadata": {},
      "source": [
        "### 3.3 Extraire des sous-chaînes\n",
        "\n",
        "Une chaîne de caractères est considérée en Python comme une liste de\n",
        "caractères.  \n",
        "Il est donc possible d’extraire différents éléments de cette liste"
      ],
      "id": "97a90e0d-b767-426e-85f8-1e5299b853c6"
    },
    {
      "cell_type": "code",
      "execution_count": 37,
      "metadata": {
        "vscode": {
          "languageId": "python"
        }
      },
      "outputs": [],
      "source": [
        "# Premier élémént\n",
        "\"c'est de toute beauté\"[0]"
      ],
      "id": "9c87d0f6"
    },
    {
      "cell_type": "code",
      "execution_count": 38,
      "metadata": {
        "vscode": {
          "languageId": "python"
        }
      },
      "outputs": [],
      "source": [
        "# Deuxième élémént\n",
        "\"c'est de toute beauté\"[1]"
      ],
      "id": "4b9b30ed"
    },
    {
      "cell_type": "code",
      "execution_count": 39,
      "metadata": {
        "vscode": {
          "languageId": "python"
        }
      },
      "outputs": [],
      "source": [
        "# Dernier élémént\n",
        "\"c'est de toute beauté\"[-1]"
      ],
      "id": "78a5372b"
    },
    {
      "cell_type": "code",
      "execution_count": 40,
      "metadata": {
        "vscode": {
          "languageId": "python"
        }
      },
      "outputs": [],
      "source": [
        "# À partir d'un certain caractère\n",
        "\"c'est de toute beauté\"[6:]"
      ],
      "id": "32b9a76f"
    },
    {
      "cell_type": "code",
      "execution_count": 41,
      "metadata": {
        "vscode": {
          "languageId": "python"
        }
      },
      "outputs": [],
      "source": [
        "# Jusqu'à un certain caractère\n",
        "\"c'est de toute beauté\"[:8]"
      ],
      "id": "87f4e195"
    },
    {
      "cell_type": "code",
      "execution_count": 42,
      "metadata": {
        "vscode": {
          "languageId": "python"
        }
      },
      "outputs": [],
      "source": [
        "# Extraire une sous-chaîne\n",
        "\"c'est de toute beauté\"[9:14]"
      ],
      "id": "fe739684"
    },
    {
      "cell_type": "code",
      "execution_count": 43,
      "metadata": {
        "vscode": {
          "languageId": "python"
        }
      },
      "outputs": [],
      "source": [
        "# Extraire tous les 2 caractères, à partir de la 4 ème position\n",
        "\"c'est de toute beauté\"[4::2]"
      ],
      "id": "2da8cc37"
    },
    {
      "cell_type": "code",
      "execution_count": 44,
      "metadata": {
        "vscode": {
          "languageId": "python"
        }
      },
      "outputs": [],
      "source": [
        "# Inverser une chaîne\n",
        "\"c'est de toute beauté\"[::-1]"
      ],
      "id": "8f9b9e86"
    },
    {
      "cell_type": "markdown",
      "metadata": {},
      "source": [
        "#### Caractères spéciaux\n",
        "\n",
        "Pour insérer des caractères spéciaux au sein d’une chaîne de caractère,\n",
        "il faut utiliser le caractère d’échappement `\\`.\n",
        "\n",
        "| Caractère | Description             |\n",
        "|-----------|-------------------------|\n",
        "| \\\\        | Caractère d’échappement |\n",
        "| \\\\        | Apostrophe              |\n",
        "| \\\\        | Guillemets doubles      |\n",
        "| \\n        | Retour à la ligne       |\n",
        "| \\t        | Tabulation horizontale  |\n",
        "| \\r        | Retour chariot          |"
      ],
      "id": "5368547d-1fbe-4b85-84a1-26f0b25df8a6"
    },
    {
      "cell_type": "code",
      "execution_count": 45,
      "metadata": {
        "vscode": {
          "languageId": "python"
        }
      },
      "outputs": [],
      "source": [
        "c = \"une chaîne\\nsur 2 lignes\"\n",
        "print(c)"
      ],
      "id": "1f9b3eae"
    },
    {
      "cell_type": "code",
      "execution_count": 46,
      "metadata": {
        "vscode": {
          "languageId": "python"
        }
      },
      "outputs": [],
      "source": [
        "# Définir une chaîne de caractères sur plusieurs lignes\n",
        "d = \"\"\"une autre \\\"possibilité\\\" pour\n",
        "avoir une chaîne sur 2 lignes\"\"\"\n",
        "print(d)"
      ],
      "id": "3b29cf37"
    },
    {
      "cell_type": "markdown",
      "metadata": {},
      "source": [
        "------------------------------------------------------------------------\n",
        "\n",
        "## 4 Boléens\n",
        "\n",
        "Les Booléens ne peuvent prendre que deux valeurs : `True` et `False`  \n",
        "Attention à bien respecter la notation avec la première lettre en\n",
        "majuscule et les autres en minuscule."
      ],
      "id": "b4481e8b-b948-438f-988f-2e0f1d3874d4"
    },
    {
      "cell_type": "code",
      "execution_count": 47,
      "metadata": {
        "vscode": {
          "languageId": "python"
        }
      },
      "outputs": [],
      "source": [
        "type(True)"
      ],
      "id": "bf42b0c7"
    },
    {
      "cell_type": "markdown",
      "metadata": {},
      "source": [
        "### 4.1 Opérateurs de comparaison\n",
        "\n",
        "| Opérateur | Signification           |\n",
        "|-----------|-------------------------|\n",
        "| ==        | Egal à                  |\n",
        "| !=        | Non égal à              |\n",
        "| \\<        | Strictement inférieur à |\n",
        "| \\>        | Strictement supérieur à |\n",
        "| \\<=       | Inférieur ou égal à     |\n",
        "| \\>=       | Supérieur ou égal à     |"
      ],
      "id": "4e931387-7df9-4d46-a9ff-e8763e21a467"
    },
    {
      "cell_type": "code",
      "execution_count": 48,
      "metadata": {
        "vscode": {
          "languageId": "python"
        }
      },
      "outputs": [],
      "source": [
        "8 > 5"
      ],
      "id": "858ea52d"
    },
    {
      "cell_type": "code",
      "execution_count": 49,
      "metadata": {
        "vscode": {
          "languageId": "python"
        }
      },
      "outputs": [],
      "source": [
        "1+1 == 2"
      ],
      "id": "075602ce"
    },
    {
      "cell_type": "code",
      "execution_count": 50,
      "metadata": {
        "vscode": {
          "languageId": "python"
        }
      },
      "outputs": [],
      "source": [
        "[1, 2, 3] == [1, 2, 3]"
      ],
      "id": "bfa73a41"
    },
    {
      "cell_type": "code",
      "execution_count": 51,
      "metadata": {
        "vscode": {
          "languageId": "python"
        }
      },
      "outputs": [],
      "source": [
        "\"girafe\" != \"gnou\""
      ],
      "id": "a1d6536f"
    },
    {
      "cell_type": "code",
      "execution_count": 52,
      "metadata": {
        "vscode": {
          "languageId": "python"
        }
      },
      "outputs": [],
      "source": [
        "# Enchainement d'opérateurs\n",
        "1 < 2 == 2 >= 1 != 2"
      ],
      "id": "cead0d68"
    },
    {
      "cell_type": "markdown",
      "metadata": {},
      "source": [
        "### 4.2 Opérateurs and, or, not"
      ],
      "id": "a1e02cd5-8fdf-4108-84c2-f2d3f0cba11f"
    },
    {
      "cell_type": "code",
      "execution_count": 53,
      "metadata": {
        "vscode": {
          "languageId": "python"
        }
      },
      "outputs": [],
      "source": [
        "a = True\n",
        "b = False\n",
        "\n",
        "a and b"
      ],
      "id": "f12309ed"
    },
    {
      "cell_type": "code",
      "execution_count": 54,
      "metadata": {
        "vscode": {
          "languageId": "python"
        }
      },
      "outputs": [],
      "source": [
        "a or b"
      ],
      "id": "540b6777"
    },
    {
      "cell_type": "code",
      "execution_count": 55,
      "metadata": {
        "vscode": {
          "languageId": "python"
        }
      },
      "outputs": [],
      "source": [
        "not a"
      ],
      "id": "933d91e1"
    },
    {
      "cell_type": "code",
      "execution_count": 56,
      "metadata": {
        "vscode": {
          "languageId": "python"
        }
      },
      "outputs": [],
      "source": [
        "(a or b) and (a and not b)"
      ],
      "id": "ea018dbf"
    },
    {
      "cell_type": "markdown",
      "metadata": {},
      "source": [
        "------------------------------------------------------------------------\n",
        "\n",
        "## 5 Exercices\n",
        "\n",
        "### 5.1 Exercice 1\n",
        "\n",
        "Calculer la somme des longueurs des trois chaînes de caractères\n",
        "suivantes :\n",
        "\n",
        "-   “une première chaîne”\n",
        "-   “et une deuxième”\n",
        "-   “jamais deux sans trois”"
      ],
      "id": "bced5a59-8bba-4319-b42f-3baaf1bf674e"
    },
    {
      "cell_type": "code",
      "execution_count": 57,
      "metadata": {
        "vscode": {
          "languageId": "python"
        }
      },
      "outputs": [],
      "source": [
        "# Tapez votre réponse dans cette cellule"
      ],
      "id": "14fd294c"
    },
    {
      "cell_type": "markdown",
      "metadata": {},
      "source": [
        "### 5.2 Exercice 2\n",
        "\n",
        "Quel est le type adapté pour définir un code postal ?\n",
        "\n",
        "Essayer de définir les codes postaux suivants au format `int` et au\n",
        "format `string` :\n",
        "\n",
        "-   92120\n",
        "-   02350\n",
        "\n",
        "Que concluez-vous ?"
      ],
      "id": "98c78b50-695b-4791-b3be-897947343162"
    },
    {
      "cell_type": "code",
      "execution_count": 58,
      "metadata": {
        "vscode": {
          "languageId": "python"
        }
      },
      "outputs": [],
      "source": [
        "# Tapez votre réponse dans cette cellule"
      ],
      "id": "dd28927f"
    },
    {
      "cell_type": "markdown",
      "metadata": {},
      "source": [
        "### 5.3 Exercice 3\n",
        "\n",
        "Compter le nombre de fois où la lettre e est présente dans la chaîne\n",
        "suivante : `Je compte le nombre de e dans cette chaîne de caractères`"
      ],
      "id": "cdb6abb1-a7c4-4e28-802d-13fc9462a7d9"
    },
    {
      "cell_type": "code",
      "execution_count": 59,
      "metadata": {
        "vscode": {
          "languageId": "python"
        }
      },
      "outputs": [],
      "source": [
        "# Tapez votre réponse dans cette cellule"
      ],
      "id": "2818f396"
    },
    {
      "cell_type": "markdown",
      "metadata": {},
      "source": [
        "### 5.4 Exercice 4\n",
        "\n",
        "Repérer la première position où la lettre e est présente dans la chaîne\n",
        "suivante : “Je fais un comptage des e.”\n",
        "\n",
        "**Indice** : on peut utiliser la méthode *built-in*\n",
        "[find](https://docs.python.org/fr/3/library/stdtypes.html#str.find)."
      ],
      "id": "9215a021-c02d-4c67-a8eb-f911021c41fa"
    },
    {
      "cell_type": "code",
      "execution_count": 60,
      "metadata": {
        "vscode": {
          "languageId": "python"
        }
      },
      "outputs": [],
      "source": [
        "# Tapez votre réponse dans cette cellule"
      ],
      "id": "08eb369e"
    },
    {
      "cell_type": "markdown",
      "metadata": {},
      "source": [
        "### 5.5 Exercice 5\n",
        "\n",
        "Supprimer les espaces superflus au début et à la fin de la chaîne\n",
        "suivante :\n",
        "\n",
        "**Indice** : on peut utiliser la méthode *built-in*\n",
        "[strip](https://docs.python.org/fr/3/library/stdtypes.html#str.strip)."
      ],
      "id": "2dd196a0-7182-4c85-90ac-7c24dd988360"
    },
    {
      "cell_type": "code",
      "execution_count": 61,
      "metadata": {
        "vscode": {
          "languageId": "python"
        }
      },
      "outputs": [],
      "source": [
        "# Tapez votre réponse dans cette cellule\n",
        "a = \"    Un string très mal formatté.         \""
      ],
      "id": "78b0dfd2"
    },
    {
      "cell_type": "markdown",
      "metadata": {},
      "source": [
        "### 5.6 Exercice 6\n",
        "\n",
        "Réaliser la suite d’opérations suivantes à l’aide des opérateurs\n",
        "d’incrémentation, et imprimer la valeur finale :\n",
        "\n",
        "-   initialiser une variable à 1\n",
        "-   lui soustraire 5\n",
        "-   la multiplier par 4\n",
        "-   lui ajouter 22"
      ],
      "id": "a7024829-3cae-4b80-80e3-c3a12783030a"
    },
    {
      "cell_type": "code",
      "execution_count": 62,
      "metadata": {
        "vscode": {
          "languageId": "python"
        }
      },
      "outputs": [],
      "source": [
        "# Tapez votre réponse dans cette cellule"
      ],
      "id": "a1cca1cc"
    },
    {
      "cell_type": "markdown",
      "metadata": {},
      "source": [
        "### 5.7 Exercice 7\n",
        "\n",
        "Considérons les deux séquences suivantes :\n",
        "\n",
        "-   “nous sommes en”\n",
        "-   “2022”\n",
        "\n",
        "Trouvez à partir du tutoriel deux manières différentes de les utiliser\n",
        "pour composer la séquence “nous sommes en 2022”."
      ],
      "id": "a7ce552b-fc2c-4cb7-8249-2029290cce84"
    },
    {
      "cell_type": "code",
      "execution_count": 63,
      "metadata": {
        "vscode": {
          "languageId": "python"
        }
      },
      "outputs": [],
      "source": [
        "# Tapez votre réponse dans cette cellule"
      ],
      "id": "ceea2cd5"
    }
  ],
  "nbformat": 4,
  "nbformat_minor": 5,
  "metadata": {
    "kernelspec": {
      "name": "python3",
      "display_name": "Python 3 (ipykernel)",
      "language": "python"
    },
    "language_info": {
      "name": "python",
      "codemirror_mode": {
        "name": "ipython",
        "version": "3"
      },
      "file_extension": ".py",
      "mimetype": "text/x-python",
      "nbconvert_exporter": "python",
      "pygments_lexer": "ipython3",
      "version": "3.10.14"
    }
  }
}