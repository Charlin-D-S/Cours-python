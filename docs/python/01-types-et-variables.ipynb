{
  "cells": [
    {
      "cell_type": "markdown",
      "metadata": {},
      "source": [
        "# Types et variables\n",
        "\n",
        "Ludovic Deneuville\n",
        "\n",
        "## Avant de commencer\n",
        "\n",
        "-   Téléchargez ce\n",
        "    <a href=\"01-types-et-variables.ipynb\" target=\"_blank\">notebook\n",
        "    Jupyter</a>\n",
        "-   Connectez-vous au\n",
        "    <a href=\"https://jupyther.ensai.fr/\" target=\"_blank\">Jupyter</a>\n",
        "    ENSAI avec id et mot de passe\n",
        "    -   ou une autre plate-forme (SSPCloud, Jupyter Lab, Google Colab,\n",
        "        Kaggle…)\n",
        "-   Importez le fichier .ipynb\n",
        "\n",
        "## Introduction\n",
        "\n",
        "Dans ce notebook, nous allons découvrir les types de base en python :\n",
        "\n",
        "-   numériques\n",
        "    -   **int** : entiers\n",
        "    -   **float** : décimaux\n",
        "-   chaines de caractères : **str**\n",
        "-   booléens : **bool**\n",
        "\n",
        "## 1 Affectation de variables"
      ],
      "id": "5a004f0b-b4a8-471d-bf74-dc5546f38c5f"
    },
    {
      "cell_type": "code",
      "execution_count": 1,
      "metadata": {
        "vscode": {
          "languageId": "python"
        }
      },
      "outputs": [],
      "source": [
        "# Créer la variable a et lui affecter la valeur 8\n",
        "a = 8\n",
        "\n",
        "# Créer la variable b et lui affecter la chaîne de caractère \"texte\"\n",
        "b = \"texte\"\n",
        "\n",
        "# Créer la variable c et lui affecter le booléen True\n",
        "c = True"
      ],
      "id": "92da1b31"
    },
    {
      "cell_type": "code",
      "execution_count": 2,
      "metadata": {
        "vscode": {
          "languageId": "python"
        }
      },
      "outputs": [],
      "source": [
        "# Afficher le contenu de a\n",
        "a"
      ],
      "id": "e265ac7f"
    },
    {
      "cell_type": "markdown",
      "metadata": {},
      "source": [
        "Remarque : Un notebook n’affiche que la dernière valeur qui lui est\n",
        "demandé.  \n",
        "Pour réaliser plusieurs affichage, il faut utiliser la méthode **print**"
      ],
      "id": "cec47184-919c-4976-bf35-538a3461a958"
    },
    {
      "cell_type": "code",
      "execution_count": 3,
      "metadata": {
        "vscode": {
          "languageId": "python"
        }
      },
      "outputs": [],
      "source": [
        "print(a+1)\n",
        "print(b)\n",
        "print(c)"
      ],
      "id": "bd3b063f"
    },
    {
      "cell_type": "markdown",
      "metadata": {},
      "source": [
        "Python est **langage typé dynamiquement**.  \n",
        "Cela siginifie qu’il est possible de modifier le type d’une variable\n",
        "sans contrainte.  \n",
        "Si la variable **a** contient du texte, il est possible de lui affecter\n",
        "ensuite un entier."
      ],
      "id": "6f28a07b-b596-4566-a594-c45de37147f5"
    },
    {
      "cell_type": "code",
      "execution_count": 4,
      "metadata": {
        "vscode": {
          "languageId": "python"
        }
      },
      "outputs": [],
      "source": [
        "print(a)\n",
        "a = \"abcd\"\n",
        "print(a)\n",
        "a = False\n",
        "print(a)"
      ],
      "id": "9125c020"
    },
    {
      "cell_type": "markdown",
      "metadata": {},
      "source": [
        "**Astuce** : Pour afficher toutes les variables créées et leurs valeurs,\n",
        "vous pouvez utiliser la commande `%whos`"
      ],
      "id": "a11dc76e-b6cb-43b5-ad85-a91fe984e015"
    },
    {
      "cell_type": "code",
      "execution_count": 5,
      "metadata": {
        "vscode": {
          "languageId": "python"
        }
      },
      "outputs": [],
      "source": [
        "%whos"
      ],
      "id": "b73b18fb"
    },
    {
      "cell_type": "markdown",
      "metadata": {},
      "source": [
        "------------------------------------------------------------------------\n",
        "\n",
        "## 2 Nombres\n",
        "\n",
        "La fonction `type` permet de connaitre le type"
      ],
      "id": "b851b598-0eef-439e-917b-d43331e8d5f4"
    },
    {
      "cell_type": "code",
      "execution_count": 6,
      "metadata": {
        "vscode": {
          "languageId": "python"
        }
      },
      "outputs": [],
      "source": [
        "a = 8\n",
        "type(a)"
      ],
      "id": "4cb08398"
    },
    {
      "cell_type": "code",
      "execution_count": 7,
      "metadata": {
        "vscode": {
          "languageId": "python"
        }
      },
      "outputs": [],
      "source": [
        "b = 33.5\n",
        "type(b)"
      ],
      "id": "4eb5579b"
    },
    {
      "cell_type": "code",
      "execution_count": 8,
      "metadata": {
        "vscode": {
          "languageId": "python"
        }
      },
      "outputs": [],
      "source": [
        "float('inf')"
      ],
      "id": "02b31904"
    },
    {
      "cell_type": "markdown",
      "metadata": {},
      "source": [
        "### 2.1 Convertions\n",
        "\n",
        "Les fonctions `float` et `int` peuvent être utilisées pour passer d’un\n",
        "type à l’autre."
      ],
      "id": "64591844-4e1e-404a-bfa0-0853dc880250"
    },
    {
      "cell_type": "code",
      "execution_count": 9,
      "metadata": {
        "vscode": {
          "languageId": "python"
        }
      },
      "outputs": [],
      "source": [
        "# Conversion en float\n",
        "float(a)"
      ],
      "id": "b67deb01"
    },
    {
      "cell_type": "code",
      "execution_count": 10,
      "metadata": {
        "vscode": {
          "languageId": "python"
        }
      },
      "outputs": [],
      "source": [
        "# Conversion en int (partie entière)\n",
        "int(b)"
      ],
      "id": "21240175"
    },
    {
      "cell_type": "code",
      "execution_count": 11,
      "metadata": {
        "vscode": {
          "languageId": "python"
        }
      },
      "outputs": [],
      "source": [
        "# Notation scientifique\n",
        "2.1e3"
      ],
      "id": "c080a78a"
    },
    {
      "cell_type": "markdown",
      "metadata": {},
      "source": [
        "### 2.2 Opérations arithmétiques de base"
      ],
      "id": "b0f2689c-3013-4540-995e-76d64db33061"
    },
    {
      "cell_type": "code",
      "execution_count": 12,
      "metadata": {
        "vscode": {
          "languageId": "python"
        }
      },
      "outputs": [],
      "source": [
        "# Addition\n",
        "1 + 1"
      ],
      "id": "50f37378"
    },
    {
      "cell_type": "code",
      "execution_count": 13,
      "metadata": {
        "vscode": {
          "languageId": "python"
        }
      },
      "outputs": [],
      "source": [
        "# Soustraction\n",
        "6 - 2"
      ],
      "id": "d8ffe858"
    },
    {
      "cell_type": "code",
      "execution_count": 14,
      "metadata": {
        "vscode": {
          "languageId": "python"
        }
      },
      "outputs": [],
      "source": [
        "# Multiplication\n",
        "3 * 4"
      ],
      "id": "83ef3bee"
    },
    {
      "cell_type": "code",
      "execution_count": 15,
      "metadata": {
        "vscode": {
          "languageId": "python"
        }
      },
      "outputs": [],
      "source": [
        "# Division\n",
        "11 / 5"
      ],
      "id": "627fe442"
    },
    {
      "cell_type": "code",
      "execution_count": 16,
      "metadata": {
        "vscode": {
          "languageId": "python"
        }
      },
      "outputs": [],
      "source": [
        "# Division euclidienne : quotient\n",
        "11 // 5"
      ],
      "id": "599683ae"
    },
    {
      "cell_type": "code",
      "execution_count": 17,
      "metadata": {
        "vscode": {
          "languageId": "python"
        }
      },
      "outputs": [],
      "source": [
        "# Division euclidienne : reste (modulo)\n",
        "11 % 5"
      ],
      "id": "00c711e0"
    },
    {
      "cell_type": "code",
      "execution_count": 18,
      "metadata": {
        "vscode": {
          "languageId": "python"
        }
      },
      "outputs": [],
      "source": [
        "# Puissance\n",
        "2 ** 10"
      ],
      "id": "9539556e"
    },
    {
      "cell_type": "code",
      "execution_count": 19,
      "metadata": {
        "vscode": {
          "languageId": "python"
        }
      },
      "outputs": [],
      "source": [
        "# Racine carrée\n",
        "36 ** 0.5"
      ],
      "id": "215e4955"
    },
    {
      "cell_type": "markdown",
      "metadata": {},
      "source": [
        "------------------------------------------------------------------------\n",
        "\n",
        "## 3 Chaînes de charactères\n",
        "\n",
        "Les chaînes de caractères (strings) sont utilisées pour stocker de\n",
        "l’information textuelle.\n",
        "\n",
        "Un *string* se définit en mettant l’information entre apostrophes `'` ou\n",
        "entre guillemets `\"`.\n",
        "\n",
        "### 3.1 Définition"
      ],
      "id": "529d4161-cff9-4667-a259-97d388a62981"
    },
    {
      "cell_type": "code",
      "execution_count": 20,
      "metadata": {
        "vscode": {
          "languageId": "python"
        }
      },
      "outputs": [],
      "source": [
        "a = 'une chaine de caractères définie avec des apostrophes'\n",
        "a"
      ],
      "id": "505df9c0"
    },
    {
      "cell_type": "code",
      "execution_count": 21,
      "metadata": {
        "vscode": {
          "languageId": "python"
        }
      },
      "outputs": [],
      "source": [
        "b = \"une chaine de caractères définie avec des guillemets\"\n",
        "b"
      ],
      "id": "4e058109"
    },
    {
      "cell_type": "code",
      "execution_count": 22,
      "metadata": {
        "vscode": {
          "languageId": "python"
        }
      },
      "outputs": [],
      "source": [
        "# Pour inclure une apostrophe à l'intérieur de la chaine\n",
        "\"j'inclus l'apostrophe\""
      ],
      "id": "4c0da9d1"
    },
    {
      "cell_type": "code",
      "execution_count": 23,
      "metadata": {
        "vscode": {
          "languageId": "python"
        }
      },
      "outputs": [],
      "source": [
        "# Pour inclure des guillemets à l'intérieur de la chaine\n",
        "'les \"guillemets\" sont là'"
      ],
      "id": "8010e5f9"
    },
    {
      "cell_type": "markdown",
      "metadata": {},
      "source": [
        "### 3.2 Métodes utiles\n",
        "\n",
        "Voici un aperçu de quelques méthodes utiles. De nombreuses autres\n",
        "existent (voir [documentation\n",
        "officielle](https://docs.python.org/3/library/stdtypes.html#string-methods))"
      ],
      "id": "b1ffe585-da39-4ddc-92b5-2f62c365c348"
    },
    {
      "cell_type": "code",
      "execution_count": 24,
      "metadata": {
        "vscode": {
          "languageId": "python"
        }
      },
      "outputs": [],
      "source": [
        "# Longueur d'une chaîne (nombre de caractères)\n",
        "len(\"J'ai 18 caractères\")"
      ],
      "id": "bc8b5ec0"
    },
    {
      "cell_type": "code",
      "execution_count": 25,
      "metadata": {
        "vscode": {
          "languageId": "python"
        }
      },
      "outputs": [],
      "source": [
        "# Concaténation\n",
        "\"I am\" + \"your father\"\n",
        "\" \".join(\"I am\", \"your father\")"
      ],
      "id": "c7cd1331"
    },
    {
      "cell_type": "code",
      "execution_count": 26,
      "metadata": {
        "vscode": {
          "languageId": "python"
        }
      },
      "outputs": [],
      "source": [
        "# Concaténation avec un nombre\n",
        "annee = 2\n",
        "\"je suis en \" + annee + \"ème année\""
      ],
      "id": "45310cc7"
    },
    {
      "cell_type": "markdown",
      "metadata": {},
      "source": [
        "Problème, il faut au préalable convertir le nombre en chaîne de\n",
        "caractères.  \n",
        "La méthode **str** fait le travail."
      ],
      "id": "2e4952cc-063a-4d82-88ca-c17e91acad31"
    },
    {
      "cell_type": "code",
      "execution_count": 27,
      "metadata": {
        "vscode": {
          "languageId": "python"
        }
      },
      "outputs": [],
      "source": [
        "# Concaténation avec un nombre - après convertion du nombre en string\n",
        "annee = 2\n",
        "\"je suis en \" + str(annee) + \"ème année\""
      ],
      "id": "fb38660a"
    },
    {
      "cell_type": "code",
      "execution_count": 28,
      "metadata": {
        "vscode": {
          "languageId": "python"
        }
      },
      "outputs": [],
      "source": [
        "# Répétition\n",
        "\"hop \" * 5"
      ],
      "id": "901d9210"
    },
    {
      "cell_type": "code",
      "execution_count": 29,
      "metadata": {
        "vscode": {
          "languageId": "python"
        }
      },
      "outputs": [],
      "source": [
        "# Mettre en majuscules\n",
        "\"C'est OK\".upper()"
      ],
      "id": "47d42b58"
    },
    {
      "cell_type": "code",
      "execution_count": 30,
      "metadata": {
        "vscode": {
          "languageId": "python"
        }
      },
      "outputs": [],
      "source": [
        "# Mettre en minuscules\n",
        "\"C'est OK\".lower()"
      ],
      "id": "c1355a19"
    },
    {
      "cell_type": "code",
      "execution_count": 31,
      "metadata": {
        "vscode": {
          "languageId": "python"
        }
      },
      "outputs": [],
      "source": [
        "# Compter le nombre d'occurences\n",
        "\"Mangez cinq fruits et légumes par jour\".count(\"a\")"
      ],
      "id": "c35f96c3"
    },
    {
      "cell_type": "code",
      "execution_count": 32,
      "metadata": {
        "vscode": {
          "languageId": "python"
        }
      },
      "outputs": [],
      "source": [
        "# Créer une liste de mots\n",
        "\"Mangez cinq fruits et légumes par jour\".split()"
      ],
      "id": "cccada24"
    },
    {
      "cell_type": "code",
      "execution_count": 33,
      "metadata": {
        "vscode": {
          "languageId": "python"
        }
      },
      "outputs": [],
      "source": [
        "# Séparer les mots selon un caractère spécifique\n",
        "\"un-deux-trois-soleil\".split(\"-\")"
      ],
      "id": "ce5e478f"
    },
    {
      "cell_type": "code",
      "execution_count": 34,
      "metadata": {
        "vscode": {
          "languageId": "python"
        }
      },
      "outputs": [],
      "source": [
        "# Utiliser les strings comme templates\n",
        "\"mon numéro est : {}\".format(\"06 12 34 56 78\")"
      ],
      "id": "a808e2b8"
    },
    {
      "cell_type": "code",
      "execution_count": 35,
      "metadata": {
        "vscode": {
          "languageId": "python"
        }
      },
      "outputs": [],
      "source": [
        "# Commence par ?\n",
        "\"vélo\".startswith(\"vé\")"
      ],
      "id": "747e3237"
    },
    {
      "cell_type": "code",
      "execution_count": 36,
      "metadata": {
        "vscode": {
          "languageId": "python"
        }
      },
      "outputs": [],
      "source": [
        "# Se termine par ?\n",
        "\"vélo\".endswith(\"lo\")"
      ],
      "id": "4acb7c2a"
    },
    {
      "cell_type": "markdown",
      "metadata": {},
      "source": [
        "### 3.3 Extraire des sous-chaînes\n",
        "\n",
        "Une chaîne de caractères est considérée en Python comme une liste de\n",
        "caractères.  \n",
        "Il est donc possible d’extraire différents éléments de cette liste"
      ],
      "id": "1c1b6755-4901-4a3f-98b5-acf06dd8b16c"
    },
    {
      "cell_type": "code",
      "execution_count": 37,
      "metadata": {
        "vscode": {
          "languageId": "python"
        }
      },
      "outputs": [],
      "source": [
        "# Premier élémént\n",
        "\"c'est de toute beauté\"[0]"
      ],
      "id": "16d09fd5"
    },
    {
      "cell_type": "code",
      "execution_count": 38,
      "metadata": {
        "vscode": {
          "languageId": "python"
        }
      },
      "outputs": [],
      "source": [
        "# Deuxième élémént\n",
        "\"c'est de toute beauté\"[1]"
      ],
      "id": "aff9c1ec"
    },
    {
      "cell_type": "code",
      "execution_count": 39,
      "metadata": {
        "vscode": {
          "languageId": "python"
        }
      },
      "outputs": [],
      "source": [
        "# Dernier élémént\n",
        "\"c'est de toute beauté\"[-1]"
      ],
      "id": "b0004eb9"
    },
    {
      "cell_type": "code",
      "execution_count": 40,
      "metadata": {
        "vscode": {
          "languageId": "python"
        }
      },
      "outputs": [],
      "source": [
        "# À partir d'un certain caractère\n",
        "\"c'est de toute beauté\"[6:]"
      ],
      "id": "f57bc9a9"
    },
    {
      "cell_type": "code",
      "execution_count": 41,
      "metadata": {
        "vscode": {
          "languageId": "python"
        }
      },
      "outputs": [],
      "source": [
        "# Jusqu'à un certain caractère\n",
        "\"c'est de toute beauté\"[:8]"
      ],
      "id": "2992a0e3"
    },
    {
      "cell_type": "code",
      "execution_count": 42,
      "metadata": {
        "vscode": {
          "languageId": "python"
        }
      },
      "outputs": [],
      "source": [
        "# Extraire une sous-chaîne\n",
        "\"c'est de toute beauté\"[9:14]"
      ],
      "id": "51e1a89f"
    },
    {
      "cell_type": "code",
      "execution_count": 43,
      "metadata": {
        "vscode": {
          "languageId": "python"
        }
      },
      "outputs": [],
      "source": [
        "# Extraire tous les 2 caractères, à partir de la 4 ème position\n",
        "\"c'est de toute beauté\"[4::2]"
      ],
      "id": "f903f54b"
    },
    {
      "cell_type": "code",
      "execution_count": 44,
      "metadata": {
        "vscode": {
          "languageId": "python"
        }
      },
      "outputs": [],
      "source": [
        "# Inverser une chaîne\n",
        "\"c'est de toute beauté\"[::-1]"
      ],
      "id": "11d8012a"
    },
    {
      "cell_type": "markdown",
      "metadata": {},
      "source": [
        "#### Caractères spéciaux\n",
        "\n",
        "Pour insérer des caractères spéciaux au sein d’une chaîne de caractère,\n",
        "il faut utiliser le caractère d’échappement `\\`.\n",
        "\n",
        "| Caractère | Description             |\n",
        "|-----------|-------------------------|\n",
        "| \\\\        | Caractère d’échappement |\n",
        "| \\\\        | Apostrophe              |\n",
        "| \\\\        | Guillemets doubles      |\n",
        "| \\n        | Retour à la ligne       |\n",
        "| \\t        | Tabulation horizontale  |\n",
        "| \\r        | Retour chariot          |"
      ],
      "id": "47f4e473-f0fa-4a4e-9723-985acbbdef81"
    },
    {
      "cell_type": "code",
      "execution_count": 45,
      "metadata": {
        "vscode": {
          "languageId": "python"
        }
      },
      "outputs": [],
      "source": [
        "c = \"une chaîne\\nsur 2 lignes\"\n",
        "print(c)"
      ],
      "id": "1528042d"
    },
    {
      "cell_type": "code",
      "execution_count": 46,
      "metadata": {
        "vscode": {
          "languageId": "python"
        }
      },
      "outputs": [],
      "source": [
        "# Définir une chaîne de caractères sur plusieurs lignes\n",
        "d = \"\"\"une autre \\\"possibilité\\\" pour\n",
        "avoir une chaîne sur 2 lignes\"\"\"\n",
        "print(d)"
      ],
      "id": "344e8823"
    },
    {
      "cell_type": "markdown",
      "metadata": {},
      "source": [
        "------------------------------------------------------------------------\n",
        "\n",
        "## 4 Boléens\n",
        "\n",
        "Les Booléens ne peuvent prendre que deux valeurs : `True` et `False`  \n",
        "Attention à bien respecter la notation avec la première lettre en\n",
        "majuscule et les autres en minuscule."
      ],
      "id": "b9db2c64-f3a7-47e3-95dd-8edad7dfc923"
    },
    {
      "cell_type": "code",
      "execution_count": 47,
      "metadata": {
        "vscode": {
          "languageId": "python"
        }
      },
      "outputs": [],
      "source": [
        "type(True)"
      ],
      "id": "922f633a"
    },
    {
      "cell_type": "markdown",
      "metadata": {},
      "source": [
        "### 4.1 Opérateurs de comparaison\n",
        "\n",
        "| Opérateur | Signification           |\n",
        "|-----------|-------------------------|\n",
        "| ==        | Egal à                  |\n",
        "| !=        | Non égal à              |\n",
        "| \\<        | Strictement inférieur à |\n",
        "| \\>        | Strictement supérieur à |\n",
        "| \\<=       | Inférieur ou égal à     |\n",
        "| \\>=       | Supérieur ou égal à     |"
      ],
      "id": "0da80562-811f-433d-8f62-3ce80d7ed3f2"
    },
    {
      "cell_type": "code",
      "execution_count": 48,
      "metadata": {
        "vscode": {
          "languageId": "python"
        }
      },
      "outputs": [],
      "source": [
        "8 > 5"
      ],
      "id": "8a15342e"
    },
    {
      "cell_type": "code",
      "execution_count": 49,
      "metadata": {
        "vscode": {
          "languageId": "python"
        }
      },
      "outputs": [],
      "source": [
        "1+1 == 2"
      ],
      "id": "8435ee69"
    },
    {
      "cell_type": "code",
      "execution_count": 50,
      "metadata": {
        "vscode": {
          "languageId": "python"
        }
      },
      "outputs": [],
      "source": [
        "[1, 2, 3] == [1, 2, 3]"
      ],
      "id": "e61e0ac5"
    },
    {
      "cell_type": "code",
      "execution_count": 51,
      "metadata": {
        "vscode": {
          "languageId": "python"
        }
      },
      "outputs": [],
      "source": [
        "\"girafe\" != \"gnou\""
      ],
      "id": "e007f973"
    },
    {
      "cell_type": "code",
      "execution_count": 52,
      "metadata": {
        "vscode": {
          "languageId": "python"
        }
      },
      "outputs": [],
      "source": [
        "# Enchainement d'opérateurs\n",
        "1 < 2 == 2 >= 1 != 2"
      ],
      "id": "c9526df1"
    },
    {
      "cell_type": "markdown",
      "metadata": {},
      "source": [
        "### 4.2 Opérateurs and, or, not"
      ],
      "id": "3b965787-c196-4793-a097-c851fc6aa77a"
    },
    {
      "cell_type": "code",
      "execution_count": 53,
      "metadata": {
        "vscode": {
          "languageId": "python"
        }
      },
      "outputs": [],
      "source": [
        "a = True\n",
        "b = False\n",
        "\n",
        "a and b"
      ],
      "id": "3b2c4fa6"
    },
    {
      "cell_type": "code",
      "execution_count": 54,
      "metadata": {
        "vscode": {
          "languageId": "python"
        }
      },
      "outputs": [],
      "source": [
        "a or b"
      ],
      "id": "59140114"
    },
    {
      "cell_type": "code",
      "execution_count": 55,
      "metadata": {
        "vscode": {
          "languageId": "python"
        }
      },
      "outputs": [],
      "source": [
        "not a"
      ],
      "id": "b5da53f9"
    },
    {
      "cell_type": "code",
      "execution_count": 56,
      "metadata": {
        "vscode": {
          "languageId": "python"
        }
      },
      "outputs": [],
      "source": [
        "(a or b) and (a and not b)"
      ],
      "id": "01818770"
    },
    {
      "cell_type": "markdown",
      "metadata": {},
      "source": [
        "------------------------------------------------------------------------\n",
        "\n",
        "## 5 Exercices\n",
        "\n",
        "### 5.1 Exercice 1\n",
        "\n",
        "Calculer la somme des longueurs des trois chaînes de caractères\n",
        "suivantes :\n",
        "\n",
        "-   “une première chaîne”\n",
        "-   “et une deuxième”\n",
        "-   “jamais deux sans trois”"
      ],
      "id": "02f6bf25-5741-412e-b764-11f47f253bed"
    },
    {
      "cell_type": "code",
      "execution_count": 57,
      "metadata": {
        "vscode": {
          "languageId": "python"
        }
      },
      "outputs": [],
      "source": [
        "# Tapez votre réponse dans cette cellule"
      ],
      "id": "b0bde2aa"
    },
    {
      "cell_type": "markdown",
      "metadata": {},
      "source": [
        "### 5.2 Exercice 2\n",
        "\n",
        "Quel est le type adapté pour définir un code postal ?\n",
        "\n",
        "Essayer de définir les codes postaux suivants au format `int` et au\n",
        "format `string` :\n",
        "\n",
        "-   92120\n",
        "-   02350\n",
        "\n",
        "Que concluez-vous ?"
      ],
      "id": "f008225f-8922-49db-a6e6-6ae423b7fbe9"
    },
    {
      "cell_type": "code",
      "execution_count": 58,
      "metadata": {
        "vscode": {
          "languageId": "python"
        }
      },
      "outputs": [],
      "source": [
        "# Tapez votre réponse dans cette cellule"
      ],
      "id": "59394ec3"
    },
    {
      "cell_type": "markdown",
      "metadata": {},
      "source": [
        "### 5.3 Exercice 3\n",
        "\n",
        "Compter le nombre de fois où la lettre e est présente dans la chaîne\n",
        "suivante : `Je compte le nombre de e dans cette chaîne de caractères`"
      ],
      "id": "1dd680fc-aa33-426a-a366-6bf2314d8dcf"
    },
    {
      "cell_type": "code",
      "execution_count": 59,
      "metadata": {
        "vscode": {
          "languageId": "python"
        }
      },
      "outputs": [],
      "source": [
        "# Tapez votre réponse dans cette cellule"
      ],
      "id": "dc3cf0f2"
    },
    {
      "cell_type": "markdown",
      "metadata": {},
      "source": [
        "### 5.4 Exercice 4\n",
        "\n",
        "Repérer la première position où la lettre e est présente dans la chaîne\n",
        "suivante : “Je fais un comptage des e.”\n",
        "\n",
        "**Indice** : on peut utiliser la méthode *built-in*\n",
        "[find](https://docs.python.org/fr/3/library/stdtypes.html#str.find)."
      ],
      "id": "0de8fa01-17cf-4961-acf3-042cfec493e7"
    },
    {
      "cell_type": "code",
      "execution_count": 60,
      "metadata": {
        "vscode": {
          "languageId": "python"
        }
      },
      "outputs": [],
      "source": [
        "# Tapez votre réponse dans cette cellule"
      ],
      "id": "9bfce2a5"
    },
    {
      "cell_type": "markdown",
      "metadata": {},
      "source": [
        "### 5.5 Exercice 5\n",
        "\n",
        "Supprimer les espaces superflus au début et à la fin de la chaîne\n",
        "suivante :\n",
        "\n",
        "**Indice** : on peut utiliser la méthode *built-in*\n",
        "[strip](https://docs.python.org/fr/3/library/stdtypes.html#str.strip)."
      ],
      "id": "9a3bde18-f4d2-46c6-b84c-df4a0a7c5f78"
    },
    {
      "cell_type": "code",
      "execution_count": 61,
      "metadata": {
        "vscode": {
          "languageId": "python"
        }
      },
      "outputs": [],
      "source": [
        "# Tapez votre réponse dans cette cellule\n",
        "a = \"    Un string très mal formatté.         \""
      ],
      "id": "cc5708b6"
    },
    {
      "cell_type": "markdown",
      "metadata": {},
      "source": [
        "### 5.6 Exercice 6\n",
        "\n",
        "Réaliser la suite d’opérations suivantes à l’aide des opérateurs\n",
        "d’incrémentation, et imprimer la valeur finale :\n",
        "\n",
        "-   initialiser une variable à 1\n",
        "-   lui soustraire 5\n",
        "-   la multiplier par 4\n",
        "-   lui ajouter 22"
      ],
      "id": "d123ed31-0a0b-4c48-bd4d-5d6743255867"
    },
    {
      "cell_type": "code",
      "execution_count": 62,
      "metadata": {
        "vscode": {
          "languageId": "python"
        }
      },
      "outputs": [],
      "source": [
        "# Tapez votre réponse dans cette cellule"
      ],
      "id": "d375f407"
    },
    {
      "cell_type": "markdown",
      "metadata": {},
      "source": [
        "### 5.7 Exercice 7\n",
        "\n",
        "Considérons les deux séquences suivantes :\n",
        "\n",
        "-   “nous sommes en”\n",
        "-   “2022”\n",
        "\n",
        "Trouvez à partir du tutoriel deux manières différentes de les utiliser\n",
        "pour composer la séquence “nous sommes en 2022”."
      ],
      "id": "c87c4a3b-5409-4cf2-9eb9-94f64183da5e"
    },
    {
      "cell_type": "code",
      "execution_count": 63,
      "metadata": {
        "vscode": {
          "languageId": "python"
        }
      },
      "outputs": [],
      "source": [
        "# Tapez votre réponse dans cette cellule"
      ],
      "id": "281e54b6"
    }
  ],
  "nbformat": 4,
  "nbformat_minor": 5,
  "metadata": {
    "kernelspec": {
      "name": "python3",
      "display_name": "Python 3 (ipykernel)",
      "language": "python"
    },
    "language_info": {
      "name": "python",
      "codemirror_mode": {
        "name": "ipython",
        "version": "3"
      },
      "file_extension": ".py",
      "mimetype": "text/x-python",
      "nbconvert_exporter": "python",
      "pygments_lexer": "ipython3",
      "version": "3.10.14"
    }
  }
}