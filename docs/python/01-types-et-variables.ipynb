{
  "cells": [
    {
      "cell_type": "markdown",
      "metadata": {},
      "source": [
        "# Types et variables\n",
        "\n",
        "Ludovic Deneuville\n",
        "\n",
        "## Avant de commencer\n",
        "\n",
        "-   Téléchargez ce\n",
        "    <a href=\"01-types-et-variables.ipynb\" target=\"_blank\">notebook\n",
        "    Jupyter</a>\n",
        "-   Connectez-vous au\n",
        "    <a href=\"https://jupyther.ensai.fr/\" target=\"_blank\">Jupyter</a>\n",
        "    ENSAI avec id et mot de passe\n",
        "    -   ou une autre plate-forme (SSPCloud, Jupyter Lab, Google Colab,\n",
        "        Kaggle…)\n",
        "-   Importez le fichier .ipynb\n",
        "\n",
        "## Introduction\n",
        "\n",
        "Dans ce notebook, nous allons découvrir les types de base en python :\n",
        "\n",
        "-   numériques\n",
        "    -   **int** : entiers\n",
        "    -   **float** : décimaux\n",
        "-   chaines de caractères : **str**\n",
        "-   booléens : **bool**\n",
        "\n",
        "## 1 Affectation de variables"
      ],
      "id": "589947e7-b24f-4e8f-9101-96cc68ceafba"
    },
    {
      "cell_type": "code",
      "execution_count": 1,
      "metadata": {
        "vscode": {
          "languageId": "python"
        }
      },
      "outputs": [],
      "source": [
        "# Créer la variable a et lui affecter la valeur 8\n",
        "a = 8\n",
        "\n",
        "# Créer la variable b et lui affecter la chaîne de caractère \"texte\"\n",
        "b = \"texte\"\n",
        "\n",
        "# Créer la variable c et lui affecter le booléen True\n",
        "c = True"
      ],
      "id": "afea8c99"
    },
    {
      "cell_type": "code",
      "execution_count": 2,
      "metadata": {
        "vscode": {
          "languageId": "python"
        }
      },
      "outputs": [],
      "source": [
        "# Afficher le contenu de a\n",
        "a"
      ],
      "id": "ec0fdf97"
    },
    {
      "cell_type": "markdown",
      "metadata": {},
      "source": [
        "Remarque : Un notebook n’affiche que la dernière valeur qui lui est\n",
        "demandé.  \n",
        "Pour réaliser plusieurs affichage, il faut utiliser la méthode **print**"
      ],
      "id": "5bb06e5e-2f65-4097-9325-34f4eb5e3064"
    },
    {
      "cell_type": "code",
      "execution_count": 3,
      "metadata": {
        "vscode": {
          "languageId": "python"
        }
      },
      "outputs": [],
      "source": [
        "print(a+1)\n",
        "print(b)\n",
        "print(c)"
      ],
      "id": "4d2d2752"
    },
    {
      "cell_type": "markdown",
      "metadata": {},
      "source": [
        "Python est **langage typé dynamiquement**.  \n",
        "Cela siginifie qu’il est possible de modifier le type d’une variable\n",
        "sans contrainte.  \n",
        "Si la variable **a** contient du texte, il est possible de lui affecter\n",
        "ensuite un entier."
      ],
      "id": "3f358c4e-2271-4b1a-a4e5-37d5c76edb48"
    },
    {
      "cell_type": "code",
      "execution_count": 4,
      "metadata": {
        "vscode": {
          "languageId": "python"
        }
      },
      "outputs": [],
      "source": [
        "print(a)\n",
        "a = \"abcd\"\n",
        "print(a)\n",
        "a = False\n",
        "print(a)"
      ],
      "id": "8bf32a47"
    },
    {
      "cell_type": "markdown",
      "metadata": {},
      "source": [
        "**Astuce** : Pour afficher toutes les variables créées et leurs valeurs,\n",
        "vous pouvez utiliser la commande `%whos`"
      ],
      "id": "751311db-14d2-43e8-96a1-897f59325e4a"
    },
    {
      "cell_type": "code",
      "execution_count": 5,
      "metadata": {
        "vscode": {
          "languageId": "python"
        }
      },
      "outputs": [],
      "source": [
        "%whos"
      ],
      "id": "3fe7a4a6"
    },
    {
      "cell_type": "markdown",
      "metadata": {},
      "source": [
        "------------------------------------------------------------------------\n",
        "\n",
        "## 2 Nombres\n",
        "\n",
        "La fonction `type` permet de connaitre le type"
      ],
      "id": "515e73a6-2067-41ac-a249-0c37005c0fc4"
    },
    {
      "cell_type": "code",
      "execution_count": 6,
      "metadata": {
        "vscode": {
          "languageId": "python"
        }
      },
      "outputs": [],
      "source": [
        "a = 8\n",
        "type(a)"
      ],
      "id": "98cc67b5"
    },
    {
      "cell_type": "code",
      "execution_count": 7,
      "metadata": {
        "vscode": {
          "languageId": "python"
        }
      },
      "outputs": [],
      "source": [
        "b = 33.5\n",
        "type(b)"
      ],
      "id": "15f94f34"
    },
    {
      "cell_type": "code",
      "execution_count": 8,
      "metadata": {
        "vscode": {
          "languageId": "python"
        }
      },
      "outputs": [],
      "source": [
        "float('inf')"
      ],
      "id": "aaa12257"
    },
    {
      "cell_type": "markdown",
      "metadata": {},
      "source": [
        "### 2.1 Convertions\n",
        "\n",
        "Les fonctions `float` et `int` peuvent être utilisées pour passer d’un\n",
        "type à l’autre."
      ],
      "id": "941bd0d3-7cf5-4a60-a8b4-71394ca614a7"
    },
    {
      "cell_type": "code",
      "execution_count": 9,
      "metadata": {
        "vscode": {
          "languageId": "python"
        }
      },
      "outputs": [],
      "source": [
        "# Conversion en float\n",
        "float(a)"
      ],
      "id": "a93cc1b1"
    },
    {
      "cell_type": "code",
      "execution_count": 10,
      "metadata": {
        "vscode": {
          "languageId": "python"
        }
      },
      "outputs": [],
      "source": [
        "# Conversion en int (partie entière)\n",
        "int(b)"
      ],
      "id": "b2fb9c98"
    },
    {
      "cell_type": "code",
      "execution_count": 11,
      "metadata": {
        "vscode": {
          "languageId": "python"
        }
      },
      "outputs": [],
      "source": [
        "# Notation scientifique\n",
        "2.1e3"
      ],
      "id": "f7115ec2"
    },
    {
      "cell_type": "markdown",
      "metadata": {},
      "source": [
        "### 2.2 Opérations arithmétiques de base"
      ],
      "id": "0fa46fa2-4561-4074-9bf7-a9e8e7cfe275"
    },
    {
      "cell_type": "code",
      "execution_count": 12,
      "metadata": {
        "vscode": {
          "languageId": "python"
        }
      },
      "outputs": [],
      "source": [
        "# Addition\n",
        "1 + 1"
      ],
      "id": "6c5bcf81"
    },
    {
      "cell_type": "code",
      "execution_count": 13,
      "metadata": {
        "vscode": {
          "languageId": "python"
        }
      },
      "outputs": [],
      "source": [
        "# Soustraction\n",
        "6 - 2"
      ],
      "id": "534539cf"
    },
    {
      "cell_type": "code",
      "execution_count": 14,
      "metadata": {
        "vscode": {
          "languageId": "python"
        }
      },
      "outputs": [],
      "source": [
        "# Multiplication\n",
        "3 * 4"
      ],
      "id": "d72b60fc"
    },
    {
      "cell_type": "code",
      "execution_count": 15,
      "metadata": {
        "vscode": {
          "languageId": "python"
        }
      },
      "outputs": [],
      "source": [
        "# Division\n",
        "11 / 5"
      ],
      "id": "edb69bf2"
    },
    {
      "cell_type": "code",
      "execution_count": 16,
      "metadata": {
        "vscode": {
          "languageId": "python"
        }
      },
      "outputs": [],
      "source": [
        "# Division euclidienne : quotient\n",
        "11 // 5"
      ],
      "id": "a59f4173"
    },
    {
      "cell_type": "code",
      "execution_count": 17,
      "metadata": {
        "vscode": {
          "languageId": "python"
        }
      },
      "outputs": [],
      "source": [
        "# Division euclidienne : reste (modulo)\n",
        "11 % 5"
      ],
      "id": "48f099f0"
    },
    {
      "cell_type": "code",
      "execution_count": 18,
      "metadata": {
        "vscode": {
          "languageId": "python"
        }
      },
      "outputs": [],
      "source": [
        "# Puissance\n",
        "2 ** 10"
      ],
      "id": "adb399e0"
    },
    {
      "cell_type": "code",
      "execution_count": 19,
      "metadata": {
        "vscode": {
          "languageId": "python"
        }
      },
      "outputs": [],
      "source": [
        "# Racine carrée\n",
        "36 ** 0.5"
      ],
      "id": "9766606e"
    },
    {
      "cell_type": "markdown",
      "metadata": {},
      "source": [
        "------------------------------------------------------------------------\n",
        "\n",
        "## 3 Chaînes de charactères\n",
        "\n",
        "Les chaînes de caractères (strings) sont utilisées pour stocker de\n",
        "l’information textuelle.\n",
        "\n",
        "Un *string* se définit en mettant l’information entre apostrophes `'` ou\n",
        "entre guillemets `\"`.\n",
        "\n",
        "### 3.1 Définition"
      ],
      "id": "1fb07cef-45e8-410b-9a6c-bff8690cc512"
    },
    {
      "cell_type": "code",
      "execution_count": 20,
      "metadata": {
        "vscode": {
          "languageId": "python"
        }
      },
      "outputs": [],
      "source": [
        "a = 'une chaine de caractères définie avec des apostrophes'\n",
        "a"
      ],
      "id": "14833e8b"
    },
    {
      "cell_type": "code",
      "execution_count": 21,
      "metadata": {
        "vscode": {
          "languageId": "python"
        }
      },
      "outputs": [],
      "source": [
        "b = \"une chaine de caractères définie avec des guillemets\"\n",
        "b"
      ],
      "id": "17541433"
    },
    {
      "cell_type": "code",
      "execution_count": 22,
      "metadata": {
        "vscode": {
          "languageId": "python"
        }
      },
      "outputs": [],
      "source": [
        "# Pour inclure une apostrophe à l'intérieur de la chaine\n",
        "\"j'inclus l'apostrophe\""
      ],
      "id": "7d39bb38"
    },
    {
      "cell_type": "code",
      "execution_count": 23,
      "metadata": {
        "vscode": {
          "languageId": "python"
        }
      },
      "outputs": [],
      "source": [
        "# Pour inclure des guillemets à l'intérieur de la chaine\n",
        "'les \"guillemets\" sont là'"
      ],
      "id": "24bf0877"
    },
    {
      "cell_type": "markdown",
      "metadata": {},
      "source": [
        "### 3.2 Métodes utiles\n",
        "\n",
        "Voici un aperçu de quelques méthodes utiles. De nombreuses autres\n",
        "existent (voir [documentation\n",
        "officielle](https://docs.python.org/3/library/stdtypes.html#string-methods))"
      ],
      "id": "7a0ca79d-7696-438f-be6f-ad1283e617e6"
    },
    {
      "cell_type": "code",
      "execution_count": 24,
      "metadata": {
        "vscode": {
          "languageId": "python"
        }
      },
      "outputs": [],
      "source": [
        "# Longueur d'une chaîne (nombre de caractères)\n",
        "len(\"J'ai 18 caractères\")"
      ],
      "id": "b9000e07"
    },
    {
      "cell_type": "code",
      "execution_count": 25,
      "metadata": {
        "vscode": {
          "languageId": "python"
        }
      },
      "outputs": [],
      "source": [
        "# Concaténation\n",
        "\"I am\" + \"your father\"\n",
        "\" \".join(\"I am\", \"your father\")"
      ],
      "id": "dc2bf001"
    },
    {
      "cell_type": "code",
      "execution_count": 26,
      "metadata": {
        "vscode": {
          "languageId": "python"
        }
      },
      "outputs": [],
      "source": [
        "# Concaténation avec un nombre\n",
        "annee = 2\n",
        "\"je suis en \" + annee + \"ème année\""
      ],
      "id": "93b76fcc"
    },
    {
      "cell_type": "markdown",
      "metadata": {},
      "source": [
        "Problème, il faut au préalable convertir le nombre en chaîne de\n",
        "caractères.  \n",
        "La méthode **str** fait le travail."
      ],
      "id": "d32383d4-4d69-4feb-9ea5-c13bf58b5466"
    },
    {
      "cell_type": "code",
      "execution_count": 27,
      "metadata": {
        "vscode": {
          "languageId": "python"
        }
      },
      "outputs": [],
      "source": [
        "# Concaténation avec un nombre - après convertion du nombre en string\n",
        "annee = 2\n",
        "\"je suis en \" + str(annee) + \"ème année\""
      ],
      "id": "08b2e5f5"
    },
    {
      "cell_type": "code",
      "execution_count": 28,
      "metadata": {
        "vscode": {
          "languageId": "python"
        }
      },
      "outputs": [],
      "source": [
        "# Répétition\n",
        "\"hop \" * 5"
      ],
      "id": "e7be8eb1"
    },
    {
      "cell_type": "code",
      "execution_count": 29,
      "metadata": {
        "vscode": {
          "languageId": "python"
        }
      },
      "outputs": [],
      "source": [
        "# Mettre en majuscules\n",
        "\"C'est OK\".upper()"
      ],
      "id": "b5634ef5"
    },
    {
      "cell_type": "code",
      "execution_count": 30,
      "metadata": {
        "vscode": {
          "languageId": "python"
        }
      },
      "outputs": [],
      "source": [
        "# Mettre en minuscules\n",
        "\"C'est OK\".lower()"
      ],
      "id": "a2f8527c"
    },
    {
      "cell_type": "code",
      "execution_count": 31,
      "metadata": {
        "vscode": {
          "languageId": "python"
        }
      },
      "outputs": [],
      "source": [
        "# Compter le nombre d'occurences\n",
        "\"Mangez cinq fruits et légumes par jour\".count(\"a\")"
      ],
      "id": "a3c4c708"
    },
    {
      "cell_type": "code",
      "execution_count": 32,
      "metadata": {
        "vscode": {
          "languageId": "python"
        }
      },
      "outputs": [],
      "source": [
        "# Créer une liste de mots\n",
        "\"Mangez cinq fruits et légumes par jour\".split()"
      ],
      "id": "fa86e2f8"
    },
    {
      "cell_type": "code",
      "execution_count": 33,
      "metadata": {
        "vscode": {
          "languageId": "python"
        }
      },
      "outputs": [],
      "source": [
        "# Séparer les mots selon un caractère spécifique\n",
        "\"un-deux-trois-soleil\".split(\"-\")"
      ],
      "id": "f851b9c1"
    },
    {
      "cell_type": "code",
      "execution_count": 34,
      "metadata": {
        "vscode": {
          "languageId": "python"
        }
      },
      "outputs": [],
      "source": [
        "# Utiliser les strings comme templates\n",
        "\"mon numéro est : {}\".format(\"06 12 34 56 78\")"
      ],
      "id": "57fe5dd4"
    },
    {
      "cell_type": "code",
      "execution_count": 35,
      "metadata": {
        "vscode": {
          "languageId": "python"
        }
      },
      "outputs": [],
      "source": [
        "# Commence par ?\n",
        "\"vélo\".startswith(\"vé\")"
      ],
      "id": "0a4965ec"
    },
    {
      "cell_type": "code",
      "execution_count": 36,
      "metadata": {
        "vscode": {
          "languageId": "python"
        }
      },
      "outputs": [],
      "source": [
        "# Se termine par ?\n",
        "\"vélo\".endswith(\"lo\")"
      ],
      "id": "5e691068"
    },
    {
      "cell_type": "markdown",
      "metadata": {},
      "source": [
        "### 3.3 Extraire des sous-chaînes\n",
        "\n",
        "Une chaîne de caractères est considérée en Python comme une liste de\n",
        "caractères.  \n",
        "Il est donc possible d’extraire différents éléments de cette liste"
      ],
      "id": "f1dab674-02fb-422b-8318-bd0a136dc7ea"
    },
    {
      "cell_type": "code",
      "execution_count": 37,
      "metadata": {
        "vscode": {
          "languageId": "python"
        }
      },
      "outputs": [],
      "source": [
        "# Premier élémént\n",
        "\"c'est de toute beauté\"[0]"
      ],
      "id": "187e6622"
    },
    {
      "cell_type": "code",
      "execution_count": 38,
      "metadata": {
        "vscode": {
          "languageId": "python"
        }
      },
      "outputs": [],
      "source": [
        "# Deuxième élémént\n",
        "\"c'est de toute beauté\"[1]"
      ],
      "id": "34381554"
    },
    {
      "cell_type": "code",
      "execution_count": 39,
      "metadata": {
        "vscode": {
          "languageId": "python"
        }
      },
      "outputs": [],
      "source": [
        "# Dernier élémént\n",
        "\"c'est de toute beauté\"[-1]"
      ],
      "id": "293ab862"
    },
    {
      "cell_type": "code",
      "execution_count": 40,
      "metadata": {
        "vscode": {
          "languageId": "python"
        }
      },
      "outputs": [],
      "source": [
        "# À partir d'un certain caractère\n",
        "\"c'est de toute beauté\"[6:]"
      ],
      "id": "9aae3e05"
    },
    {
      "cell_type": "code",
      "execution_count": 41,
      "metadata": {
        "vscode": {
          "languageId": "python"
        }
      },
      "outputs": [],
      "source": [
        "# Jusqu'à un certain caractère\n",
        "\"c'est de toute beauté\"[:8]"
      ],
      "id": "ad30dee8"
    },
    {
      "cell_type": "code",
      "execution_count": 42,
      "metadata": {
        "vscode": {
          "languageId": "python"
        }
      },
      "outputs": [],
      "source": [
        "# Extraire une sous-chaîne\n",
        "\"c'est de toute beauté\"[9:14]"
      ],
      "id": "b349274b"
    },
    {
      "cell_type": "code",
      "execution_count": 43,
      "metadata": {
        "vscode": {
          "languageId": "python"
        }
      },
      "outputs": [],
      "source": [
        "# Extraire tous les 2 caractères, à partir de la 4 ème position\n",
        "\"c'est de toute beauté\"[4::2]"
      ],
      "id": "0a325601"
    },
    {
      "cell_type": "code",
      "execution_count": 44,
      "metadata": {
        "vscode": {
          "languageId": "python"
        }
      },
      "outputs": [],
      "source": [
        "# Inverser une chaîne\n",
        "\"c'est de toute beauté\"[::-1]"
      ],
      "id": "97bc71df"
    },
    {
      "cell_type": "markdown",
      "metadata": {},
      "source": [
        "#### Caractères spéciaux\n",
        "\n",
        "Pour insérer des caractères spéciaux au sein d’une chaîne de caractère,\n",
        "il faut utiliser le caractère d’échappement `\\`.\n",
        "\n",
        "| Caractère | Description             |\n",
        "|-----------|-------------------------|\n",
        "| \\\\        | Caractère d’échappement |\n",
        "| \\\\        | Apostrophe              |\n",
        "| \\\\        | Guillemets doubles      |\n",
        "| \\n        | Retour à la ligne       |\n",
        "| \\t        | Tabulation horizontale  |\n",
        "| \\r        | Retour chariot          |"
      ],
      "id": "69bd6322-80d8-4999-82cb-08f84cc7507b"
    },
    {
      "cell_type": "code",
      "execution_count": 45,
      "metadata": {
        "vscode": {
          "languageId": "python"
        }
      },
      "outputs": [],
      "source": [
        "c = \"une chaîne\\nsur 2 lignes\"\n",
        "print(c)"
      ],
      "id": "23af9fd0"
    },
    {
      "cell_type": "code",
      "execution_count": 46,
      "metadata": {
        "vscode": {
          "languageId": "python"
        }
      },
      "outputs": [],
      "source": [
        "# Définir une chaîne de caractères sur plusieurs lignes\n",
        "d = \"\"\"une autre \\\"possibilité\\\" pour\n",
        "avoir une chaîne sur 2 lignes\"\"\"\n",
        "print(d)"
      ],
      "id": "9585b71b"
    },
    {
      "cell_type": "markdown",
      "metadata": {},
      "source": [
        "------------------------------------------------------------------------\n",
        "\n",
        "## 4 Boléens\n",
        "\n",
        "Les Booléens ne peuvent prendre que deux valeurs : `True` et `False`  \n",
        "Attention à bien respecter la notation avec la première lettre en\n",
        "majuscule et les autres en minuscule."
      ],
      "id": "7e1a758d-c038-4243-a19d-5e7016c0b00c"
    },
    {
      "cell_type": "code",
      "execution_count": 47,
      "metadata": {
        "vscode": {
          "languageId": "python"
        }
      },
      "outputs": [],
      "source": [
        "type(True)"
      ],
      "id": "6fa8183d"
    },
    {
      "cell_type": "markdown",
      "metadata": {},
      "source": [
        "### 4.1 Opérateurs de comparaison\n",
        "\n",
        "| Opérateur | Signification           |\n",
        "|-----------|-------------------------|\n",
        "| ==        | Egal à                  |\n",
        "| !=        | Non égal à              |\n",
        "| \\<        | Strictement inférieur à |\n",
        "| \\>        | Strictement supérieur à |\n",
        "| \\<=       | Inférieur ou égal à     |\n",
        "| \\>=       | Supérieur ou égal à     |"
      ],
      "id": "c057805f-8d2b-4db1-8dff-2038e3d94ba7"
    },
    {
      "cell_type": "code",
      "execution_count": 48,
      "metadata": {
        "vscode": {
          "languageId": "python"
        }
      },
      "outputs": [],
      "source": [
        "8 > 5"
      ],
      "id": "b78a26fd"
    },
    {
      "cell_type": "code",
      "execution_count": 49,
      "metadata": {
        "vscode": {
          "languageId": "python"
        }
      },
      "outputs": [],
      "source": [
        "1+1 == 2"
      ],
      "id": "cd35c69d"
    },
    {
      "cell_type": "code",
      "execution_count": 50,
      "metadata": {
        "vscode": {
          "languageId": "python"
        }
      },
      "outputs": [],
      "source": [
        "[1, 2, 3] == [1, 2, 3]"
      ],
      "id": "64fcb26d"
    },
    {
      "cell_type": "code",
      "execution_count": 51,
      "metadata": {
        "vscode": {
          "languageId": "python"
        }
      },
      "outputs": [],
      "source": [
        "\"girafe\" != \"gnou\""
      ],
      "id": "3699b85d"
    },
    {
      "cell_type": "code",
      "execution_count": 52,
      "metadata": {
        "vscode": {
          "languageId": "python"
        }
      },
      "outputs": [],
      "source": [
        "# Enchainement d'opérateurs\n",
        "1 < 2 == 2 >= 1 != 2"
      ],
      "id": "7599fbd2"
    },
    {
      "cell_type": "markdown",
      "metadata": {},
      "source": [
        "### 4.2 Opérateurs and, or, not"
      ],
      "id": "62d0adda-9d69-48c5-978f-67188644c54c"
    },
    {
      "cell_type": "code",
      "execution_count": 53,
      "metadata": {
        "vscode": {
          "languageId": "python"
        }
      },
      "outputs": [],
      "source": [
        "a = True\n",
        "b = False\n",
        "\n",
        "a and b"
      ],
      "id": "1252959d"
    },
    {
      "cell_type": "code",
      "execution_count": 54,
      "metadata": {
        "vscode": {
          "languageId": "python"
        }
      },
      "outputs": [],
      "source": [
        "a or b"
      ],
      "id": "553e2823"
    },
    {
      "cell_type": "code",
      "execution_count": 55,
      "metadata": {
        "vscode": {
          "languageId": "python"
        }
      },
      "outputs": [],
      "source": [
        "not a"
      ],
      "id": "38837a3c"
    },
    {
      "cell_type": "code",
      "execution_count": 56,
      "metadata": {
        "vscode": {
          "languageId": "python"
        }
      },
      "outputs": [],
      "source": [
        "(a or b) and (a and not b)"
      ],
      "id": "2c7c921d"
    },
    {
      "cell_type": "markdown",
      "metadata": {},
      "source": [
        "------------------------------------------------------------------------\n",
        "\n",
        "## 5 Exercices\n",
        "\n",
        "### 5.1 Exercice 1\n",
        "\n",
        "Calculer la somme des longueurs des trois chaînes de caractères\n",
        "suivantes :\n",
        "\n",
        "-   “une première chaîne”\n",
        "-   “et une deuxième”\n",
        "-   “jamais deux sans trois”"
      ],
      "id": "976109f9-756a-4cbb-9692-f749702d40b5"
    },
    {
      "cell_type": "code",
      "execution_count": 57,
      "metadata": {
        "vscode": {
          "languageId": "python"
        }
      },
      "outputs": [],
      "source": [
        "# Tapez votre réponse dans cette cellule"
      ],
      "id": "af19e20d"
    },
    {
      "cell_type": "markdown",
      "metadata": {},
      "source": [
        "### 5.2 Exercice 2\n",
        "\n",
        "Quel est le type adapté pour définir un code postal ?\n",
        "\n",
        "Essayer de définir les codes postaux suivants au format `int` et au\n",
        "format `string` :\n",
        "\n",
        "-   92120\n",
        "-   02350\n",
        "\n",
        "Que concluez-vous ?"
      ],
      "id": "285325e6-ecfa-4591-b395-70bd682a1b78"
    },
    {
      "cell_type": "code",
      "execution_count": 58,
      "metadata": {
        "vscode": {
          "languageId": "python"
        }
      },
      "outputs": [],
      "source": [
        "# Tapez votre réponse dans cette cellule"
      ],
      "id": "f193b69f"
    },
    {
      "cell_type": "markdown",
      "metadata": {},
      "source": [
        "### 5.3 Exercice 3\n",
        "\n",
        "Compter le nombre de fois où la lettre e est présente dans la chaîne\n",
        "suivante : `Je compte le nombre de e dans cette chaîne de caractères`"
      ],
      "id": "1a5b583a-666e-458f-b4ec-a6917f813172"
    },
    {
      "cell_type": "code",
      "execution_count": 59,
      "metadata": {
        "vscode": {
          "languageId": "python"
        }
      },
      "outputs": [],
      "source": [
        "# Tapez votre réponse dans cette cellule"
      ],
      "id": "163a23ce"
    },
    {
      "cell_type": "markdown",
      "metadata": {},
      "source": [
        "### 5.4 Exercice 4\n",
        "\n",
        "Repérer la première position où la lettre e est présente dans la chaîne\n",
        "suivante : “Je fais un comptage des e.”\n",
        "\n",
        "**Indice** : on peut utiliser la méthode *built-in*\n",
        "[find](https://docs.python.org/fr/3/library/stdtypes.html#str.find)."
      ],
      "id": "6414618d-70f8-4200-9872-50343f4798dc"
    },
    {
      "cell_type": "code",
      "execution_count": 60,
      "metadata": {
        "vscode": {
          "languageId": "python"
        }
      },
      "outputs": [],
      "source": [
        "# Tapez votre réponse dans cette cellule"
      ],
      "id": "d68c0e13"
    },
    {
      "cell_type": "markdown",
      "metadata": {},
      "source": [
        "### 5.5 Exercice 5\n",
        "\n",
        "Supprimer les espaces superflus au début et à la fin de la chaîne\n",
        "suivante :\n",
        "\n",
        "**Indice** : on peut utiliser la méthode *built-in*\n",
        "[strip](https://docs.python.org/fr/3/library/stdtypes.html#str.strip)."
      ],
      "id": "f14d42dd-8d28-4b15-a2d3-83fd2e1feb8c"
    },
    {
      "cell_type": "code",
      "execution_count": 61,
      "metadata": {
        "vscode": {
          "languageId": "python"
        }
      },
      "outputs": [],
      "source": [
        "# Tapez votre réponse dans cette cellule\n",
        "a = \"    Un string très mal formatté.         \""
      ],
      "id": "fcc35914"
    },
    {
      "cell_type": "markdown",
      "metadata": {},
      "source": [
        "### 5.6 Exercice 6\n",
        "\n",
        "Réaliser la suite d’opérations suivantes à l’aide des opérateurs\n",
        "d’incrémentation, et imprimer la valeur finale :\n",
        "\n",
        "-   initialiser une variable à 1\n",
        "-   lui soustraire 5\n",
        "-   la multiplier par 4\n",
        "-   lui ajouter 22"
      ],
      "id": "1bf477c9-d8c4-4147-b8ab-cc3e18e1187a"
    },
    {
      "cell_type": "code",
      "execution_count": 62,
      "metadata": {
        "vscode": {
          "languageId": "python"
        }
      },
      "outputs": [],
      "source": [
        "# Tapez votre réponse dans cette cellule"
      ],
      "id": "af25908f"
    },
    {
      "cell_type": "markdown",
      "metadata": {},
      "source": [
        "### 5.7 Exercice 7\n",
        "\n",
        "Considérons les deux séquences suivantes :\n",
        "\n",
        "-   “nous sommes en”\n",
        "-   “2022”\n",
        "\n",
        "Trouvez à partir du tutoriel deux manières différentes de les utiliser\n",
        "pour composer la séquence “nous sommes en 2022”."
      ],
      "id": "9e3df653-5103-4583-9e63-af991bcccc7d"
    },
    {
      "cell_type": "code",
      "execution_count": 63,
      "metadata": {
        "vscode": {
          "languageId": "python"
        }
      },
      "outputs": [],
      "source": [
        "# Tapez votre réponse dans cette cellule"
      ],
      "id": "6d914068"
    }
  ],
  "nbformat": 4,
  "nbformat_minor": 5,
  "metadata": {
    "kernelspec": {
      "name": "python3",
      "display_name": "Python 3 (ipykernel)",
      "language": "python"
    },
    "language_info": {
      "name": "python",
      "codemirror_mode": {
        "name": "ipython",
        "version": "3"
      },
      "file_extension": ".py",
      "mimetype": "text/x-python",
      "nbconvert_exporter": "python",
      "pygments_lexer": "ipython3",
      "version": "3.10.14"
    }
  }
}