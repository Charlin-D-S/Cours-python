{
 "cells": [
  {
    "cell_type": "raw",
    "metadata": {},
    "source": [
      "---\n",
      "title: Listes et Dictionnaires\n",
      "description: Python\n",
      "format: \n",
      "  html:\n",
      "    toc: true\n",
      "    toc-location: left\n",
      "    toc-expand: 3\n",
      "  ipynb: default\n",
      "from: markdown+emoji\n",
      "---"
    ]
  },
  {
   "cell_type": "markdown",
   "id": "31f58bd9",
   "metadata": {},
   "source": [
    "# Conteneurs\n",
    "\n",
    "Il existe plusieurs structures de données en Python :\n",
    "* Listes (list) :  collection ordonnée et modifiable d'éléments\n",
    "* Dictionnaires (dict) : collection non ordonnée de paires **clé-valeur**\n",
    "* Ensembles (set) : collection non ordonnée d'éléments **uniques**\n",
    "* Tuples (tuple) : collection ordonnée et immuable d'éléments\n",
    "\n",
    "Nous allons ici nous concentrer sur les deux structures les plus courantes : les **listes** et les **dictionnaires**\n",
    "\n",
    "# Listes\n",
    "\n",
    "Propriétés des listes Python : \n",
    "* **Indexation** : Les éléments d'une liste sont indexés, ce qui signifie qu'ils peuvent être accédés en utilisant leur position dans la liste. L'index du premier élément est 0, et l'index du dernier élément est len(liste) - 1.\n",
    "* **Mutable** : Les listes sont des objets mutables, ce qui signifie que vous pouvez modifier leurs éléments. Vous pouvez ajouter, supprimer ou modifier des éléments.\n",
    "* **Hétérogénéité** : Les listes peuvent contenir des éléments de différents types de données : entiers, chaînes de caractères, booléens, voire d'autres listes.\n",
    "* **Longueur variable** : Les listes peuvent contenir un nombre variable d'éléments. Elles peuvent être vides (sans éléments) ou contenir un nombre illimité d'éléments.\n",
    "\n",
    "## Créer une liste"
   ]
  },
  {
   "cell_type": "code",
   "execution_count": 2,
   "id": "03322cfa",
   "metadata": {},
   "outputs": [
    {
     "data": {
      "text/plain": [
       "[22, 29, 35, 56]"
      ]
     },
     "execution_count": 2,
     "metadata": {},
     "output_type": "execute_result"
    }
   ],
   "source": [
    "# Liste d'entiers\n",
    "a = [22, 29, 35, 56]\n",
    "a"
   ]
  },
  {
   "cell_type": "code",
   "execution_count": 3,
   "id": "56fdc664-5def-4f67-a6cf-ef3ee590e463",
   "metadata": {},
   "outputs": [
    {
     "data": {
      "text/plain": [
       "list"
      ]
     },
     "execution_count": 3,
     "metadata": {},
     "output_type": "execute_result"
    }
   ],
   "source": [
    "type(a)"
   ]
  },
  {
   "cell_type": "code",
   "execution_count": 4,
   "id": "90b3f254",
   "metadata": {},
   "outputs": [
    {
     "name": "stdout",
     "output_type": "stream",
     "text": [
      "['bonjour', 20, True]\n"
     ]
    }
   ],
   "source": [
    "# Liste mixte\n",
    "b = [\"bonjour\", 20, True]\n",
    "print(b)"
   ]
  },
  {
   "cell_type": "code",
   "execution_count": 5,
   "id": "9777fa7f-7550-48a1-9a78-396fea75841a",
   "metadata": {},
   "outputs": [
    {
     "data": {
      "text/plain": [
       "[22, 29, 35, 56, 'bonjour', 20, True]"
      ]
     },
     "execution_count": 5,
     "metadata": {},
     "output_type": "execute_result"
    }
   ],
   "source": [
    "# Concaténation\n",
    "a + b"
   ]
  },
  {
   "cell_type": "code",
   "execution_count": 6,
   "id": "14e46d28-87e5-4e9a-a453-dfc226f09ea5",
   "metadata": {},
   "outputs": [
    {
     "data": {
      "text/plain": [
       "[22, 29, 35, 56, 22, 29, 35, 56]"
      ]
     },
     "execution_count": 6,
     "metadata": {},
     "output_type": "execute_result"
    }
   ],
   "source": [
    "# Répétition\n",
    "a * 2"
   ]
  },
  {
   "cell_type": "markdown",
   "id": "08917751-1004-4450-99a7-5d77388432f7",
   "metadata": {},
   "source": [
    "Il existe de nombreuses autres possibilités pour créer des listes."
   ]
  },
  {
   "cell_type": "code",
   "execution_count": 7,
   "id": "e6c943a4-c153-4eea-94da-38740943919b",
   "metadata": {},
   "outputs": [
    {
     "data": {
      "text/plain": [
       "[1, 2, 3, 4, 5, 6]"
      ]
     },
     "execution_count": 7,
     "metadata": {},
     "output_type": "execute_result"
    }
   ],
   "source": [
    "list(range(1, 7))"
   ]
  },
  {
   "cell_type": "code",
   "execution_count": 8,
   "id": "1ce49e16-7f99-4222-bda4-0f739921d847",
   "metadata": {},
   "outputs": [
    {
     "data": {
      "text/plain": [
       "[1, 2, 3, 4, 5, 6]"
      ]
     },
     "execution_count": 8,
     "metadata": {},
     "output_type": "execute_result"
    }
   ],
   "source": [
    "[x for x in range(1, 7)]"
   ]
  },
  {
   "cell_type": "code",
   "execution_count": 9,
   "id": "76e03d7f-9423-435e-82ca-749351a0d5c1",
   "metadata": {},
   "outputs": [
    {
     "data": {
      "text/plain": [
       "['bleu', 'blanc', 'rouge', 'vert', 'jaune']"
      ]
     },
     "execution_count": 9,
     "metadata": {},
     "output_type": "execute_result"
    }
   ],
   "source": [
    "# En séparant une chaîne de caractères\n",
    "c = \"bleu;blanc;rouge;vert;jaune\"\n",
    "c.split(\";\")"
   ]
  },
  {
   "cell_type": "markdown",
   "id": "f806e022-173f-4ee3-bafa-1b9db106d952",
   "metadata": {},
   "source": [
    "## Méthodes utiles"
   ]
  },
  {
   "cell_type": "code",
   "execution_count": 10,
   "id": "6b7fb4b1-a68b-4faa-9445-a4decce20211",
   "metadata": {},
   "outputs": [
    {
     "data": {
      "text/plain": [
       "4"
      ]
     },
     "execution_count": 10,
     "metadata": {},
     "output_type": "execute_result"
    }
   ],
   "source": [
    "# Nombre d'éléments\n",
    "len(a)"
   ]
  },
  {
   "cell_type": "code",
   "execution_count": 11,
   "id": "2c67984c-0c43-4210-96c3-8a155c8e22b4",
   "metadata": {},
   "outputs": [
    {
     "data": {
      "text/plain": [
       "22"
      ]
     },
     "execution_count": 11,
     "metadata": {},
     "output_type": "execute_result"
    }
   ],
   "source": [
    "# Premier élément\n",
    "a[0]"
   ]
  },
  {
   "cell_type": "code",
   "execution_count": 12,
   "id": "0c8439ab-090b-4f47-9c9b-a5c3c2694fad",
   "metadata": {},
   "outputs": [
    {
     "data": {
      "text/plain": [
       "56"
      ]
     },
     "execution_count": 12,
     "metadata": {},
     "output_type": "execute_result"
    }
   ],
   "source": [
    "# Dernier élément\n",
    "a[-1]"
   ]
  },
  {
   "cell_type": "code",
   "execution_count": 13,
   "id": "ae8a31c9-30ad-478f-9e9f-d518e0ebf049",
   "metadata": {},
   "outputs": [
    {
     "data": {
      "text/plain": [
       "[29, 35, 56]"
      ]
     },
     "execution_count": 13,
     "metadata": {},
     "output_type": "execute_result"
    }
   ],
   "source": [
    "# Tous les éléments à partir de la position 1\n",
    "a[1:]"
   ]
  },
  {
   "cell_type": "code",
   "execution_count": 4,
   "id": "2b8c9d2e-8995-4256-a1bb-853236c5e2df",
   "metadata": {},
   "outputs": [
    {
     "data": {
      "text/plain": [
       "True"
      ]
     },
     "execution_count": 4,
     "metadata": {},
     "output_type": "execute_result"
    }
   ],
   "source": [
    "# Tester si une valeur appartient à une liste\n",
    "22 in a"
   ]
  },
  {
   "cell_type": "code",
   "execution_count": 14,
   "id": "c18b8f62-4f98-4935-9c66-c6ab3cb3bd8e",
   "metadata": {},
   "outputs": [
    {
     "data": {
      "text/plain": [
       "1"
      ]
     },
     "execution_count": 14,
     "metadata": {},
     "output_type": "execute_result"
    }
   ],
   "source": [
    "# Trouver la position d'un élément\n",
    "a.index(29)"
   ]
  },
  {
   "cell_type": "code",
   "execution_count": 15,
   "id": "650cd5a4-d0ee-4f3d-ae54-0ea8a1516b46",
   "metadata": {},
   "outputs": [
    {
     "name": "stdout",
     "output_type": "stream",
     "text": [
      "a[::-1] : [56, 35, 29, 22]\n",
      "a :       [22, 29, 35, 56]\n"
     ]
    }
   ],
   "source": [
    "# Inverser une liste (sans modifier la liste d'origine)\n",
    "print(\"a[::-1] : \" + str(a[::-1]))\n",
    "print(\"a :       \" + str(a))"
   ]
  },
  {
   "cell_type": "code",
   "execution_count": 16,
   "id": "7e9e2798-6063-43d4-a47c-44fa5a26e024",
   "metadata": {},
   "outputs": [
    {
     "data": {
      "text/plain": [
       "[56, 35, 29, 22]"
      ]
     },
     "execution_count": 16,
     "metadata": {},
     "output_type": "execute_result"
    }
   ],
   "source": [
    "# Inverser une liste (ici l'inversion est sauvegardée dans la variable **a** )\n",
    "a.reverse()\n",
    "a"
   ]
  },
  {
   "cell_type": "code",
   "execution_count": 17,
   "id": "b68a112f-818c-4762-a219-333a4a480748",
   "metadata": {},
   "outputs": [
    {
     "data": {
      "text/plain": [
       "[22, 29, 35, 56]"
      ]
     },
     "execution_count": 17,
     "metadata": {},
     "output_type": "execute_result"
    }
   ],
   "source": [
    "# Trier une liste (sans modifier la liste d'origine)\n",
    "sorted(a)"
   ]
  },
  {
   "cell_type": "code",
   "execution_count": 18,
   "id": "bb6348e5-89c4-4526-b96d-8cae6782e1a6",
   "metadata": {},
   "outputs": [
    {
     "data": {
      "text/plain": [
       "[56, 35, 29, 22]"
      ]
     },
     "execution_count": 18,
     "metadata": {},
     "output_type": "execute_result"
    }
   ],
   "source": [
    "# Order décroissant\n",
    "sorted(a, reverse=True)"
   ]
  },
  {
   "cell_type": "code",
   "execution_count": 19,
   "id": "10a43b37-dd7d-40ec-bace-ac9d6da11425",
   "metadata": {},
   "outputs": [
    {
     "name": "stdout",
     "output_type": "stream",
     "text": [
      "Avant : [56, 35, 29, 22]\n",
      "Après : [22, 29, 35, 56]\n"
     ]
    }
   ],
   "source": [
    "# Trier une liste (en sauvegardant la modification dans la variable **a**)\n",
    "print(\"Avant : \" + str(a))\n",
    "a.sort()\n",
    "print(\"Après : \" + str(a))"
   ]
  },
  {
   "cell_type": "markdown",
   "id": "f05b3816-696e-452a-908e-d7772180108b",
   "metadata": {},
   "source": [
    "## Ajouter, modifier et supprimer"
   ]
  },
  {
   "cell_type": "code",
   "execution_count": 20,
   "id": "dad32735-d53a-4310-bc63-b9ab676493e0",
   "metadata": {},
   "outputs": [
    {
     "data": {
      "text/plain": [
       "[22, 29, 35, 56, 44]"
      ]
     },
     "execution_count": 20,
     "metadata": {},
     "output_type": "execute_result"
    }
   ],
   "source": [
    "# Ajouter à la fin\n",
    "a.append(44)\n",
    "a"
   ]
  },
  {
   "cell_type": "code",
   "execution_count": 21,
   "id": "d6c11bf8-ceda-4d7b-94dc-30ed70744c13",
   "metadata": {},
   "outputs": [
    {
     "data": {
      "text/plain": [
       "[22, 29, 88, 35, 56, 44]"
      ]
     },
     "execution_count": 21,
     "metadata": {},
     "output_type": "execute_result"
    }
   ],
   "source": [
    "# Insérer à une position précise\n",
    "a.insert(2, 88)\n",
    "a"
   ]
  },
  {
   "cell_type": "code",
   "execution_count": 22,
   "id": "3536c0f4-c0d7-4f6b-a3c3-40e61e227bfb",
   "metadata": {},
   "outputs": [
    {
     "data": {
      "text/plain": [
       "[99, 29, 88, 35, 56, 44]"
      ]
     },
     "execution_count": 22,
     "metadata": {},
     "output_type": "execute_result"
    }
   ],
   "source": [
    "# Modifier\n",
    "a[0] = 99\n",
    "a"
   ]
  },
  {
   "cell_type": "code",
   "execution_count": 23,
   "id": "89b5df2c-91ab-4f89-a8f1-7cbfd1d112f1",
   "metadata": {},
   "outputs": [
    {
     "data": {
      "text/plain": [
       "[99, 29, 88, 56, 44]"
      ]
     },
     "execution_count": 23,
     "metadata": {},
     "output_type": "execute_result"
    }
   ],
   "source": [
    "# Supprimer par position\n",
    "a.pop(3)\n",
    "a"
   ]
  },
  {
   "cell_type": "code",
   "execution_count": 24,
   "id": "e17f977a-6009-4c25-9cc1-c83a851121f2",
   "metadata": {},
   "outputs": [
    {
     "data": {
      "text/plain": [
       "[99, 29, 88, 56]"
      ]
     },
     "execution_count": 24,
     "metadata": {},
     "output_type": "execute_result"
    }
   ],
   "source": [
    "# Supprimer par valeur\n",
    "a.remove(44)\n",
    "a"
   ]
  },
  {
   "cell_type": "markdown",
   "id": "12b23e91-9062-497c-89c0-8068e805b2b8",
   "metadata": {},
   "source": [
    "## Copier une liste\n",
    "\n",
    "Observez, puis exécutez le code ci-dessous, il contient les instructions suivantes :\n",
    "- création de la variable **liste**\n",
    "- création de la variable **copie**\n",
    "- suppression du dernier élément de **copie**\n",
    "- affichage de **liste**"
   ]
  },
  {
   "cell_type": "code",
   "execution_count": 13,
   "id": "7659abd5-e14c-4ae3-adf2-88b1fd953336",
   "metadata": {},
   "outputs": [
    {
     "data": {
      "text/plain": [
       "[1, 2, 3]"
      ]
     },
     "execution_count": 13,
     "metadata": {},
     "output_type": "execute_result"
    }
   ],
   "source": [
    "liste = [1, 2, 3, 4]\n",
    "liste2 = liste\n",
    "liste2.pop()\n",
    "liste"
   ]
  },
  {
   "cell_type": "markdown",
   "id": "a4488501-23d2-4f37-836d-7068445ec75c",
   "metadata": {},
   "source": [
    "Nous pourrions nous attendre à ce que la variable **liste** ne soit pas modifiée et affiche `[1, 2, 3, 4]`.  \n",
    "Pourtant la variable **liste2** n'est pas une copie de **liste**, c'est simplement une autre manière d'appeler la même liste.  \n",
    " "
   ]
  },
  {
   "cell_type": "code",
   "execution_count": 16,
   "id": "a91f5b61-27a3-4ebf-b8b0-861f64bc0fc0",
   "metadata": {},
   "outputs": [
    {
     "data": {
      "text/plain": [
       "([1, 2, 3], [1, 2, 3, 9])"
      ]
     },
     "execution_count": 16,
     "metadata": {},
     "output_type": "execute_result"
    }
   ],
   "source": [
    "# Pour créer une vraie copie qui sera distinct de l'original\n",
    "copie = list(liste)\n",
    "copie.append(9)\n",
    "liste, copie"
   ]
  },
  {
   "cell_type": "code",
   "execution_count": 19,
   "id": "e3e0a941-2207-4880-ab26-e7275dca766d",
   "metadata": {},
   "outputs": [
    {
     "data": {
      "text/plain": [
       "([1, 2, 3], [1, 2, 3, 8])"
      ]
     },
     "execution_count": 19,
     "metadata": {},
     "output_type": "execute_result"
    }
   ],
   "source": [
    "# Autre possibilité pour copier\n",
    "cp = liste.copy()\n",
    "cp.append(8)\n",
    "liste, cp"
   ]
  },
  {
   "cell_type": "markdown",
   "id": "bf64bba2-86c6-4511-a994-371ac7f27d3a",
   "metadata": {},
   "source": [
    "---\n",
    "\n",
    "# Dictionnaires\n",
    "\n",
    "Propriétés importantes d'un dictionnaire en Python :\n",
    "* **Indexation par clé** : Les éléments d'un dictionnaire sont indexés par des clés plutôt que par des positions. **Chaque clé doit être unique** dans le dictionnaire, et elle est associée à une valeur correspondante. La recherche d'une valeur associée à une clé est très rapide.\n",
    "* **Mutable** : Les dictionnaires sont des objets mutables, ce qui signifie que vous pouvez ajouter, supprimer ou modifier des éléments du dictionnaire après sa création.\n",
    "* **Hétérogénéité** : Les dictionnaires peuvent contenir des paires clé-valeur avec des types de données différents. Les clés peuvent être de types immuables tels que les chaînes de caractères, les entiers... Les valeurs peuvent être de n'importe quel type de données valide en Python.\n",
    "* **Longueur variable** : Les dictionnaires peuvent contenir un nombre variable de paires clé-valeur. Ils peuvent être vides (sans paires clé-valeur) ou contenir un nombre illimité de paires.\n",
    "* **Non ordonné** : Contrairement aux listes, les éléments d'un dictionnaire n'ont pas d'ordre défini. L'ordre dans lequel les paires clé-valeur sont stockées n'est pas garanti et peut changer lors des opérations de modification du dictionnaire.\n",
    "\n",
    "\n",
    "## Créer un dictionnaire\n"
   ]
  },
  {
   "cell_type": "code",
   "execution_count": 44,
   "id": "a3a5d37f-e699-4647-85ec-919dd76b9e18",
   "metadata": {},
   "outputs": [
    {
     "data": {
      "text/plain": [
       "{'sucre': '100g', 'poire': 2, 'lait': '1L', 'sel': True}"
      ]
     },
     "execution_count": 44,
     "metadata": {},
     "output_type": "execute_result"
    }
   ],
   "source": [
    "ingredients = {'sucre': '100g', 'poire': 2, 'lait': '1L', 'sel': True}\n",
    "ingredients"
   ]
  },
  {
   "cell_type": "code",
   "execution_count": 47,
   "id": "fd02561d-25cb-4d88-bac8-6c9f8ce69c58",
   "metadata": {},
   "outputs": [
    {
     "data": {
      "text/plain": [
       "dict"
      ]
     },
     "execution_count": 47,
     "metadata": {},
     "output_type": "execute_result"
    }
   ],
   "source": [
    "type(ingredients)"
   ]
  },
  {
   "cell_type": "code",
   "execution_count": 27,
   "id": "1e187a9e-1187-4465-b906-96100e810ba9",
   "metadata": {},
   "outputs": [
    {
     "data": {
      "text/plain": [
       "4"
      ]
     },
     "execution_count": 27,
     "metadata": {},
     "output_type": "execute_result"
    }
   ],
   "source": [
    "# Nombre d'éléments\n",
    "len(ingredients)"
   ]
  },
  {
   "cell_type": "code",
   "execution_count": 28,
   "id": "d024f130-a274-4e2a-a569-419c3944f102",
   "metadata": {},
   "outputs": [
    {
     "data": {
      "text/plain": [
       "'1L'"
      ]
     },
     "execution_count": 28,
     "metadata": {},
     "output_type": "execute_result"
    }
   ],
   "source": [
    "# Recherche par clé\n",
    "ingredients['lait']"
   ]
  },
  {
   "cell_type": "code",
   "execution_count": 29,
   "id": "4c0d3e6f-3288-4424-bf4f-56558c8a247d",
   "metadata": {},
   "outputs": [
    {
     "data": {
      "text/plain": [
       "'1L'"
      ]
     },
     "execution_count": 29,
     "metadata": {},
     "output_type": "execute_result"
    }
   ],
   "source": [
    "# Recherche par clé - autre possibilité\n",
    "ingredients.get('lait')"
   ]
  },
  {
   "cell_type": "markdown",
   "id": "5a443ee9-a6ed-46a6-b956-c91aacc0a733",
   "metadata": {},
   "source": [
    "## Ajouter, modifier et supprimer"
   ]
  },
  {
   "cell_type": "code",
   "execution_count": 30,
   "id": "0d4b4e8e-29dd-4197-8837-b09b0d39247b",
   "metadata": {},
   "outputs": [
    {
     "data": {
      "text/plain": [
       "{'sucre': '100g', 'poire': 2, 'lait': '1L', 'sel': True, 'fraise': '200g'}"
      ]
     },
     "execution_count": 30,
     "metadata": {},
     "output_type": "execute_result"
    }
   ],
   "source": [
    "# Ajouter un élément\n",
    "ingredients['fraise'] =  '200g'\n",
    "ingredients"
   ]
  },
  {
   "cell_type": "code",
   "execution_count": 31,
   "id": "1c9ea9e3-1ddf-46c2-8e01-bdc5420d10b2",
   "metadata": {},
   "outputs": [
    {
     "data": {
      "text/plain": [
       "{'sucre': '35g', 'poire': 2, 'lait': '1L', 'sel': True, 'fraise': '200g'}"
      ]
     },
     "execution_count": 31,
     "metadata": {},
     "output_type": "execute_result"
    }
   ],
   "source": [
    "# Modifier\n",
    "ingredients['sucre'] =  '35g'\n",
    "ingredients"
   ]
  },
  {
   "cell_type": "code",
   "execution_count": 32,
   "id": "05186cce-4ae9-49e9-88bb-d084cf1c6952",
   "metadata": {},
   "outputs": [
    {
     "data": {
      "text/plain": [
       "{'sucre': '35g', 'poire': 2, 'sel': True, 'fraise': '200g'}"
      ]
     },
     "execution_count": 32,
     "metadata": {},
     "output_type": "execute_result"
    }
   ],
   "source": [
    "# Supprimer \n",
    "ingredients.pop('lait')\n",
    "ingredients"
   ]
  },
  {
   "cell_type": "markdown",
   "id": "e4cb6b64-cb9f-42e0-b6d3-52d5cdf93b88",
   "metadata": {},
   "source": [
    "## Méthodes utiles"
   ]
  },
  {
   "cell_type": "code",
   "execution_count": 50,
   "id": "9a94912a-5c00-471a-81be-e5f70e2fa594",
   "metadata": {},
   "outputs": [
    {
     "data": {
      "text/plain": [
       "['sucre', 'poire', 'lait', 'sel']"
      ]
     },
     "execution_count": 50,
     "metadata": {},
     "output_type": "execute_result"
    }
   ],
   "source": [
    "# Liste des clés\n",
    "list(ingredients.keys())      # idem : list(ingredients)"
   ]
  },
  {
   "cell_type": "code",
   "execution_count": 34,
   "id": "0b58b6da-6823-45f4-bf12-038041309de0",
   "metadata": {},
   "outputs": [
    {
     "data": {
      "text/plain": [
       "['35g', 2, True, '200g']"
      ]
     },
     "execution_count": 34,
     "metadata": {},
     "output_type": "execute_result"
    }
   ],
   "source": [
    "# Liste des valeurs\n",
    "list(ingredients.values())"
   ]
  },
  {
   "cell_type": "code",
   "execution_count": 35,
   "id": "44d8a219-f199-40e3-8d22-915256874093",
   "metadata": {},
   "outputs": [
    {
     "data": {
      "text/plain": [
       "[('sucre', '35g'), ('poire', 2), ('sel', True), ('fraise', '200g')]"
      ]
     },
     "execution_count": 35,
     "metadata": {},
     "output_type": "execute_result"
    }
   ],
   "source": [
    "# Liste des items (liste de tuples)\n",
    "list(ingredients.items())"
   ]
  },
  {
   "cell_type": "markdown",
   "id": "7db70b7a-7ad5-4648-818a-a03b630fd5f4",
   "metadata": {},
   "source": [
    "---\n",
    "\n",
    "# Les types « vide »\n",
    "\n",
    "Maintenant que nous avons vu les listes et les dictionnaires, nous pouvons parler des types **vides**.  \n",
    "Par exemple, il est possible de créer :\n",
    "* une variable qui ne contient rien : `None`\n",
    "* une liste vide `[]`\n",
    "* un dictionnaire vide `{}`"
   ]
  },
  {
   "cell_type": "code",
   "execution_count": 38,
   "id": "b8193ca2-1e4c-4dc3-9cda-7adfdf3af91f",
   "metadata": {},
   "outputs": [
    {
     "data": {
      "text/plain": [
       "NoneType"
      ]
     },
     "execution_count": 38,
     "metadata": {},
     "output_type": "execute_result"
    }
   ],
   "source": [
    "x = None\n",
    "type(x)"
   ]
  },
  {
   "cell_type": "code",
   "execution_count": 39,
   "id": "20e2a3db-1ea9-487a-9a8e-381d1735f4f5",
   "metadata": {},
   "outputs": [
    {
     "data": {
      "text/plain": [
       "list"
      ]
     },
     "execution_count": 39,
     "metadata": {},
     "output_type": "execute_result"
    }
   ],
   "source": [
    "y = []\n",
    "type(y)"
   ]
  },
  {
   "cell_type": "code",
   "execution_count": 40,
   "id": "35adc5a9-3824-41a9-b56e-a2bfb4bb758f",
   "metadata": {},
   "outputs": [
    {
     "data": {
      "text/plain": [
       "dict"
      ]
     },
     "execution_count": 40,
     "metadata": {},
     "output_type": "execute_result"
    }
   ],
   "source": [
    "z = {}\n",
    "type(z)"
   ]
  },
  {
   "cell_type": "markdown",
   "id": "54014a9f",
   "metadata": {},
   "source": [
    "---\n",
    "\n",
    "# Exercices\n",
    "\n",
    "## Exercice 1\n",
    "\n",
    "En partant de la liste `notes = [\"do\", \"re\", \"re\", \"re\", \"fa\", \"sol\", \"solsi\", \"la\"]`, **ajoutez, supprimez et modifiez** des éléments pour qu'elle contienne les notes de musique \"do re mi fa sol la si\" dans le bon ordre.\n",
    "\n"
   ]
  },
  {
   "cell_type": "code",
   "execution_count": null,
   "id": "2ef6109f",
   "metadata": {
    "lines_to_next_cell": 2
   },
   "outputs": [],
   "source": [
    "# Testez votre réponse dans cette cellule\n"
   ]
  },
  {
   "cell_type": "markdown",
   "id": "aad93ff9",
   "metadata": {},
   "source": [
    "## Exercice 2\n",
    "\n",
    "Proposez deux méthodes pour inverser la liste `[\"un\", \"deux\", \"trois\", \"quatre\"]`. Quelle est la différence majeure entre les deux méthodes ?\n"
   ]
  },
  {
   "cell_type": "code",
   "execution_count": null,
   "id": "b3afe0fa",
   "metadata": {
    "lines_to_next_cell": 2
   },
   "outputs": [],
   "source": [
    "# Testez votre réponse dans cette cellule\n"
   ]
  },
  {
   "cell_type": "markdown",
   "id": "4b2ff4ae",
   "metadata": {},
   "source": [
    "## Exercice 3\n",
    "\n",
    "Testez le comportement de la méthode **pop** sur la liste des entiers de 1 à 9.  \n",
    "Par exemple, testez **pop()** sans paramètres ou encore **pop(-1)**.\n"
   ]
  },
  {
   "cell_type": "code",
   "execution_count": 10,
   "id": "4aa8ca88",
   "metadata": {
    "lines_to_next_cell": 2
   },
   "outputs": [],
   "source": [
    "# Testez votre réponse dans cette cellule\n"
   ]
  },
  {
   "cell_type": "markdown",
   "id": "298d8523",
   "metadata": {},
   "source": [
    "## Exercice 4\n",
    "\n",
    "Testez le comportement des méthodes **min** et **max** sur :\n",
    "- sur une liste composée uniquement d'objets numériques (`int` et `float`) ;\n",
    "- sur une liste composée uniquement de chaînes de caractères ;\n",
    "- sur une liste composée d'un mélange d'objets numériques et textuels.\n"
   ]
  },
  {
   "cell_type": "code",
   "execution_count": null,
   "id": "87af1e40",
   "metadata": {
    "lines_to_next_cell": 2
   },
   "outputs": [],
   "source": [
    "# Testez votre réponse dans cette cellule\n"
   ]
  },
  {
   "cell_type": "markdown",
   "id": "898a26de",
   "metadata": {},
   "source": [
    "## Exercice 5\n",
    "\n",
    "Essayer de créer une liste vide puis vérifiez son type.  \n",
    "Quel intérêt cela pourrait-il avoir ?\n"
   ]
  },
  {
   "cell_type": "code",
   "execution_count": 12,
   "id": "947cb8d9",
   "metadata": {
    "lines_to_next_cell": 2
   },
   "outputs": [],
   "source": [
    "# Testez votre réponse dans cette cellule\n"
   ]
  },
  {
   "cell_type": "markdown",
   "id": "3dafe555-c2a1-47ec-9924-ab6c2a1dafec",
   "metadata": {},
   "source": [
    "Exercice\n",
    "Soit le dictionnaire suivant : `animaux = {'chats': 5, 'chiens': 12}`  \n",
    "  \n",
    "Que vont retourner les tests d'appartenance suivants ? Vérifiez vos prédictions.  \n",
    "- `'chats' in animaux.keys()`\n",
    "- `'chats' in animaux.values()`\n",
    "- `'chats' in animaux`"
   ]
  },
  {
   "cell_type": "code",
   "execution_count": null,
   "id": "409ba00e-f4f0-4196-a80c-66ac59db6903",
   "metadata": {},
   "outputs": [],
   "source": [
    "# Testez votre réponse dans cette cellule\n"
   ]
  },
  {
   "cell_type": "markdown",
   "id": "8727e88d-a3ca-406b-bc3e-a938f8d0f802",
   "metadata": {},
   "source": [
    "## Exercice 6\n",
    "\n",
    "Soit le dictionnaire défini dans la cellule ci-dessous.  \n",
    "Affichez à l'aide d'opérations print :\n",
    "\n",
    "- la liste des noms des différentes classes\n",
    "- la note de Miranda en histoire\n",
    "- la liste des notes obtenues par Hypolyte\n",
    "- la liste des noms des élèves de la 6emeB\n",
    "- la liste des matières enseignées en 6eme A\n",
    "- la liste de toutes les matières enseignées\n",
    "- la liste des notes obtenues par les filles des deux classes"
   ]
  },
  {
   "cell_type": "code",
   "execution_count": null,
   "id": "b0832934-4002-4715-a7f8-118a220cb0db",
   "metadata": {},
   "outputs": [],
   "source": [
    "resultats = {\n",
    "    \"6emeA\": {\"Miranda\" : {\"notes\": {\"physique\": 16, \"histoire\": 12}},\n",
    "              \"Celestin\": {\"notes\": {\"physique\": \"absent\", \"histoire\": 18}}\n",
    "             },\n",
    "    \"6emeB\": {\"Hypolyte\": {\"notes\": {\"maths\": 11, \"anglais\": 0}},\n",
    "              \"Josephine\": {\"notes\": {\"maths\": 16, \"anglais\": 20}}\n",
    "             }\n",
    "}"
   ]
  },
  {
   "cell_type": "code",
   "execution_count": null,
   "id": "d79cc826-126b-423e-9721-c955ffaaa1b4",
   "metadata": {},
   "outputs": [],
   "source": [
    "# Testez votre réponse dans cette cellule\n"
   ]
  },
  {
   "cell_type": "markdown",
   "id": "c8ea14b9-b1bc-4ede-8048-b299b29ab868",
   "metadata": {},
   "source": [
    "## Exercice 7\n",
    "\n",
    "À l'aide d'un dictionnaire, comptez puis affichez le nombre d'occurences de chaque caractère dans la phrase suivante :\n",
    "* `Je compte le nombre d'occurences de chaque caractère de la phrase courante.`  \n",
    "\n",
    "**Astuce** : au préalable, faites un test sur une chaine plus petite."
   ]
  },
  {
   "cell_type": "code",
   "execution_count": 1,
   "id": "36102c87-8bcd-4d1e-9880-79d6932fd32f",
   "metadata": {},
   "outputs": [],
   "source": [
    "# Testez votre réponse dans cette cellule\n"
   ]
  },
  {
   "cell_type": "markdown",
   "id": "2ff157fc-3679-4c1f-a673-e2c3727455e2",
   "metadata": {},
   "source": [
    "## Exercice 8\n",
    "\n",
    "Nettoyer cette liste pour retirer tous les doublons et ne conserver qu'une seule occurence de chaque fruit :\n",
    "* `fruits = ['pomme', 'banane', 'orange', 'fraise', 'citron', 'fraise', 'banane', 'orange', 'banane', 'pomme', 'fraise']`\n",
    "\n",
    "**Indice** : utiliser les set"
   ]
  },
  {
   "cell_type": "code",
   "execution_count": 52,
   "id": "9ca616d5-5292-4f68-a495-80c45c31898b",
   "metadata": {},
   "outputs": [],
   "source": [
    "# Testez votre réponse dans cette cellule\n"
   ]
  }
 ],
 "metadata": {
  "jupytext": {
   "cell_metadata_filter": "-all",
   "main_language": "python",
   "notebook_metadata_filter": "-all"
  },
  "kernelspec": {
   "display_name": "Python 3",
   "language": "python",
   "name": "python3"
  },
  "language_info": {
   "codemirror_mode": {
    "name": "ipython",
    "version": 3
   },
   "file_extension": ".py",
   "mimetype": "text/x-python",
   "name": "python",
   "nbconvert_exporter": "python",
   "pygments_lexer": "ipython3",
   "version": "3.7.10"
  }
 },
 "nbformat": 4,
 "nbformat_minor": 5
}
