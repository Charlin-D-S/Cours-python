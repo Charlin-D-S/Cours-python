{
  "cells": [
    {
      "cell_type": "markdown",
      "metadata": {},
      "source": [
        "# Listes et Dictionnaires\n",
        "\n",
        "Ludovic Deneuville\n",
        "\n",
        "## Avant de commencer\n",
        "\n",
        "-   Téléchargez ce\n",
        "    <a href=\"02-listes-et-dictionnaires.ipynb\" target=\"_blank\">notebook\n",
        "    Jupyter</a>\n",
        "-   Connectez-vous au\n",
        "    <a href=\"https://jupyther.ensai.fr/\" target=\"_blank\">Jupyter</a>\n",
        "    ENSAI avec id et mot de passe\n",
        "    -   ou une autre plate-forme (SSPCloud, Jupyter Lab, Google Colab,\n",
        "        Kaggle…)\n",
        "-   Importez le fichier .ipynb\n",
        "\n",
        "## 1 Conteneurs\n",
        "\n",
        "Il existe plusieurs structures de données en Python :\n",
        "\n",
        "-   Listes (list) : collection ordonnée et modifiable d’éléments\n",
        "-   Dictionnaires (dict) : collection non ordonnée de paires\n",
        "    **clé-valeur**\n",
        "-   Ensembles (set) : collection non ordonnée d’éléments **uniques**\n",
        "-   Tuples (tuple) : collection ordonnée et immuable d’éléments\n",
        "\n",
        "Nous allons ici nous concentrer sur les deux structures les plus\n",
        "courantes : les **listes** et les **dictionnaires**\n",
        "\n",
        "## 2 Listes\n",
        "\n",
        "Propriétés des listes Python :\n",
        "\n",
        "-   **Indexation** : Les éléments d’une liste sont indexés, ce qui\n",
        "    signifie qu’ils peuvent être accédés en utilisant leur position dans\n",
        "    la liste. L’index du premier élément est 0, et l’index du dernier\n",
        "    élément est len(liste) - 1.\n",
        "-   **Mutable** : Les listes sont des objets mutables, ce qui signifie\n",
        "    que vous pouvez modifier leurs éléments. Vous pouvez ajouter,\n",
        "    supprimer ou modifier des éléments.\n",
        "-   **Hétérogénéité** : Les listes peuvent contenir des éléments de\n",
        "    différents types de données : entiers, chaînes de caractères,\n",
        "    booléens, voire d’autres listes.\n",
        "-   **Longueur variable** : Les listes peuvent contenir un nombre\n",
        "    variable d’éléments. Elles peuvent être vides (sans éléments) ou\n",
        "    contenir un nombre illimité d’éléments.\n",
        "\n",
        "### 2.1 Créer une liste"
      ],
      "id": "a4ac696f-5c6b-4011-a463-3e58921c527f"
    },
    {
      "cell_type": "code",
      "execution_count": 1,
      "metadata": {},
      "outputs": [],
      "source": [
        "# Liste d'entiers\n",
        "a = [22, 29, 35, 56]\n",
        "a"
      ],
      "id": "3caaf9c4"
    },
    {
      "cell_type": "code",
      "execution_count": 2,
      "metadata": {},
      "outputs": [],
      "source": [
        "type(a)"
      ],
      "id": "e11484de"
    },
    {
      "cell_type": "code",
      "execution_count": 3,
      "metadata": {},
      "outputs": [],
      "source": [
        "# Liste mixte\n",
        "b = [\"bonjour\", 20, True]\n",
        "print(b)"
      ],
      "id": "8a8cbbd3"
    },
    {
      "cell_type": "code",
      "execution_count": 4,
      "metadata": {},
      "outputs": [],
      "source": [
        "# Concaténation\n",
        "a + b"
      ],
      "id": "6a631628"
    },
    {
      "cell_type": "code",
      "execution_count": 5,
      "metadata": {},
      "outputs": [],
      "source": [
        "# Répétition\n",
        "a * 2"
      ],
      "id": "567ecf02"
    },
    {
      "cell_type": "markdown",
      "metadata": {},
      "source": [
        "Il existe de nombreuses autres possibilités pour créer des listes."
      ],
      "id": "06db1cd3-28f1-4ee5-93fc-9fb8ed57dc2e"
    },
    {
      "cell_type": "code",
      "execution_count": 6,
      "metadata": {},
      "outputs": [],
      "source": [
        "list(range(1, 7))"
      ],
      "id": "411b379a"
    },
    {
      "cell_type": "code",
      "execution_count": 7,
      "metadata": {},
      "outputs": [],
      "source": [
        "[x for x in range(1, 7)]"
      ],
      "id": "b55c4d80"
    },
    {
      "cell_type": "code",
      "execution_count": 8,
      "metadata": {},
      "outputs": [],
      "source": [
        "# En séparant une chaîne de caractères\n",
        "c = \"bleu;blanc;rouge;vert;jaune\"\n",
        "c.split(\";\")"
      ],
      "id": "d7e11462"
    },
    {
      "cell_type": "markdown",
      "metadata": {},
      "source": [
        "### 2.2 Méthodes utiles"
      ],
      "id": "0ed8df16-efcd-430c-aa6f-50d497d1d377"
    },
    {
      "cell_type": "code",
      "execution_count": 9,
      "metadata": {},
      "outputs": [],
      "source": [
        "# Nombre d'éléments\n",
        "len(a)"
      ],
      "id": "c36a5b92"
    },
    {
      "cell_type": "code",
      "execution_count": 10,
      "metadata": {},
      "outputs": [],
      "source": [
        "# Premier élément\n",
        "a[0]"
      ],
      "id": "d5f7da3b"
    },
    {
      "cell_type": "code",
      "execution_count": 11,
      "metadata": {},
      "outputs": [],
      "source": [
        "# Dernier élément\n",
        "a[-1]"
      ],
      "id": "35a2f231"
    },
    {
      "cell_type": "code",
      "execution_count": 12,
      "metadata": {},
      "outputs": [],
      "source": [
        "# Tous les éléments à partir de la position 1\n",
        "a[1:]"
      ],
      "id": "2166a72d"
    },
    {
      "cell_type": "code",
      "execution_count": 13,
      "metadata": {},
      "outputs": [],
      "source": [
        "# Tester si une valeur appartient à une liste\n",
        "22 in a"
      ],
      "id": "5eb130e2"
    },
    {
      "cell_type": "code",
      "execution_count": 14,
      "metadata": {},
      "outputs": [],
      "source": [
        "# Trouver la position d'un élément\n",
        "a.index(29)"
      ],
      "id": "f4cdeef3"
    },
    {
      "cell_type": "code",
      "execution_count": 15,
      "metadata": {},
      "outputs": [],
      "source": [
        "# Inverser une liste (sans modifier la liste d'origine)\n",
        "print(\"a[::-1] : \" + str(a[::-1]))\n",
        "print(\"a :       \" + str(a))"
      ],
      "id": "f2b72ae1"
    },
    {
      "cell_type": "code",
      "execution_count": 16,
      "metadata": {},
      "outputs": [],
      "source": [
        "# Inverser une liste (ici l'inversion est sauvegardée dans la variable **a** )\n",
        "a.reverse()\n",
        "a"
      ],
      "id": "085a0730"
    },
    {
      "cell_type": "code",
      "execution_count": 17,
      "metadata": {},
      "outputs": [],
      "source": [
        "# Trier une liste (sans modifier la liste d'origine)\n",
        "sorted(a)"
      ],
      "id": "4aff95dd"
    },
    {
      "cell_type": "code",
      "execution_count": 18,
      "metadata": {},
      "outputs": [],
      "source": [
        "# Order décroissant\n",
        "sorted(a, reverse=True)"
      ],
      "id": "a3a1bd40"
    },
    {
      "cell_type": "code",
      "execution_count": 19,
      "metadata": {},
      "outputs": [],
      "source": [
        "# Trier une liste (en sauvegardant la modification dans la variable **a**)\n",
        "print(\"Avant : \" + str(a))\n",
        "a.sort()\n",
        "print(\"Après : \" + str(a))"
      ],
      "id": "09c3f87b"
    },
    {
      "cell_type": "markdown",
      "metadata": {},
      "source": [
        "### 2.3 Ajouter, modifier et supprimer"
      ],
      "id": "3317b381-e926-4fc4-ab94-aac4a9ab1a9f"
    },
    {
      "cell_type": "code",
      "execution_count": 20,
      "metadata": {},
      "outputs": [],
      "source": [
        "# Ajouter à la fin\n",
        "a.append(44)\n",
        "a"
      ],
      "id": "ba71a579"
    },
    {
      "cell_type": "code",
      "execution_count": 21,
      "metadata": {},
      "outputs": [],
      "source": [
        "# Insérer à une position précise\n",
        "a.insert(2, 88)\n",
        "a"
      ],
      "id": "33f209ef"
    },
    {
      "cell_type": "code",
      "execution_count": 22,
      "metadata": {},
      "outputs": [],
      "source": [
        "# Modifier\n",
        "a[0] = 99\n",
        "a"
      ],
      "id": "a4664f6c"
    },
    {
      "cell_type": "code",
      "execution_count": 23,
      "metadata": {},
      "outputs": [],
      "source": [
        "# Supprimer par position\n",
        "a.pop(3)\n",
        "a"
      ],
      "id": "24529b84"
    },
    {
      "cell_type": "code",
      "execution_count": 24,
      "metadata": {},
      "outputs": [],
      "source": [
        "# Supprimer par valeur\n",
        "a.remove(44)\n",
        "a"
      ],
      "id": "06647c9b"
    },
    {
      "cell_type": "markdown",
      "metadata": {},
      "source": [
        "### 2.4 Copier une liste\n",
        "\n",
        "Observez, puis exécutez le code ci-dessous, il contient les instructions\n",
        "suivantes :\n",
        "\n",
        "-   création de la variable **liste**\n",
        "-   création de la variable **copie**\n",
        "-   suppression du dernier élément de **copie**\n",
        "-   affichage de **liste**"
      ],
      "id": "e0401e69-ad9b-4e7a-9afc-f10342fcf34c"
    },
    {
      "cell_type": "code",
      "execution_count": 25,
      "metadata": {},
      "outputs": [],
      "source": [
        "liste = [1, 2, 3, 4]\n",
        "liste2 = liste\n",
        "liste2.pop()\n",
        "liste"
      ],
      "id": "c733437a"
    },
    {
      "cell_type": "markdown",
      "metadata": {},
      "source": [
        "Nous pourrions nous attendre à ce que la variable **liste** ne soit pas\n",
        "modifiée et affiche `[1, 2, 3, 4]`.  \n",
        "Pourtant la variable **liste2** n’est pas une copie de **liste**, c’est\n",
        "simplement une autre manière d’appeler la même liste."
      ],
      "id": "32370887-2ea9-4762-aa05-26dd27aec7bb"
    },
    {
      "cell_type": "code",
      "execution_count": 26,
      "metadata": {},
      "outputs": [],
      "source": [
        "# Pour créer une vraie copie qui sera distinct de l'original\n",
        "copie = list(liste)\n",
        "copie.append(9)\n",
        "liste, copie"
      ],
      "id": "7446d588"
    },
    {
      "cell_type": "code",
      "execution_count": 27,
      "metadata": {},
      "outputs": [],
      "source": [
        "# Autre possibilité pour copier\n",
        "cp = liste.copy()\n",
        "cp.append(8)\n",
        "liste, cp"
      ],
      "id": "79af9626"
    },
    {
      "cell_type": "markdown",
      "metadata": {},
      "source": [
        "------------------------------------------------------------------------\n",
        "\n",
        "## 3 Dictionnaires\n",
        "\n",
        "Propriétés importantes d’un dictionnaire en Python :\n",
        "\n",
        "-   **Indexation par clé** : Les éléments d’un dictionnaire sont indexés\n",
        "    par des clés plutôt que par des positions. **Chaque clé doit être\n",
        "    unique** dans le dictionnaire, et elle est associée à une valeur\n",
        "    correspondante. La recherche d’une valeur associée à une clé est\n",
        "    très rapide.\n",
        "-   **Mutable** : Les dictionnaires sont des objets mutables, ce qui\n",
        "    signifie que vous pouvez ajouter, supprimer ou modifier des éléments\n",
        "    du dictionnaire après sa création.\n",
        "-   **Hétérogénéité** : Les dictionnaires peuvent contenir des paires\n",
        "    clé-valeur avec des types de données différents. Les clés peuvent\n",
        "    être de types immuables tels que les chaînes de caractères, les\n",
        "    entiers… Les valeurs peuvent être de n’importe quel type de données\n",
        "    valide en Python.\n",
        "-   **Longueur variable** : Les dictionnaires peuvent contenir un nombre\n",
        "    variable de paires clé-valeur. Ils peuvent être vides (sans paires\n",
        "    clé-valeur) ou contenir un nombre illimité de paires.\n",
        "-   **Non ordonné** : Contrairement aux listes, les éléments d’un\n",
        "    dictionnaire n’ont pas d’ordre défini. L’ordre dans lequel les\n",
        "    paires clé-valeur sont stockées n’est pas garanti et peut changer\n",
        "    lors des opérations de modification du dictionnaire.\n",
        "\n",
        "### 3.1 Créer un dictionnaire"
      ],
      "id": "f34445e7-f50d-47c3-9e22-3f79722e2df7"
    },
    {
      "cell_type": "code",
      "execution_count": 28,
      "metadata": {},
      "outputs": [],
      "source": [
        "ingredients = {'sucre': '100g', 'poire': 2, 'lait': '1L', 'sel': True}\n",
        "ingredients"
      ],
      "id": "12b95b88"
    },
    {
      "cell_type": "code",
      "execution_count": 29,
      "metadata": {},
      "outputs": [],
      "source": [
        "type(ingredients)"
      ],
      "id": "9a728d13"
    },
    {
      "cell_type": "code",
      "execution_count": 30,
      "metadata": {},
      "outputs": [],
      "source": [
        "# Nombre d'éléments\n",
        "len(ingredients)"
      ],
      "id": "d10f483e"
    },
    {
      "cell_type": "code",
      "execution_count": 31,
      "metadata": {},
      "outputs": [],
      "source": [
        "# Recherche par clé\n",
        "ingredients['lait']"
      ],
      "id": "356cf435"
    },
    {
      "cell_type": "code",
      "execution_count": 32,
      "metadata": {},
      "outputs": [],
      "source": [
        "# Recherche par clé - autre possibilité\n",
        "ingredients.get('lait')"
      ],
      "id": "f15fdb71"
    },
    {
      "cell_type": "markdown",
      "metadata": {},
      "source": [
        "### 3.2 Ajouter, modifier et supprimer"
      ],
      "id": "441a98dc-bd8a-4023-bc7c-01756509b028"
    },
    {
      "cell_type": "code",
      "execution_count": 33,
      "metadata": {},
      "outputs": [],
      "source": [
        "# Ajouter un élément\n",
        "ingredients['fraise'] =  '200g'\n",
        "ingredients"
      ],
      "id": "830de687"
    },
    {
      "cell_type": "code",
      "execution_count": 34,
      "metadata": {},
      "outputs": [],
      "source": [
        "# Modifier\n",
        "ingredients['sucre'] =  '35g'\n",
        "ingredients"
      ],
      "id": "6e584db7"
    },
    {
      "cell_type": "code",
      "execution_count": 35,
      "metadata": {},
      "outputs": [],
      "source": [
        "# Supprimer \n",
        "ingredients.pop('lait')\n",
        "ingredients"
      ],
      "id": "80efb27b"
    },
    {
      "cell_type": "markdown",
      "metadata": {},
      "source": [
        "### 3.3 Méthodes utiles"
      ],
      "id": "7f75ca44-01c8-4be9-9c32-5b0b74b3131d"
    },
    {
      "cell_type": "code",
      "execution_count": 36,
      "metadata": {},
      "outputs": [],
      "source": [
        "# Liste des clés\n",
        "list(ingredients.keys())      # idem : list(ingredients)"
      ],
      "id": "cb25f815"
    },
    {
      "cell_type": "code",
      "execution_count": 37,
      "metadata": {},
      "outputs": [],
      "source": [
        "# Liste des valeurs\n",
        "list(ingredients.values())"
      ],
      "id": "dd8a5767"
    },
    {
      "cell_type": "code",
      "execution_count": 38,
      "metadata": {},
      "outputs": [],
      "source": [
        "# Liste des items (liste de tuples)\n",
        "list(ingredients.items())"
      ],
      "id": "be439b0f"
    },
    {
      "cell_type": "markdown",
      "metadata": {},
      "source": [
        "## 4 Les types « vide »\n",
        "\n",
        "Maintenant que nous avons vu les listes et les dictionnaires, nous\n",
        "pouvons parler des types **vides**.  \n",
        "Par exemple, il est possible de créer :\n",
        "\n",
        "-   une variable qui ne contient rien : `None`\n",
        "-   une liste vide `[]`\n",
        "-   un dictionnaire vide `{}`"
      ],
      "id": "ee0ce6e3-452c-4f84-b1d1-d74f22ae5f9d"
    },
    {
      "cell_type": "code",
      "execution_count": 39,
      "metadata": {},
      "outputs": [],
      "source": [
        "x = None\n",
        "type(x)"
      ],
      "id": "dcd7f05a"
    },
    {
      "cell_type": "code",
      "execution_count": 40,
      "metadata": {},
      "outputs": [],
      "source": [
        "y = []\n",
        "type(y)"
      ],
      "id": "2c0c86b9"
    },
    {
      "cell_type": "code",
      "execution_count": 41,
      "metadata": {},
      "outputs": [],
      "source": [
        "z = {}\n",
        "type(z)"
      ],
      "id": "194a2af6"
    },
    {
      "cell_type": "markdown",
      "metadata": {},
      "source": [
        "## 5 Exercices\n",
        "\n",
        "### 5.1 Exercice 1\n",
        "\n",
        "En partant de la liste\n",
        "`notes = [\"do\", \"re\", \"re\", \"re\", \"fa\", \"sol\", \"solsi\", \"la\"]`,\n",
        "**ajoutez, supprimez et modifiez** des éléments pour qu’elle contienne\n",
        "les notes de musique “do re mi fa sol la si” dans le bon ordre."
      ],
      "id": "b1acd749-2fe9-4590-948e-3c8022c319ce"
    },
    {
      "cell_type": "code",
      "execution_count": 42,
      "metadata": {},
      "outputs": [],
      "source": [
        "# Testez votre réponse dans cette cellule"
      ],
      "id": "9a847abb"
    },
    {
      "cell_type": "markdown",
      "metadata": {},
      "source": [
        "### 5.2 Exercice 2\n",
        "\n",
        "Proposez deux méthodes pour inverser la liste\n",
        "`[\"un\", \"deux\", \"trois\", \"quatre\"]`. Quelle est la différence majeure\n",
        "entre les deux méthodes ?"
      ],
      "id": "e3f64315-5abb-46ca-b9bd-1e1bf699e99f"
    },
    {
      "cell_type": "code",
      "execution_count": 43,
      "metadata": {},
      "outputs": [],
      "source": [
        "# Testez votre réponse dans cette cellule"
      ],
      "id": "e01611ad"
    },
    {
      "cell_type": "markdown",
      "metadata": {},
      "source": [
        "### 5.3 Exercice 3\n",
        "\n",
        "Testez le comportement de la méthode **pop** sur la liste des entiers de\n",
        "1 à 9.  \n",
        "Par exemple, testez **pop()** sans paramètres ou encore **pop(-1)**."
      ],
      "id": "9e90a5d1-926c-4cc4-bb5e-1b97a936af84"
    },
    {
      "cell_type": "code",
      "execution_count": 44,
      "metadata": {},
      "outputs": [],
      "source": [
        "# Testez votre réponse dans cette cellule"
      ],
      "id": "7221cecb"
    },
    {
      "cell_type": "markdown",
      "metadata": {},
      "source": [
        "### 5.4 Exercice 4\n",
        "\n",
        "Testez le comportement des méthodes **min** et **max** sur :\n",
        "\n",
        "-   sur une liste composée uniquement d’objets numériques (`int` et\n",
        "    `float`) ;\n",
        "-   sur une liste composée uniquement de chaînes de caractères ;\n",
        "-   sur une liste composée d’un mélange d’objets numériques et textuels."
      ],
      "id": "deefaec9-91ff-4877-8493-26d720809a5a"
    },
    {
      "cell_type": "code",
      "execution_count": 45,
      "metadata": {},
      "outputs": [],
      "source": [
        "# Testez votre réponse dans cette cellule"
      ],
      "id": "22740abc"
    },
    {
      "cell_type": "markdown",
      "metadata": {},
      "source": [
        "### 5.5 Exercice 5\n",
        "\n",
        "Essayer de créer une liste vide puis vérifiez son type.  \n",
        "Quel intérêt cela pourrait-il avoir ?"
      ],
      "id": "4170c5fa-7686-4f52-89cd-ce9075e6c122"
    },
    {
      "cell_type": "code",
      "execution_count": 46,
      "metadata": {},
      "outputs": [],
      "source": [
        "# Testez votre réponse dans cette cellule"
      ],
      "id": "e5a72386"
    },
    {
      "cell_type": "markdown",
      "metadata": {},
      "source": [
        "Exercice Soit le dictionnaire suivant :\n",
        "`animaux = {'chats': 5, 'chiens': 12}`\n",
        "\n",
        "Que vont retourner les tests d’appartenance suivants ? Vérifiez vos\n",
        "prédictions.\n",
        "\n",
        "-   `'chats' in animaux.keys()`\n",
        "-   `'chats' in animaux.values()`\n",
        "-   `'chats' in animaux`"
      ],
      "id": "f2cbfa05-4fba-4646-b40a-53d2b42855ef"
    },
    {
      "cell_type": "code",
      "execution_count": 47,
      "metadata": {},
      "outputs": [],
      "source": [
        "# Testez votre réponse dans cette cellule"
      ],
      "id": "3fe990f3"
    },
    {
      "cell_type": "markdown",
      "metadata": {},
      "source": [
        "### 5.6 Exercice 6\n",
        "\n",
        "Soit le dictionnaire défini dans la cellule ci-dessous.  \n",
        "Affichez à l’aide d’opérations print :\n",
        "\n",
        "-   la liste des noms des différentes classes\n",
        "-   la note de Miranda en histoire\n",
        "-   la liste des notes obtenues par Hypolyte\n",
        "-   la liste des noms des élèves de la 6emeB\n",
        "-   la liste des matières enseignées en 6eme A\n",
        "-   la liste de toutes les matières enseignées\n",
        "-   la liste des notes obtenues par les filles des deux classes"
      ],
      "id": "81602eca-ead7-4f70-812b-df308f14d7c1"
    },
    {
      "cell_type": "code",
      "execution_count": 48,
      "metadata": {},
      "outputs": [],
      "source": [
        "resultats = {\n",
        "    \"6emeA\": {\"Miranda\" : {\"notes\": {\"physique\": 16, \"histoire\": 12}},\n",
        "              \"Celestin\": {\"notes\": {\"physique\": \"absent\", \"histoire\": 18}}\n",
        "             },\n",
        "    \"6emeB\": {\"Hypolyte\": {\"notes\": {\"maths\": 11, \"anglais\": 0}},\n",
        "              \"Josephine\": {\"notes\": {\"maths\": 16, \"anglais\": 20}}\n",
        "             }\n",
        "}"
      ],
      "id": "d0e0ca38"
    },
    {
      "cell_type": "code",
      "execution_count": 49,
      "metadata": {},
      "outputs": [],
      "source": [
        "# Testez votre réponse dans cette cellule"
      ],
      "id": "068c0e52"
    },
    {
      "cell_type": "markdown",
      "metadata": {},
      "source": [
        "### 5.7 Exercice 7\n",
        "\n",
        "À l’aide d’un dictionnaire, comptez puis affichez le nombre d’occurences\n",
        "de chaque caractère dans la phrase suivante :\n",
        "\n",
        "-   `Je compte le nombre d'occurences de chaque caractère de la phrase courante.`\n",
        "\n",
        "**Astuce** : au préalable, faites un test sur une chaine plus petite."
      ],
      "id": "d155313e-9c4d-483c-8438-ca27cbb0ad0b"
    },
    {
      "cell_type": "code",
      "execution_count": 50,
      "metadata": {},
      "outputs": [],
      "source": [
        "# Testez votre réponse dans cette cellule"
      ],
      "id": "ae3216c9"
    },
    {
      "cell_type": "markdown",
      "metadata": {},
      "source": [
        "### 5.8 Exercice 8\n",
        "\n",
        "Nettoyer cette liste pour retirer tous les doublons et ne conserver\n",
        "qu’une seule occurence de chaque fruit :\n",
        "\n",
        "-   `fruits = ['pomme', 'banane', 'orange', 'fraise', 'citron', 'fraise', 'banane', 'orange', 'banane', 'pomme', 'fraise']`\n",
        "\n",
        "**Indice** : utiliser les set"
      ],
      "id": "bae3bea4-2dff-44a3-8dad-9914bcfeb5e3"
    },
    {
      "cell_type": "code",
      "execution_count": 51,
      "metadata": {},
      "outputs": [],
      "source": [
        "# Testez votre réponse dans cette cellule"
      ],
      "id": "d734801e"
    }
  ],
  "nbformat": 4,
  "nbformat_minor": 5,
  "metadata": {
    "kernelspec": {
      "name": "python3",
      "display_name": "Python 3 (ipykernel)",
      "language": "python"
    },
    "language_info": {
      "name": "python",
      "codemirror_mode": {
        "name": "ipython",
        "version": "3"
      },
      "file_extension": ".py",
      "mimetype": "text/x-python",
      "nbconvert_exporter": "python",
      "pygments_lexer": "ipython3",
      "version": "3.10.14"
    }
  }
}