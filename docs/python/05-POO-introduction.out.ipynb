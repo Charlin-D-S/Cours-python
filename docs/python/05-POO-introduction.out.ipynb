{
  "cells": [
    {
      "cell_type": "markdown",
      "metadata": {},
      "source": [
        "# Introduction à la POO\n",
        "\n",
        "## La programmation orientée objet\n",
        "\n",
        "La Programmation Orientée Objet (POO) est un paradigme de programmation\n",
        "qui permet de structurer les programmes autour d’**objets**, qui\n",
        "contiennent :\n",
        "\n",
        "-   des **attributs** (caractéristiques de l’objet)\n",
        "-   des **méthodes** (fonctions propres à l’objet)\n",
        "\n",
        "En Python, il est possible mais pas obligatoire d’utiliser la POO.\n",
        "Cependant, le fonctionnement interne de Python est fortement teinté de\n",
        "POO.\n",
        "\n",
        "### « Tout est objet »\n",
        "\n",
        "**En Python, tout est un objet** (au sens de la POO). Regardons ce que\n",
        "cela signifie en récupérant le type de différents objets que nous avons\n",
        "vus dans les précédents tutoriels."
      ],
      "id": "9bc4a8c9-5cea-4be8-8f9a-ceb5ab228f9f"
    },
    {
      "cell_type": "code",
      "execution_count": 24,
      "metadata": {},
      "outputs": [
        {
          "output_type": "stream",
          "name": "stdout",
          "text": [
            "<class 'int'>\n",
            "<class 'str'>\n",
            "<class 'list'>\n",
            "<class 'dict'>\n",
            "<class 'function'>"
          ]
        }
      ],
      "source": [
        "print(type(1))\n",
        "print(type(\"bonjour\"))\n",
        "print(type([]))\n",
        "print(type({}))          \n",
        "print(type(lambda x: x**2))"
      ],
      "id": "4da9ffb9-24be-4f8b-9806-f5ea234342f3"
    },
    {
      "cell_type": "markdown",
      "metadata": {},
      "source": [
        "### Définir ses propres objets\n",
        "\n",
        "Pour créer un **objet**, nous avons besoin dans un premier temps d’un\n",
        "modèle : une **classe**.  \n",
        "Nous pouvons voir la classe comme un « *moule* » qui permettra ensuite\n",
        "de construire des objets.  \n",
        "Par exemple, nous créons une classe `Velo` dont voici la documentation :\n",
        "\n",
        "``` python\n",
        "    \"\"\"\n",
        "    Classe représentant un vélo.\n",
        "\n",
        "    Attributs:\n",
        "        couleur (str): La couleur du vélo.\n",
        "        vitesse (int): La vitesse actuelle du vélo.\n",
        "        porte_bagage (bool): Indique si le vélo a un porte-bagage.\n",
        "\n",
        "    Méthodes:\n",
        "        __init__(couleur, porte_bagage=False): Construit un nouvel objet Velo \n",
        "        __str__(): représentation en chaîne de caractères d'un objet Velo\n",
        "        accelerer(acceleration): Accélère le vélo en ajoutant l'accélération à sa vitesse actuelle.\n",
        "        ralentir(deceleration): Ralentit le vélo en soustrayant la décélération de sa vitesse actuelle.\n",
        "        installer_porte_bagage(): Installe un porte-bagage sur le vélo en le mettant à True.\n",
        "        est_arrete(): Vérifie si le vélo est complètement arrêté.\n",
        "\n",
        "    \"\"\"\n",
        "```"
      ],
      "id": "fbb42b9a-de07-4e86-95b7-4bace453f9f1"
    },
    {
      "cell_type": "code",
      "execution_count": null,
      "metadata": {},
      "outputs": [],
      "source": [
        "class Velo:\n",
        "    def __init__(self, couleur, porte_bagage=False):\n",
        "        self.couleur = couleur\n",
        "        self.vitesse = 0\n",
        "        self.porte_bagage = porte_bagage\n",
        "        \n",
        "    def __str__(self):\n",
        "        s = \"Je suis un vélo \" + self.couleur + \".\"\n",
        "        s += \" Ma vitesse est de : \" + str(self.vitesse) + \".\"\n",
        "        if self.porte_bagage:\n",
        "            s += \" J'ai un porte-bagages.\"\n",
        "        return s\n",
        "\n",
        "    def accelerer(self, acceleration):\n",
        "        self.vitesse += acceleration\n",
        "\n",
        "    def ralentir(self, deceleration):\n",
        "        self.vitesse -= deceleration\n",
        "        if self.vitesse < 0:\n",
        "            self.vitesse = 0\n",
        "\n",
        "    def installer_porte_bagage(self):\n",
        "        self.porte_bagage = True\n",
        "            \n",
        "    def est_arrete(self):\n",
        "        return self.vitesse == 0"
      ],
      "id": "d6a421fd-e6ee-4a99-ab89-4f1dcddbd808"
    },
    {
      "cell_type": "markdown",
      "metadata": {},
      "source": [
        "Avec cette classe nous pouvons maintenant créer des **instances**\n",
        "(objets) de type `Velo`"
      ],
      "id": "40a17d04-20cc-42fb-98c7-7df74334e9df"
    },
    {
      "cell_type": "code",
      "execution_count": 44,
      "metadata": {},
      "outputs": [
        {
          "output_type": "stream",
          "name": "stdout",
          "text": [
            "Je suis un vélo bleu. Ma vitesse est de : 0.\n",
            "Je suis un vélo violet. Ma vitesse est de : 0. J'ai un porte-bagages."
          ]
        }
      ],
      "source": [
        "v1 = Velo(\"bleu\")\n",
        "print(v1)\n",
        "\n",
        "v2 = Velo(\"violet\", True)\n",
        "print(v2)"
      ],
      "id": "63528705-e731-4739-bd0f-59cc41cad1e8"
    },
    {
      "cell_type": "code",
      "execution_count": 45,
      "metadata": {},
      "outputs": [
        {
          "output_type": "stream",
          "name": "stdout",
          "text": [
            "Je suis un vélo bleu. Ma vitesse est de : 20. J'ai un porte-bagages."
          ]
        }
      ],
      "source": [
        "## Nous pouvons appliquer les méthodes définies dans la classe à cet objet velo\n",
        "v1.accelerer(20)\n",
        "v1.installer_porte_bagage()\n",
        "print(v1)"
      ],
      "id": "077e2777-3a3e-40b5-ba12-d14d1df946f8"
    },
    {
      "cell_type": "markdown",
      "metadata": {},
      "source": [
        "Analysons la syntaxe de construction d’une classe d’objets : -\n",
        "l’instruction `class` définit la **classe d’objets**. Différents objets\n",
        "pourront être créés selon le modèle défini par cette classe.  \n",
        "Par convention, le nom de la classe doit commencer par une majuscule. -\n",
        "la classe spécifie un certains nombres de fonctions que l’on appelle\n",
        "**méthodes** : ce sont des fonctions spécifiques à la classe d’objets\n",
        "définie. - la méthode `__init__`, est appelée le **constructeur**. Elle\n",
        "est **obligatoire**, sinon il est impossible d’instancier d’objets de la\n",
        "classe.  \n",
        "Elle permet de définir les **attributs** attachés à cette classe\n",
        "d’objets.  \n",
        "Il est possible de passer des paramètres au constructeur (ex :\n",
        "`couleur`) pour définir des attributs propres à une **instance** de\n",
        "l’objet. - le constructeur a un paramètre obligatoire : `self`. C’est\n",
        "une référence aux **instances** qui vont être créées à partir de cette\n",
        "classe.  \n",
        "La syntaxe suivante définit un attribut : `self.attribut = valeur`. - La\n",
        "méthode `__str__` (facultative) permet de redéfinir la représentation en\n",
        "chaîne de caractères d’un objet. - les autres méthodes sont définies par\n",
        "l’utilisateur. Elles prennent également le `self` en paramètre, pour\n",
        "accéder aux attributs et méthodes.  \n",
        "Comme ce sont des fonctions, elles peuvent également admettre d’autres\n",
        "paramètres.\n",
        "\n",
        "### Attributs\n",
        "\n",
        "Un attribut est une **variable associée à un objet**. Un attribut peut\n",
        "contenir n’importe quel objet Python.\n",
        "\n",
        "#### Accéder aux attributs\n",
        "\n",
        "Une fois que l’objet est instancié, il est possible d’accéder à ses\n",
        "attributs. La syntaxe est simple : `instance.attribut`."
      ],
      "id": "a8fbb8b9-765f-433a-be12-4ae374ceec67"
    },
    {
      "cell_type": "code",
      "execution_count": 33,
      "metadata": {},
      "outputs": [
        {
          "output_type": "stream",
          "name": "stdout",
          "text": [
            "bleu\n",
            "violet\n",
            "\n",
            "40\n",
            "0"
          ]
        }
      ],
      "source": [
        "print(v1.couleur)\n",
        "print(v2.couleur)\n",
        "print()\n",
        "print(v1.vitesse)\n",
        "print(v2.vitesse)"
      ],
      "id": "79251c45"
    },
    {
      "cell_type": "markdown",
      "metadata": {},
      "source": [
        "On voit bien que les deux instances sont **autonomes** : bien qu’elles\n",
        "soient du même type, leurs attributs diffèrent.\n",
        "\n",
        "#### Modifier un attribut\n",
        "\n",
        "Modifier un attribut d’une instance est très simple, la syntaxe est :\n",
        "`instance.attribut = nouvelle_valeur`."
      ],
      "id": "d368631b-9236-464b-aa76-c8aa93d19300"
    },
    {
      "cell_type": "code",
      "execution_count": 34,
      "metadata": {},
      "outputs": [
        {
          "output_type": "stream",
          "name": "stdout",
          "text": [
            "jaune"
          ]
        }
      ],
      "source": [
        "v2.couleur = \"jaune\"\n",
        "print(v2.couleur)"
      ],
      "id": "4152011a"
    },
    {
      "cell_type": "markdown",
      "metadata": {},
      "source": [
        "#### Attributs de classe\n",
        "\n",
        "Chaque instance de `Velo` a ses propres attributs d’instance (couleur,\n",
        "vitesse, porte_bagage).  \n",
        "Il est possible d’avoir des attributs communs à tous les Velos : **les\n",
        "attributs de classe**.\n",
        "\n",
        "Créons la classe `VeloBis` pour illustrer avec un attribut comptant le\n",
        "nombre de `VeloBis` créés."
      ],
      "id": "d9f90fa5-a9fa-4a99-9eec-09037abb51dc"
    },
    {
      "cell_type": "code",
      "execution_count": 35,
      "metadata": {},
      "outputs": [],
      "source": [
        "class VeloBis:\n",
        "    nb_velos_bis = 0                                       # Attribut de classe pour compter le nombre de VeloBis\n",
        "\n",
        "    def __init__(self, couleur, porte_bagage=False):\n",
        "        self.couleur = couleur\n",
        "        self.vitesse = 0\n",
        "        self.porte_bagage = porte_bagage\n",
        "        VeloBis.nb_velos_bis += 1"
      ],
      "id": "21505063-7ffd-474d-b12a-08458cd43ade"
    },
    {
      "cell_type": "code",
      "execution_count": 39,
      "metadata": {},
      "outputs": [
        {
          "output_type": "stream",
          "name": "stdout",
          "text": [
            "4\n",
            "5\n",
            "6"
          ]
        }
      ],
      "source": [
        "print(VeloBis.nb_velos_bis)\n",
        "vb1 = VeloBis(\"rose\")\n",
        "print(VeloBis.nb_velos_bis)\n",
        "vb2 = VeloBis(\"orange\")\n",
        "print(VeloBis.nb_velos_bis)"
      ],
      "id": "e2f0e946-f515-4adf-8dc4-4f4cb7094229"
    },
    {
      "cell_type": "markdown",
      "metadata": {},
      "source": [
        "### Méthodes\n",
        "\n",
        "Une méthode est une **fonction associée à un objet**. Elle peut utiliser\n",
        "ses attributs, les modifier, et faire intervenir d’autres méthodes de\n",
        "l’objet.\n",
        "\n",
        "#### Appeler une méthode\n",
        "\n",
        "La syntaxe pour appeler une méthode d’un objet instancié est la suivante\n",
        ": `instance.methode(parametres)`."
      ],
      "id": "63c9f599-87cd-42ef-972f-c3fcc2362545"
    },
    {
      "cell_type": "code",
      "execution_count": 46,
      "metadata": {},
      "outputs": [
        {
          "output_type": "display_data",
          "metadata": {},
          "data": {
            "text/plain": [
              "False"
            ]
          }
        }
      ],
      "source": [
        "v1.est_arrete()"
      ],
      "id": "eb41e4fb"
    },
    {
      "cell_type": "markdown",
      "metadata": {},
      "source": [
        "**Remarque** : les méthodes n’ont pas d’existence propre en dehors de\n",
        "l’objet.  \n",
        "Nous ne pouvons pas appeler la méthode `est_arrete()` seule, cela n’a\n",
        "pas de sens."
      ],
      "id": "019bf92c-8338-4c09-bb58-79ee08261188"
    },
    {
      "cell_type": "code",
      "execution_count": 47,
      "metadata": {},
      "outputs": [],
      "source": [
        "est_arrete()"
      ],
      "id": "b57b780b"
    },
    {
      "cell_type": "markdown",
      "metadata": {},
      "source": [
        "**Remarque 2** : \\* le 1er paramètre de chaque méthode d’instance est\n",
        "toujours `self` pour faire référence à l’objet lui même \\* lors des\n",
        "appels aux méthodes, on ne spécifie pas ce paramètre `self`\n",
        "\n",
        "#### Agir sur les attributs\n",
        "\n",
        "Tout l’intérêt des méthodes est qu’elles peuvent accéder aux attributs,\n",
        "les modifier et mettre en place des contrôles.  \n",
        "Par exemple : - si l’on n’utilise pas les méthodes `accelerer` et\n",
        "`decelerer`, il est possible de se retrouver avec une vitesse négative"
      ],
      "id": "6b2c5b01-cc4b-419a-a3b9-3f956b2663ad"
    },
    {
      "cell_type": "code",
      "execution_count": 49,
      "metadata": {},
      "outputs": [
        {
          "output_type": "stream",
          "name": "stdout",
          "text": [
            "Je suis un vélo bleu. Ma vitesse est de : -10. J'ai un porte-bagages."
          ]
        }
      ],
      "source": [
        "v1.vitesse = -10\n",
        "print(v1)"
      ],
      "id": "bef86587"
    },
    {
      "cell_type": "markdown",
      "metadata": {},
      "source": [
        "Modifier directement un attribut de cette manière est une mauvaise\n",
        "pratique car on n’effectue aucun contrôle sur ce qui est saisi.  \n",
        "Il est possible d’aller encore plus loin :"
      ],
      "id": "71e0b760-e615-49e9-b5a7-1a4e436d3a62"
    },
    {
      "cell_type": "code",
      "execution_count": 54,
      "metadata": {},
      "outputs": [
        {
          "output_type": "stream",
          "name": "stdout",
          "text": [
            "Je suis un vélo Sieste. Ma vitesse est de : Jean-Michel. J'ai un porte-bagages."
          ]
        }
      ],
      "source": [
        "v1.vitesse = \"Jean-Michel\"\n",
        "print(v1)"
      ],
      "id": "6d791364-cf84-49ab-9e77-3eebadfc7610"
    },
    {
      "cell_type": "markdown",
      "metadata": {},
      "source": [
        "En utilisant les **méthodes**, cela évite de se retrouver dans des\n",
        "situations absurdes ou incohérentes."
      ],
      "id": "457f89f5-2a1e-4ca1-811e-15c81882cdf0"
    },
    {
      "cell_type": "code",
      "execution_count": 57,
      "metadata": {},
      "outputs": [
        {
          "output_type": "stream",
          "name": "stdout",
          "text": [
            "Je suis un vélo Bleu. Ma vitesse est de : 10.\n",
            "Je suis un vélo Bleu. Ma vitesse est de : 0."
          ]
        }
      ],
      "source": [
        "v1 = Velo(\"Bleu\")\n",
        "v1.accelerer(10)\n",
        "print(v1)\n",
        "v1.ralentir(20)\n",
        "print(v1)"
      ],
      "id": "11fdcdde-5439-4b36-b0f6-0408ba35a267"
    },
    {
      "cell_type": "markdown",
      "metadata": {},
      "source": [
        "### Bonus : la classe Property\n",
        "\n",
        "Pour écarter tout problème, une solution intéressante est d’utiliser la\n",
        "classe\n",
        "[**property**](https://python.sdv.univ-paris-diderot.fr/19_avoir_la_classe_avec_les_objets/#1952-la-solution-la-classe-property).  \n",
        "Cette classe property permet sans changer la syntaxe d’accès aux\n",
        "attributs d’appeler des mutateurs."
      ],
      "id": "69a3b12b-d1c4-467f-988c-d365749850b2"
    },
    {
      "cell_type": "code",
      "execution_count": 82,
      "metadata": {},
      "outputs": [],
      "source": [
        "class Velo:\n",
        "    def __init__(self, couleur, porte_bagage=False):\n",
        "        self.couleur = couleur\n",
        "        self._vitesse = 0                                    # Attribut privé pour stocker la vitesse\n",
        "        self.porte_bagage = porte_bagage\n",
        "\n",
        "    def __str__(self):\n",
        "        s = \"Je suis un vélo \" + self.couleur + \".\"\n",
        "        s += \" Ma vitesse est de : \" + str(self.vitesse) + \".\"\n",
        "        if self.porte_bagage:\n",
        "            s += \" J'ai un porte-bagages.\"\n",
        "        return s\n",
        "\n",
        "    @property\n",
        "    def vitesse(self):\n",
        "        return self._vitesse\n",
        "\n",
        "    @vitesse.setter\n",
        "    def vitesse(self, nouvelle_vitesse):\n",
        "        if nouvelle_vitesse >= 0:\n",
        "            self._vitesse = nouvelle_vitesse\n",
        "        else:\n",
        "            raise ValueError(\"La vitesse doit être un nombre positif.\")\n",
        "\n",
        "    def installer_porte_bagage(self):\n",
        "        self.porte_bagage = True\n",
        "\n",
        "    def est_arrete(self):\n",
        "        return self.vitesse == 0"
      ],
      "id": "56c4cb9b-e54a-4fb9-9028-061d82b62ede"
    },
    {
      "cell_type": "code",
      "execution_count": 83,
      "metadata": {},
      "outputs": [
        {
          "output_type": "stream",
          "name": "stdout",
          "text": [
            "Je suis un vélo noir. Ma vitesse est de : 0.\n",
            "Je suis un vélo noir. Ma vitesse est de : 10."
          ]
        }
      ],
      "source": [
        "v3 = Velo(\"noir\")\n",
        "print(v3)\n",
        "v3.vitesse = 10\n",
        "print(v3)\n",
        "v3.vitesse = -20\n",
        "print(v3)"
      ],
      "id": "8afe08f4-659c-4541-b5fa-0e6a302d4728"
    },
    {
      "cell_type": "markdown",
      "metadata": {},
      "source": [
        "------------------------------------------------------------------------\n",
        "\n",
        "## Bonnes pratiques\n",
        "\n",
        "Pour conclure cette introduction au langage Python, voici une liste de\n",
        "bonnes pratiques généralement suivies par les développeurs.  \n",
        "Le respect de ces pratiques est fortement recommandé et vous aidera à\n",
        "mieux coder.\n",
        "\n",
        "### Convention de nommage\n",
        "\n",
        "-   variables\n",
        "    -   donner des noms explicites (éviter les `toto`, `var1` …)\n",
        "    -   en minuscules avec des mots séparés par des underscores\n",
        "        (snake_case)\n",
        "        -   exception pour les variables **constantes** : utiliser des\n",
        "            MAJUSCULES avec des mots séparés par des underscores\n",
        "    -   cela permet d’avoir un code plus lisible pour vous même et pour\n",
        "        les autres\n",
        "-   fonctions et méthodes\n",
        "    -   idem que pour les variables\n",
        "-   classes\n",
        "    -   utiliser le **camelCase** : chaque mot commence par une\n",
        "        Majuscule.\n",
        "    -   ex : `VeloElectrique`\n",
        "\n",
        "### Indenter correctement le code\n",
        "\n",
        "Utilisez une indentation de 4 espaces pour chaque niveau\n",
        "d’indentation.  \n",
        "L’indentation correcte est essentielle en Python, car elle détermine la\n",
        "structure du code.\n",
        "\n",
        "### Ajouter des commentaires pertinents\n",
        "\n",
        "Dès qu’il y a un peu de complexité, commentez votre code pour expliquer\n",
        "son fonctionnement.  \n",
        "Ajoutez des docstrings aux fonctions, classes et modules pour expliquer\n",
        "leur fonctionnement, leurs paramètres et leurs valeurs de retour.\n",
        "\n",
        "------------------------------------------------------------------------\n",
        "\n",
        "## Exercices\n",
        "\n",
        "### Exercice 1\n",
        "\n",
        "Créez une classe `Etudiant` avec les attributs : \\* nom \\* age \\*\n",
        "liste_notes\n",
        "\n",
        "Avec les méthodes : \\* **init**() : constructeur \\* ajouter_note() :\n",
        "pour ajouter une nouvelle note à la liste \\* calculer_moyenne() :\n",
        "calculer la moyenne des notes"
      ],
      "id": "d15ab864-1369-401d-baf6-30483e614f7e"
    },
    {
      "cell_type": "code",
      "execution_count": null,
      "metadata": {},
      "outputs": [],
      "source": [
        "## Testez votre réponse dans cette cellule\n"
      ],
      "id": "38b19a85"
    },
    {
      "cell_type": "markdown",
      "metadata": {},
      "source": [
        "### Exercice 2\n",
        "\n",
        "Créer une classe `Point` qui représente les coordonnées d’un point en\n",
        "2D.  \n",
        "Ajouter une méthode distance(autre_point) qui calcule la distance avec\n",
        "un autre point.\n",
        "\n",
        "Créez une classe `Cercle` avec les attributs centre (de la classe Point)\n",
        "et rayon.  \n",
        "Ajoutez une méthode calculer_surface() qui renvoie la surface du cercle."
      ],
      "id": "419049e2-b543-4742-9525-9d924e803182"
    },
    {
      "cell_type": "code",
      "execution_count": null,
      "metadata": {},
      "outputs": [],
      "source": [
        "## Testez votre réponse dans cette cellule\n"
      ],
      "id": "a0976a71-34b6-4a56-8df5-3e98f43d5408"
    },
    {
      "cell_type": "markdown",
      "metadata": {},
      "source": [
        "### Exercice 3\n",
        "\n",
        "Créez une classe CompteBancaire avec les attributs suivants : \\*\n",
        "titulaire : le nom du titulaire du compte (chaîne de caractères) \\*\n",
        "solde : le solde du compte (nombre réel)\n",
        "\n",
        "La classe devra avoir les méthodes suivantes :\n",
        "\n",
        "-   `__init__(self, titulaire)` : le constructeur de la classe\n",
        "-   `deposer(self, montant)` : une méthode qui permet de déposer un\n",
        "    montant sur le compte. Le montant devra être ajouté au solde\n",
        "-   `retirer(self, montant)` : une méthode qui permet de retirer un\n",
        "    montant du compte. Le montant devra être soustrait du solde\n",
        "-   `afficher_solde(self)` : une méthode qui affiche le solde du compte\n",
        "-   `transferer(autreCompte, montant)` qui transfère de l’argent du\n",
        "    compte vers l’autre si le solde est suffisant\n",
        "\n",
        "Créer 2 Comptes et tester les différentes fonctionnalités."
      ],
      "id": "bab94c2d-7937-410c-89bb-32e204cf6039"
    },
    {
      "cell_type": "code",
      "execution_count": null,
      "metadata": {},
      "outputs": [],
      "source": [
        "## Testez votre réponse dans cette cellule\n"
      ],
      "id": "dd2f9739"
    }
  ],
  "nbformat": 4,
  "nbformat_minor": 5,
  "metadata": {
    "jupytext": {
      "cell_metadata_filter": "-all",
      "main_language": "python",
      "notebook_metadata_filter": "-all"
    },
    "kernelspec": {
      "name": "python3",
      "display_name": "Python 3",
      "language": "python"
    },
    "language_info": {
      "name": "python",
      "codemirror_mode": {
        "name": "ipython",
        "version": "3"
      },
      "file_extension": ".py",
      "mimetype": "text/x-python",
      "nbconvert_exporter": "python",
      "pygments_lexer": "ipython3",
      "version": "3.10.4"
    }
  }
}