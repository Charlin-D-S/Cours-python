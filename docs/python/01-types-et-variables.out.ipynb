{
  "cells": [
    {
      "cell_type": "markdown",
      "metadata": {},
      "source": [
        "# Types et variables\n",
        "\n",
        "Ludovic Deneuville\n",
        "\n",
        "Pour réaliser ce Notebook, je me suis inspiré de :\n",
        "\n",
        "-   la formation [**Initiation à\n",
        "    Python**](https://github.com/InseeFrLab/formation-python-initiation)\n",
        "    du SSP Cloud INSEE,\n",
        "-   cours de Python dispensés à l’ENSAE par [Lino\n",
        "    Galiana](https://pythonds.linogaliana.fr/rappels2a/) et [Xavier\n",
        "    Dupré](http://www.xavierdupre.fr/app/ensae_teaching_cs/helpsphinx/index.html)\n",
        "-   https://python.sdv.univ-paris-diderot.fr/\n",
        "\n",
        "------------------------------------------------------------------------\n",
        "\n",
        "# \n",
        "\n",
        "Dans ce chapitre, nous allons découvrir les types de base en python :\n",
        "\n",
        "-   numériques\n",
        "    -   **int** : entiers\n",
        "    -   **float** : décimaux\n",
        "-   chaines de caractères : **str**\n",
        "-   booléens : **bool**\n",
        "\n",
        "------------------------------------------------------------------------\n",
        "\n",
        "## Affectation de variables"
      ],
      "id": "63475c4b-a835-42ae-9d5f-bf4278710cf0"
    },
    {
      "cell_type": "code",
      "execution_count": null,
      "metadata": {
        "vscode": {
          "languageId": "python"
        }
      },
      "outputs": [],
      "source": [
        "# Créer la variable a et lui affecter la valeur 8\n",
        "a = 8\n",
        "\n",
        "# Créer la variable b et lui affecter la chaîne de caractère \"texte\"\n",
        "b = \"texte\"\n",
        "\n",
        "# Créer la variable c et lui affecter le booléen True\n",
        "c = True"
      ],
      "id": "12cacc3c"
    },
    {
      "cell_type": "code",
      "execution_count": null,
      "metadata": {
        "vscode": {
          "languageId": "python"
        }
      },
      "outputs": [],
      "source": [
        "# Afficher le contenu de a\n",
        "a"
      ],
      "id": "c970dc75"
    },
    {
      "cell_type": "markdown",
      "metadata": {},
      "source": [
        "Remarque : Un notebook n’affiche que la dernière valeur qui lui est\n",
        "demandé.  \n",
        "Pour réaliser plusieurs affichage, il faut utiliser la méthode **print**"
      ],
      "id": "a816e675-9b09-4aa8-9f44-d25356635075"
    },
    {
      "cell_type": "code",
      "execution_count": null,
      "metadata": {
        "vscode": {
          "languageId": "python"
        }
      },
      "outputs": [],
      "source": [
        "print(a+1)\n",
        "print(b)\n",
        "print(c)"
      ],
      "id": "2651ede3"
    },
    {
      "cell_type": "markdown",
      "metadata": {},
      "source": [
        "Python est **langage typé dynamiquement**.  \n",
        "Cela siginifie qu’il est possible de modifier le type d’une variable\n",
        "sans contrainte.  \n",
        "Si la variable **a** contient du texte, il est possible de lui affecter\n",
        "ensuite un entier."
      ],
      "id": "58bf8a44-b46e-4ed7-a908-b83b13d3981a"
    },
    {
      "cell_type": "code",
      "execution_count": null,
      "metadata": {
        "vscode": {
          "languageId": "python"
        }
      },
      "outputs": [],
      "source": [
        "print(a)\n",
        "a = \"abcd\"\n",
        "print(a)\n",
        "a = False\n",
        "print(a)"
      ],
      "id": "a33e579a"
    },
    {
      "cell_type": "markdown",
      "metadata": {},
      "source": [
        "**Astuce** : Pour afficher toutes les variables créées et leurs valeurs,\n",
        "vous pouvez utiliser la commande `%whos`"
      ],
      "id": "13b09c94-8cc8-4368-830c-b73620ca7dc7"
    },
    {
      "cell_type": "code",
      "execution_count": null,
      "metadata": {
        "vscode": {
          "languageId": "python"
        }
      },
      "outputs": [],
      "source": [
        "%whos"
      ],
      "id": "54466817"
    },
    {
      "cell_type": "markdown",
      "metadata": {},
      "source": [
        "------------------------------------------------------------------------\n",
        "\n",
        "## Nombres\n",
        "\n",
        "La fonction `type` permet de connaitre le type"
      ],
      "id": "a697b185-e053-402e-ba2a-4b753c5984ad"
    },
    {
      "cell_type": "code",
      "execution_count": null,
      "metadata": {
        "vscode": {
          "languageId": "python"
        }
      },
      "outputs": [],
      "source": [
        "a = 8\n",
        "type(a)"
      ],
      "id": "643545d6"
    },
    {
      "cell_type": "code",
      "execution_count": null,
      "metadata": {
        "vscode": {
          "languageId": "python"
        }
      },
      "outputs": [],
      "source": [
        "b = 33.5\n",
        "type(b)"
      ],
      "id": "ebccb758"
    },
    {
      "cell_type": "code",
      "execution_count": null,
      "metadata": {
        "vscode": {
          "languageId": "python"
        }
      },
      "outputs": [],
      "source": [
        "float('inf')"
      ],
      "id": "80f45d45"
    },
    {
      "cell_type": "markdown",
      "metadata": {},
      "source": [
        "### Convertions\n",
        "\n",
        "Les fonctions `float` et `int` peuvent être utilisées pour passer d’un\n",
        "type à l’autre."
      ],
      "id": "362ba5cf-7827-4d34-80f1-6386b3575b4e"
    },
    {
      "cell_type": "code",
      "execution_count": null,
      "metadata": {
        "vscode": {
          "languageId": "python"
        }
      },
      "outputs": [],
      "source": [
        "# Conversion en float\n",
        "float(a)"
      ],
      "id": "04f83b0b"
    },
    {
      "cell_type": "code",
      "execution_count": null,
      "metadata": {
        "vscode": {
          "languageId": "python"
        }
      },
      "outputs": [],
      "source": [
        "# Conversion en int (partie entière)\n",
        "int(b)"
      ],
      "id": "fc7025d9"
    },
    {
      "cell_type": "code",
      "execution_count": null,
      "metadata": {
        "vscode": {
          "languageId": "python"
        }
      },
      "outputs": [],
      "source": [
        "# Notation scientifique\n",
        "2.1e3"
      ],
      "id": "d47facdc"
    },
    {
      "cell_type": "markdown",
      "metadata": {},
      "source": [
        "### Opérations arithmétiques de base"
      ],
      "id": "f5441279-106e-4643-892b-b74168f1cc5f"
    },
    {
      "cell_type": "code",
      "execution_count": null,
      "metadata": {
        "vscode": {
          "languageId": "python"
        }
      },
      "outputs": [],
      "source": [
        "# Addition\n",
        "1 + 1"
      ],
      "id": "0a55391d"
    },
    {
      "cell_type": "code",
      "execution_count": null,
      "metadata": {
        "vscode": {
          "languageId": "python"
        }
      },
      "outputs": [],
      "source": [
        "# Soustraction\n",
        "6 - 2"
      ],
      "id": "8f78b83c"
    },
    {
      "cell_type": "code",
      "execution_count": null,
      "metadata": {
        "vscode": {
          "languageId": "python"
        }
      },
      "outputs": [],
      "source": [
        "# Multiplication\n",
        "3 * 4"
      ],
      "id": "3f23a28f"
    },
    {
      "cell_type": "code",
      "execution_count": null,
      "metadata": {
        "vscode": {
          "languageId": "python"
        }
      },
      "outputs": [],
      "source": [
        "# Division\n",
        "11 / 5"
      ],
      "id": "77fbbe0e"
    },
    {
      "cell_type": "code",
      "execution_count": null,
      "metadata": {
        "vscode": {
          "languageId": "python"
        }
      },
      "outputs": [],
      "source": [
        "# Division euclidienne : quotient\n",
        "11 // 5"
      ],
      "id": "ba90010a"
    },
    {
      "cell_type": "code",
      "execution_count": null,
      "metadata": {
        "vscode": {
          "languageId": "python"
        }
      },
      "outputs": [],
      "source": [
        "# Division euclidienne : reste (modulo)\n",
        "11 % 5"
      ],
      "id": "2d6f6865"
    },
    {
      "cell_type": "code",
      "execution_count": null,
      "metadata": {
        "vscode": {
          "languageId": "python"
        }
      },
      "outputs": [],
      "source": [
        "# Puissance\n",
        "2 ** 10"
      ],
      "id": "df418d8e"
    },
    {
      "cell_type": "code",
      "execution_count": null,
      "metadata": {
        "vscode": {
          "languageId": "python"
        }
      },
      "outputs": [],
      "source": [
        "# Racine carrée\n",
        "36 ** 0.5"
      ],
      "id": "4294a362"
    },
    {
      "cell_type": "markdown",
      "metadata": {},
      "source": [
        "------------------------------------------------------------------------\n",
        "\n",
        "## Chaînes de charactères\n",
        "\n",
        "Les chaînes de caractères (strings) sont utilisées pour stocker de\n",
        "l’information textuelle.\n",
        "\n",
        "Un *string* se définit en mettant l’information entre apostrophes `'` ou\n",
        "entre guillemets `\"`.\n",
        "\n",
        "### Définition"
      ],
      "id": "caf6869b-f6db-486d-932e-5ffdb67eb42d"
    },
    {
      "cell_type": "code",
      "execution_count": null,
      "metadata": {
        "vscode": {
          "languageId": "python"
        }
      },
      "outputs": [],
      "source": [
        "a = 'une chaine de caractères définie avec des apostrophes'\n",
        "a"
      ],
      "id": "6a3512ad"
    },
    {
      "cell_type": "code",
      "execution_count": null,
      "metadata": {
        "vscode": {
          "languageId": "python"
        }
      },
      "outputs": [],
      "source": [
        "b = \"une chaine de caractères définie avec des guillemets\"\n",
        "b"
      ],
      "id": "06ed92c3"
    },
    {
      "cell_type": "code",
      "execution_count": null,
      "metadata": {
        "vscode": {
          "languageId": "python"
        }
      },
      "outputs": [],
      "source": [
        "# Pour inclure une apostrophe à l'intérieur de la chaine\n",
        "\"j'inclus l'apostrophe\""
      ],
      "id": "d4bc57f6"
    },
    {
      "cell_type": "code",
      "execution_count": null,
      "metadata": {
        "vscode": {
          "languageId": "python"
        }
      },
      "outputs": [],
      "source": [
        "# Pour inclure des guillemets à l'intérieur de la chaine\n",
        "'les \"guillemets\" sont là'"
      ],
      "id": "3193aaae"
    },
    {
      "cell_type": "markdown",
      "metadata": {},
      "source": [
        "### Métodes utiles\n",
        "\n",
        "Voici un aperçu de quelques méthodes utiles. De nombreuses autres\n",
        "existent (voir [documentation\n",
        "officielle](https://docs.python.org/3/library/stdtypes.html#string-methods))"
      ],
      "id": "6d2e5fb0-ff13-444e-8f57-0dfb2b9e6c95"
    },
    {
      "cell_type": "code",
      "execution_count": null,
      "metadata": {
        "vscode": {
          "languageId": "python"
        }
      },
      "outputs": [],
      "source": [
        "# Longueur d'une chaîne (nombre de caractères)\n",
        "len(\"J'ai 18 caractères\")"
      ],
      "id": "cb19ec37"
    },
    {
      "cell_type": "code",
      "execution_count": null,
      "metadata": {
        "vscode": {
          "languageId": "python"
        }
      },
      "outputs": [],
      "source": [
        "# Concaténation\n",
        "\"I am\" + \"your father\""
      ],
      "id": "4445b155"
    },
    {
      "cell_type": "code",
      "execution_count": null,
      "metadata": {
        "vscode": {
          "languageId": "python"
        }
      },
      "outputs": [],
      "source": [
        "# Concaténation avec un nombre\n",
        "annee = 2\n",
        "\"je suis en \" + annee + \"ème année\""
      ],
      "id": "4cb7ec37"
    },
    {
      "cell_type": "markdown",
      "metadata": {},
      "source": [
        "Problème, il faut au préalable convertir le nombre en chaîne de\n",
        "caractères.  \n",
        "La méthode **str** fait le travail."
      ],
      "id": "cc07315b-786c-4b1d-9668-08f93a870a54"
    },
    {
      "cell_type": "code",
      "execution_count": null,
      "metadata": {
        "vscode": {
          "languageId": "python"
        }
      },
      "outputs": [],
      "source": [
        "# Concaténation avec un nombre - après convertion du nombre en string\n",
        "annee = 2\n",
        "\"je suis en \" + str(annee) + \"ème année\""
      ],
      "id": "848aed50"
    },
    {
      "cell_type": "code",
      "execution_count": null,
      "metadata": {
        "vscode": {
          "languageId": "python"
        }
      },
      "outputs": [],
      "source": [
        "# Répétition\n",
        "\"hop \" * 5"
      ],
      "id": "08c5a5c7"
    },
    {
      "cell_type": "code",
      "execution_count": null,
      "metadata": {
        "vscode": {
          "languageId": "python"
        }
      },
      "outputs": [],
      "source": [
        "# Mettre en majuscules\n",
        "\"C'est OK\".upper()"
      ],
      "id": "79eab915"
    },
    {
      "cell_type": "code",
      "execution_count": null,
      "metadata": {
        "vscode": {
          "languageId": "python"
        }
      },
      "outputs": [],
      "source": [
        "# Mettre en minuscules\n",
        "\"C'est OK\".lower()"
      ],
      "id": "55b28ce6"
    },
    {
      "cell_type": "code",
      "execution_count": null,
      "metadata": {
        "vscode": {
          "languageId": "python"
        }
      },
      "outputs": [],
      "source": [
        "# Compter le nombre d'occurences\n",
        "\"Mangez cinq fruits et légumes par jour\".count(\"a\")"
      ],
      "id": "a7fbbf12"
    },
    {
      "cell_type": "code",
      "execution_count": null,
      "metadata": {
        "vscode": {
          "languageId": "python"
        }
      },
      "outputs": [],
      "source": [
        "# Créer une liste de mots\n",
        "\"Mangez cinq fruits et légumes par jour\".split()"
      ],
      "id": "1472ee25"
    },
    {
      "cell_type": "code",
      "execution_count": null,
      "metadata": {
        "vscode": {
          "languageId": "python"
        }
      },
      "outputs": [],
      "source": [
        "# Séparer les mots selon un caractère spécifique\n",
        "\"un-deux-trois-soleil\".split(\"-\")"
      ],
      "id": "59b58a24"
    },
    {
      "cell_type": "code",
      "execution_count": null,
      "metadata": {
        "vscode": {
          "languageId": "python"
        }
      },
      "outputs": [],
      "source": [
        "# Utiliser les strings comme templates\n",
        "\"mon numéro est : {}\".format(\"06 12 34 56 78\")"
      ],
      "id": "0a6bd372"
    },
    {
      "cell_type": "code",
      "execution_count": null,
      "metadata": {
        "vscode": {
          "languageId": "python"
        }
      },
      "outputs": [],
      "source": [
        "# Commence par ?\n",
        "\"vélo\".startswith(\"vé\")"
      ],
      "id": "c1b7a04e"
    },
    {
      "cell_type": "code",
      "execution_count": null,
      "metadata": {
        "vscode": {
          "languageId": "python"
        }
      },
      "outputs": [],
      "source": [
        "# Se termine par ?\n",
        "\"vélo\".endswith(\"lo\")"
      ],
      "id": "a5118339"
    },
    {
      "cell_type": "markdown",
      "metadata": {},
      "source": [
        "### Extraire des sous-chaînes\n",
        "\n",
        "Une chaîne de caractères est considérée en Python comme une liste de\n",
        "caractères.  \n",
        "Il est donc possible d’extraire différents éléments de cette liste"
      ],
      "id": "03734931-fda0-4ce5-a9cf-020f57b1f05a"
    },
    {
      "cell_type": "code",
      "execution_count": null,
      "metadata": {
        "vscode": {
          "languageId": "python"
        }
      },
      "outputs": [],
      "source": [
        "# Premier élémént\n",
        "\"c'est de toute beauté\"[0]"
      ],
      "id": "44e9d0d5"
    },
    {
      "cell_type": "code",
      "execution_count": null,
      "metadata": {
        "vscode": {
          "languageId": "python"
        }
      },
      "outputs": [],
      "source": [
        "# Deuxième élémént\n",
        "\"c'est de toute beauté\"[1]"
      ],
      "id": "8966f72a"
    },
    {
      "cell_type": "code",
      "execution_count": null,
      "metadata": {
        "vscode": {
          "languageId": "python"
        }
      },
      "outputs": [],
      "source": [
        "# Dernier élémént\n",
        "\"c'est de toute beauté\"[-1]"
      ],
      "id": "869df622"
    },
    {
      "cell_type": "code",
      "execution_count": null,
      "metadata": {
        "vscode": {
          "languageId": "python"
        }
      },
      "outputs": [],
      "source": [
        "# À partir d'un certain caractère\n",
        "\"c'est de toute beauté\"[6:]"
      ],
      "id": "ab7f994a"
    },
    {
      "cell_type": "code",
      "execution_count": null,
      "metadata": {
        "vscode": {
          "languageId": "python"
        }
      },
      "outputs": [],
      "source": [
        "# Jusqu'à un certain caractère\n",
        "\"c'est de toute beauté\"[:8]"
      ],
      "id": "250cae46"
    },
    {
      "cell_type": "code",
      "execution_count": null,
      "metadata": {
        "vscode": {
          "languageId": "python"
        }
      },
      "outputs": [],
      "source": [
        "# Extraire une sous-chaîne\n",
        "\"c'est de toute beauté\"[9:14]"
      ],
      "id": "14b5c1ce"
    },
    {
      "cell_type": "code",
      "execution_count": null,
      "metadata": {
        "vscode": {
          "languageId": "python"
        }
      },
      "outputs": [],
      "source": [
        "# Extraire tous les 2 caractères, à partir de la 4 ème position\n",
        "\"c'est de toute beauté\"[4::2]"
      ],
      "id": "d883eb3b"
    },
    {
      "cell_type": "code",
      "execution_count": null,
      "metadata": {
        "vscode": {
          "languageId": "python"
        }
      },
      "outputs": [],
      "source": [
        "# Inverser une chaîne\n",
        "\"c'est de toute beauté\"[::-1]"
      ],
      "id": "4edfc921"
    },
    {
      "cell_type": "markdown",
      "metadata": {},
      "source": [
        "#### Caractères spéciaux\n",
        "\n",
        "Pour insérer des caractères spéciaux au sein d’une chaîne de caractère,\n",
        "il faut utiliser le caractère d’échappement `\\`.\n",
        "\n",
        "| Caractère | Description             |\n",
        "|-----------|-------------------------|\n",
        "| \\\\        | Caractère d’échappement |\n",
        "| \\\\        | Apostrophe              |\n",
        "| \\\\        | Guillemets doubles      |\n",
        "| \\n        | Retour à la ligne       |\n",
        "| \\t        | Tabulation horizontale  |\n",
        "| \\r        | Retour chariot          |"
      ],
      "id": "8c78b50d-aae0-4664-8067-97de95ea0668"
    },
    {
      "cell_type": "code",
      "execution_count": null,
      "metadata": {
        "vscode": {
          "languageId": "python"
        }
      },
      "outputs": [],
      "source": [
        "c = \"une chaîne\\nsur 2 lignes\"\n",
        "print(c)"
      ],
      "id": "c3747cc9"
    },
    {
      "cell_type": "code",
      "execution_count": null,
      "metadata": {
        "vscode": {
          "languageId": "python"
        }
      },
      "outputs": [],
      "source": [
        "# Définir une chaîne de caractères sur plusieurs lignes\n",
        "d = \"\"\"une autre \\\"possibilité\\\" pour\n",
        "avoir une chaîne sur 2 lignes\"\"\"\n",
        "print(d)"
      ],
      "id": "32933884"
    },
    {
      "cell_type": "markdown",
      "metadata": {},
      "source": [
        "------------------------------------------------------------------------\n",
        "\n",
        "## Boléens\n",
        "\n",
        "Les Booléens ne peuvent prendre que deux valeurs : `True` et `False`  \n",
        "Attention à bien respecter la notation avec la première lettre en\n",
        "majuscule et les autres en minuscule."
      ],
      "id": "8ce7a00f-dd08-4b2b-a875-18265087b5cf"
    },
    {
      "cell_type": "code",
      "execution_count": null,
      "metadata": {
        "vscode": {
          "languageId": "python"
        }
      },
      "outputs": [],
      "source": [
        "type(True)"
      ],
      "id": "e3798813"
    },
    {
      "cell_type": "markdown",
      "metadata": {},
      "source": [
        "### Opérateurs de comparaison\n",
        "\n",
        "| Opérateur | Signification           |\n",
        "|-----------|-------------------------|\n",
        "| ==        | Egal à                  |\n",
        "| !=        | Non égal à              |\n",
        "| \\<        | Strictement inférieur à |\n",
        "| \\>        | Strictement supérieur à |\n",
        "| \\<=       | Inférieur ou égal à     |\n",
        "| \\>=       | Supérieur ou égal à     |"
      ],
      "id": "e5a7ba3c-2ffa-41ee-8e97-a0e965a0d134"
    },
    {
      "cell_type": "code",
      "execution_count": null,
      "metadata": {
        "vscode": {
          "languageId": "python"
        }
      },
      "outputs": [],
      "source": [
        "8 > 5"
      ],
      "id": "ebfb5cee"
    },
    {
      "cell_type": "code",
      "execution_count": null,
      "metadata": {
        "vscode": {
          "languageId": "python"
        }
      },
      "outputs": [],
      "source": [
        "1+1 == 2"
      ],
      "id": "3a5a9dbf"
    },
    {
      "cell_type": "code",
      "execution_count": null,
      "metadata": {
        "vscode": {
          "languageId": "python"
        }
      },
      "outputs": [],
      "source": [
        "[1, 2, 3] == [1, 2, 3]"
      ],
      "id": "22d6e756"
    },
    {
      "cell_type": "code",
      "execution_count": null,
      "metadata": {
        "vscode": {
          "languageId": "python"
        }
      },
      "outputs": [],
      "source": [
        "\"girafe\" != \"gnou\""
      ],
      "id": "c42ce1ca"
    },
    {
      "cell_type": "code",
      "execution_count": null,
      "metadata": {
        "vscode": {
          "languageId": "python"
        }
      },
      "outputs": [],
      "source": [
        "# Enchainement d'opérateurs\n",
        "1 < 2 == 2 >= 1 != 2"
      ],
      "id": "c9ba4607"
    },
    {
      "cell_type": "markdown",
      "metadata": {},
      "source": [
        "### Opérateurs and, or, not"
      ],
      "id": "f4e5e385-1e3a-485b-bb30-c9292dc52a5a"
    },
    {
      "cell_type": "code",
      "execution_count": null,
      "metadata": {
        "vscode": {
          "languageId": "python"
        }
      },
      "outputs": [],
      "source": [
        "a = True\n",
        "b = False\n",
        "\n",
        "a and b"
      ],
      "id": "459738b3"
    },
    {
      "cell_type": "code",
      "execution_count": null,
      "metadata": {
        "vscode": {
          "languageId": "python"
        }
      },
      "outputs": [],
      "source": [
        "a or b"
      ],
      "id": "2c602ac9"
    },
    {
      "cell_type": "code",
      "execution_count": null,
      "metadata": {
        "vscode": {
          "languageId": "python"
        }
      },
      "outputs": [],
      "source": [
        "not a"
      ],
      "id": "28616db1"
    },
    {
      "cell_type": "code",
      "execution_count": null,
      "metadata": {
        "vscode": {
          "languageId": "python"
        }
      },
      "outputs": [],
      "source": [
        "(a or b) and (a and not b)"
      ],
      "id": "2057bdfd"
    },
    {
      "cell_type": "markdown",
      "metadata": {},
      "source": [
        "------------------------------------------------------------------------\n",
        "\n",
        "## Exercices\n",
        "\n",
        "### Exercice 1\n",
        "\n",
        "Calculer la somme des longueurs des trois chaînes de caractères\n",
        "suivantes : - “une première chaîne” - “et une deuxième” - “jamais deux\n",
        "sans trois”"
      ],
      "id": "0c18a96c-f578-424a-9162-5a002eaa9dbd"
    },
    {
      "cell_type": "code",
      "execution_count": null,
      "metadata": {
        "vscode": {
          "languageId": "python"
        }
      },
      "outputs": [],
      "source": [
        "# Tapez votre réponse dans cette cellule"
      ],
      "id": "014c247e"
    },
    {
      "cell_type": "markdown",
      "metadata": {},
      "source": [
        "### Exercice 2\n",
        "\n",
        "Quel est le type adapté pour définir un code postal ?\n",
        "\n",
        "Essayer de définir les codes postaux suivants au format `int` et au\n",
        "format `string` : - 92120 - 02350\n",
        "\n",
        "Que concluez-vous ?"
      ],
      "id": "aaeb4582-7299-4b0d-86da-6f169190a0c0"
    },
    {
      "cell_type": "code",
      "execution_count": null,
      "metadata": {
        "vscode": {
          "languageId": "python"
        }
      },
      "outputs": [],
      "source": [
        "# Tapez votre réponse dans cette cellule"
      ],
      "id": "c7d83429"
    },
    {
      "cell_type": "markdown",
      "metadata": {},
      "source": [
        "### Exercice 3\n",
        "\n",
        "Compter le nombre de fois où la lettre e est présente dans la chaîne\n",
        "suivante : `Je compte le nombre de e dans cette chaîne de caractères`"
      ],
      "id": "70e14c4a-1fab-4cf9-8289-3255be9d8c4f"
    },
    {
      "cell_type": "code",
      "execution_count": null,
      "metadata": {
        "vscode": {
          "languageId": "python"
        }
      },
      "outputs": [],
      "source": [
        "# Tapez votre réponse dans cette cellule"
      ],
      "id": "ff156a4e"
    },
    {
      "cell_type": "markdown",
      "metadata": {},
      "source": [
        "### Exercice 4\n",
        "\n",
        "Repérer la première position où la lettre e est présente dans la chaîne\n",
        "suivante : “Je fais un comptage des e.”\n",
        "\n",
        "**Indice** : on peut utiliser la méthode *built-in*\n",
        "[find](https://docs.python.org/fr/3/library/stdtypes.html#str.find)."
      ],
      "id": "6c546360-a228-4371-ba09-14b8fe6d0602"
    },
    {
      "cell_type": "code",
      "execution_count": null,
      "metadata": {
        "vscode": {
          "languageId": "python"
        }
      },
      "outputs": [],
      "source": [
        "# Tapez votre réponse dans cette cellule"
      ],
      "id": "bbdb1b10"
    },
    {
      "cell_type": "markdown",
      "metadata": {},
      "source": [
        "### Exercice 5\n",
        "\n",
        "Supprimer les espaces superflus au début et à la fin de la chaîne\n",
        "suivante :\n",
        "\n",
        "**Indice** : on peut utiliser la méthode *built-in*\n",
        "[strip](https://docs.python.org/fr/3/library/stdtypes.html#str.strip)."
      ],
      "id": "db85eac2-6513-4fb8-8498-944bc4a2c0b1"
    },
    {
      "cell_type": "code",
      "execution_count": null,
      "metadata": {
        "vscode": {
          "languageId": "python"
        }
      },
      "outputs": [],
      "source": [
        "# Tapez votre réponse dans cette cellule\n",
        "a = \"    Un string très mal formatté.         \""
      ],
      "id": "b791ea13"
    },
    {
      "cell_type": "markdown",
      "metadata": {},
      "source": [
        "### Exercice 6\n",
        "\n",
        "Réaliser la suite d’opérations suivantes à l’aide des opérateurs\n",
        "d’incrémentation, et imprimer la valeur finale : - initialiser une\n",
        "variable à 1 - lui soustraire 5 - la multiplier par 4 - lui ajouter 22"
      ],
      "id": "8a2fca36-0a39-4e67-93b4-8d345fe71e4a"
    },
    {
      "cell_type": "code",
      "execution_count": null,
      "metadata": {
        "vscode": {
          "languageId": "python"
        }
      },
      "outputs": [],
      "source": [
        "# Tapez votre réponse dans cette cellule"
      ],
      "id": "f3544065"
    },
    {
      "cell_type": "markdown",
      "metadata": {},
      "source": [
        "### Exercice 7\n",
        "\n",
        "Considérons les deux séquences suivantes : - “nous sommes en” - “2022”\n",
        "\n",
        "Trouvez à partir du tutoriel deux manières différentes de les utiliser\n",
        "pour composer la séquence “nous sommes en 2022”."
      ],
      "id": "a1138858-59de-4ce1-807a-faaf8bbccbba"
    },
    {
      "cell_type": "code",
      "execution_count": null,
      "metadata": {
        "vscode": {
          "languageId": "python"
        }
      },
      "outputs": [],
      "source": [
        "# Tapez votre réponse dans cette cellule"
      ],
      "id": "04a0aaaa"
    }
  ],
  "nbformat": 4,
  "nbformat_minor": 5,
  "metadata": {
    "kernelspec": {
      "name": "python3",
      "display_name": "Python 3 (ipykernel)",
      "language": "python"
    }
  }
}