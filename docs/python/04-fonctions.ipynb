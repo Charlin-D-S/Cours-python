{
 "cells": [
  {
    "cell_type": "raw",
    "metadata": {},
    "source": [
      "---\n",
      "title: Les fonctions\n",
      "description: Python\n",
      "format: \n",
      "  html:\n",
      "    toc: true\n",
      "    toc-location: left\n",
      "    toc-expand: 3\n",
      "  ipynb: default\n",
      "from: markdown+emoji\n",
      "---"
    ]
  },
  {
   "cell_type": "markdown",
   "id": "6bf2c75e",
   "metadata": {},
   "source": [
    "# Fonctions\n",
    "\n",
    "L'idée d'une fonction est de regrouper ensemble des morceaux de codes qui pourraient être utilisés à plusieurs endroits de votre programme.  \n",
    "Utiliser des fonctions est une bonne pratique :\n",
    "* cela réduit la duplication du code\n",
    "* cela permet de mieux structurer le code et le rendre plus clair\n",
    "\n",
    "Une fonction est composée de : \n",
    "* un ensemble de paramètres\n",
    "* des instructions qui utilisent les paramètres\n",
    "* retourne ou affiche un résultat\n",
    "\n",
    "Le mot clé **def** sert à définir une fonction.   \n",
    "Voici un exemple de fonction : \n",
    "* Nom de la fonction : ma_fonction\n",
    "* Paramètres : 2 paramètres p1 et p2\n",
    "* Sortie : résultat de l'opération p1 x p2 + p1 + 5\n"
   ]
  },
  {
   "cell_type": "code",
   "execution_count": 1,
   "id": "c776ee2f-a66e-499d-9d77-a8f3f5a75f08",
   "metadata": {},
   "outputs": [],
   "source": [
    "def ma_fonction(p1, p2):\n",
    "    resultat = p1 * p2 + p1 + 5\n",
    "    return resultat"
   ]
  },
  {
   "cell_type": "markdown",
   "id": "802cce12-4c14-43b3-a639-a2354343b599",
   "metadata": {},
   "source": [
    "Maintenant que notre fonction est définie, nous pouvons l'appeler autant de fois que nous le souhaitons"
   ]
  },
  {
   "cell_type": "code",
   "execution_count": 2,
   "id": "d17d8289-a886-4dc3-96cf-0ad4d6648e2e",
   "metadata": {},
   "outputs": [
    {
     "data": {
      "text/plain": [
       "19"
      ]
     },
     "execution_count": 2,
     "metadata": {},
     "output_type": "execute_result"
    }
   ],
   "source": [
    "ma_fonction(2, 6)"
   ]
  },
  {
   "cell_type": "code",
   "execution_count": 3,
   "id": "0a567ad8-4dd2-4bee-9b59-cb9da4fb59d3",
   "metadata": {},
   "outputs": [
    {
     "data": {
      "text/plain": [
       "44"
      ]
     },
     "execution_count": 3,
     "metadata": {},
     "output_type": "execute_result"
    }
   ],
   "source": [
    "ma_fonction(5, 1) + ma_fonction(8, 2)"
   ]
  },
  {
   "cell_type": "markdown",
   "id": "49e9fe5e",
   "metadata": {},
   "source": [
    "## Arguments\n",
    "\n",
    "Les **arguments** sont les paramètres de la fonction.  \n",
    "Lorsqu'on appelle une fonction en lui spécifiant des arguments, on dit qu'on lui  « passe » des arguments.  \n",
    "Ces arguments deviennent alors des **variables** qui peuvent être utilisées uniquement à l'intérieur de la fonction.  "
   ]
  },
  {
   "cell_type": "code",
   "execution_count": 5,
   "id": "ee118d8c",
   "metadata": {},
   "outputs": [],
   "source": [
    "def maximum(a, b):\n",
    "    if a > b:\n",
    "        resultat = a\n",
    "    else:\n",
    "        resultat = b\n",
    "    return resultat"
   ]
  },
  {
   "cell_type": "code",
   "execution_count": 6,
   "id": "f9401cd3",
   "metadata": {},
   "outputs": [
    {
     "data": {
      "text/plain": [
       "5"
      ]
     },
     "execution_count": 6,
     "metadata": {},
     "output_type": "execute_result"
    }
   ],
   "source": [
    "maximum(1, 5)"
   ]
  },
  {
   "cell_type": "markdown",
   "id": "e4f87bce-3085-4af5-b36a-143822f8152e",
   "metadata": {},
   "source": [
    "À l'extérieur des fonctions, les arguments n'existent plus et ne sont plus connus."
   ]
  },
  {
   "cell_type": "code",
   "execution_count": 7,
   "id": "d932fdf4-bce3-404a-83c4-116d29b6e6c3",
   "metadata": {},
   "outputs": [
    {
     "ename": "NameError",
     "evalue": "name 'a' is not defined",
     "output_type": "error",
     "traceback": [
      "\u001b[0;31m---------------------------------------------------------------------------\u001b[0m",
      "\u001b[0;31mNameError\u001b[0m                                 Traceback (most recent call last)",
      "\u001b[0;32m<ipython-input-7-3f786850e387>\u001b[0m in \u001b[0;36m<module>\u001b[0;34m\u001b[0m\n\u001b[0;32m----> 1\u001b[0;31m \u001b[0ma\u001b[0m\u001b[0;34m\u001b[0m\u001b[0;34m\u001b[0m\u001b[0m\n\u001b[0m",
      "\u001b[0;31mNameError\u001b[0m: name 'a' is not defined"
     ]
    }
   ],
   "source": [
    "a"
   ]
  },
  {
   "cell_type": "markdown",
   "id": "92f78f76",
   "metadata": {},
   "source": [
    "### Passage par position et passage par mot-clé"
   ]
  },
  {
   "cell_type": "markdown",
   "id": "c87e20e7",
   "metadata": {},
   "source": [
    "En Python, les fonctions admettent deux modes de passage des arguments : \n",
    "- le **passage par position** : les arguments sont passés dans l'ordre dans lequel ils ont été définis\n",
    "- le **passage par mot-clé** : on précise le nom du paramètre lors du passage de l'argument\n",
    "\n",
    "Illustrons cette différence à partir d'une fonction qui réalise simplement une division."
   ]
  },
  {
   "cell_type": "code",
   "execution_count": 8,
   "id": "173bac6c",
   "metadata": {},
   "outputs": [],
   "source": [
    "def division(x, y):\n",
    "    if y == 0:\n",
    "        print(\"ERREUR : Division par 0 impossible\")\n",
    "    else:\n",
    "        return x / y"
   ]
  },
  {
   "cell_type": "code",
   "execution_count": 9,
   "id": "39806de0",
   "metadata": {},
   "outputs": [
    {
     "data": {
      "text/plain": [
       "4.0"
      ]
     },
     "execution_count": 9,
     "metadata": {},
     "output_type": "execute_result"
    }
   ],
   "source": [
    "# Passage par position\n",
    "division(8, 2)  "
   ]
  },
  {
   "cell_type": "code",
   "execution_count": 10,
   "id": "f3b90b0d",
   "metadata": {},
   "outputs": [
    {
     "data": {
      "text/plain": [
       "4.0"
      ]
     },
     "execution_count": 10,
     "metadata": {},
     "output_type": "execute_result"
    }
   ],
   "source": [
    "# Passage par mot-clé\n",
    "division(x=8, y=2)  "
   ]
  },
  {
   "cell_type": "markdown",
   "id": "853d18f2",
   "metadata": {},
   "source": [
    "Dans le cas du passage par position, le respect de l'ordre est impératif."
   ]
  },
  {
   "cell_type": "code",
   "execution_count": 11,
   "id": "1e65067e",
   "metadata": {},
   "outputs": [
    {
     "name": "stdout",
     "output_type": "stream",
     "text": [
      "0.0\n",
      "ERREUR : Division par 0 impossible\n",
      "None\n"
     ]
    }
   ],
   "source": [
    "print(division(0, 5))\n",
    "print(division(5, 0))"
   ]
  },
  {
   "cell_type": "markdown",
   "id": "c6a07398",
   "metadata": {},
   "source": [
    "Nous remarquons que s'affiche **None** ci-dessus.  \n",
    "L'explication est que lorsque l'on passe dans la partie de code `if y == 0`, il n'y a pas de **return**.  \n",
    "Donc par défaut la méthode renvoie **None**, ce qui représente l'absence de valeur.\n",
    "\n",
    "Dans le cas du passage par mot-clé, l'ordre n'a plus d'importance."
   ]
  },
  {
   "cell_type": "code",
   "execution_count": 12,
   "id": "ffa733c8",
   "metadata": {},
   "outputs": [
    {
     "name": "stdout",
     "output_type": "stream",
     "text": [
      "0.0\n",
      "0.0\n"
     ]
    }
   ],
   "source": [
    "print(division(x=0, y=5))\n",
    "print(division(y=5, x=0))"
   ]
  },
  {
   "cell_type": "markdown",
   "id": "52a54b21",
   "metadata": {},
   "source": [
    "### Arguments obligatoires et arguments optionnels"
   ]
  },
  {
   "cell_type": "markdown",
   "id": "a10fbeeb",
   "metadata": {},
   "source": [
    "Lorsqu'on définit une fonction, il est fréquent de vouloir faire cohabiter : \n",
    "* des arguments que doit absolument spécifier l'utilisateur\n",
    "* des arguments optionnels qui spécifient un comportement par défaut de la fonction, mais peuvent également être modifiés si nécessaire\n",
    "\n",
    "Regardons par exemple comment on peut modifier le comportement de la fonction `print` à l'aide d'un argument optionnel."
   ]
  },
  {
   "cell_type": "code",
   "execution_count": 13,
   "id": "f7254ce5",
   "metadata": {},
   "outputs": [
    {
     "name": "stdout",
     "output_type": "stream",
     "text": [
      "salut\n",
      "salut\n"
     ]
    }
   ],
   "source": [
    "print(\"salut\")\n",
    "print(\"salut\")"
   ]
  },
  {
   "cell_type": "code",
   "execution_count": 14,
   "id": "480aecaa",
   "metadata": {},
   "outputs": [
    {
     "name": "stdout",
     "output_type": "stream",
     "text": [
      "salut salut\n"
     ]
    }
   ],
   "source": [
    "print(\"salut\", end=' ')\n",
    "print(\"salut\")"
   ]
  },
  {
   "cell_type": "markdown",
   "id": "9842e5fc",
   "metadata": {},
   "source": [
    "Nous avons modifié le comportement du premier appel à **print** via le paramètre optionnel **end**.  \n",
    "Par défaut, cette valeur est fixée à `'\\n'`, soit un retour à la ligne.  \n",
    "Nous l'avons modifié dans la deuxième cellule à un espace, d'où la différence de résultat.  \n",
    "  \n",
    "Nous allons maintenant créer une fonction avec un argument optionnel.  \n",
    "Pour expliquer le comportement de cette méthode, une documentation a été ajoutée entre les caractères `'''`."
   ]
  },
  {
   "cell_type": "code",
   "execution_count": 15,
   "id": "589f5b17",
   "metadata": {},
   "outputs": [],
   "source": [
    "def note_finale(note1, note2, bonus=0):\n",
    "    '''Fonction d'ajout de 2 notes\n",
    "    Parameters\n",
    "    ----------\n",
    "        note1 : float\n",
    "            la première note\n",
    "        note2 : float\n",
    "            la deuxième note\n",
    "        bonus : float\n",
    "            un bonus (optionnel, par défaut égal à 0)\n",
    "    Returns\n",
    "    -------\n",
    "        float : sommes des 2 notes et du bonus\n",
    "    '''\n",
    "    return note1 + note2 + bonus"
   ]
  },
  {
   "cell_type": "code",
   "execution_count": 16,
   "id": "9663f6ec",
   "metadata": {},
   "outputs": [
    {
     "data": {
      "text/plain": [
       "15.5"
      ]
     },
     "execution_count": 16,
     "metadata": {},
     "output_type": "execute_result"
    }
   ],
   "source": [
    "# Comportement par défaut (bonus=0)\n",
    "note_finale(8.5, 7)  "
   ]
  },
  {
   "cell_type": "code",
   "execution_count": 17,
   "id": "80964217",
   "metadata": {},
   "outputs": [
    {
     "data": {
      "text/plain": [
       "17.5"
      ]
     },
     "execution_count": 17,
     "metadata": {},
     "output_type": "execute_result"
    }
   ],
   "source": [
    "# Comportement modifié\n",
    "note_finale(8.5, 7, bonus = 2)  "
   ]
  },
  {
   "cell_type": "markdown",
   "id": "c45e0b08",
   "metadata": {},
   "source": [
    "### Bonus : nombre d'arguments variable\n",
    "\n",
    "* La notation `*args` permet à une fonction de recevoir un nombre variable d'arguments positionnels\n",
    "* La notation `**kwargs` permet à une fonction de recevoir un nombre variable d'arguments clé-valeur"
   ]
  },
  {
   "cell_type": "code",
   "execution_count": 1,
   "id": "07231f92",
   "metadata": {},
   "outputs": [
    {
     "name": "stdout",
     "output_type": "stream",
     "text": [
      "Moyenne de (8, 20, 15) : 14.333333333333334\n"
     ]
    }
   ],
   "source": [
    "# Exemple d'utilisation de args\n",
    "\n",
    "def moyenne(*args):\n",
    "    somme = 0\n",
    "    nb = 0\n",
    "    for a in args:\n",
    "        somme += a\n",
    "        nb += 1\n",
    "    print(f\"Moyenne de {args} : {somme / nb}\")\n",
    "\n",
    "moyenne(10, 15)\n",
    "moyenne(8, 20, 16, 12)"
   ]
  },
  {
   "cell_type": "code",
   "execution_count": 2,
   "id": "ff3a5211",
   "metadata": {},
   "outputs": [
    {
     "name": "stdout",
     "output_type": "stream",
     "text": [
      "tomate  =  2\n",
      "farine  =  100g\n",
      "sel  =  True\n"
     ]
    }
   ],
   "source": [
    "# Exemple d'utilisation de kwargs\n",
    "\n",
    "def recette(**kwargs):\n",
    "    for a in kwargs:\n",
    "        # get argument name\n",
    "        arg_name = a\n",
    "        # get argument value\n",
    "        arg_value = kwargs[arg_name]\n",
    "        print(arg_name, \" = \", arg_value)\n",
    "    \n",
    "    \n",
    "recette(tomate=2, farine=\"100g\", sel=True)"
   ]
  },
  {
   "cell_type": "markdown",
   "id": "abf7e8b3",
   "metadata": {},
   "source": [
    "## Résultats"
   ]
  },
  {
   "cell_type": "markdown",
   "id": "21d5ceba",
   "metadata": {},
   "source": [
    "### Principe"
   ]
  },
  {
   "cell_type": "markdown",
   "id": "fb366133",
   "metadata": {},
   "source": [
    "On a vu :\n",
    "- que toute fonction renvoie un résultat en sortie\n",
    "- que l'instruction `return` permet de spécifier ce résultat\n",
    "\n",
    "Lorsque la fonction est appelée, elle est évaluée à la valeur spécifiée par `return`, et cette valeur peut alors être récupérée dans une variable et utilisée dans des calculs ultérieurs, et ainsi de suite."
   ]
  },
  {
   "cell_type": "code",
   "execution_count": 18,
   "id": "f5055fbe",
   "metadata": {},
   "outputs": [],
   "source": [
    "def division(x, y):\n",
    "    return x / y"
   ]
  },
  {
   "cell_type": "code",
   "execution_count": 19,
   "id": "0b15a2a7",
   "metadata": {},
   "outputs": [
    {
     "data": {
      "text/plain": [
       "0.6666666666666666"
      ]
     },
     "execution_count": 19,
     "metadata": {},
     "output_type": "execute_result"
    }
   ],
   "source": [
    "a = division(4, 2)\n",
    "b = division(9, 3)\n",
    "division(a, b)  # 2 / 3"
   ]
  },
  {
   "cell_type": "markdown",
   "id": "38577819",
   "metadata": {},
   "source": [
    "**Remarque importante** : lorsqu'une instruction return est atteinte dans une fonction, le reste de la fonction n'est pas exécuté."
   ]
  },
  {
   "cell_type": "code",
   "execution_count": 21,
   "id": "a6e75790",
   "metadata": {},
   "outputs": [
    {
     "data": {
      "text/plain": [
       "3"
      ]
     },
     "execution_count": 21,
     "metadata": {},
     "output_type": "execute_result"
    }
   ],
   "source": [
    "def test(x):\n",
    "    return x\n",
    "    print(\"vais-je être affiché ?\")\n",
    "    \n",
    "test(3)"
   ]
  },
  {
   "cell_type": "markdown",
   "id": "916161e6",
   "metadata": {},
   "source": [
    "### Renvoyer plusieurs résultats\n",
    "\n",
    "Une fonction renvoie par définition **un** résultat, qui peut être tout objet Python. Comment faire si l'on souhaite renvoyer plusieurs résultats ? On peut simplement enregistrer les différents résultats dans un conteneur (liste, tuple, dictionnaire, etc.), qui peut lui contenir un grand nombre d'objets."
   ]
  },
  {
   "cell_type": "code",
   "execution_count": 25,
   "id": "c02337ef-42b9-4f02-b682-a11317ffded2",
   "metadata": {},
   "outputs": [
    {
     "name": "stdout",
     "output_type": "stream",
     "text": [
      "(15, 5, 50)\n"
     ]
    },
    {
     "data": {
      "text/plain": [
       "tuple"
      ]
     },
     "execution_count": 25,
     "metadata": {},
     "output_type": "execute_result"
    }
   ],
   "source": [
    "def calculs_mathematiques(a, b):\n",
    "    somme = a + b\n",
    "    difference = a - b\n",
    "    produit = a * b\n",
    "    return somme, difference, produit\n",
    "\n",
    "resultats = calculs_mathematiques(10, 5)\n",
    "\n",
    "print(resultats)\n",
    "type(resultats)"
   ]
  },
  {
   "cell_type": "markdown",
   "id": "aa42a4c7-c883-4dbf-94b0-8912e79b0c82",
   "metadata": {},
   "source": [
    "Par défaut, les retours multiples sont des **tuples**.  \n",
    "Mais il est également possible de retourner une liste ou un dictionnaire."
   ]
  },
  {
   "cell_type": "code",
   "execution_count": 27,
   "id": "31e36caf-9892-440d-ae69-3ea321c00c1c",
   "metadata": {},
   "outputs": [
    {
     "data": {
      "text/plain": [
       "[16, 64]"
      ]
     },
     "execution_count": 27,
     "metadata": {},
     "output_type": "execute_result"
    }
   ],
   "source": [
    "def puissance_liste(a):\n",
    "    return [a**2, a**3]\n",
    "\n",
    "puissance_liste(4)"
   ]
  },
  {
   "cell_type": "code",
   "execution_count": 29,
   "id": "f3a3608e-990b-40fe-9772-f5d8160f24c1",
   "metadata": {},
   "outputs": [
    {
     "data": {
      "text/plain": [
       "{'carre': 16, 'cube': 64}"
      ]
     },
     "execution_count": 29,
     "metadata": {},
     "output_type": "execute_result"
    }
   ],
   "source": [
    "def puissance_dico(nombre):\n",
    "    carre = nombre ** 2\n",
    "    cube = nombre ** 3\n",
    "    return {\"carre\": a**2, \"cube\": a**3}\n",
    "\n",
    "puissance_dico(4)"
   ]
  },
  {
   "cell_type": "markdown",
   "id": "74e5f0e4-edfb-4748-b66b-edd4de3593e0",
   "metadata": {},
   "source": [
    "## Lambda fonctions\n",
    "\n",
    "Il existe une autre manière concise de définir une fonction simple, la **lambda** fonction."
   ]
  },
  {
   "cell_type": "code",
   "execution_count": 48,
   "id": "513300af-f8f8-4b9e-8df6-b5465ddd23c6",
   "metadata": {},
   "outputs": [
    {
     "data": {
      "text/plain": [
       "36"
      ]
     },
     "execution_count": 48,
     "metadata": {},
     "output_type": "execute_result"
    }
   ],
   "source": [
    "carre = lambda x: x**2\n",
    "\n",
    "carre(6)"
   ]
  },
  {
   "cell_type": "markdown",
   "id": "fce2eb9f",
   "metadata": {},
   "source": [
    "---\n",
    "\n",
    "# Exercices"
   ]
  },
  {
   "cell_type": "markdown",
   "id": "0ec5176d",
   "metadata": {},
   "source": [
    "## Exercice 1"
   ]
  },
  {
   "cell_type": "markdown",
   "id": "486031a9",
   "metadata": {},
   "source": [
    "Créer une fonction `puissance` qui prend en entrée deux nombres `x` et `y` et renvoie la fonction puissance $x^y$."
   ]
  },
  {
   "cell_type": "code",
   "execution_count": null,
   "id": "3836f200",
   "metadata": {
    "tags": []
   },
   "outputs": [],
   "source": [
    "# Testez votre réponse dans cette cellule\n"
   ]
  },
  {
   "cell_type": "markdown",
   "id": "437f46e2",
   "metadata": {},
   "source": [
    "## Exercice 2"
   ]
  },
  {
   "cell_type": "markdown",
   "id": "249e8e03",
   "metadata": {
    "tags": []
   },
   "source": [
    "Écrire une fonction `statistiques_descriptives` qui :\n",
    "- prend en entrée une liste de nombre\n",
    "- renvoie la moyenne et la variance"
   ]
  },
  {
   "cell_type": "code",
   "execution_count": null,
   "id": "5a648ec7",
   "metadata": {
    "tags": []
   },
   "outputs": [],
   "source": [
    "# Testez votre réponse dans cette cellule\n"
   ]
  },
  {
   "cell_type": "markdown",
   "id": "ac9f0599-a579-4149-a1f3-cc21d1f89e26",
   "metadata": {},
   "source": [
    "## Exercice 3\n",
    "\n",
    "Écrire une fonction `est_pair` qui :\n",
    "* prend en entrée un paramètre\n",
    "* retourne un booléen pour dire si ce paramètre est pair\n",
    "\n",
    "Ajouter un test pour vérifier que le paramètre est un entier."
   ]
  },
  {
   "cell_type": "code",
   "execution_count": 36,
   "id": "614266ec-f8a1-4971-8e3b-7beef5bcc464",
   "metadata": {},
   "outputs": [],
   "source": [
    "# Testez votre réponse dans cette cellule\n"
   ]
  },
  {
   "cell_type": "markdown",
   "id": "390416cd",
   "metadata": {
    "tags": []
   },
   "source": [
    "## Exercice 4\n",
    "\n",
    "Écrire une fonction qui :\n",
    "- prend en entrée une liste d'éléments quelconques\n",
    "- renvoie une nouvelle liste constituée des éléments uniques de la liste initiale\n",
    "- permet via un paramètre optionnel de trier ou non la liste finale par ordre alphanumérique (le comportement par défaut est de ne pas trier)."
   ]
  },
  {
   "cell_type": "code",
   "execution_count": 35,
   "id": "ab617660",
   "metadata": {
    "tags": []
   },
   "outputs": [],
   "source": [
    "# Testez votre réponse dans cette cellule\n"
   ]
  },
  {
   "cell_type": "markdown",
   "id": "ad35924b",
   "metadata": {},
   "source": [
    "## Exercice 5"
   ]
  },
  {
   "cell_type": "markdown",
   "id": "868be233",
   "metadata": {
    "tags": []
   },
   "source": [
    "Les fonctions récursives sont des fonctions qui s'appellent elles-mêmes dans le corps de la fonction, ce qui entraîne des appels infinis jusqu'à atteindre un critère d'arrêt (voir exemple du triangle de Pascal ci-dessous).\n",
    "\n",
    "Coder de manière récursive la fonction **factoriel**."
   ]
  },
  {
   "cell_type": "code",
   "execution_count": 46,
   "id": "f301291c-80bf-4f08-8c5f-3b103cb9ea3f",
   "metadata": {},
   "outputs": [
    {
     "name": "stdout",
     "output_type": "stream",
     "text": [
      "1\n",
      "1\t1\n",
      "1\t2\t1\n",
      "1\t3\t3\t1\n",
      "1\t4\t6\t4\t1\n",
      "1\t5\t10\t10\t5\t1\n",
      "1\t6\t15\t20\t15\t6\t1\n",
      "1\t7\t21\t35\t35\t21\t7\t1\n",
      "1\t8\t28\t56\t70\t56\t28\t8\t1\n",
      "1\t9\t36\t84\t126\t126\t84\t36\t9\t1\n",
      "1\t10\t45\t120\t210\t252\t210\t120\t45\t10\t1\n"
     ]
    }
   ],
   "source": [
    "def triangle_pascal(n):\n",
    "    if n == 0:\n",
    "        return [[1]]                                          # Condition d'arrêt\n",
    "    else:\n",
    "        triangle = triangle_pascal(n - 1)                     # Appel récursif pour obtenir les lignes précédentes\n",
    "        prev_row = triangle[-1]                               # Récupérer la dernière ligne générée\n",
    "        new_row = [1]                                         # Premier élément de la nouvelle ligne\n",
    "        # Calculer les éléments de la nouvelle ligne\n",
    "        for i in range(len(prev_row) - 1):\n",
    "            new_row.append(prev_row[i] + prev_row[i + 1])  \n",
    "        new_row.append(1)                                     # Dernier élément de la nouvelle ligne\n",
    "        triangle.append(new_row)                              # Ajouter la nouvelle ligne au triangle\n",
    "        return triangle\n",
    "\n",
    "print('\\n'.join(['\\t'.join(map(str, row)) for row in triangle_pascal(10)]))"
   ]
  },
  {
   "cell_type": "code",
   "execution_count": 49,
   "id": "d1a8a515",
   "metadata": {
    "tags": []
   },
   "outputs": [],
   "source": [
    "# Testez votre réponse dans cette cellule\n"
   ]
  },
  {
   "cell_type": "markdown",
   "id": "47a5e6a3-2ce7-424b-a956-516f22b99385",
   "metadata": {},
   "source": [
    "## Exercice 6\n",
    "\n",
    "Écrire une fonction `appliquer_fonction_liste` qui :\n",
    "* prend en paramètre :\n",
    "    * une liste d'entiers\n",
    "    * une fonction\n",
    "* retourne la liste à laquelle on a appliqué la fonction\n",
    "\n",
    "Exemple :  \n",
    "appliquer_fonction_liste([1, 2, 3, 4], lambda x: x**2) -> [1, 4, 9, 16]\n"
   ]
  },
  {
   "cell_type": "code",
   "execution_count": 50,
   "id": "a17ee055-42f0-44c1-b229-ab1b04c6536b",
   "metadata": {},
   "outputs": [],
   "source": [
    "# Testez votre réponse dans cette cellule\n"
   ]
  },
  {
   "cell_type": "markdown",
   "id": "7ab8ef54",
   "metadata": {},
   "source": [
    "\n"
   ]
  }
 ],
 "metadata": {
  "jupytext": {
   "cell_metadata_filter": "tags,-all",
   "main_language": "python",
   "notebook_metadata_filter": "-all"
  },
  "kernelspec": {
   "display_name": "Python 3",
   "language": "python",
   "name": "python3"
  },
  "language_info": {
   "codemirror_mode": {
    "name": "ipython",
    "version": 3
   },
   "file_extension": ".py",
   "mimetype": "text/x-python",
   "name": "python",
   "nbconvert_exporter": "python",
   "pygments_lexer": "ipython3",
   "version": "3.10.4"
  }
 },
 "nbformat": 4,
 "nbformat_minor": 5
}
