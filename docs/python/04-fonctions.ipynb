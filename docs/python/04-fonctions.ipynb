{
  "cells": [
    {
      "cell_type": "markdown",
      "metadata": {},
      "source": [
        "# Les fonctions\n",
        "\n",
        "Ludovic Deneuville\n",
        "\n",
        "## Avant de commencer\n",
        "\n",
        "-   Téléchargez ce\n",
        "    <a href=\"04-fonctions.ipynb\" target=\"_blank\">notebook Jupyter</a>\n",
        "-   Connectez-vous au\n",
        "    <a href=\"https://jupyther.ensai.fr/\" target=\"_blank\">Jupyter</a>\n",
        "    ENSAI avec id et mot de passe\n",
        "    -   ou une autre plate-forme (SSPCloud, Jupyter Lab, Google Colab,\n",
        "        Kaggle…)\n",
        "-   Importez le fichier .ipynb\n",
        "\n",
        "## 1 Fonctions\n",
        "\n",
        "L’idée d’une fonction est de regrouper ensemble des morceaux de codes\n",
        "qui pourraient être utilisés à plusieurs endroits de votre programme.  \n",
        "Utiliser des fonctions est une bonne pratique :\n",
        "\n",
        "-   cela réduit la duplication du code\n",
        "-   cela permet de mieux structurer le code et le rendre plus clair\n",
        "\n",
        "Une fonction est composée de :\n",
        "\n",
        "-   un ensemble de paramètres\n",
        "-   des instructions qui utilisent les paramètres\n",
        "-   retourne ou affiche un résultat\n",
        "\n",
        "Le mot clé **def** sert à définir une fonction.  \n",
        "Voici un exemple de fonction :\n",
        "\n",
        "-   Nom de la fonction : ma_fonction\n",
        "-   Paramètres : 2 paramètres p1 et p2\n",
        "-   Sortie : résultat de l’opération p1 x p2 + p1 + 5"
      ],
      "id": "4d22f194-68f0-404f-bcfb-02502c3a4382"
    },
    {
      "cell_type": "code",
      "execution_count": 1,
      "metadata": {},
      "outputs": [],
      "source": [
        "def ma_fonction(p1, p2):\n",
        "    resultat = p1 * p2 + p1 + 5\n",
        "    return resultat"
      ],
      "id": "5851b664"
    },
    {
      "cell_type": "markdown",
      "metadata": {},
      "source": [
        "Maintenant que notre fonction est définie, nous pouvons l’appeler autant\n",
        "de fois que nous le souhaitons"
      ],
      "id": "4494ed55-5a37-4081-97f1-8fb8efdca05c"
    },
    {
      "cell_type": "code",
      "execution_count": 2,
      "metadata": {},
      "outputs": [],
      "source": [
        "ma_fonction(2, 6)"
      ],
      "id": "0886fb2e"
    },
    {
      "cell_type": "code",
      "execution_count": 3,
      "metadata": {},
      "outputs": [],
      "source": [
        "ma_fonction(5, 1) + ma_fonction(8, 2)"
      ],
      "id": "f0daf9aa"
    },
    {
      "cell_type": "markdown",
      "metadata": {},
      "source": [
        "### 1.1 Arguments\n",
        "\n",
        "Les **arguments** sont les paramètres de la fonction.  \n",
        "Lorsqu’on appelle une fonction en lui spécifiant des arguments, on dit\n",
        "qu’on lui « passe » des arguments.  \n",
        "Ces arguments deviennent alors des **variables** qui peuvent être\n",
        "utilisées uniquement à l’intérieur de la fonction."
      ],
      "id": "9a883df4-25d0-486f-b1c6-e2d9e224131e"
    },
    {
      "cell_type": "code",
      "execution_count": 4,
      "metadata": {},
      "outputs": [],
      "source": [
        "def maximum(a, b):\n",
        "    if a > b:\n",
        "        resultat = a\n",
        "    else:\n",
        "        resultat = b\n",
        "    return resultat"
      ],
      "id": "86b47add"
    },
    {
      "cell_type": "code",
      "execution_count": 5,
      "metadata": {},
      "outputs": [],
      "source": [
        "maximum(1, 5)"
      ],
      "id": "e8220581"
    },
    {
      "cell_type": "markdown",
      "metadata": {},
      "source": [
        "À l’extérieur des fonctions, les arguments n’existent plus et ne sont\n",
        "plus connus."
      ],
      "id": "7047552f-41bc-43f9-9e66-18774812ccba"
    },
    {
      "cell_type": "code",
      "execution_count": 6,
      "metadata": {},
      "outputs": [],
      "source": [
        "a"
      ],
      "id": "5d38100b"
    },
    {
      "cell_type": "markdown",
      "metadata": {},
      "source": [
        "#### Passage par position et passage par mot-clé\n",
        "\n",
        "En Python, les fonctions admettent deux modes de passage des arguments :\n",
        "\n",
        "-   le **passage par position** : les arguments sont passés dans l’ordre\n",
        "    dans lequel ils ont été définis\n",
        "-   le **passage par mot-clé** : on précise le nom du paramètre lors du\n",
        "    passage de l’argument\n",
        "\n",
        "Illustrons cette différence à partir d’une fonction qui réalise\n",
        "simplement une division."
      ],
      "id": "da9d5ccf-2b3a-4256-abb8-e4fbdf356f41"
    },
    {
      "cell_type": "code",
      "execution_count": 7,
      "metadata": {},
      "outputs": [],
      "source": [
        "def division(x, y):\n",
        "    if y == 0:\n",
        "        print(\"ERREUR : Division par 0 impossible\")\n",
        "    else:\n",
        "        return x / y"
      ],
      "id": "2b636f79"
    },
    {
      "cell_type": "code",
      "execution_count": 8,
      "metadata": {},
      "outputs": [],
      "source": [
        "# Passage par position\n",
        "division(8, 2)  "
      ],
      "id": "b1cb9b0a"
    },
    {
      "cell_type": "code",
      "execution_count": 9,
      "metadata": {},
      "outputs": [],
      "source": [
        "# Passage par mot-clé\n",
        "division(x=8, y=2)  "
      ],
      "id": "dac2b3db"
    },
    {
      "cell_type": "markdown",
      "metadata": {},
      "source": [
        "Dans le cas du passage par position, le respect de l’ordre est\n",
        "impératif."
      ],
      "id": "5bfe5c5a-c8fc-4206-9746-1f7f1dc296d7"
    },
    {
      "cell_type": "code",
      "execution_count": 10,
      "metadata": {},
      "outputs": [],
      "source": [
        "print(division(0, 5))\n",
        "print(division(5, 0))"
      ],
      "id": "409e998e"
    },
    {
      "cell_type": "markdown",
      "metadata": {},
      "source": [
        "Nous remarquons que s’affiche **None** ci-dessus.  \n",
        "L’explication est que lorsque l’on passe dans la partie de code\n",
        "`if y == 0`, il n’y a pas de **return**.  \n",
        "Donc par défaut la méthode renvoie **None**, ce qui représente l’absence\n",
        "de valeur.\n",
        "\n",
        "Dans le cas du passage par mot-clé, l’ordre n’a plus d’importance."
      ],
      "id": "3a4e344a-1d7f-451e-9de3-adec0c942a9e"
    },
    {
      "cell_type": "code",
      "execution_count": 11,
      "metadata": {},
      "outputs": [],
      "source": [
        "print(division(x=0, y=5))\n",
        "print(division(y=5, x=0))"
      ],
      "id": "5ba7d427"
    },
    {
      "cell_type": "markdown",
      "metadata": {},
      "source": [
        "#### Arguments obligatoires et arguments optionnels\n",
        "\n",
        "Lorsqu’on définit une fonction, il est fréquent de vouloir faire\n",
        "cohabiter :\n",
        "\n",
        "-   des arguments que doit absolument spécifier l’utilisateur\n",
        "-   des arguments optionnels qui spécifient un comportement par défaut\n",
        "    de la fonction, mais peuvent également être modifiés si nécessaire\n",
        "\n",
        "Regardons par exemple comment on peut modifier le comportement de la\n",
        "fonction `print` à l’aide d’un argument optionnel."
      ],
      "id": "fa417e5d-dc33-4829-8d45-717bee17b044"
    },
    {
      "cell_type": "code",
      "execution_count": 12,
      "metadata": {},
      "outputs": [],
      "source": [
        "print(\"salut\")\n",
        "print(\"salut\")"
      ],
      "id": "9076840a"
    },
    {
      "cell_type": "code",
      "execution_count": 13,
      "metadata": {},
      "outputs": [],
      "source": [
        "print(\"salut\", end=' ')\n",
        "print(\"salut\")"
      ],
      "id": "1efe8c4b"
    },
    {
      "cell_type": "markdown",
      "metadata": {},
      "source": [
        "Nous avons modifié le comportement du premier appel à **print** via le\n",
        "paramètre optionnel **end**.  \n",
        "Par défaut, cette valeur est fixée à `'\\n'`, soit un retour à la\n",
        "ligne.  \n",
        "Nous l’avons modifié dans la deuxième cellule à un espace, d’où la\n",
        "différence de résultat.\n",
        "\n",
        "Nous allons maintenant créer une fonction avec un argument optionnel.  \n",
        "Pour expliquer le comportement de cette méthode, une documentation a été\n",
        "ajoutée entre les caractères `'''`."
      ],
      "id": "a53844b7-2c82-41ac-8103-25b76b58eaf7"
    },
    {
      "cell_type": "code",
      "execution_count": 14,
      "metadata": {},
      "outputs": [],
      "source": [
        "def note_finale(note1, note2, bonus=0):\n",
        "    '''Fonction d'ajout de 2 notes\n",
        "    Parameters\n",
        "    ----------\n",
        "        note1 : float\n",
        "            la première note\n",
        "        note2 : float\n",
        "            la deuxième note\n",
        "        bonus : float\n",
        "            un bonus (optionnel, par défaut égal à 0)\n",
        "    Returns\n",
        "    -------\n",
        "        float : sommes des 2 notes et du bonus\n",
        "    '''\n",
        "    return note1 + note2 + bonus"
      ],
      "id": "d72d5246"
    },
    {
      "cell_type": "code",
      "execution_count": 15,
      "metadata": {},
      "outputs": [],
      "source": [
        "# Comportement par défaut (bonus=0)\n",
        "note_finale(8.5, 7)  "
      ],
      "id": "a5eb11ac"
    },
    {
      "cell_type": "code",
      "execution_count": 16,
      "metadata": {},
      "outputs": [],
      "source": [
        "# Comportement modifié\n",
        "note_finale(8.5, 7, bonus = 2)  "
      ],
      "id": "7d382bd8"
    },
    {
      "cell_type": "markdown",
      "metadata": {},
      "source": [
        "#### Bonus : nombre d’arguments variable\n",
        "\n",
        "-   La notation `*args` permet à une fonction de recevoir un nombre\n",
        "    variable d’arguments positionnels\n",
        "-   La notation `**kwargs` permet à une fonction de recevoir un nombre\n",
        "    variable d’arguments clé-valeur"
      ],
      "id": "32ad88be-d042-4ecf-af8a-5289c79c8743"
    },
    {
      "cell_type": "code",
      "execution_count": 17,
      "metadata": {},
      "outputs": [],
      "source": [
        "# Exemple d'utilisation de args\n",
        "\n",
        "def moyenne(*args):\n",
        "    somme = 0\n",
        "    nb = 0\n",
        "    for a in args:\n",
        "        somme += a\n",
        "        nb += 1\n",
        "    print(f\"Moyenne de {args} : {somme / nb}\")\n",
        "\n",
        "moyenne(10, 15)\n",
        "moyenne(8, 20, 16, 12)"
      ],
      "id": "5b5567ae"
    },
    {
      "cell_type": "code",
      "execution_count": 18,
      "metadata": {},
      "outputs": [],
      "source": [
        "# Exemple d'utilisation de kwargs\n",
        "\n",
        "def recette(**kwargs):\n",
        "    for a in kwargs:\n",
        "        # get argument name\n",
        "        arg_name = a\n",
        "        # get argument value\n",
        "        arg_value = kwargs[arg_name]\n",
        "        print(arg_name, \" = \", arg_value)\n",
        "    \n",
        "    \n",
        "recette(tomate=2, farine=\"100g\", sel=True)"
      ],
      "id": "4cb14115"
    },
    {
      "cell_type": "markdown",
      "metadata": {},
      "source": [
        "### 1.2 Résultats\n",
        "\n",
        "#### Principe\n",
        "\n",
        "On a vu :\n",
        "\n",
        "-   que toute fonction renvoie un résultat en sortie\n",
        "-   que l’instruction `return` permet de spécifier ce résultat\n",
        "\n",
        "Lorsque la fonction est appelée, elle est évaluée à la valeur spécifiée\n",
        "par `return`, et cette valeur peut alors être récupérée dans une\n",
        "variable et utilisée dans des calculs ultérieurs, et ainsi de suite."
      ],
      "id": "b43d594b-d57a-4ef4-ad43-447e89a0401d"
    },
    {
      "cell_type": "code",
      "execution_count": 19,
      "metadata": {},
      "outputs": [],
      "source": [
        "def division(x, y):\n",
        "    return x / y"
      ],
      "id": "3c4dfc33"
    },
    {
      "cell_type": "code",
      "execution_count": 20,
      "metadata": {},
      "outputs": [],
      "source": [
        "a = division(4, 2)\n",
        "b = division(9, 3)\n",
        "division(a, b)  # 2 / 3"
      ],
      "id": "cfef151f"
    },
    {
      "cell_type": "markdown",
      "metadata": {},
      "source": [
        "**Remarque importante** : lorsqu’une instruction return est atteinte\n",
        "dans une fonction, le reste de la fonction n’est pas exécuté."
      ],
      "id": "e50c9fd9-42e2-4154-8b1e-95339d371e73"
    },
    {
      "cell_type": "code",
      "execution_count": 21,
      "metadata": {},
      "outputs": [],
      "source": [
        "def test(x):\n",
        "    return x\n",
        "    print(\"vais-je être affiché ?\")\n",
        "    \n",
        "test(3)"
      ],
      "id": "c2e09aa0"
    },
    {
      "cell_type": "markdown",
      "metadata": {},
      "source": [
        "#### Renvoyer plusieurs résultats\n",
        "\n",
        "Une fonction renvoie par définition **un** résultat, qui peut être tout\n",
        "objet Python. Comment faire si l’on souhaite renvoyer plusieurs\n",
        "résultats ? On peut simplement enregistrer les différents résultats dans\n",
        "un conteneur (liste, tuple, dictionnaire, etc.), qui peut lui contenir\n",
        "un grand nombre d’objets."
      ],
      "id": "577077da-440f-433d-9089-66472223286c"
    },
    {
      "cell_type": "code",
      "execution_count": 22,
      "metadata": {},
      "outputs": [],
      "source": [
        "def calculs_mathematiques(a, b):\n",
        "    somme = a + b\n",
        "    difference = a - b\n",
        "    produit = a * b\n",
        "    return somme, difference, produit\n",
        "\n",
        "resultats = calculs_mathematiques(10, 5)\n",
        "\n",
        "print(resultats)\n",
        "type(resultats)"
      ],
      "id": "e99d2327"
    },
    {
      "cell_type": "markdown",
      "metadata": {},
      "source": [
        "Par défaut, les retours multiples sont des **tuples**.  \n",
        "Mais il est également possible de retourner une liste ou un\n",
        "dictionnaire."
      ],
      "id": "1788f4a8-8a6b-4ec0-8293-8db27039f670"
    },
    {
      "cell_type": "code",
      "execution_count": 23,
      "metadata": {},
      "outputs": [],
      "source": [
        "def puissance_liste(a):\n",
        "    return [a**2, a**3]\n",
        "\n",
        "puissance_liste(4)"
      ],
      "id": "bea29c18"
    },
    {
      "cell_type": "code",
      "execution_count": 24,
      "metadata": {},
      "outputs": [],
      "source": [
        "def puissance_dico(nombre):\n",
        "    carre = nombre ** 2\n",
        "    cube = nombre ** 3\n",
        "    return {\"carre\": a**2, \"cube\": a**3}\n",
        "\n",
        "puissance_dico(4)"
      ],
      "id": "097a1914"
    },
    {
      "cell_type": "markdown",
      "metadata": {},
      "source": [
        "### 1.3 Lambda fonctions\n",
        "\n",
        "Il existe une autre manière concise de définir une fonction simple, la\n",
        "**lambda** fonction."
      ],
      "id": "edbf65d9-e858-4b4c-8c7f-b907cae40128"
    },
    {
      "cell_type": "code",
      "execution_count": 25,
      "metadata": {},
      "outputs": [],
      "source": [
        "carre = lambda x: x**2\n",
        "\n",
        "carre(6)"
      ],
      "id": "3db44bda"
    },
    {
      "cell_type": "markdown",
      "metadata": {},
      "source": [
        "------------------------------------------------------------------------\n",
        "\n",
        "## 2 Exercices\n",
        "\n",
        "### 2.1 Exercice 1\n",
        "\n",
        "Créer une fonction `puissance` qui prend en entrée deux nombres `x` et\n",
        "`y` et renvoie la fonction puissance $x^y$."
      ],
      "id": "a63eb520-6f17-4083-8194-82b3f56660b3"
    },
    {
      "cell_type": "code",
      "execution_count": 26,
      "metadata": {
        "tags": []
      },
      "outputs": [],
      "source": [
        "# Testez votre réponse dans cette cellule"
      ],
      "id": "da38b105"
    },
    {
      "cell_type": "markdown",
      "metadata": {},
      "source": [
        "### 2.2 Exercice 2\n",
        "\n",
        "Écrire une fonction `statistiques_descriptives` qui :\n",
        "\n",
        "-   prend en entrée une liste de nombre\n",
        "-   renvoie la moyenne et la variance"
      ],
      "id": "f96be634-b37a-4e2c-af4d-c41fa71144ef"
    },
    {
      "cell_type": "code",
      "execution_count": 27,
      "metadata": {
        "tags": []
      },
      "outputs": [],
      "source": [
        "# Testez votre réponse dans cette cellule"
      ],
      "id": "dc5353e0"
    },
    {
      "cell_type": "markdown",
      "metadata": {},
      "source": [
        "### 2.3 Exercice 3\n",
        "\n",
        "Écrire une fonction `est_pair` qui :\n",
        "\n",
        "-   prend en entrée un paramètre\n",
        "-   retourne un booléen pour dire si ce paramètre est pair\n",
        "\n",
        "Ajouter un test pour vérifier que le paramètre est un entier."
      ],
      "id": "a99c0563-bbed-4f39-90d6-ab914619cb7f"
    },
    {
      "cell_type": "code",
      "execution_count": 28,
      "metadata": {},
      "outputs": [],
      "source": [
        "# Testez votre réponse dans cette cellule"
      ],
      "id": "31d17e87"
    },
    {
      "cell_type": "markdown",
      "metadata": {},
      "source": [
        "### 2.4 Exercice 4\n",
        "\n",
        "Écrire une fonction qui :\n",
        "\n",
        "-   prend en entrée une liste d’éléments quelconques\n",
        "-   renvoie une nouvelle liste constituée des éléments uniques de la\n",
        "    liste initiale\n",
        "-   permet via un paramètre optionnel de trier ou non la liste finale\n",
        "    par ordre alphanumérique (le comportement par défaut est de ne pas\n",
        "    trier)."
      ],
      "id": "f9f13a56-f1fe-417d-876c-aa253922910d"
    },
    {
      "cell_type": "code",
      "execution_count": 29,
      "metadata": {
        "tags": []
      },
      "outputs": [],
      "source": [
        "# Testez votre réponse dans cette cellule"
      ],
      "id": "31e86f31"
    },
    {
      "cell_type": "markdown",
      "metadata": {},
      "source": [
        "### 2.5 Exercice 5\n",
        "\n",
        "Les fonctions récursives sont des fonctions qui s’appellent elles-mêmes\n",
        "dans le corps de la fonction, ce qui entraîne des appels infinis jusqu’à\n",
        "atteindre un critère d’arrêt (voir exemple du triangle de Pascal\n",
        "ci-dessous).\n",
        "\n",
        "Coder de manière récursive la fonction **factoriel**."
      ],
      "id": "eaee3316-74b0-47aa-956f-bf21bca85c0d"
    },
    {
      "cell_type": "code",
      "execution_count": 30,
      "metadata": {},
      "outputs": [],
      "source": [
        "def triangle_pascal(n):\n",
        "    if n == 0:\n",
        "        return [[1]]                                          # Condition d'arrêt\n",
        "    else:\n",
        "        triangle = triangle_pascal(n - 1)                     # Appel récursif pour obtenir les lignes précédentes\n",
        "        prev_row = triangle[-1]                               # Récupérer la dernière ligne générée\n",
        "        new_row = [1]                                         # Premier élément de la nouvelle ligne\n",
        "        # Calculer les éléments de la nouvelle ligne\n",
        "        for i in range(len(prev_row) - 1):\n",
        "            new_row.append(prev_row[i] + prev_row[i + 1])  \n",
        "        new_row.append(1)                                     # Dernier élément de la nouvelle ligne\n",
        "        triangle.append(new_row)                              # Ajouter la nouvelle ligne au triangle\n",
        "        return triangle\n",
        "\n",
        "print('\\n'.join(['\\t'.join(map(str, row)) for row in triangle_pascal(10)]))"
      ],
      "id": "486156a3"
    },
    {
      "cell_type": "code",
      "execution_count": 31,
      "metadata": {
        "tags": []
      },
      "outputs": [],
      "source": [
        "# Testez votre réponse dans cette cellule"
      ],
      "id": "43938e69"
    },
    {
      "cell_type": "markdown",
      "metadata": {},
      "source": [
        "### 2.6 Exercice 6\n",
        "\n",
        "Écrire une fonction `appliquer_fonction_liste` qui :\n",
        "\n",
        "-   prend en paramètre :\n",
        "    -   une liste d’entiers\n",
        "    -   une fonction\n",
        "-   retourne la liste à laquelle on a appliqué la fonction\n",
        "\n",
        "Exemple :  \n",
        "appliquer_fonction_liste(\\[1, 2, 3, 4\\], lambda x: x\\*\\*2) -\\> \\[1, 4,\n",
        "9, 16\\]"
      ],
      "id": "e946072f-aa27-4f43-9bed-9a1d50f3956d"
    },
    {
      "cell_type": "code",
      "execution_count": 32,
      "metadata": {},
      "outputs": [],
      "source": [
        "# Testez votre réponse dans cette cellule"
      ],
      "id": "0f2151c5"
    }
  ],
  "nbformat": 4,
  "nbformat_minor": 5,
  "metadata": {
    "kernelspec": {
      "name": "python3",
      "display_name": "Python 3 (ipykernel)",
      "language": "python",
      "path": "/opt/hostedtoolcache/Python/3.10.14/x64/share/jupyter/kernels/python3"
    },
    "language_info": {
      "name": "python",
      "codemirror_mode": {
        "name": "ipython",
        "version": "3"
      },
      "file_extension": ".py",
      "mimetype": "text/x-python",
      "nbconvert_exporter": "python",
      "pygments_lexer": "ipython3",
      "version": "3.10.14"
    }
  }
}