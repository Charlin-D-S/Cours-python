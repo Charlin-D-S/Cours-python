{
  "cells": [
    {
      "cell_type": "markdown",
      "metadata": {},
      "source": [
        "# Les fonctions\n",
        "\n",
        "Ludovic Deneuville\n",
        "\n",
        "## Avant de commencer\n",
        "\n",
        "-   Téléchargez ce\n",
        "    <a href=\"04-fonctions.ipynb\" target=\"_blank\">notebook Jupyter</a>\n",
        "-   Connectez-vous au\n",
        "    <a href=\"https://jupyther.ensai.fr/\" target=\"_blank\">Jupyter</a>\n",
        "    ENSAI avec id et mot de passe\n",
        "    -   ou une autre plate-forme (SSPCloud, Jupyter Lab, Google Colab,\n",
        "        Kaggle…)\n",
        "-   Importez le fichier .ipynb\n",
        "\n",
        "## 1 Fonctions\n",
        "\n",
        "L’idée d’une fonction est de regrouper ensemble des morceaux de codes\n",
        "qui pourraient être utilisés à plusieurs endroits de votre programme.  \n",
        "Utiliser des fonctions est une bonne pratique :\n",
        "\n",
        "-   cela réduit la duplication du code\n",
        "-   cela permet de mieux structurer le code et le rendre plus clair\n",
        "\n",
        "Une fonction est composée de :\n",
        "\n",
        "-   un ensemble de paramètres\n",
        "-   des instructions qui utilisent les paramètres\n",
        "-   retourne ou affiche un résultat\n",
        "\n",
        "Le mot clé **def** sert à définir une fonction.  \n",
        "Voici un exemple de fonction :\n",
        "\n",
        "-   Nom de la fonction : ma_fonction\n",
        "-   Paramètres : 2 paramètres p1 et p2\n",
        "-   Sortie : résultat de l’opération p1 x p2 + p1 + 5"
      ],
      "id": "9d096082-69f4-4c65-89ce-a0a9c4003196"
    },
    {
      "cell_type": "code",
      "execution_count": 1,
      "metadata": {},
      "outputs": [],
      "source": [
        "def ma_fonction(p1, p2):\n",
        "    resultat = p1 * p2 + p1 + 5\n",
        "    return resultat"
      ],
      "id": "5188fae2"
    },
    {
      "cell_type": "markdown",
      "metadata": {},
      "source": [
        "Maintenant que notre fonction est définie, nous pouvons l’appeler autant\n",
        "de fois que nous le souhaitons"
      ],
      "id": "91ee7988-1a33-4938-87e0-4425aefe2a0e"
    },
    {
      "cell_type": "code",
      "execution_count": 2,
      "metadata": {},
      "outputs": [],
      "source": [
        "ma_fonction(2, 6)"
      ],
      "id": "346a95c3"
    },
    {
      "cell_type": "code",
      "execution_count": 3,
      "metadata": {},
      "outputs": [],
      "source": [
        "ma_fonction(5, 1) + ma_fonction(8, 2)"
      ],
      "id": "58adb37c"
    },
    {
      "cell_type": "markdown",
      "metadata": {},
      "source": [
        "### 1.1 Arguments\n",
        "\n",
        "Les **arguments** sont les paramètres de la fonction.  \n",
        "Lorsqu’on appelle une fonction en lui spécifiant des arguments, on dit\n",
        "qu’on lui « passe » des arguments.  \n",
        "Ces arguments deviennent alors des **variables** qui peuvent être\n",
        "utilisées uniquement à l’intérieur de la fonction."
      ],
      "id": "06200ee7-dc40-43a5-b18d-bf4908ffdf3e"
    },
    {
      "cell_type": "code",
      "execution_count": 4,
      "metadata": {},
      "outputs": [],
      "source": [
        "def maximum(a, b):\n",
        "    if a > b:\n",
        "        resultat = a\n",
        "    else:\n",
        "        resultat = b\n",
        "    return resultat"
      ],
      "id": "5de7780d"
    },
    {
      "cell_type": "code",
      "execution_count": 5,
      "metadata": {},
      "outputs": [],
      "source": [
        "maximum(1, 5)"
      ],
      "id": "47962aef"
    },
    {
      "cell_type": "markdown",
      "metadata": {},
      "source": [
        "À l’extérieur des fonctions, les arguments n’existent plus et ne sont\n",
        "plus connus."
      ],
      "id": "e7451d2f-6026-4f8e-952f-aa5ff7306f57"
    },
    {
      "cell_type": "code",
      "execution_count": 6,
      "metadata": {},
      "outputs": [],
      "source": [
        "a"
      ],
      "id": "cfdbf2d3"
    },
    {
      "cell_type": "markdown",
      "metadata": {},
      "source": [
        "#### Passage par position et passage par mot-clé\n",
        "\n",
        "En Python, les fonctions admettent deux modes de passage des arguments :\n",
        "\n",
        "-   le **passage par position** : les arguments sont passés dans l’ordre\n",
        "    dans lequel ils ont été définis\n",
        "-   le **passage par mot-clé** : on précise le nom du paramètre lors du\n",
        "    passage de l’argument\n",
        "\n",
        "Illustrons cette différence à partir d’une fonction qui réalise\n",
        "simplement une division."
      ],
      "id": "64a05187-c35a-42e1-bd17-cdad5c81aaa4"
    },
    {
      "cell_type": "code",
      "execution_count": 7,
      "metadata": {},
      "outputs": [],
      "source": [
        "def division(x, y):\n",
        "    if y == 0:\n",
        "        print(\"ERREUR : Division par 0 impossible\")\n",
        "    else:\n",
        "        return x / y"
      ],
      "id": "27b5e86d"
    },
    {
      "cell_type": "code",
      "execution_count": 8,
      "metadata": {},
      "outputs": [],
      "source": [
        "# Passage par position\n",
        "division(8, 2)  "
      ],
      "id": "432a9541"
    },
    {
      "cell_type": "code",
      "execution_count": 9,
      "metadata": {},
      "outputs": [],
      "source": [
        "# Passage par mot-clé\n",
        "division(x=8, y=2)  "
      ],
      "id": "535e1a4b"
    },
    {
      "cell_type": "markdown",
      "metadata": {},
      "source": [
        "Dans le cas du passage par position, le respect de l’ordre est\n",
        "impératif."
      ],
      "id": "2a666b00-0919-45bd-8a87-421ddc892c1d"
    },
    {
      "cell_type": "code",
      "execution_count": 10,
      "metadata": {},
      "outputs": [],
      "source": [
        "print(division(0, 5))\n",
        "print(division(5, 0))"
      ],
      "id": "d7bc0017"
    },
    {
      "cell_type": "markdown",
      "metadata": {},
      "source": [
        "Nous remarquons que s’affiche **None** ci-dessus.  \n",
        "L’explication est que lorsque l’on passe dans la partie de code\n",
        "`if y == 0`, il n’y a pas de **return**.  \n",
        "Donc par défaut la méthode renvoie **None**, ce qui représente l’absence\n",
        "de valeur.\n",
        "\n",
        "Dans le cas du passage par mot-clé, l’ordre n’a plus d’importance."
      ],
      "id": "97caf894-3c90-48e0-b66a-78769e48b644"
    },
    {
      "cell_type": "code",
      "execution_count": 11,
      "metadata": {},
      "outputs": [],
      "source": [
        "print(division(x=0, y=5))\n",
        "print(division(y=5, x=0))"
      ],
      "id": "5625f711"
    },
    {
      "cell_type": "markdown",
      "metadata": {},
      "source": [
        "#### Arguments obligatoires et arguments optionnels\n",
        "\n",
        "Lorsqu’on définit une fonction, il est fréquent de vouloir faire\n",
        "cohabiter :\n",
        "\n",
        "-   des arguments que doit absolument spécifier l’utilisateur\n",
        "-   des arguments optionnels qui spécifient un comportement par défaut\n",
        "    de la fonction, mais peuvent également être modifiés si nécessaire\n",
        "\n",
        "Regardons par exemple comment on peut modifier le comportement de la\n",
        "fonction `print` à l’aide d’un argument optionnel."
      ],
      "id": "5eb374e3-09bd-4508-b39f-e7d4680735c9"
    },
    {
      "cell_type": "code",
      "execution_count": 12,
      "metadata": {},
      "outputs": [],
      "source": [
        "print(\"salut\")\n",
        "print(\"salut\")"
      ],
      "id": "274928f1"
    },
    {
      "cell_type": "code",
      "execution_count": 13,
      "metadata": {},
      "outputs": [],
      "source": [
        "print(\"salut\", end=' ')\n",
        "print(\"salut\")"
      ],
      "id": "139a141e"
    },
    {
      "cell_type": "markdown",
      "metadata": {},
      "source": [
        "Nous avons modifié le comportement du premier appel à **print** via le\n",
        "paramètre optionnel **end**.  \n",
        "Par défaut, cette valeur est fixée à `'\\n'`, soit un retour à la\n",
        "ligne.  \n",
        "Nous l’avons modifié dans la deuxième cellule à un espace, d’où la\n",
        "différence de résultat.\n",
        "\n",
        "Nous allons maintenant créer une fonction avec un argument optionnel.  \n",
        "Pour expliquer le comportement de cette méthode, une documentation a été\n",
        "ajoutée entre les caractères `\"\"\"`."
      ],
      "id": "bdf5b2d7-a923-4da9-919f-4ef975505dc9"
    },
    {
      "cell_type": "code",
      "execution_count": 14,
      "metadata": {},
      "outputs": [],
      "source": [
        "def note_finale(note1, note2, bonus=0) -> float:\n",
        "    \"\"\"Fonction d'ajout de 2 notes\n",
        "    Parameters\n",
        "    ----------\n",
        "        note1 : float\n",
        "            la première note\n",
        "        note2 : float\n",
        "            la deuxième note\n",
        "        bonus : float\n",
        "            un bonus (optionnel, par défaut égal à 0)\n",
        "    Returns\n",
        "    -------\n",
        "        float : sommes des 2 notes et du bonus\n",
        "    \"\"\"\n",
        "    return note1 + note2 + bonus"
      ],
      "id": "d448bd56"
    },
    {
      "cell_type": "code",
      "execution_count": 15,
      "metadata": {},
      "outputs": [],
      "source": [
        "# Comportement par défaut (bonus=0)\n",
        "note_finale(8.5, 7)  "
      ],
      "id": "a96f4ec8"
    },
    {
      "cell_type": "code",
      "execution_count": 16,
      "metadata": {},
      "outputs": [],
      "source": [
        "# Comportement modifié\n",
        "note_finale(8.5, 7, bonus = 2)  "
      ],
      "id": "8104f093"
    },
    {
      "cell_type": "markdown",
      "metadata": {},
      "source": [
        "Vous remarquerez également que la signature de la fonction se termine\n",
        "par `-> float`.\n",
        "\n",
        "C’est également un élément de documentation non contraignant. Cela\n",
        "siginfie le type de données attendu en sortie.\n",
        "\n",
        "#### Bonus : nombre d’arguments variable\n",
        "\n",
        "-   La notation `*args` permet à une fonction de recevoir un nombre\n",
        "    variable d’arguments positionnels\n",
        "-   La notation `**kwargs` permet à une fonction de recevoir un nombre\n",
        "    variable d’arguments clé-valeur"
      ],
      "id": "77f0cc02-6c3f-4458-b67b-5564ed5a8f0b"
    },
    {
      "cell_type": "code",
      "execution_count": 17,
      "metadata": {},
      "outputs": [],
      "source": [
        "# Exemple d'utilisation de args\n",
        "\n",
        "def moyenne(*args):\n",
        "    somme = 0\n",
        "    nb = 0\n",
        "    for a in args:\n",
        "        somme += a\n",
        "        nb += 1\n",
        "    print(f\"Moyenne de {args} : {somme / nb}\")\n",
        "\n",
        "moyenne(10, 15)\n",
        "moyenne(8, 20, 16, 12)"
      ],
      "id": "4c732376"
    },
    {
      "cell_type": "code",
      "execution_count": 18,
      "metadata": {},
      "outputs": [],
      "source": [
        "# Exemple d'utilisation de kwargs\n",
        "\n",
        "def recette(**kwargs):\n",
        "    for a in kwargs:\n",
        "        # get argument name\n",
        "        arg_name = a\n",
        "        # get argument value\n",
        "        arg_value = kwargs[arg_name]\n",
        "        print(arg_name, \" = \", arg_value)\n",
        "    \n",
        "    \n",
        "recette(tomate=2, farine=\"100g\", sel=True)"
      ],
      "id": "ea182aad"
    },
    {
      "cell_type": "markdown",
      "metadata": {},
      "source": [
        "### 1.2 Résultats\n",
        "\n",
        "#### Principe\n",
        "\n",
        "On a vu :\n",
        "\n",
        "-   que toute fonction renvoie un résultat en sortie\n",
        "-   que l’instruction `return` permet de spécifier ce résultat\n",
        "\n",
        "Lorsque la fonction est appelée, elle est évaluée à la valeur spécifiée\n",
        "par `return`, et cette valeur peut alors être récupérée dans une\n",
        "variable et utilisée dans des calculs ultérieurs, et ainsi de suite."
      ],
      "id": "876cfd81-6e49-4d20-b18b-351d54446e8e"
    },
    {
      "cell_type": "code",
      "execution_count": 19,
      "metadata": {},
      "outputs": [],
      "source": [
        "def division(x, y):\n",
        "    return x / y"
      ],
      "id": "a10f492c"
    },
    {
      "cell_type": "code",
      "execution_count": 20,
      "metadata": {},
      "outputs": [],
      "source": [
        "a = division(4, 2)\n",
        "b = division(9, 3)\n",
        "division(a, b)  # 2 / 3"
      ],
      "id": "65c875a9"
    },
    {
      "cell_type": "markdown",
      "metadata": {},
      "source": [
        "**Remarque importante** : lorsqu’une instruction return est atteinte\n",
        "dans une fonction, le reste de la fonction n’est pas exécuté."
      ],
      "id": "fc23f21c-9dae-429f-be28-6c50edfe823f"
    },
    {
      "cell_type": "code",
      "execution_count": 21,
      "metadata": {},
      "outputs": [],
      "source": [
        "def test(x):\n",
        "    return x\n",
        "    print(\"vais-je être affiché ?\")\n",
        "    \n",
        "test(3)"
      ],
      "id": "9f6ddb29"
    },
    {
      "cell_type": "markdown",
      "metadata": {},
      "source": [
        "#### Renvoyer plusieurs résultats\n",
        "\n",
        "Une fonction renvoie par définition **un** résultat, qui peut être tout\n",
        "objet Python. Comment faire si l’on souhaite renvoyer plusieurs\n",
        "résultats ? On peut simplement enregistrer les différents résultats dans\n",
        "un conteneur (liste, tuple, dictionnaire, etc.), qui peut lui contenir\n",
        "un grand nombre d’objets."
      ],
      "id": "b863f550-cbb9-4a23-a8e8-7ddec4163241"
    },
    {
      "cell_type": "code",
      "execution_count": 22,
      "metadata": {},
      "outputs": [],
      "source": [
        "def calculs_mathematiques(a, b):\n",
        "    somme = a + b\n",
        "    difference = a - b\n",
        "    produit = a * b\n",
        "    return somme, difference, produit\n",
        "\n",
        "resultats = calculs_mathematiques(10, 5)\n",
        "\n",
        "print(resultats)\n",
        "type(resultats)"
      ],
      "id": "02569379"
    },
    {
      "cell_type": "markdown",
      "metadata": {},
      "source": [
        "Par défaut, les retours multiples sont des **tuples**.  \n",
        "Mais il est également possible de retourner une liste ou un\n",
        "dictionnaire."
      ],
      "id": "9564ab70-2b72-46df-822a-0885b2bc660e"
    },
    {
      "cell_type": "code",
      "execution_count": 23,
      "metadata": {},
      "outputs": [],
      "source": [
        "def puissance_liste(a):\n",
        "    return [a**2, a**3]\n",
        "\n",
        "puissance_liste(4)"
      ],
      "id": "93351c21"
    },
    {
      "cell_type": "code",
      "execution_count": 24,
      "metadata": {},
      "outputs": [],
      "source": [
        "def puissance_dico(nombre):\n",
        "    carre = nombre ** 2\n",
        "    cube = nombre ** 3\n",
        "    return {\"carre\": a**2, \"cube\": a**3}\n",
        "\n",
        "puissance_dico(4)"
      ],
      "id": "ed78fd0c"
    },
    {
      "cell_type": "markdown",
      "metadata": {},
      "source": [
        "### 1.3 Lambda fonctions\n",
        "\n",
        "Il existe une autre manière concise de définir une fonction simple, la\n",
        "**lambda** fonction."
      ],
      "id": "76fd447c-acc7-46e6-ae4f-ddff688ad084"
    },
    {
      "cell_type": "code",
      "execution_count": 25,
      "metadata": {},
      "outputs": [],
      "source": [
        "carre = lambda x: x**2\n",
        "\n",
        "carre(6)"
      ],
      "id": "97b1a418"
    },
    {
      "cell_type": "markdown",
      "metadata": {},
      "source": [
        "------------------------------------------------------------------------\n",
        "\n",
        "## 2 Exercices\n",
        "\n",
        "### 2.1 Exercice 1\n",
        "\n",
        "Créer une fonction `puissance` qui prend en entrée deux nombres `x` et\n",
        "`y` et renvoie la fonction puissance $x^y$."
      ],
      "id": "7df5b807-f48a-439d-9754-7307387a526d"
    },
    {
      "cell_type": "code",
      "execution_count": 26,
      "metadata": {
        "tags": []
      },
      "outputs": [],
      "source": [
        "# Testez votre réponse dans cette cellule"
      ],
      "id": "a8a02279"
    },
    {
      "cell_type": "markdown",
      "metadata": {},
      "source": [
        "### 2.2 Exercice 2\n",
        "\n",
        "Écrire une fonction `statistiques_descriptives` qui :\n",
        "\n",
        "-   prend en entrée une liste de nombre\n",
        "-   renvoie la moyenne et la variance"
      ],
      "id": "3de61ded-83e1-47a1-829d-a711acba83bf"
    },
    {
      "cell_type": "code",
      "execution_count": 27,
      "metadata": {
        "tags": []
      },
      "outputs": [],
      "source": [
        "# Testez votre réponse dans cette cellule"
      ],
      "id": "7cff69ce"
    },
    {
      "cell_type": "markdown",
      "metadata": {},
      "source": [
        "### 2.3 Exercice 3\n",
        "\n",
        "Écrire une fonction `est_pair` qui :\n",
        "\n",
        "-   prend en entrée un paramètre\n",
        "-   retourne un booléen pour dire si ce paramètre est pair\n",
        "\n",
        "Ajouter un test pour vérifier que le paramètre est un entier."
      ],
      "id": "677402b9-e188-4a9b-813f-069e0b5f84d4"
    },
    {
      "cell_type": "code",
      "execution_count": 28,
      "metadata": {},
      "outputs": [],
      "source": [
        "# Testez votre réponse dans cette cellule"
      ],
      "id": "5cae0f3a"
    },
    {
      "cell_type": "markdown",
      "metadata": {},
      "source": [
        "### 2.4 Exercice 4\n",
        "\n",
        "Écrire une fonction qui :\n",
        "\n",
        "-   prend en entrée une liste d’éléments quelconques\n",
        "-   renvoie une nouvelle liste constituée des éléments uniques de la\n",
        "    liste initiale\n",
        "-   permet via un paramètre optionnel de trier ou non la liste finale\n",
        "    par ordre alphanumérique (le comportement par défaut est de ne pas\n",
        "    trier)."
      ],
      "id": "572cc90b-8c95-42ab-8380-f3904709dce3"
    },
    {
      "cell_type": "code",
      "execution_count": 29,
      "metadata": {
        "tags": []
      },
      "outputs": [],
      "source": [
        "# Testez votre réponse dans cette cellule"
      ],
      "id": "870bd8a8"
    },
    {
      "cell_type": "markdown",
      "metadata": {},
      "source": [
        "### 2.5 Exercice 5\n",
        "\n",
        "Les fonctions récursives sont des fonctions qui s’appellent elles-mêmes\n",
        "dans le corps de la fonction, ce qui entraîne des appels infinis jusqu’à\n",
        "atteindre un critère d’arrêt (voir exemple du triangle de Pascal\n",
        "ci-dessous).\n",
        "\n",
        "Coder de manière récursive la fonction **factoriel**."
      ],
      "id": "52f2276d-4b1f-4b43-8e3d-1530d951a6be"
    },
    {
      "cell_type": "code",
      "execution_count": 30,
      "metadata": {},
      "outputs": [],
      "source": [
        "def triangle_pascal(n):\n",
        "    if n == 0:\n",
        "        return [[1]]                                          # Condition d'arrêt\n",
        "    else:\n",
        "        triangle = triangle_pascal(n - 1)                     # Appel récursif pour obtenir les lignes précédentes\n",
        "        prev_row = triangle[-1]                               # Récupérer la dernière ligne générée\n",
        "        new_row = [1]                                         # Premier élément de la nouvelle ligne\n",
        "        # Calculer les éléments de la nouvelle ligne\n",
        "        for i in range(len(prev_row) - 1):\n",
        "            new_row.append(prev_row[i] + prev_row[i + 1])  \n",
        "        new_row.append(1)                                     # Dernier élément de la nouvelle ligne\n",
        "        triangle.append(new_row)                              # Ajouter la nouvelle ligne au triangle\n",
        "        return triangle\n",
        "\n",
        "print('\\n'.join(['\\t'.join(map(str, row)) for row in triangle_pascal(10)]))"
      ],
      "id": "d3828542"
    },
    {
      "cell_type": "code",
      "execution_count": 31,
      "metadata": {
        "tags": []
      },
      "outputs": [],
      "source": [
        "# Testez votre réponse dans cette cellule"
      ],
      "id": "cde38441"
    },
    {
      "cell_type": "markdown",
      "metadata": {},
      "source": [
        "### 2.6 Exercice 6\n",
        "\n",
        "Écrire une fonction `appliquer_fonction_liste` qui :\n",
        "\n",
        "-   prend en paramètre :\n",
        "    -   une liste d’entiers\n",
        "    -   une fonction\n",
        "-   retourne la liste à laquelle on a appliqué la fonction\n",
        "\n",
        "Exemple :\n",
        "\n",
        "`appliquer_fonction_liste([1, 2, 3, 4], lambda x: x**2)` -\\>\n",
        "`[1, 4, 9, 16]`"
      ],
      "id": "4264b861-bc89-4e0d-a5b8-73227283ef7c"
    },
    {
      "cell_type": "code",
      "execution_count": 32,
      "metadata": {},
      "outputs": [],
      "source": [
        "# Testez votre réponse dans cette cellule"
      ],
      "id": "9d5a9ec3"
    }
  ],
  "nbformat": 4,
  "nbformat_minor": 5,
  "metadata": {
    "kernelspec": {
      "name": "python3",
      "display_name": "Python 3 (ipykernel)",
      "language": "python",
      "path": "/opt/hostedtoolcache/Python/3.10.14/x64/share/jupyter/kernels/python3"
    },
    "language_info": {
      "name": "python",
      "codemirror_mode": {
        "name": "ipython",
        "version": "3"
      },
      "file_extension": ".py",
      "mimetype": "text/x-python",
      "nbconvert_exporter": "python",
      "pygments_lexer": "ipython3",
      "version": "3.10.14"
    }
  }
}