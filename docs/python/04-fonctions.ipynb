{
  "cells": [
    {
      "cell_type": "markdown",
      "metadata": {},
      "source": [
        "# Les fonctions\n",
        "\n",
        "Ludovic Deneuville\n",
        "\n",
        "## Avant de commencer\n",
        "\n",
        "-   Téléchargez ce\n",
        "    <a href=\"04-fonctions.ipynb\" target=\"_blank\">notebook Jupyter</a>\n",
        "-   Importez le fichier .ipynb dans\n",
        "    <a href=\"https://jupyther.ensai.fr/\" class=\"external\"\n",
        "    target=\"_blank\">Jupyter</a>\n",
        "\n",
        "## 1 Fonctions\n",
        "\n",
        "L’idée d’une fonction est de regrouper ensemble des morceaux de codes\n",
        "qui pourraient être utilisés à plusieurs endroits de votre programme.  \n",
        "Utiliser des fonctions est une bonne pratique :\n",
        "\n",
        "-   cela réduit la duplication du code\n",
        "-   cela permet de mieux structurer le code et le rendre plus clair\n",
        "\n",
        "Une fonction est composée de :\n",
        "\n",
        "-   un ensemble de paramètres\n",
        "-   des instructions qui utilisent les paramètres\n",
        "-   retourne ou affiche un résultat\n",
        "\n",
        "Le mot clé **def** sert à définir une fonction.  \n",
        "Voici un exemple de fonction :\n",
        "\n",
        "-   Nom de la fonction : ma_fonction\n",
        "-   Paramètres : 2 paramètres p1 et p2\n",
        "-   Sortie : résultat de l’opération p1 x p2 + p1 + 5"
      ],
      "id": "480d8845-6887-43ec-adf6-5d1c7b228809"
    },
    {
      "cell_type": "code",
      "execution_count": 1,
      "metadata": {},
      "outputs": [],
      "source": [
        "def ma_fonction(p1, p2):\n",
        "    resultat = p1 * p2 + p1 + 5\n",
        "    return resultat"
      ],
      "id": "9c387204"
    },
    {
      "cell_type": "markdown",
      "metadata": {},
      "source": [
        "Maintenant que notre fonction est définie, nous pouvons l’appeler autant\n",
        "de fois que nous le souhaitons"
      ],
      "id": "892dbdf1-ef9c-487f-85c9-16d111a51dbf"
    },
    {
      "cell_type": "code",
      "execution_count": 2,
      "metadata": {},
      "outputs": [],
      "source": [
        "ma_fonction(2, 6)"
      ],
      "id": "21d5579e"
    },
    {
      "cell_type": "code",
      "execution_count": 3,
      "metadata": {},
      "outputs": [],
      "source": [
        "ma_fonction(5, 1) + ma_fonction(8, 2)"
      ],
      "id": "4813fb10"
    },
    {
      "cell_type": "markdown",
      "metadata": {},
      "source": [
        "### 1.1 Arguments\n",
        "\n",
        "Les **arguments** sont les paramètres de la fonction.  \n",
        "Lorsqu’on appelle une fonction en lui spécifiant des arguments, on dit\n",
        "qu’on lui « passe » des arguments.  \n",
        "Ces arguments deviennent alors des **variables** qui peuvent être\n",
        "utilisées uniquement à l’intérieur de la fonction."
      ],
      "id": "5f986f3f-26ac-4c99-8713-14021d06a514"
    },
    {
      "cell_type": "code",
      "execution_count": 4,
      "metadata": {},
      "outputs": [],
      "source": [
        "def maximum(a, b):\n",
        "    if a > b:\n",
        "        resultat = a\n",
        "    else:\n",
        "        resultat = b\n",
        "    return resultat"
      ],
      "id": "8de6fb91"
    },
    {
      "cell_type": "code",
      "execution_count": 5,
      "metadata": {},
      "outputs": [],
      "source": [
        "maximum(1, 5)"
      ],
      "id": "f3efbe91"
    },
    {
      "cell_type": "markdown",
      "metadata": {},
      "source": [
        "À l’extérieur des fonctions, les arguments n’existent plus et ne sont\n",
        "plus connus."
      ],
      "id": "ccc20edf-c09f-4e05-bc6b-570ad69eee27"
    },
    {
      "cell_type": "code",
      "execution_count": 6,
      "metadata": {},
      "outputs": [],
      "source": [
        "a"
      ],
      "id": "6a4e1991"
    },
    {
      "cell_type": "markdown",
      "metadata": {},
      "source": [
        "#### Passage par position et passage par mot-clé\n",
        "\n",
        "En Python, les fonctions admettent deux modes de passage des arguments :\n",
        "\n",
        "-   le **passage par position** : les arguments sont passés dans l’ordre\n",
        "    dans lequel ils ont été définis\n",
        "-   le **passage par mot-clé** : on précise le nom du paramètre lors du\n",
        "    passage de l’argument\n",
        "\n",
        "Illustrons cette différence à partir d’une fonction qui réalise\n",
        "simplement une division."
      ],
      "id": "132f72da-de51-4e3a-af08-d8c24fb4d1cd"
    },
    {
      "cell_type": "code",
      "execution_count": 7,
      "metadata": {},
      "outputs": [],
      "source": [
        "def division(x, y):\n",
        "    if y == 0:\n",
        "        print(\"ERREUR : Division par 0 impossible\")\n",
        "    else:\n",
        "        return x / y"
      ],
      "id": "d56605df"
    },
    {
      "cell_type": "code",
      "execution_count": 8,
      "metadata": {},
      "outputs": [],
      "source": [
        "# Passage par position\n",
        "division(8, 2)  "
      ],
      "id": "491f53bf"
    },
    {
      "cell_type": "code",
      "execution_count": 9,
      "metadata": {},
      "outputs": [],
      "source": [
        "# Passage par mot-clé\n",
        "division(x=8, y=2)  "
      ],
      "id": "4425b7df"
    },
    {
      "cell_type": "markdown",
      "metadata": {},
      "source": [
        "Dans le cas du passage par position, le respect de l’ordre est\n",
        "impératif."
      ],
      "id": "85c679b2-e529-46da-a439-cee48a607c50"
    },
    {
      "cell_type": "code",
      "execution_count": 10,
      "metadata": {},
      "outputs": [],
      "source": [
        "print(division(0, 5))\n",
        "print(division(5, 0))"
      ],
      "id": "67664d46"
    },
    {
      "cell_type": "markdown",
      "metadata": {},
      "source": [
        "Nous remarquons que s’affiche **None** ci-dessus.  \n",
        "L’explication est que lorsque l’on passe dans la partie de code\n",
        "`if y == 0`, il n’y a pas de **return**.  \n",
        "Donc par défaut la méthode renvoie **None**, ce qui représente l’absence\n",
        "de valeur.\n",
        "\n",
        "Dans le cas du passage par mot-clé, l’ordre n’a plus d’importance."
      ],
      "id": "80ccb987-a1c8-4084-bd16-c7f827a96e9a"
    },
    {
      "cell_type": "code",
      "execution_count": 11,
      "metadata": {},
      "outputs": [],
      "source": [
        "print(division(x=0, y=5))\n",
        "print(division(y=5, x=0))"
      ],
      "id": "8b17e575"
    },
    {
      "cell_type": "markdown",
      "metadata": {},
      "source": [
        "#### Arguments obligatoires et arguments optionnels\n",
        "\n",
        "Lorsqu’on définit une fonction, il est fréquent de vouloir faire\n",
        "cohabiter :\n",
        "\n",
        "-   des arguments que doit absolument spécifier l’utilisateur\n",
        "-   des arguments optionnels qui spécifient un comportement par défaut\n",
        "    de la fonction, mais peuvent également être modifiés si nécessaire\n",
        "\n",
        "Regardons par exemple comment on peut modifier le comportement de la\n",
        "fonction `print` à l’aide d’un argument optionnel."
      ],
      "id": "9365baaa-5c55-4408-9999-d33b51638f5f"
    },
    {
      "cell_type": "code",
      "execution_count": 12,
      "metadata": {},
      "outputs": [],
      "source": [
        "print(\"salut\")\n",
        "print(\"salut\")"
      ],
      "id": "dd5cf47d"
    },
    {
      "cell_type": "code",
      "execution_count": 13,
      "metadata": {},
      "outputs": [],
      "source": [
        "print(\"salut\", end=' ')\n",
        "print(\"salut\")"
      ],
      "id": "683f7f4d"
    },
    {
      "cell_type": "markdown",
      "metadata": {},
      "source": [
        "Nous avons modifié le comportement du premier appel à **print** via le\n",
        "paramètre optionnel **end**.  \n",
        "Par défaut, cette valeur est fixée à `'\\n'`, soit un retour à la\n",
        "ligne.  \n",
        "Nous l’avons modifié dans la deuxième cellule à un espace, d’où la\n",
        "différence de résultat.\n",
        "\n",
        "Nous allons maintenant créer une fonction avec un argument optionnel.  \n",
        "Pour expliquer le comportement de cette méthode, une documentation a été\n",
        "ajoutée entre les caractères `'''`."
      ],
      "id": "16230ff1-c609-4323-aa2a-74940a57cec8"
    },
    {
      "cell_type": "code",
      "execution_count": 14,
      "metadata": {},
      "outputs": [],
      "source": [
        "def note_finale(note1, note2, bonus=0):\n",
        "    '''Fonction d'ajout de 2 notes\n",
        "    Parameters\n",
        "    ----------\n",
        "        note1 : float\n",
        "            la première note\n",
        "        note2 : float\n",
        "            la deuxième note\n",
        "        bonus : float\n",
        "            un bonus (optionnel, par défaut égal à 0)\n",
        "    Returns\n",
        "    -------\n",
        "        float : sommes des 2 notes et du bonus\n",
        "    '''\n",
        "    return note1 + note2 + bonus"
      ],
      "id": "9e09dbc5"
    },
    {
      "cell_type": "code",
      "execution_count": 15,
      "metadata": {},
      "outputs": [],
      "source": [
        "# Comportement par défaut (bonus=0)\n",
        "note_finale(8.5, 7)  "
      ],
      "id": "622460a9"
    },
    {
      "cell_type": "code",
      "execution_count": 16,
      "metadata": {},
      "outputs": [],
      "source": [
        "# Comportement modifié\n",
        "note_finale(8.5, 7, bonus = 2)  "
      ],
      "id": "a85c32cd"
    },
    {
      "cell_type": "markdown",
      "metadata": {},
      "source": [
        "#### Bonus : nombre d’arguments variable\n",
        "\n",
        "-   La notation `*args` permet à une fonction de recevoir un nombre\n",
        "    variable d’arguments positionnels\n",
        "-   La notation `**kwargs` permet à une fonction de recevoir un nombre\n",
        "    variable d’arguments clé-valeur"
      ],
      "id": "37479b43-88ad-403b-bbe7-5a65f094ca3e"
    },
    {
      "cell_type": "code",
      "execution_count": 17,
      "metadata": {},
      "outputs": [],
      "source": [
        "# Exemple d'utilisation de args\n",
        "\n",
        "def moyenne(*args):\n",
        "    somme = 0\n",
        "    nb = 0\n",
        "    for a in args:\n",
        "        somme += a\n",
        "        nb += 1\n",
        "    print(f\"Moyenne de {args} : {somme / nb}\")\n",
        "\n",
        "moyenne(10, 15)\n",
        "moyenne(8, 20, 16, 12)"
      ],
      "id": "ebc79ca1"
    },
    {
      "cell_type": "code",
      "execution_count": 18,
      "metadata": {},
      "outputs": [],
      "source": [
        "# Exemple d'utilisation de kwargs\n",
        "\n",
        "def recette(**kwargs):\n",
        "    for a in kwargs:\n",
        "        # get argument name\n",
        "        arg_name = a\n",
        "        # get argument value\n",
        "        arg_value = kwargs[arg_name]\n",
        "        print(arg_name, \" = \", arg_value)\n",
        "    \n",
        "    \n",
        "recette(tomate=2, farine=\"100g\", sel=True)"
      ],
      "id": "9b15c5cb"
    },
    {
      "cell_type": "markdown",
      "metadata": {},
      "source": [
        "### 1.2 Résultats\n",
        "\n",
        "#### Principe\n",
        "\n",
        "On a vu :\n",
        "\n",
        "-   que toute fonction renvoie un résultat en sortie\n",
        "-   que l’instruction `return` permet de spécifier ce résultat\n",
        "\n",
        "Lorsque la fonction est appelée, elle est évaluée à la valeur spécifiée\n",
        "par `return`, et cette valeur peut alors être récupérée dans une\n",
        "variable et utilisée dans des calculs ultérieurs, et ainsi de suite."
      ],
      "id": "9db84abf-0984-4103-b362-60661c307b6a"
    },
    {
      "cell_type": "code",
      "execution_count": 19,
      "metadata": {},
      "outputs": [],
      "source": [
        "def division(x, y):\n",
        "    return x / y"
      ],
      "id": "4fecbf72"
    },
    {
      "cell_type": "code",
      "execution_count": 20,
      "metadata": {},
      "outputs": [],
      "source": [
        "a = division(4, 2)\n",
        "b = division(9, 3)\n",
        "division(a, b)  # 2 / 3"
      ],
      "id": "dcb88c00"
    },
    {
      "cell_type": "markdown",
      "metadata": {},
      "source": [
        "**Remarque importante** : lorsqu’une instruction return est atteinte\n",
        "dans une fonction, le reste de la fonction n’est pas exécuté."
      ],
      "id": "083305aa-851b-444a-8f47-79afef4165ad"
    },
    {
      "cell_type": "code",
      "execution_count": 21,
      "metadata": {},
      "outputs": [],
      "source": [
        "def test(x):\n",
        "    return x\n",
        "    print(\"vais-je être affiché ?\")\n",
        "    \n",
        "test(3)"
      ],
      "id": "2b319a06"
    },
    {
      "cell_type": "markdown",
      "metadata": {},
      "source": [
        "#### Renvoyer plusieurs résultats\n",
        "\n",
        "Une fonction renvoie par définition **un** résultat, qui peut être tout\n",
        "objet Python. Comment faire si l’on souhaite renvoyer plusieurs\n",
        "résultats ? On peut simplement enregistrer les différents résultats dans\n",
        "un conteneur (liste, tuple, dictionnaire, etc.), qui peut lui contenir\n",
        "un grand nombre d’objets."
      ],
      "id": "31c7a281-5866-4bc1-9c75-11e2075cd6d7"
    },
    {
      "cell_type": "code",
      "execution_count": 22,
      "metadata": {},
      "outputs": [],
      "source": [
        "def calculs_mathematiques(a, b):\n",
        "    somme = a + b\n",
        "    difference = a - b\n",
        "    produit = a * b\n",
        "    return somme, difference, produit\n",
        "\n",
        "resultats = calculs_mathematiques(10, 5)\n",
        "\n",
        "print(resultats)\n",
        "type(resultats)"
      ],
      "id": "daecf192"
    },
    {
      "cell_type": "markdown",
      "metadata": {},
      "source": [
        "Par défaut, les retours multiples sont des **tuples**.  \n",
        "Mais il est également possible de retourner une liste ou un\n",
        "dictionnaire."
      ],
      "id": "3dd8cd2d-b2c9-4b56-b953-d0dde2499cc4"
    },
    {
      "cell_type": "code",
      "execution_count": 23,
      "metadata": {},
      "outputs": [],
      "source": [
        "def puissance_liste(a):\n",
        "    return [a**2, a**3]\n",
        "\n",
        "puissance_liste(4)"
      ],
      "id": "3c379be7"
    },
    {
      "cell_type": "code",
      "execution_count": 24,
      "metadata": {},
      "outputs": [],
      "source": [
        "def puissance_dico(nombre):\n",
        "    carre = nombre ** 2\n",
        "    cube = nombre ** 3\n",
        "    return {\"carre\": a**2, \"cube\": a**3}\n",
        "\n",
        "puissance_dico(4)"
      ],
      "id": "f8437c21"
    },
    {
      "cell_type": "markdown",
      "metadata": {},
      "source": [
        "### 1.3 Lambda fonctions\n",
        "\n",
        "Il existe une autre manière concise de définir une fonction simple, la\n",
        "**lambda** fonction."
      ],
      "id": "9fc05cc3-ee59-459f-872a-54e15c655339"
    },
    {
      "cell_type": "code",
      "execution_count": 25,
      "metadata": {},
      "outputs": [],
      "source": [
        "carre = lambda x: x**2\n",
        "\n",
        "carre(6)"
      ],
      "id": "9c8dbb4b"
    },
    {
      "cell_type": "markdown",
      "metadata": {},
      "source": [
        "------------------------------------------------------------------------\n",
        "\n",
        "## 2 Exercices\n",
        "\n",
        "### 2.1 Exercice 1\n",
        "\n",
        "Créer une fonction `puissance` qui prend en entrée deux nombres `x` et\n",
        "`y` et renvoie la fonction puissance $x^y$."
      ],
      "id": "edeea726-c1a6-4e77-a67c-6fdb8fb92d37"
    },
    {
      "cell_type": "code",
      "execution_count": 26,
      "metadata": {
        "tags": []
      },
      "outputs": [],
      "source": [
        "# Testez votre réponse dans cette cellule"
      ],
      "id": "1ede2dac"
    },
    {
      "cell_type": "markdown",
      "metadata": {},
      "source": [
        "### 2.2 Exercice 2\n",
        "\n",
        "Écrire une fonction `statistiques_descriptives` qui :\n",
        "\n",
        "-   prend en entrée une liste de nombre\n",
        "-   renvoie la moyenne et la variance"
      ],
      "id": "749c38f5-2bc1-45a2-b684-5a6f708b1ae9"
    },
    {
      "cell_type": "code",
      "execution_count": 27,
      "metadata": {
        "tags": []
      },
      "outputs": [],
      "source": [
        "# Testez votre réponse dans cette cellule"
      ],
      "id": "4021c1c1"
    },
    {
      "cell_type": "markdown",
      "metadata": {},
      "source": [
        "### 2.3 Exercice 3\n",
        "\n",
        "Écrire une fonction `est_pair` qui :\n",
        "\n",
        "-   prend en entrée un paramètre\n",
        "-   retourne un booléen pour dire si ce paramètre est pair\n",
        "\n",
        "Ajouter un test pour vérifier que le paramètre est un entier."
      ],
      "id": "eb2ffd5e-cf0f-48ca-9799-6a050a76ac2c"
    },
    {
      "cell_type": "code",
      "execution_count": 28,
      "metadata": {},
      "outputs": [],
      "source": [
        "# Testez votre réponse dans cette cellule"
      ],
      "id": "78c17ce0"
    },
    {
      "cell_type": "markdown",
      "metadata": {},
      "source": [
        "### 2.4 Exercice 4\n",
        "\n",
        "Écrire une fonction qui :\n",
        "\n",
        "-   prend en entrée une liste d’éléments quelconques\n",
        "-   renvoie une nouvelle liste constituée des éléments uniques de la\n",
        "    liste initiale\n",
        "-   permet via un paramètre optionnel de trier ou non la liste finale\n",
        "    par ordre alphanumérique (le comportement par défaut est de ne pas\n",
        "    trier)."
      ],
      "id": "69144f39-8a4b-426c-a80b-87bc26696b01"
    },
    {
      "cell_type": "code",
      "execution_count": 29,
      "metadata": {
        "tags": []
      },
      "outputs": [],
      "source": [
        "# Testez votre réponse dans cette cellule"
      ],
      "id": "fb6cc1c8"
    },
    {
      "cell_type": "markdown",
      "metadata": {},
      "source": [
        "### 2.5 Exercice 5\n",
        "\n",
        "Les fonctions récursives sont des fonctions qui s’appellent elles-mêmes\n",
        "dans le corps de la fonction, ce qui entraîne des appels infinis jusqu’à\n",
        "atteindre un critère d’arrêt (voir exemple du triangle de Pascal\n",
        "ci-dessous).\n",
        "\n",
        "Coder de manière récursive la fonction **factoriel**."
      ],
      "id": "555c8032-809c-42a6-b5ba-01c5cf1b72b5"
    },
    {
      "cell_type": "code",
      "execution_count": 30,
      "metadata": {},
      "outputs": [],
      "source": [
        "def triangle_pascal(n):\n",
        "    if n == 0:\n",
        "        return [[1]]                                          # Condition d'arrêt\n",
        "    else:\n",
        "        triangle = triangle_pascal(n - 1)                     # Appel récursif pour obtenir les lignes précédentes\n",
        "        prev_row = triangle[-1]                               # Récupérer la dernière ligne générée\n",
        "        new_row = [1]                                         # Premier élément de la nouvelle ligne\n",
        "        # Calculer les éléments de la nouvelle ligne\n",
        "        for i in range(len(prev_row) - 1):\n",
        "            new_row.append(prev_row[i] + prev_row[i + 1])  \n",
        "        new_row.append(1)                                     # Dernier élément de la nouvelle ligne\n",
        "        triangle.append(new_row)                              # Ajouter la nouvelle ligne au triangle\n",
        "        return triangle\n",
        "\n",
        "print('\\n'.join(['\\t'.join(map(str, row)) for row in triangle_pascal(10)]))"
      ],
      "id": "70cc4b22"
    },
    {
      "cell_type": "code",
      "execution_count": 31,
      "metadata": {
        "tags": []
      },
      "outputs": [],
      "source": [
        "# Testez votre réponse dans cette cellule"
      ],
      "id": "ddbbc3d5"
    },
    {
      "cell_type": "markdown",
      "metadata": {},
      "source": [
        "### 2.6 Exercice 6\n",
        "\n",
        "Écrire une fonction `appliquer_fonction_liste` qui :\n",
        "\n",
        "-   prend en paramètre :\n",
        "    -   une liste d’entiers\n",
        "    -   une fonction\n",
        "-   retourne la liste à laquelle on a appliqué la fonction\n",
        "\n",
        "Exemple :  \n",
        "appliquer_fonction_liste(\\[1, 2, 3, 4\\], lambda x: x\\*\\*2) -\\> \\[1, 4,\n",
        "9, 16\\]"
      ],
      "id": "01ef702c-f3bd-4f83-80f9-19f2832a97fb"
    },
    {
      "cell_type": "code",
      "execution_count": 32,
      "metadata": {},
      "outputs": [],
      "source": [
        "# Testez votre réponse dans cette cellule"
      ],
      "id": "8836d318"
    }
  ],
  "nbformat": 4,
  "nbformat_minor": 5,
  "metadata": {
    "kernelspec": {
      "name": "python3",
      "display_name": "Python 3 (ipykernel)",
      "language": "python"
    },
    "language_info": {
      "name": "python",
      "codemirror_mode": {
        "name": "ipython",
        "version": "3"
      },
      "file_extension": ".py",
      "mimetype": "text/x-python",
      "nbconvert_exporter": "python",
      "pygments_lexer": "ipython3",
      "version": "3.10.14"
    }
  }
}