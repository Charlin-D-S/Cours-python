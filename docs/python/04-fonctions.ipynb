{
  "cells": [
    {
      "cell_type": "markdown",
      "metadata": {},
      "source": [
        "# Les fonctions\n",
        "\n",
        "Ludovic Deneuville\n",
        "\n",
        "## Avant de commencer\n",
        "\n",
        "-   Téléchargez ce\n",
        "    <a href=\"04-fonctions.ipynb\" target=\"_blank\">notebook Jupyter</a>\n",
        "-   Connectez-vous au\n",
        "    <a href=\"https://jupyther.ensai.fr/\" target=\"_blank\">Jupyter</a>\n",
        "    ENSAI avec id et mot de passe\n",
        "    -   ou une autre plate-forme (SSPCloud, Jupyter Lab, Google Colab,\n",
        "        Kaggle…)\n",
        "-   Importez le fichier .ipynb\n",
        "\n",
        "## 1 Fonctions\n",
        "\n",
        "L’idée d’une fonction est de regrouper ensemble des morceaux de codes\n",
        "qui pourraient être utilisés à plusieurs endroits de votre programme.  \n",
        "Utiliser des fonctions est une bonne pratique :\n",
        "\n",
        "-   cela réduit la duplication du code\n",
        "-   cela permet de mieux structurer le code et le rendre plus clair\n",
        "\n",
        "Une fonction est composée de :\n",
        "\n",
        "-   un ensemble de paramètres\n",
        "-   des instructions qui utilisent les paramètres\n",
        "-   retourne ou affiche un résultat\n",
        "\n",
        "Le mot clé **def** sert à définir une fonction.  \n",
        "Voici un exemple de fonction :\n",
        "\n",
        "-   Nom de la fonction : ma_fonction\n",
        "-   Paramètres : 2 paramètres p1 et p2\n",
        "-   Sortie : résultat de l’opération p1 x p2 + p1 + 5"
      ],
      "id": "f9fea7bc-5f75-4d90-bc03-fc57f38c209a"
    },
    {
      "cell_type": "code",
      "execution_count": 1,
      "metadata": {},
      "outputs": [],
      "source": [
        "def ma_fonction(p1, p2):\n",
        "    resultat = p1 * p2 + p1 + 5\n",
        "    return resultat"
      ],
      "id": "0ee7380a"
    },
    {
      "cell_type": "markdown",
      "metadata": {},
      "source": [
        "Maintenant que notre fonction est définie, nous pouvons l’appeler autant\n",
        "de fois que nous le souhaitons"
      ],
      "id": "4209ba15-6e63-49f5-86bc-f3c9a88ce8f3"
    },
    {
      "cell_type": "code",
      "execution_count": 2,
      "metadata": {},
      "outputs": [],
      "source": [
        "ma_fonction(2, 6)"
      ],
      "id": "374be7a2"
    },
    {
      "cell_type": "code",
      "execution_count": 3,
      "metadata": {},
      "outputs": [],
      "source": [
        "ma_fonction(5, 1) + ma_fonction(8, 2)"
      ],
      "id": "65d15aef"
    },
    {
      "cell_type": "markdown",
      "metadata": {},
      "source": [
        "### 1.1 Arguments\n",
        "\n",
        "Les **arguments** sont les paramètres de la fonction.  \n",
        "Lorsqu’on appelle une fonction en lui spécifiant des arguments, on dit\n",
        "qu’on lui « passe » des arguments.  \n",
        "Ces arguments deviennent alors des **variables** qui peuvent être\n",
        "utilisées uniquement à l’intérieur de la fonction."
      ],
      "id": "dbc0d00f-332e-4038-bec7-aff94f66f2df"
    },
    {
      "cell_type": "code",
      "execution_count": 4,
      "metadata": {},
      "outputs": [],
      "source": [
        "def maximum(a, b):\n",
        "    if a > b:\n",
        "        resultat = a\n",
        "    else:\n",
        "        resultat = b\n",
        "    return resultat"
      ],
      "id": "5625982c"
    },
    {
      "cell_type": "code",
      "execution_count": 5,
      "metadata": {},
      "outputs": [],
      "source": [
        "maximum(1, 5)"
      ],
      "id": "0d587025"
    },
    {
      "cell_type": "markdown",
      "metadata": {},
      "source": [
        "À l’extérieur des fonctions, les arguments n’existent plus et ne sont\n",
        "plus connus."
      ],
      "id": "436378a2-d22f-4f7b-b4e9-0bbafb21581a"
    },
    {
      "cell_type": "code",
      "execution_count": 6,
      "metadata": {},
      "outputs": [],
      "source": [
        "a"
      ],
      "id": "e723e1f5"
    },
    {
      "cell_type": "markdown",
      "metadata": {},
      "source": [
        "#### Passage par position et passage par mot-clé\n",
        "\n",
        "En Python, les fonctions admettent deux modes de passage des arguments :\n",
        "\n",
        "-   le **passage par position** : les arguments sont passés dans l’ordre\n",
        "    dans lequel ils ont été définis\n",
        "-   le **passage par mot-clé** : on précise le nom du paramètre lors du\n",
        "    passage de l’argument\n",
        "\n",
        "Illustrons cette différence à partir d’une fonction qui réalise\n",
        "simplement une division."
      ],
      "id": "b2ad9ec4-abbe-4000-b3fe-0b73bfaf300a"
    },
    {
      "cell_type": "code",
      "execution_count": 7,
      "metadata": {},
      "outputs": [],
      "source": [
        "def division(x, y):\n",
        "    if y == 0:\n",
        "        print(\"ERREUR : Division par 0 impossible\")\n",
        "    else:\n",
        "        return x / y"
      ],
      "id": "b9906b37"
    },
    {
      "cell_type": "code",
      "execution_count": 8,
      "metadata": {},
      "outputs": [],
      "source": [
        "# Passage par position\n",
        "division(8, 2)  "
      ],
      "id": "56591baf"
    },
    {
      "cell_type": "code",
      "execution_count": 9,
      "metadata": {},
      "outputs": [],
      "source": [
        "# Passage par mot-clé\n",
        "division(x=8, y=2)  "
      ],
      "id": "8e0977bf"
    },
    {
      "cell_type": "markdown",
      "metadata": {},
      "source": [
        "Dans le cas du passage par position, le respect de l’ordre est\n",
        "impératif."
      ],
      "id": "b400fb4d-96e2-4c5f-a36f-c0a31630f420"
    },
    {
      "cell_type": "code",
      "execution_count": 10,
      "metadata": {},
      "outputs": [],
      "source": [
        "print(division(0, 5))\n",
        "print(division(5, 0))"
      ],
      "id": "82033afa"
    },
    {
      "cell_type": "markdown",
      "metadata": {},
      "source": [
        "Nous remarquons que s’affiche **None** ci-dessus.  \n",
        "L’explication est que lorsque l’on passe dans la partie de code\n",
        "`if y == 0`, il n’y a pas de **return**.  \n",
        "Donc par défaut la méthode renvoie **None**, ce qui représente l’absence\n",
        "de valeur.\n",
        "\n",
        "Dans le cas du passage par mot-clé, l’ordre n’a plus d’importance."
      ],
      "id": "3ddec2d5-3751-4158-982d-9ba652bc8dc4"
    },
    {
      "cell_type": "code",
      "execution_count": 11,
      "metadata": {},
      "outputs": [],
      "source": [
        "print(division(x=0, y=5))\n",
        "print(division(y=5, x=0))"
      ],
      "id": "e35829a9"
    },
    {
      "cell_type": "markdown",
      "metadata": {},
      "source": [
        "#### Arguments obligatoires et arguments optionnels\n",
        "\n",
        "Lorsqu’on définit une fonction, il est fréquent de vouloir faire\n",
        "cohabiter :\n",
        "\n",
        "-   des arguments que doit absolument spécifier l’utilisateur\n",
        "-   des arguments optionnels qui spécifient un comportement par défaut\n",
        "    de la fonction, mais peuvent également être modifiés si nécessaire\n",
        "\n",
        "Regardons par exemple comment on peut modifier le comportement de la\n",
        "fonction `print` à l’aide d’un argument optionnel."
      ],
      "id": "b6fd5083-240b-471b-a8a9-87c39d5f1d7d"
    },
    {
      "cell_type": "code",
      "execution_count": 12,
      "metadata": {},
      "outputs": [],
      "source": [
        "print(\"salut\")\n",
        "print(\"salut\")"
      ],
      "id": "3a575089"
    },
    {
      "cell_type": "code",
      "execution_count": 13,
      "metadata": {},
      "outputs": [],
      "source": [
        "print(\"salut\", end=' ')\n",
        "print(\"salut\")"
      ],
      "id": "1bb4b38b"
    },
    {
      "cell_type": "markdown",
      "metadata": {},
      "source": [
        "Nous avons modifié le comportement du premier appel à **print** via le\n",
        "paramètre optionnel **end**.  \n",
        "Par défaut, cette valeur est fixée à `'\\n'`, soit un retour à la\n",
        "ligne.  \n",
        "Nous l’avons modifié dans la deuxième cellule à un espace, d’où la\n",
        "différence de résultat.\n",
        "\n",
        "Nous allons maintenant créer une fonction avec un argument optionnel.  \n",
        "Pour expliquer le comportement de cette méthode, une documentation a été\n",
        "ajoutée entre les caractères `'''`."
      ],
      "id": "f5660a99-5d3c-4076-8655-e4843098c4d6"
    },
    {
      "cell_type": "code",
      "execution_count": 14,
      "metadata": {},
      "outputs": [],
      "source": [
        "def note_finale(note1, note2, bonus=0):\n",
        "    '''Fonction d'ajout de 2 notes\n",
        "    Parameters\n",
        "    ----------\n",
        "        note1 : float\n",
        "            la première note\n",
        "        note2 : float\n",
        "            la deuxième note\n",
        "        bonus : float\n",
        "            un bonus (optionnel, par défaut égal à 0)\n",
        "    Returns\n",
        "    -------\n",
        "        float : sommes des 2 notes et du bonus\n",
        "    '''\n",
        "    return note1 + note2 + bonus"
      ],
      "id": "876b3978"
    },
    {
      "cell_type": "code",
      "execution_count": 15,
      "metadata": {},
      "outputs": [],
      "source": [
        "# Comportement par défaut (bonus=0)\n",
        "note_finale(8.5, 7)  "
      ],
      "id": "b41bc34d"
    },
    {
      "cell_type": "code",
      "execution_count": 16,
      "metadata": {},
      "outputs": [],
      "source": [
        "# Comportement modifié\n",
        "note_finale(8.5, 7, bonus = 2)  "
      ],
      "id": "d16ffc8e"
    },
    {
      "cell_type": "markdown",
      "metadata": {},
      "source": [
        "#### Bonus : nombre d’arguments variable\n",
        "\n",
        "-   La notation `*args` permet à une fonction de recevoir un nombre\n",
        "    variable d’arguments positionnels\n",
        "-   La notation `**kwargs` permet à une fonction de recevoir un nombre\n",
        "    variable d’arguments clé-valeur"
      ],
      "id": "3a8f8e01-8fe9-4f13-81a3-d1a00411e5bf"
    },
    {
      "cell_type": "code",
      "execution_count": 17,
      "metadata": {},
      "outputs": [],
      "source": [
        "# Exemple d'utilisation de args\n",
        "\n",
        "def moyenne(*args):\n",
        "    somme = 0\n",
        "    nb = 0\n",
        "    for a in args:\n",
        "        somme += a\n",
        "        nb += 1\n",
        "    print(f\"Moyenne de {args} : {somme / nb}\")\n",
        "\n",
        "moyenne(10, 15)\n",
        "moyenne(8, 20, 16, 12)"
      ],
      "id": "94dd04b8"
    },
    {
      "cell_type": "code",
      "execution_count": 18,
      "metadata": {},
      "outputs": [],
      "source": [
        "# Exemple d'utilisation de kwargs\n",
        "\n",
        "def recette(**kwargs):\n",
        "    for a in kwargs:\n",
        "        # get argument name\n",
        "        arg_name = a\n",
        "        # get argument value\n",
        "        arg_value = kwargs[arg_name]\n",
        "        print(arg_name, \" = \", arg_value)\n",
        "    \n",
        "    \n",
        "recette(tomate=2, farine=\"100g\", sel=True)"
      ],
      "id": "d7871927"
    },
    {
      "cell_type": "markdown",
      "metadata": {},
      "source": [
        "### 1.2 Résultats\n",
        "\n",
        "#### Principe\n",
        "\n",
        "On a vu :\n",
        "\n",
        "-   que toute fonction renvoie un résultat en sortie\n",
        "-   que l’instruction `return` permet de spécifier ce résultat\n",
        "\n",
        "Lorsque la fonction est appelée, elle est évaluée à la valeur spécifiée\n",
        "par `return`, et cette valeur peut alors être récupérée dans une\n",
        "variable et utilisée dans des calculs ultérieurs, et ainsi de suite."
      ],
      "id": "b4eea24f-b2b4-4aa2-8b05-19b3b029c42c"
    },
    {
      "cell_type": "code",
      "execution_count": 19,
      "metadata": {},
      "outputs": [],
      "source": [
        "def division(x, y):\n",
        "    return x / y"
      ],
      "id": "b0eaa544"
    },
    {
      "cell_type": "code",
      "execution_count": 20,
      "metadata": {},
      "outputs": [],
      "source": [
        "a = division(4, 2)\n",
        "b = division(9, 3)\n",
        "division(a, b)  # 2 / 3"
      ],
      "id": "f3205fa5"
    },
    {
      "cell_type": "markdown",
      "metadata": {},
      "source": [
        "**Remarque importante** : lorsqu’une instruction return est atteinte\n",
        "dans une fonction, le reste de la fonction n’est pas exécuté."
      ],
      "id": "272400e3-51ad-4696-8045-ece0a6111949"
    },
    {
      "cell_type": "code",
      "execution_count": 21,
      "metadata": {},
      "outputs": [],
      "source": [
        "def test(x):\n",
        "    return x\n",
        "    print(\"vais-je être affiché ?\")\n",
        "    \n",
        "test(3)"
      ],
      "id": "e26cf58f"
    },
    {
      "cell_type": "markdown",
      "metadata": {},
      "source": [
        "#### Renvoyer plusieurs résultats\n",
        "\n",
        "Une fonction renvoie par définition **un** résultat, qui peut être tout\n",
        "objet Python. Comment faire si l’on souhaite renvoyer plusieurs\n",
        "résultats ? On peut simplement enregistrer les différents résultats dans\n",
        "un conteneur (liste, tuple, dictionnaire, etc.), qui peut lui contenir\n",
        "un grand nombre d’objets."
      ],
      "id": "0f856792-7a05-43e7-9a1a-4d04a6309129"
    },
    {
      "cell_type": "code",
      "execution_count": 22,
      "metadata": {},
      "outputs": [],
      "source": [
        "def calculs_mathematiques(a, b):\n",
        "    somme = a + b\n",
        "    difference = a - b\n",
        "    produit = a * b\n",
        "    return somme, difference, produit\n",
        "\n",
        "resultats = calculs_mathematiques(10, 5)\n",
        "\n",
        "print(resultats)\n",
        "type(resultats)"
      ],
      "id": "36fe49c4"
    },
    {
      "cell_type": "markdown",
      "metadata": {},
      "source": [
        "Par défaut, les retours multiples sont des **tuples**.  \n",
        "Mais il est également possible de retourner une liste ou un\n",
        "dictionnaire."
      ],
      "id": "3f28eb79-8935-4094-af88-e28d1983e025"
    },
    {
      "cell_type": "code",
      "execution_count": 23,
      "metadata": {},
      "outputs": [],
      "source": [
        "def puissance_liste(a):\n",
        "    return [a**2, a**3]\n",
        "\n",
        "puissance_liste(4)"
      ],
      "id": "419e2165"
    },
    {
      "cell_type": "code",
      "execution_count": 24,
      "metadata": {},
      "outputs": [],
      "source": [
        "def puissance_dico(nombre):\n",
        "    carre = nombre ** 2\n",
        "    cube = nombre ** 3\n",
        "    return {\"carre\": a**2, \"cube\": a**3}\n",
        "\n",
        "puissance_dico(4)"
      ],
      "id": "e1eabe47"
    },
    {
      "cell_type": "markdown",
      "metadata": {},
      "source": [
        "### 1.3 Lambda fonctions\n",
        "\n",
        "Il existe une autre manière concise de définir une fonction simple, la\n",
        "**lambda** fonction."
      ],
      "id": "915d880d-36a3-4a20-86ac-7f13efeaeb02"
    },
    {
      "cell_type": "code",
      "execution_count": 25,
      "metadata": {},
      "outputs": [],
      "source": [
        "carre = lambda x: x**2\n",
        "\n",
        "carre(6)"
      ],
      "id": "32452845"
    },
    {
      "cell_type": "markdown",
      "metadata": {},
      "source": [
        "------------------------------------------------------------------------\n",
        "\n",
        "## 2 Exercices\n",
        "\n",
        "### 2.1 Exercice 1\n",
        "\n",
        "Créer une fonction `puissance` qui prend en entrée deux nombres `x` et\n",
        "`y` et renvoie la fonction puissance $x^y$."
      ],
      "id": "7362f06d-1113-43dd-adf0-b7f021f32ee4"
    },
    {
      "cell_type": "code",
      "execution_count": 26,
      "metadata": {
        "tags": []
      },
      "outputs": [],
      "source": [
        "# Testez votre réponse dans cette cellule"
      ],
      "id": "5dfe83d0"
    },
    {
      "cell_type": "markdown",
      "metadata": {},
      "source": [
        "### 2.2 Exercice 2\n",
        "\n",
        "Écrire une fonction `statistiques_descriptives` qui :\n",
        "\n",
        "-   prend en entrée une liste de nombre\n",
        "-   renvoie la moyenne et la variance"
      ],
      "id": "3e2c4629-919e-4d63-ba61-14f31e5097b4"
    },
    {
      "cell_type": "code",
      "execution_count": 27,
      "metadata": {
        "tags": []
      },
      "outputs": [],
      "source": [
        "# Testez votre réponse dans cette cellule"
      ],
      "id": "026767a4"
    },
    {
      "cell_type": "markdown",
      "metadata": {},
      "source": [
        "### 2.3 Exercice 3\n",
        "\n",
        "Écrire une fonction `est_pair` qui :\n",
        "\n",
        "-   prend en entrée un paramètre\n",
        "-   retourne un booléen pour dire si ce paramètre est pair\n",
        "\n",
        "Ajouter un test pour vérifier que le paramètre est un entier."
      ],
      "id": "5871cfee-77c1-456e-8d26-1d03b80ad950"
    },
    {
      "cell_type": "code",
      "execution_count": 28,
      "metadata": {},
      "outputs": [],
      "source": [
        "# Testez votre réponse dans cette cellule"
      ],
      "id": "4a48748e"
    },
    {
      "cell_type": "markdown",
      "metadata": {},
      "source": [
        "### 2.4 Exercice 4\n",
        "\n",
        "Écrire une fonction qui :\n",
        "\n",
        "-   prend en entrée une liste d’éléments quelconques\n",
        "-   renvoie une nouvelle liste constituée des éléments uniques de la\n",
        "    liste initiale\n",
        "-   permet via un paramètre optionnel de trier ou non la liste finale\n",
        "    par ordre alphanumérique (le comportement par défaut est de ne pas\n",
        "    trier)."
      ],
      "id": "c311648b-b6cd-4cd2-b063-b600378e953d"
    },
    {
      "cell_type": "code",
      "execution_count": 29,
      "metadata": {
        "tags": []
      },
      "outputs": [],
      "source": [
        "# Testez votre réponse dans cette cellule"
      ],
      "id": "b7c9c72d"
    },
    {
      "cell_type": "markdown",
      "metadata": {},
      "source": [
        "### 2.5 Exercice 5\n",
        "\n",
        "Les fonctions récursives sont des fonctions qui s’appellent elles-mêmes\n",
        "dans le corps de la fonction, ce qui entraîne des appels infinis jusqu’à\n",
        "atteindre un critère d’arrêt (voir exemple du triangle de Pascal\n",
        "ci-dessous).\n",
        "\n",
        "Coder de manière récursive la fonction **factoriel**."
      ],
      "id": "77d01b2a-fd81-4b79-876e-db4f469e2de2"
    },
    {
      "cell_type": "code",
      "execution_count": 30,
      "metadata": {},
      "outputs": [],
      "source": [
        "def triangle_pascal(n):\n",
        "    if n == 0:\n",
        "        return [[1]]                                          # Condition d'arrêt\n",
        "    else:\n",
        "        triangle = triangle_pascal(n - 1)                     # Appel récursif pour obtenir les lignes précédentes\n",
        "        prev_row = triangle[-1]                               # Récupérer la dernière ligne générée\n",
        "        new_row = [1]                                         # Premier élément de la nouvelle ligne\n",
        "        # Calculer les éléments de la nouvelle ligne\n",
        "        for i in range(len(prev_row) - 1):\n",
        "            new_row.append(prev_row[i] + prev_row[i + 1])  \n",
        "        new_row.append(1)                                     # Dernier élément de la nouvelle ligne\n",
        "        triangle.append(new_row)                              # Ajouter la nouvelle ligne au triangle\n",
        "        return triangle\n",
        "\n",
        "print('\\n'.join(['\\t'.join(map(str, row)) for row in triangle_pascal(10)]))"
      ],
      "id": "5c738000"
    },
    {
      "cell_type": "code",
      "execution_count": 31,
      "metadata": {
        "tags": []
      },
      "outputs": [],
      "source": [
        "# Testez votre réponse dans cette cellule"
      ],
      "id": "8d5a1fb4"
    },
    {
      "cell_type": "markdown",
      "metadata": {},
      "source": [
        "### 2.6 Exercice 6\n",
        "\n",
        "Écrire une fonction `appliquer_fonction_liste` qui :\n",
        "\n",
        "-   prend en paramètre :\n",
        "    -   une liste d’entiers\n",
        "    -   une fonction\n",
        "-   retourne la liste à laquelle on a appliqué la fonction\n",
        "\n",
        "Exemple :  \n",
        "appliquer_fonction_liste(\\[1, 2, 3, 4\\], lambda x: x\\*\\*2) -\\> \\[1, 4,\n",
        "9, 16\\]"
      ],
      "id": "2bb70470-c479-4994-84af-d6e07f3a1e5b"
    },
    {
      "cell_type": "code",
      "execution_count": 32,
      "metadata": {},
      "outputs": [],
      "source": [
        "# Testez votre réponse dans cette cellule"
      ],
      "id": "10259239"
    }
  ],
  "nbformat": 4,
  "nbformat_minor": 5,
  "metadata": {
    "kernelspec": {
      "name": "python3",
      "display_name": "Python 3 (ipykernel)",
      "language": "python",
      "path": "/opt/hostedtoolcache/Python/3.10.14/x64/share/jupyter/kernels/python3"
    },
    "language_info": {
      "name": "python",
      "codemirror_mode": {
        "name": "ipython",
        "version": "3"
      },
      "file_extension": ".py",
      "mimetype": "text/x-python",
      "nbconvert_exporter": "python",
      "pygments_lexer": "ipython3",
      "version": "3.10.14"
    }
  }
}