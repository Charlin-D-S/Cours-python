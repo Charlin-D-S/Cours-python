{
  "cells": [
    {
      "cell_type": "markdown",
      "metadata": {},
      "source": [
        "# Listes et Dictionnaires\n",
        "\n",
        "# Conteneurs\n",
        "\n",
        "Il existe plusieurs structures de données en Python : \\* Listes (list) :\n",
        "collection ordonnée et modifiable d’éléments \\* Dictionnaires (dict) :\n",
        "collection non ordonnée de paires **clé-valeur** \\* Ensembles (set) :\n",
        "collection non ordonnée d’éléments **uniques** \\* Tuples (tuple) :\n",
        "collection ordonnée et immuable d’éléments\n",
        "\n",
        "Nous allons ici nous concentrer sur les deux structures les plus\n",
        "courantes : les **listes** et les **dictionnaires**\n",
        "\n",
        "# Listes\n",
        "\n",
        "Propriétés des listes Python : \\* **Indexation** : Les éléments d’une\n",
        "liste sont indexés, ce qui signifie qu’ils peuvent être accédés en\n",
        "utilisant leur position dans la liste. L’index du premier élément est 0,\n",
        "et l’index du dernier élément est len(liste) - 1. \\* **Mutable** : Les\n",
        "listes sont des objets mutables, ce qui signifie que vous pouvez\n",
        "modifier leurs éléments. Vous pouvez ajouter, supprimer ou modifier des\n",
        "éléments. \\* **Hétérogénéité** : Les listes peuvent contenir des\n",
        "éléments de différents types de données : entiers, chaînes de\n",
        "caractères, booléens, voire d’autres listes. \\* **Longueur variable** :\n",
        "Les listes peuvent contenir un nombre variable d’éléments. Elles peuvent\n",
        "être vides (sans éléments) ou contenir un nombre illimité d’éléments.\n",
        "\n",
        "## Créer une liste"
      ],
      "id": "51bcd0a2-0c24-4b25-804c-f9d546e26092"
    },
    {
      "cell_type": "code",
      "execution_count": 2,
      "metadata": {},
      "outputs": [
        {
          "output_type": "display_data",
          "metadata": {},
          "data": {
            "text/plain": [
              "[22, 29, 35, 56]"
            ]
          }
        }
      ],
      "source": [
        "# Liste d'entiers\n",
        "a = [22, 29, 35, 56]\n",
        "a"
      ],
      "id": "03322cfa"
    },
    {
      "cell_type": "code",
      "execution_count": 3,
      "metadata": {},
      "outputs": [
        {
          "output_type": "display_data",
          "metadata": {},
          "data": {
            "text/plain": [
              "list"
            ]
          }
        }
      ],
      "source": [
        "type(a)"
      ],
      "id": "56fdc664-5def-4f67-a6cf-ef3ee590e463"
    },
    {
      "cell_type": "code",
      "execution_count": 4,
      "metadata": {},
      "outputs": [
        {
          "output_type": "stream",
          "name": "stdout",
          "text": [
            "['bonjour', 20, True]"
          ]
        }
      ],
      "source": [
        "# Liste mixte\n",
        "b = [\"bonjour\", 20, True]\n",
        "print(b)"
      ],
      "id": "90b3f254"
    },
    {
      "cell_type": "code",
      "execution_count": 5,
      "metadata": {},
      "outputs": [
        {
          "output_type": "display_data",
          "metadata": {},
          "data": {
            "text/plain": [
              "[22, 29, 35, 56, 'bonjour', 20, True]"
            ]
          }
        }
      ],
      "source": [
        "# Concaténation\n",
        "a + b"
      ],
      "id": "9777fa7f-7550-48a1-9a78-396fea75841a"
    },
    {
      "cell_type": "code",
      "execution_count": 6,
      "metadata": {},
      "outputs": [
        {
          "output_type": "display_data",
          "metadata": {},
          "data": {
            "text/plain": [
              "[22, 29, 35, 56, 22, 29, 35, 56]"
            ]
          }
        }
      ],
      "source": [
        "# Répétition\n",
        "a * 2"
      ],
      "id": "14e46d28-87e5-4e9a-a453-dfc226f09ea5"
    },
    {
      "cell_type": "markdown",
      "metadata": {},
      "source": [
        "Il existe de nombreuses autres possibilités pour créer des listes."
      ],
      "id": "682c9d29-429c-4207-a01a-f4a63dcfa4ea"
    },
    {
      "cell_type": "code",
      "execution_count": 7,
      "metadata": {},
      "outputs": [
        {
          "output_type": "display_data",
          "metadata": {},
          "data": {
            "text/plain": [
              "[1, 2, 3, 4, 5, 6]"
            ]
          }
        }
      ],
      "source": [
        "list(range(1, 7))"
      ],
      "id": "e6c943a4-c153-4eea-94da-38740943919b"
    },
    {
      "cell_type": "code",
      "execution_count": 8,
      "metadata": {},
      "outputs": [
        {
          "output_type": "display_data",
          "metadata": {},
          "data": {
            "text/plain": [
              "[1, 2, 3, 4, 5, 6]"
            ]
          }
        }
      ],
      "source": [
        "[x for x in range(1, 7)]"
      ],
      "id": "1ce49e16-7f99-4222-bda4-0f739921d847"
    },
    {
      "cell_type": "code",
      "execution_count": 9,
      "metadata": {},
      "outputs": [
        {
          "output_type": "display_data",
          "metadata": {},
          "data": {
            "text/plain": [
              "['bleu', 'blanc', 'rouge', 'vert', 'jaune']"
            ]
          }
        }
      ],
      "source": [
        "# En séparant une chaîne de caractères\n",
        "c = \"bleu;blanc;rouge;vert;jaune\"\n",
        "c.split(\";\")"
      ],
      "id": "76e03d7f-9423-435e-82ca-749351a0d5c1"
    },
    {
      "cell_type": "markdown",
      "metadata": {},
      "source": [
        "## Méthodes utiles"
      ],
      "id": "e715d68f-83b4-44f1-8db6-86ce453d440f"
    },
    {
      "cell_type": "code",
      "execution_count": 10,
      "metadata": {},
      "outputs": [
        {
          "output_type": "display_data",
          "metadata": {},
          "data": {
            "text/plain": [
              "4"
            ]
          }
        }
      ],
      "source": [
        "# Nombre d'éléments\n",
        "len(a)"
      ],
      "id": "6b7fb4b1-a68b-4faa-9445-a4decce20211"
    },
    {
      "cell_type": "code",
      "execution_count": 11,
      "metadata": {},
      "outputs": [
        {
          "output_type": "display_data",
          "metadata": {},
          "data": {
            "text/plain": [
              "22"
            ]
          }
        }
      ],
      "source": [
        "# Premier élément\n",
        "a[0]"
      ],
      "id": "2c67984c-0c43-4210-96c3-8a155c8e22b4"
    },
    {
      "cell_type": "code",
      "execution_count": 12,
      "metadata": {},
      "outputs": [
        {
          "output_type": "display_data",
          "metadata": {},
          "data": {
            "text/plain": [
              "56"
            ]
          }
        }
      ],
      "source": [
        "# Dernier élément\n",
        "a[-1]"
      ],
      "id": "0c8439ab-090b-4f47-9c9b-a5c3c2694fad"
    },
    {
      "cell_type": "code",
      "execution_count": 13,
      "metadata": {},
      "outputs": [
        {
          "output_type": "display_data",
          "metadata": {},
          "data": {
            "text/plain": [
              "[29, 35, 56]"
            ]
          }
        }
      ],
      "source": [
        "# Tous les éléments à partir de la position 1\n",
        "a[1:]"
      ],
      "id": "ae8a31c9-30ad-478f-9e9f-d518e0ebf049"
    },
    {
      "cell_type": "code",
      "execution_count": 4,
      "metadata": {},
      "outputs": [
        {
          "output_type": "display_data",
          "metadata": {},
          "data": {
            "text/plain": [
              "True"
            ]
          }
        }
      ],
      "source": [
        "# Tester si une valeur appartient à une liste\n",
        "22 in a"
      ],
      "id": "2b8c9d2e-8995-4256-a1bb-853236c5e2df"
    },
    {
      "cell_type": "code",
      "execution_count": 14,
      "metadata": {},
      "outputs": [
        {
          "output_type": "display_data",
          "metadata": {},
          "data": {
            "text/plain": [
              "1"
            ]
          }
        }
      ],
      "source": [
        "# Trouver la position d'un élément\n",
        "a.index(29)"
      ],
      "id": "c18b8f62-4f98-4935-9c66-c6ab3cb3bd8e"
    },
    {
      "cell_type": "code",
      "execution_count": 15,
      "metadata": {},
      "outputs": [
        {
          "output_type": "stream",
          "name": "stdout",
          "text": [
            "a[::-1] : [56, 35, 29, 22]\n",
            "a :       [22, 29, 35, 56]"
          ]
        }
      ],
      "source": [
        "# Inverser une liste (sans modifier la liste d'origine)\n",
        "print(\"a[::-1] : \" + str(a[::-1]))\n",
        "print(\"a :       \" + str(a))"
      ],
      "id": "650cd5a4-d0ee-4f3d-ae54-0ea8a1516b46"
    },
    {
      "cell_type": "code",
      "execution_count": 16,
      "metadata": {},
      "outputs": [
        {
          "output_type": "display_data",
          "metadata": {},
          "data": {
            "text/plain": [
              "[56, 35, 29, 22]"
            ]
          }
        }
      ],
      "source": [
        "# Inverser une liste (ici l'inversion est sauvegardée dans la variable **a** )\n",
        "a.reverse()\n",
        "a"
      ],
      "id": "7e9e2798-6063-43d4-a47c-44fa5a26e024"
    },
    {
      "cell_type": "code",
      "execution_count": 17,
      "metadata": {},
      "outputs": [
        {
          "output_type": "display_data",
          "metadata": {},
          "data": {
            "text/plain": [
              "[22, 29, 35, 56]"
            ]
          }
        }
      ],
      "source": [
        "# Trier une liste (sans modifier la liste d'origine)\n",
        "sorted(a)"
      ],
      "id": "b68a112f-818c-4762-a219-333a4a480748"
    },
    {
      "cell_type": "code",
      "execution_count": 18,
      "metadata": {},
      "outputs": [
        {
          "output_type": "display_data",
          "metadata": {},
          "data": {
            "text/plain": [
              "[56, 35, 29, 22]"
            ]
          }
        }
      ],
      "source": [
        "# Order décroissant\n",
        "sorted(a, reverse=True)"
      ],
      "id": "bb6348e5-89c4-4526-b96d-8cae6782e1a6"
    },
    {
      "cell_type": "code",
      "execution_count": 19,
      "metadata": {},
      "outputs": [
        {
          "output_type": "stream",
          "name": "stdout",
          "text": [
            "Avant : [56, 35, 29, 22]\n",
            "Après : [22, 29, 35, 56]"
          ]
        }
      ],
      "source": [
        "# Trier une liste (en sauvegardant la modification dans la variable **a**)\n",
        "print(\"Avant : \" + str(a))\n",
        "a.sort()\n",
        "print(\"Après : \" + str(a))"
      ],
      "id": "10a43b37-dd7d-40ec-bace-ac9d6da11425"
    },
    {
      "cell_type": "markdown",
      "metadata": {},
      "source": [
        "## Ajouter, modifier et supprimer"
      ],
      "id": "d89fdfea-72ca-4871-b058-06ad2052311f"
    },
    {
      "cell_type": "code",
      "execution_count": 20,
      "metadata": {},
      "outputs": [
        {
          "output_type": "display_data",
          "metadata": {},
          "data": {
            "text/plain": [
              "[22, 29, 35, 56, 44]"
            ]
          }
        }
      ],
      "source": [
        "# Ajouter à la fin\n",
        "a.append(44)\n",
        "a"
      ],
      "id": "dad32735-d53a-4310-bc63-b9ab676493e0"
    },
    {
      "cell_type": "code",
      "execution_count": 21,
      "metadata": {},
      "outputs": [
        {
          "output_type": "display_data",
          "metadata": {},
          "data": {
            "text/plain": [
              "[22, 29, 88, 35, 56, 44]"
            ]
          }
        }
      ],
      "source": [
        "# Insérer à une position précise\n",
        "a.insert(2, 88)\n",
        "a"
      ],
      "id": "d6c11bf8-ceda-4d7b-94dc-30ed70744c13"
    },
    {
      "cell_type": "code",
      "execution_count": 22,
      "metadata": {},
      "outputs": [
        {
          "output_type": "display_data",
          "metadata": {},
          "data": {
            "text/plain": [
              "[99, 29, 88, 35, 56, 44]"
            ]
          }
        }
      ],
      "source": [
        "# Modifier\n",
        "a[0] = 99\n",
        "a"
      ],
      "id": "3536c0f4-c0d7-4f6b-a3c3-40e61e227bfb"
    },
    {
      "cell_type": "code",
      "execution_count": 23,
      "metadata": {},
      "outputs": [
        {
          "output_type": "display_data",
          "metadata": {},
          "data": {
            "text/plain": [
              "[99, 29, 88, 56, 44]"
            ]
          }
        }
      ],
      "source": [
        "# Supprimer par position\n",
        "a.pop(3)\n",
        "a"
      ],
      "id": "89b5df2c-91ab-4f89-a8f1-7cbfd1d112f1"
    },
    {
      "cell_type": "code",
      "execution_count": 24,
      "metadata": {},
      "outputs": [
        {
          "output_type": "display_data",
          "metadata": {},
          "data": {
            "text/plain": [
              "[99, 29, 88, 56]"
            ]
          }
        }
      ],
      "source": [
        "# Supprimer par valeur\n",
        "a.remove(44)\n",
        "a"
      ],
      "id": "e17f977a-6009-4c25-9cc1-c83a851121f2"
    },
    {
      "cell_type": "markdown",
      "metadata": {},
      "source": [
        "## Copier une liste\n",
        "\n",
        "Observez, puis exécutez le code ci-dessous, il contient les instructions\n",
        "suivantes : - création de la variable **liste** - création de la\n",
        "variable **copie** - suppression du dernier élément de **copie** -\n",
        "affichage de **liste**"
      ],
      "id": "f16f09e3-4ea2-4844-9475-e3c7bb3e1b1a"
    },
    {
      "cell_type": "code",
      "execution_count": 13,
      "metadata": {},
      "outputs": [
        {
          "output_type": "display_data",
          "metadata": {},
          "data": {
            "text/plain": [
              "[1, 2, 3]"
            ]
          }
        }
      ],
      "source": [
        "liste = [1, 2, 3, 4]\n",
        "liste2 = liste\n",
        "liste2.pop()\n",
        "liste"
      ],
      "id": "7659abd5-e14c-4ae3-adf2-88b1fd953336"
    },
    {
      "cell_type": "markdown",
      "metadata": {},
      "source": [
        "Nous pourrions nous attendre à ce que la variable **liste** ne soit pas\n",
        "modifiée et affiche `[1, 2, 3, 4]`.  \n",
        "Pourtant la variable **liste2** n’est pas une copie de **liste**, c’est\n",
        "simplement une autre manière d’appeler la même liste."
      ],
      "id": "e6b737fa-fd4d-4508-9281-0cafa2deb7c9"
    },
    {
      "cell_type": "code",
      "execution_count": 16,
      "metadata": {},
      "outputs": [
        {
          "output_type": "display_data",
          "metadata": {},
          "data": {
            "text/plain": [
              "([1, 2, 3], [1, 2, 3, 9])"
            ]
          }
        }
      ],
      "source": [
        "# Pour créer une vraie copie qui sera distinct de l'original\n",
        "copie = list(liste)\n",
        "copie.append(9)\n",
        "liste, copie"
      ],
      "id": "a91f5b61-27a3-4ebf-b8b0-861f64bc0fc0"
    },
    {
      "cell_type": "code",
      "execution_count": 19,
      "metadata": {},
      "outputs": [
        {
          "output_type": "display_data",
          "metadata": {},
          "data": {
            "text/plain": [
              "([1, 2, 3], [1, 2, 3, 8])"
            ]
          }
        }
      ],
      "source": [
        "# Autre possibilité pour copier\n",
        "cp = liste.copy()\n",
        "cp.append(8)\n",
        "liste, cp"
      ],
      "id": "e3e0a941-2207-4880-ab26-e7275dca766d"
    },
    {
      "cell_type": "markdown",
      "metadata": {},
      "source": [
        "------------------------------------------------------------------------\n",
        "\n",
        "# Dictionnaires\n",
        "\n",
        "Propriétés importantes d’un dictionnaire en Python : \\* **Indexation par\n",
        "clé** : Les éléments d’un dictionnaire sont indexés par des clés plutôt\n",
        "que par des positions. **Chaque clé doit être unique** dans le\n",
        "dictionnaire, et elle est associée à une valeur correspondante. La\n",
        "recherche d’une valeur associée à une clé est très rapide. \\*\n",
        "**Mutable** : Les dictionnaires sont des objets mutables, ce qui\n",
        "signifie que vous pouvez ajouter, supprimer ou modifier des éléments du\n",
        "dictionnaire après sa création. \\* **Hétérogénéité** : Les dictionnaires\n",
        "peuvent contenir des paires clé-valeur avec des types de données\n",
        "différents. Les clés peuvent être de types immuables tels que les\n",
        "chaînes de caractères, les entiers… Les valeurs peuvent être de\n",
        "n’importe quel type de données valide en Python. \\* **Longueur\n",
        "variable** : Les dictionnaires peuvent contenir un nombre variable de\n",
        "paires clé-valeur. Ils peuvent être vides (sans paires clé-valeur) ou\n",
        "contenir un nombre illimité de paires. \\* **Non ordonné** :\n",
        "Contrairement aux listes, les éléments d’un dictionnaire n’ont pas\n",
        "d’ordre défini. L’ordre dans lequel les paires clé-valeur sont stockées\n",
        "n’est pas garanti et peut changer lors des opérations de modification du\n",
        "dictionnaire.\n",
        "\n",
        "## Créer un dictionnaire"
      ],
      "id": "97c49549-233c-40da-af4b-bb32d9b7b619"
    },
    {
      "cell_type": "code",
      "execution_count": 44,
      "metadata": {},
      "outputs": [
        {
          "output_type": "display_data",
          "metadata": {},
          "data": {
            "text/plain": [
              "{'sucre': '100g', 'poire': 2, 'lait': '1L', 'sel': True}"
            ]
          }
        }
      ],
      "source": [
        "ingredients = {'sucre': '100g', 'poire': 2, 'lait': '1L', 'sel': True}\n",
        "ingredients"
      ],
      "id": "a3a5d37f-e699-4647-85ec-919dd76b9e18"
    },
    {
      "cell_type": "code",
      "execution_count": 47,
      "metadata": {},
      "outputs": [
        {
          "output_type": "display_data",
          "metadata": {},
          "data": {
            "text/plain": [
              "dict"
            ]
          }
        }
      ],
      "source": [
        "type(ingredients)"
      ],
      "id": "fd02561d-25cb-4d88-bac8-6c9f8ce69c58"
    },
    {
      "cell_type": "code",
      "execution_count": 27,
      "metadata": {},
      "outputs": [
        {
          "output_type": "display_data",
          "metadata": {},
          "data": {
            "text/plain": [
              "4"
            ]
          }
        }
      ],
      "source": [
        "# Nombre d'éléments\n",
        "len(ingredients)"
      ],
      "id": "1e187a9e-1187-4465-b906-96100e810ba9"
    },
    {
      "cell_type": "code",
      "execution_count": 28,
      "metadata": {},
      "outputs": [
        {
          "output_type": "display_data",
          "metadata": {},
          "data": {
            "text/plain": [
              "'1L'"
            ]
          }
        }
      ],
      "source": [
        "# Recherche par clé\n",
        "ingredients['lait']"
      ],
      "id": "d024f130-a274-4e2a-a569-419c3944f102"
    },
    {
      "cell_type": "code",
      "execution_count": 29,
      "metadata": {},
      "outputs": [
        {
          "output_type": "display_data",
          "metadata": {},
          "data": {
            "text/plain": [
              "'1L'"
            ]
          }
        }
      ],
      "source": [
        "# Recherche par clé - autre possibilité\n",
        "ingredients.get('lait')"
      ],
      "id": "4c0d3e6f-3288-4424-bf4f-56558c8a247d"
    },
    {
      "cell_type": "markdown",
      "metadata": {},
      "source": [
        "## Ajouter, modifier et supprimer"
      ],
      "id": "6dd1ab77-6c8f-4aee-a0ca-473e04690d60"
    },
    {
      "cell_type": "code",
      "execution_count": 30,
      "metadata": {},
      "outputs": [
        {
          "output_type": "display_data",
          "metadata": {},
          "data": {
            "text/plain": [
              "{'sucre': '100g', 'poire': 2, 'lait': '1L', 'sel': True, 'fraise': '200g'}"
            ]
          }
        }
      ],
      "source": [
        "# Ajouter un élément\n",
        "ingredients['fraise'] =  '200g'\n",
        "ingredients"
      ],
      "id": "0d4b4e8e-29dd-4197-8837-b09b0d39247b"
    },
    {
      "cell_type": "code",
      "execution_count": 31,
      "metadata": {},
      "outputs": [
        {
          "output_type": "display_data",
          "metadata": {},
          "data": {
            "text/plain": [
              "{'sucre': '35g', 'poire': 2, 'lait': '1L', 'sel': True, 'fraise': '200g'}"
            ]
          }
        }
      ],
      "source": [
        "# Modifier\n",
        "ingredients['sucre'] =  '35g'\n",
        "ingredients"
      ],
      "id": "1c9ea9e3-1ddf-46c2-8e01-bdc5420d10b2"
    },
    {
      "cell_type": "code",
      "execution_count": 32,
      "metadata": {},
      "outputs": [
        {
          "output_type": "display_data",
          "metadata": {},
          "data": {
            "text/plain": [
              "{'sucre': '35g', 'poire': 2, 'sel': True, 'fraise': '200g'}"
            ]
          }
        }
      ],
      "source": [
        "# Supprimer \n",
        "ingredients.pop('lait')\n",
        "ingredients"
      ],
      "id": "05186cce-4ae9-49e9-88bb-d084cf1c6952"
    },
    {
      "cell_type": "markdown",
      "metadata": {},
      "source": [
        "## Méthodes utiles"
      ],
      "id": "8680ca5c-9fc7-4448-b583-d97b851e13ec"
    },
    {
      "cell_type": "code",
      "execution_count": 50,
      "metadata": {},
      "outputs": [
        {
          "output_type": "display_data",
          "metadata": {},
          "data": {
            "text/plain": [
              "['sucre', 'poire', 'lait', 'sel']"
            ]
          }
        }
      ],
      "source": [
        "# Liste des clés\n",
        "list(ingredients.keys())      # idem : list(ingredients)"
      ],
      "id": "9a94912a-5c00-471a-81be-e5f70e2fa594"
    },
    {
      "cell_type": "code",
      "execution_count": 34,
      "metadata": {},
      "outputs": [
        {
          "output_type": "display_data",
          "metadata": {},
          "data": {
            "text/plain": [
              "['35g', 2, True, '200g']"
            ]
          }
        }
      ],
      "source": [
        "# Liste des valeurs\n",
        "list(ingredients.values())"
      ],
      "id": "0b58b6da-6823-45f4-bf12-038041309de0"
    },
    {
      "cell_type": "code",
      "execution_count": 35,
      "metadata": {},
      "outputs": [
        {
          "output_type": "display_data",
          "metadata": {},
          "data": {
            "text/plain": [
              "[('sucre', '35g'), ('poire', 2), ('sel', True), ('fraise', '200g')]"
            ]
          }
        }
      ],
      "source": [
        "# Liste des items (liste de tuples)\n",
        "list(ingredients.items())"
      ],
      "id": "44d8a219-f199-40e3-8d22-915256874093"
    },
    {
      "cell_type": "markdown",
      "metadata": {},
      "source": [
        "------------------------------------------------------------------------\n",
        "\n",
        "# Les types « vide »\n",
        "\n",
        "Maintenant que nous avons vu les listes et les dictionnaires, nous\n",
        "pouvons parler des types **vides**.  \n",
        "Par exemple, il est possible de créer : \\* une variable qui ne contient\n",
        "rien : `None` \\* une liste vide `[]` \\* un dictionnaire vide `{}`"
      ],
      "id": "ccbe6047-ac09-4d08-b14a-322612f38926"
    },
    {
      "cell_type": "code",
      "execution_count": 38,
      "metadata": {},
      "outputs": [
        {
          "output_type": "display_data",
          "metadata": {},
          "data": {
            "text/plain": [
              "NoneType"
            ]
          }
        }
      ],
      "source": [
        "x = None\n",
        "type(x)"
      ],
      "id": "b8193ca2-1e4c-4dc3-9cda-7adfdf3af91f"
    },
    {
      "cell_type": "code",
      "execution_count": 39,
      "metadata": {},
      "outputs": [
        {
          "output_type": "display_data",
          "metadata": {},
          "data": {
            "text/plain": [
              "list"
            ]
          }
        }
      ],
      "source": [
        "y = []\n",
        "type(y)"
      ],
      "id": "20e2a3db-1ea9-487a-9a8e-381d1735f4f5"
    },
    {
      "cell_type": "code",
      "execution_count": 40,
      "metadata": {},
      "outputs": [
        {
          "output_type": "display_data",
          "metadata": {},
          "data": {
            "text/plain": [
              "dict"
            ]
          }
        }
      ],
      "source": [
        "z = {}\n",
        "type(z)"
      ],
      "id": "35adc5a9-3824-41a9-b56e-a2bfb4bb758f"
    },
    {
      "cell_type": "markdown",
      "metadata": {},
      "source": [
        "------------------------------------------------------------------------\n",
        "\n",
        "# Exercices\n",
        "\n",
        "## Exercice 1\n",
        "\n",
        "En partant de la liste\n",
        "`notes = [\"do\", \"re\", \"re\", \"re\", \"fa\", \"sol\", \"solsi\", \"la\"]`,\n",
        "**ajoutez, supprimez et modifiez** des éléments pour qu’elle contienne\n",
        "les notes de musique “do re mi fa sol la si” dans le bon ordre."
      ],
      "id": "4ab44156-d46d-43cd-8afa-3e54f9357d91"
    },
    {
      "cell_type": "code",
      "execution_count": null,
      "metadata": {},
      "outputs": [],
      "source": [
        "# Testez votre réponse dans cette cellule\n"
      ],
      "id": "2ef6109f"
    },
    {
      "cell_type": "markdown",
      "metadata": {},
      "source": [
        "## Exercice 2\n",
        "\n",
        "Proposez deux méthodes pour inverser la liste\n",
        "`[\"un\", \"deux\", \"trois\", \"quatre\"]`. Quelle est la différence majeure\n",
        "entre les deux méthodes ?"
      ],
      "id": "2ae73a94-bf62-4e52-9e7d-60c693ef382f"
    },
    {
      "cell_type": "code",
      "execution_count": null,
      "metadata": {},
      "outputs": [],
      "source": [
        "# Testez votre réponse dans cette cellule\n"
      ],
      "id": "b3afe0fa"
    },
    {
      "cell_type": "markdown",
      "metadata": {},
      "source": [
        "## Exercice 3\n",
        "\n",
        "Testez le comportement de la méthode **pop** sur la liste des entiers de\n",
        "1 à 9.  \n",
        "Par exemple, testez **pop()** sans paramètres ou encore **pop(-1)**."
      ],
      "id": "38f5a33c-7aa6-485f-b8e1-478e6f7af8d2"
    },
    {
      "cell_type": "code",
      "execution_count": 10,
      "metadata": {},
      "outputs": [],
      "source": [
        "# Testez votre réponse dans cette cellule\n"
      ],
      "id": "4aa8ca88"
    },
    {
      "cell_type": "markdown",
      "metadata": {},
      "source": [
        "## Exercice 4\n",
        "\n",
        "Testez le comportement des méthodes **min** et **max** sur : - sur une\n",
        "liste composée uniquement d’objets numériques (`int` et `float`) ; - sur\n",
        "une liste composée uniquement de chaînes de caractères ; - sur une liste\n",
        "composée d’un mélange d’objets numériques et textuels."
      ],
      "id": "9cc96a3e-74d0-4ba5-9f36-31603d2af8e3"
    },
    {
      "cell_type": "code",
      "execution_count": null,
      "metadata": {},
      "outputs": [],
      "source": [
        "# Testez votre réponse dans cette cellule\n"
      ],
      "id": "87af1e40"
    },
    {
      "cell_type": "markdown",
      "metadata": {},
      "source": [
        "## Exercice 5\n",
        "\n",
        "Essayer de créer une liste vide puis vérifiez son type.  \n",
        "Quel intérêt cela pourrait-il avoir ?"
      ],
      "id": "13cede98-7a23-4a69-a598-8139434edc80"
    },
    {
      "cell_type": "code",
      "execution_count": 12,
      "metadata": {},
      "outputs": [],
      "source": [
        "# Testez votre réponse dans cette cellule\n"
      ],
      "id": "947cb8d9"
    },
    {
      "cell_type": "markdown",
      "metadata": {},
      "source": [
        "Exercice Soit le dictionnaire suivant :\n",
        "`animaux = {'chats': 5, 'chiens': 12}`\n",
        "\n",
        "Que vont retourner les tests d’appartenance suivants ? Vérifiez vos\n",
        "prédictions.  \n",
        "- `'chats' in animaux.keys()` - `'chats' in animaux.values()` -\n",
        "`'chats' in animaux`"
      ],
      "id": "92f87d2f-b178-4807-ac8a-fd031bf9e9ef"
    },
    {
      "cell_type": "code",
      "execution_count": null,
      "metadata": {},
      "outputs": [],
      "source": [
        "# Testez votre réponse dans cette cellule\n"
      ],
      "id": "409ba00e-f4f0-4196-a80c-66ac59db6903"
    },
    {
      "cell_type": "markdown",
      "metadata": {},
      "source": [
        "## Exercice 6\n",
        "\n",
        "Soit le dictionnaire défini dans la cellule ci-dessous.  \n",
        "Affichez à l’aide d’opérations print :\n",
        "\n",
        "-   la liste des noms des différentes classes\n",
        "-   la note de Miranda en histoire\n",
        "-   la liste des notes obtenues par Hypolyte\n",
        "-   la liste des noms des élèves de la 6emeB\n",
        "-   la liste des matières enseignées en 6eme A\n",
        "-   la liste de toutes les matières enseignées\n",
        "-   la liste des notes obtenues par les filles des deux classes"
      ],
      "id": "e5ca7f6f-d330-4645-887d-987c83408efb"
    },
    {
      "cell_type": "code",
      "execution_count": null,
      "metadata": {},
      "outputs": [],
      "source": [
        "resultats = {\n",
        "    \"6emeA\": {\"Miranda\" : {\"notes\": {\"physique\": 16, \"histoire\": 12}},\n",
        "              \"Celestin\": {\"notes\": {\"physique\": \"absent\", \"histoire\": 18}}\n",
        "             },\n",
        "    \"6emeB\": {\"Hypolyte\": {\"notes\": {\"maths\": 11, \"anglais\": 0}},\n",
        "              \"Josephine\": {\"notes\": {\"maths\": 16, \"anglais\": 20}}\n",
        "             }\n",
        "}"
      ],
      "id": "b0832934-4002-4715-a7f8-118a220cb0db"
    },
    {
      "cell_type": "code",
      "execution_count": null,
      "metadata": {},
      "outputs": [],
      "source": [
        "# Testez votre réponse dans cette cellule\n"
      ],
      "id": "d79cc826-126b-423e-9721-c955ffaaa1b4"
    },
    {
      "cell_type": "markdown",
      "metadata": {},
      "source": [
        "## Exercice 7\n",
        "\n",
        "À l’aide d’un dictionnaire, comptez puis affichez le nombre d’occurences\n",
        "de chaque caractère dans la phrase suivante : \\*\n",
        "`Je compte le nombre d'occurences de chaque caractère de la phrase courante.`\n",
        "\n",
        "**Astuce** : au préalable, faites un test sur une chaine plus petite."
      ],
      "id": "6e8ceb8f-6b7c-4777-a1b9-3ef20cb10ecc"
    },
    {
      "cell_type": "code",
      "execution_count": 1,
      "metadata": {},
      "outputs": [],
      "source": [
        "# Testez votre réponse dans cette cellule\n"
      ],
      "id": "36102c87-8bcd-4d1e-9880-79d6932fd32f"
    },
    {
      "cell_type": "markdown",
      "metadata": {},
      "source": [
        "## Exercice 8\n",
        "\n",
        "Nettoyer cette liste pour retirer tous les doublons et ne conserver\n",
        "qu’une seule occurence de chaque fruit : \\*\n",
        "`fruits = ['pomme', 'banane', 'orange', 'fraise', 'citron', 'fraise', 'banane', 'orange', 'banane', 'pomme', 'fraise']`\n",
        "\n",
        "**Indice** : utiliser les set"
      ],
      "id": "edbbc66e-ba54-4fb1-bb78-f1c8f47cea0d"
    },
    {
      "cell_type": "code",
      "execution_count": 52,
      "metadata": {},
      "outputs": [],
      "source": [
        "# Testez votre réponse dans cette cellule\n"
      ],
      "id": "9ca616d5-5292-4f68-a495-80c45c31898b"
    }
  ],
  "nbformat": 4,
  "nbformat_minor": 5,
  "metadata": {
    "jupytext": {
      "cell_metadata_filter": "-all",
      "main_language": "python",
      "notebook_metadata_filter": "-all"
    },
    "kernelspec": {
      "name": "python3",
      "display_name": "Python 3",
      "language": "python"
    },
    "language_info": {
      "name": "python",
      "codemirror_mode": {
        "name": "ipython",
        "version": "3"
      },
      "file_extension": ".py",
      "mimetype": "text/x-python",
      "nbconvert_exporter": "python",
      "pygments_lexer": "ipython3",
      "version": "3.7.10"
    }
  }
}