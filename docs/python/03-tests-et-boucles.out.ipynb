{
  "cells": [
    {
      "cell_type": "markdown",
      "metadata": {},
      "source": [
        "# Tests et Boucles\n",
        "\n",
        "# Structures condionnelles et boucles\n",
        "\n",
        "Dans ce Notebook, nous allons aborder les thèmes suivants : \\* les\n",
        "structures **if, else** \\* la boucle **for** \\* la boucle **while** \\*\n",
        "les instructions **break** et **continue**\n",
        "\n",
        "------------------------------------------------------------------------\n",
        "\n",
        "# Structures conditionnelles\n",
        "\n",
        "Nous allons tester différentes conditions booléennes (voir Notebook 1)\n",
        "en utilisant les mots clés : **if**, **else** et **elif**.\n",
        "\n",
        "Le principe est le suivant :\n",
        "\n",
        "    if condition1:\n",
        "        # Bloc de code à exécuter si la condition1 est vraie\n",
        "    elif condition2:\n",
        "        # Bloc de code à exécuter si la condition1 est fausse et condition2 est vraie\n",
        "    else:\n",
        "        # Bloc de code à exécuter si la condition1 et 2 sont fausses\n",
        "\n",
        "**Remarques** : - il peut y avoir autant de **elif** que nécessaire\n",
        "(entre 0 et infini) - le **else** est facultatif\n",
        "\n",
        "**Attention** : Il est important de respecter la syntaxe, en particulier\n",
        "l’indentation !"
      ],
      "id": "00ba34d5-7846-4753-8c45-7b9ff13d12ae"
    },
    {
      "cell_type": "code",
      "execution_count": 8,
      "metadata": {},
      "outputs": [
        {
          "output_type": "stream",
          "name": "stdout",
          "text": [
            "la variable a(12) est strictement supérieure à 5"
          ]
        }
      ],
      "source": [
        "a = 12\n",
        "\n",
        "# Simple if\n",
        "if a > 5:\n",
        "    print(\"la variable a({}) est strictement supérieure à 5\".format(a))"
      ],
      "id": "84dd3b07-53eb-466e-b70e-2cda2a94c196"
    },
    {
      "cell_type": "code",
      "execution_count": 10,
      "metadata": {},
      "outputs": [
        {
          "output_type": "stream",
          "name": "stdout",
          "text": [
            "la variable a(3) est inférieure ou égale à 5"
          ]
        }
      ],
      "source": [
        "a = 3\n",
        "\n",
        "# if else\n",
        "if a > 5:\n",
        "    print(\"la variable a({}) est strictement supérieure à 5\".format(a))\n",
        "else:\n",
        "    print(\"la variable a({}) est inférieure ou égale à 5\".format(a))"
      ],
      "id": "8145a313-826f-45a8-993d-4beb8e061b78"
    },
    {
      "cell_type": "code",
      "execution_count": 11,
      "metadata": {},
      "outputs": [
        {
          "output_type": "stream",
          "name": "stdout",
          "text": [
            "ville"
          ]
        }
      ],
      "source": [
        "nb_habitants = 750\n",
        "\n",
        "if nb_habitants < 500:\n",
        "    print(\"village\")\n",
        "elif nb_habitants < 10000:\n",
        "    print(\"ville\")\n",
        "else:\n",
        "    print(\"grande ville\")"
      ],
      "id": "5dd4d3de-5857-41a3-bc4e-15dd795f97ae"
    },
    {
      "cell_type": "code",
      "execution_count": 15,
      "metadata": {},
      "outputs": [
        {
          "output_type": "stream",
          "name": "stdout",
          "text": [
            "Année validée"
          ]
        }
      ],
      "source": [
        "# Conditions multiples\n",
        "\n",
        "note_maths = 14\n",
        "note_info = 20\n",
        "validation_anglais = True\n",
        "\n",
        "if note_maths > 10 and note_info > 10 and validation_anglais:\n",
        "    print(\"Année validée\")"
      ],
      "id": "7815cef8-44ca-49b3-9817-2ea0825f9c16"
    },
    {
      "cell_type": "code",
      "execution_count": 17,
      "metadata": {},
      "outputs": [
        {
          "output_type": "stream",
          "name": "stdout",
          "text": [
            "Félicitation, continuez comme ça !"
          ]
        }
      ],
      "source": [
        "# Conditions en cascade\n",
        "if note_maths > 10:\n",
        "    if note_info > 10:\n",
        "        if validation_anglais:\n",
        "            print(\"Félicitation, continuez comme ça !\")\n",
        "        else:\n",
        "            print(\"Work harder\")\n",
        "    else:\n",
        "        print(\"il y a 10 types de personnes, ceux qui sont bons en info et les autres\")\n",
        "else:\n",
        "    print(\"1+1=2\")"
      ],
      "id": "9a09ef06-6919-4cb1-b5e7-149f2aa59c50"
    },
    {
      "cell_type": "markdown",
      "metadata": {},
      "source": [
        "------------------------------------------------------------------------\n",
        "\n",
        "# Boucles\n",
        "\n",
        "Les boucles sont utiles pour répéter de nombreuses fois la même\n",
        "opération.  \n",
        "Par exemple si l’on souhaite afficher tous les éléments d’une liste,\n",
        "écrire autant de **print** qu’il y a d’éléments serait assez pénible.\n",
        "\n",
        "Comme pour les structures conditionnelles, il est très important de\n",
        "respecter l’indentation !\n",
        "\n",
        "## La boucle for\n",
        "\n",
        "Il y a plusieurs manières d’utiliser la boucle **for**, voici quelques\n",
        "exemples.\n",
        "\n",
        "Il est très fréquent d’utiliser avec les boucles la méthode\n",
        "**range(start, stop, step)** qui génére une suite d’entiers \\* start :\n",
        "Valeur de départ de la séquence (optionnelle). Par défaut, elle est\n",
        "définie à 0. \\* stop : Valeur de fin de la séquence (exclue). \\* step :\n",
        "Pas d’incrément (optionnel). Par défaut, il est défini à 1."
      ],
      "id": "b9207b7b-7191-4b7e-b00a-aa2ed30f64e6"
    },
    {
      "cell_type": "code",
      "execution_count": 6,
      "metadata": {},
      "outputs": [
        {
          "output_type": "stream",
          "name": "stdout",
          "text": [
            "1\n",
            "2\n",
            "3\n",
            "4\n",
            "5"
          ]
        }
      ],
      "source": [
        "# Afficher les entiers entre 1 et 6\n",
        "for i in range(1, 6):\n",
        "    print(i)"
      ],
      "id": "8fbebc28-bb46-4305-8c95-11bd39ea539e"
    },
    {
      "cell_type": "code",
      "execution_count": 15,
      "metadata": {},
      "outputs": [
        {
          "output_type": "stream",
          "name": "stdout",
          "text": [
            "0   0\n",
            "1   1\n",
            "2   4\n",
            "3   9\n",
            "4   16\n",
            "5   25"
          ]
        }
      ],
      "source": [
        "for i in range(6):\n",
        "    print(i, i ** 2, sep=\"\\t\")"
      ],
      "id": "727b1eb8-dafb-4981-aac9-595e88cdc668"
    },
    {
      "cell_type": "code",
      "execution_count": 1,
      "metadata": {},
      "outputs": [
        {
          "output_type": "stream",
          "name": "stdout",
          "text": [
            "Hello Luke\n",
            "Hello Leia\n",
            "Hello Han\n",
            "Hello Obi-Wan"
          ]
        }
      ],
      "source": [
        "# Parcours d'une liste\n",
        "personnages = [\"Luke\", \"Leia\", \"Han\", \"Obi-Wan\"]\n",
        "\n",
        "for p in personnages:\n",
        "    print(\"Hello \" + p)"
      ],
      "id": "0b89419d-4716-4e6e-a17a-9a4ff5b612c6"
    },
    {
      "cell_type": "code",
      "execution_count": 21,
      "metadata": {},
      "outputs": [
        {
          "output_type": "stream",
          "name": "stdout",
          "text": [
            "Personnage 0 : Luke\n",
            "Personnage 1 : Leia\n",
            "Personnage 2 : Han\n",
            "Personnage 3 : Obi-Wan"
          ]
        }
      ],
      "source": [
        "# Parcours d'une liste par indice\n",
        "for i in range(len(personnages)):\n",
        "    print(\"Personnage \" + str(i) + \" : \" + personnages[i])"
      ],
      "id": "38f13664-4253-4f9c-a660-b13cdee95fb5"
    },
    {
      "cell_type": "markdown",
      "metadata": {},
      "source": [
        "La fonction **enumerate()** est utilisée pour itérer simultanément sur\n",
        "les indices et les éléments.  \n",
        "Elle permet de générer un tuple(indice, élément)"
      ],
      "id": "df37dd7e-38bd-4b27-8413-237cfe38aba1"
    },
    {
      "cell_type": "code",
      "execution_count": 24,
      "metadata": {},
      "outputs": [
        {
          "output_type": "display_data",
          "metadata": {},
          "data": {
            "text/plain": [
              "[(0, 'Luke'), (1, 'Leia'), (2, 'Han'), (3, 'Obi-Wan')]"
            ]
          }
        }
      ],
      "source": [
        "list(enumerate(personnages))"
      ],
      "id": "22c84d8d-8778-4741-81b3-f82df31ae5fa"
    },
    {
      "cell_type": "code",
      "execution_count": 22,
      "metadata": {},
      "outputs": [
        {
          "output_type": "stream",
          "name": "stdout",
          "text": [
            "Personnage 0 : Luke\n",
            "Personnage 1 : Leia\n",
            "Personnage 2 : Han\n",
            "Personnage 3 : Obi-Wan"
          ]
        }
      ],
      "source": [
        "# Parcours d'une liste en utilisant enumerate\n",
        "for numero, nom in enumerate(personnages):\n",
        "    print(\"Personnage \" + str(numero) + \" : \" + nom)"
      ],
      "id": "8db778d6-c08e-46f3-b5ee-d683c8925bea"
    },
    {
      "cell_type": "code",
      "execution_count": 9,
      "metadata": {},
      "outputs": [
        {
          "output_type": "stream",
          "name": "stdout",
          "text": [
            "D - a - r - k -   - V - a - d - o - r - "
          ]
        }
      ],
      "source": [
        "# Parcours d'une chaîne de caractères\n",
        "for char in \"Dark Vador\":\n",
        "    print(char, end=\" - \")"
      ],
      "id": "243282af-573e-4740-8f45-0f41a8722832"
    },
    {
      "cell_type": "code",
      "execution_count": 19,
      "metadata": {},
      "outputs": [
        {
          "output_type": "stream",
          "name": "stdout",
          "text": [
            "Salut les lapinous"
          ]
        }
      ],
      "source": [
        "import time\n",
        "\n",
        "message = \"Salut les lapinous\"\n",
        "for i in range(len(message)):\n",
        "    time.sleep(0.5)\n",
        "    print(message[i], end=\"\")"
      ],
      "id": "a3fbd442-7d4a-40e0-8e3e-4d7f74587786"
    },
    {
      "cell_type": "code",
      "execution_count": 12,
      "metadata": {},
      "outputs": [
        {
          "output_type": "stream",
          "name": "stdout",
          "text": [
            "sucre\n",
            "poire\n",
            "lait\n",
            "sel"
          ]
        }
      ],
      "source": [
        "ingredients = {'sucre': '100g', 'poire': 2, 'lait': '1L', 'sel': True}\n",
        "\n",
        "# Parcours des clés d'un dictionnaire\n",
        "for cle in ingredients:\n",
        "    print(cle)"
      ],
      "id": "93bc590c-94db-4f5d-9b9f-4dad7b2c3dec"
    },
    {
      "cell_type": "markdown",
      "metadata": {},
      "source": [
        "## La boucle while\n",
        "\n",
        "Le principe de la boucle **while** est le suivant : \\* une condition\n",
        "d’entrée dans la boucle est définie \\* tant que la condition est\n",
        "vérifiée, le code dans la boucle est exécuté \\* et ainsi de suite,\n",
        "jusqu’à ce que l’on sorte de la boucle (ou que l’on reste coincé dedans\n",
        "à tout jamais…)"
      ],
      "id": "6d2a0956-368a-4a97-9d82-b004d3307b8c"
    },
    {
      "cell_type": "code",
      "execution_count": 32,
      "metadata": {},
      "outputs": [
        {
          "output_type": "stream",
          "name": "stdout",
          "text": [
            "5...4...3...2...1...0...Boom"
          ]
        }
      ],
      "source": [
        "cpt = 5\n",
        "while cpt >= 0:\n",
        "    print(cpt, end=\"...\")\n",
        "    cpt -= 1      # cpt = cpt - 1\n",
        "print(\"Boom\")"
      ],
      "id": "90e966ed"
    },
    {
      "cell_type": "code",
      "execution_count": 35,
      "metadata": {},
      "outputs": [
        {
          "output_type": "stream",
          "name": "stdout",
          "text": [
            "Ce n'est pas un nombre pair.\n",
            "Ce n'est pas un nombre pair.\n",
            "Merci, vous avez entré un nombre pair."
          ]
        }
      ],
      "source": [
        "user_input = input(\"Entrez un nombre pair : \")\n",
        "while int(user_input) % 2 != 0:\n",
        "    print(\"Ce n'est pas un nombre pair.\")\n",
        "    user_input = input(\"Entrez un nombre pair : \")\n",
        "print(\"Merci, vous avez entré un nombre pair.\")"
      ],
      "id": "f60d63f7-5195-4eb1-8eaf-6d67e7b6eb63"
    },
    {
      "cell_type": "markdown",
      "metadata": {},
      "source": [
        "### Critère d’arrêt\n",
        "\n",
        "La différence principale avec la boucle **for** est le critère\n",
        "d’arrêt.  \n",
        "Dans une boucle **for**, ce critère est clair : la boucle itère sur les\n",
        "éléments d’un objet itérable, nécessairement de taille finie.\n",
        "\n",
        "Au contraire, dans la boucle **while**, ce critère peut ne jamais se\n",
        "réaliser et l’on se retrouve alors dans une boucle infinie…\n",
        "\n",
        "Par exemple si l’on se trompe dans le nom des indices, voici le résultat\n",
        ":"
      ],
      "id": "1a38779c-129c-4dea-ac8b-ae6b6bb0bf48"
    },
    {
      "cell_type": "code",
      "execution_count": null,
      "metadata": {},
      "outputs": [],
      "source": [
        "# Utilisez le bouton \"Stop\" (carré noir) de Jupyter pour arrêter le programme en cours\n",
        "i = 1\n",
        "j = 1\n",
        "while i <= 5:\n",
        "    j = j + 1"
      ],
      "id": "1ce2c93f"
    },
    {
      "cell_type": "markdown",
      "metadata": {},
      "source": [
        "Comme `i = 1` et ne change jamais, la condition `i <= 5` est toujours\n",
        "égale à **True**"
      ],
      "id": "9394416d-b327-46dc-93d1-f7b6fec0dea0"
    },
    {
      "cell_type": "code",
      "execution_count": 34,
      "metadata": {},
      "outputs": [
        {
          "output_type": "stream",
          "name": "stdout",
          "text": [
            "1\n",
            "67414191"
          ]
        }
      ],
      "source": [
        "print(i)\n",
        "print(j)"
      ],
      "id": "0f94122a"
    },
    {
      "cell_type": "markdown",
      "metadata": {},
      "source": [
        "## L’instruction break\n",
        "\n",
        "Une autre possibilité pour sortir d’une boucle **for** ou **while** est\n",
        "d’utiliser l’instruction **break**.\n",
        "\n",
        "Le code ci-dessous montre une utilisation de cette instruction : \\* On\n",
        "rentre dans une boucle infinie (`While true`) \\* Le seul moyen d’en\n",
        "sortir est de trouver le bon nombre, ce qui nous envoie vers le `break`\n",
        "\n",
        "Le code contient également des instructions `try` et `except` qui gérent\n",
        "le cas ou la valeur saisie n’est pas numérique.\n",
        "\n",
        "Remarque : en cas de boucles imbriquées, le **break** ne met fin qu’à la\n",
        "boucle de niveau supérieur."
      ],
      "id": "7ebc0eb9-ae50-469c-8bcc-792db25e6668"
    },
    {
      "cell_type": "code",
      "execution_count": 1,
      "metadata": {},
      "outputs": [
        {
          "output_type": "stream",
          "name": "stdout",
          "text": [
            "Entrez un nombre entre 1 et 20\n",
            "c'est plus\n",
            "c'est plus\n",
            "c'est moins\n",
            "Félicitations, vous avez trouvé le nombre secret : 16"
          ]
        }
      ],
      "source": [
        "import random\n",
        "\n",
        "nombre_aleatoire = random.randint(1, 20)\n",
        "\n",
        "print(\"Entrez un nombre entre 1 et 20\")\n",
        "while True:\n",
        "    nombre_saisi = input()\n",
        "    try:\n",
        "        nombre_saisi = int(nombre_saisi)\n",
        "        if nombre_saisi == nombre_aleatoire:\n",
        "            break\n",
        "        elif nombre_saisi < 1 or nombre_saisi > 20:\n",
        "            print(\"Entre 1 et 20 !!!\")        \n",
        "        elif nombre_saisi > nombre_aleatoire:\n",
        "            print(\"c'est moins\")\n",
        "        elif nombre_saisi < nombre_aleatoire:\n",
        "            print(\"c'est plus\")\n",
        "    except ValueError:\n",
        "        print(\"Veuillez entrer un entier valide\")\n",
        "        \n",
        "print(\"Félicitations, vous avez trouvé le nombre secret :\", nombre_aleatoire)"
      ],
      "id": "206829d8"
    },
    {
      "cell_type": "markdown",
      "metadata": {},
      "source": [
        "## L’instruction continue\n",
        "\n",
        "L’instruction **continue** permet de passer à l’itération suivante de la\n",
        "boucle.\n",
        "\n",
        "Dans l’exemple ci-dessus : \\* on rentre dans une boucle infinie \\* tant\n",
        "que l’on ne rentre pas le bon prénom, on recommence au début de la\n",
        "boucle \\* puis on ne sort de la boucle que lorsque l’on a rentré le bon\n",
        "mot de passe"
      ],
      "id": "3f64cda0-588d-4d0a-a9b9-41f9f4a2cde1"
    },
    {
      "cell_type": "code",
      "execution_count": 3,
      "metadata": {},
      "outputs": [
        {
          "output_type": "stream",
          "name": "stdout",
          "text": [
            "Veuillez entrer votre prénom.\n",
            "Veuillez entrer votre mot de passe.\n",
            "Bienvenue alice"
          ]
        }
      ],
      "source": [
        "votre_prenom = \"alice\"\n",
        "\n",
        "while True:\n",
        "    print(\"Veuillez entrer votre prénom.\")\n",
        "    prenom = input()\n",
        "    if prenom != votre_prenom:\n",
        "        continue\n",
        "    print(\"Veuillez entrer votre mot de passe.\")\n",
        "    mdp = input()\n",
        "    if mdp == \"123456\":\n",
        "        break\n",
        "print(\"Bienvenue \" + votre_prenom)"
      ],
      "id": "ca4de212"
    },
    {
      "cell_type": "markdown",
      "metadata": {},
      "source": [
        "------------------------------------------------------------------------\n",
        "\n",
        "# Exercices\n",
        "\n",
        "## Exercice 1\n",
        "\n",
        "Ecrire un programme qui calcule la somme des 10 premiers entiers au\n",
        "carré.  \n",
        "Ecrire un programme qui calcule la somme des 5 premiers entiers impairs\n",
        "au carré."
      ],
      "id": "521402f8-b1ee-42f1-beed-61366aa77b2a"
    },
    {
      "cell_type": "code",
      "execution_count": 5,
      "metadata": {},
      "outputs": [
        {
          "output_type": "display_data",
          "metadata": {},
          "data": {
            "text/plain": [
              "165"
            ]
          }
        }
      ],
      "source": [
        "# Testez votre réponse dans cette cellule\n"
      ],
      "id": "976b103e-b63a-45c8-8738-17bade175e17"
    },
    {
      "cell_type": "code",
      "execution_count": 11,
      "metadata": {},
      "outputs": [
        {
          "output_type": "display_data",
          "metadata": {},
          "data": {
            "text/plain": [
              "165"
            ]
          }
        }
      ],
      "source": [
        "# Remarque : avec Python il est possible parfois de condenser l'écriture\n",
        "sum(i**2 for i in range(1,11) if i%2 == 1)"
      ],
      "id": "399462b9-8d4b-4c85-b4d7-6153268eaa7f"
    },
    {
      "cell_type": "markdown",
      "metadata": {},
      "source": [
        "## Exercice 2\n",
        "\n",
        "Ré-écrivez le code ci-dessous à l’aide d’une boucle **for**.  \n",
        "Indice : explorez les différentes utilisations de la méthode **range()**"
      ],
      "id": "2af99c0b-079a-4659-9bef-e4bfd7b36b50"
    },
    {
      "cell_type": "code",
      "execution_count": 1,
      "metadata": {},
      "outputs": [
        {
          "output_type": "stream",
          "name": "stdout",
          "text": [
            "5\n",
            "4\n",
            "3\n",
            "2\n",
            "1\n",
            "0\n",
            "Boom"
          ]
        }
      ],
      "source": [
        "cpt = 5\n",
        "while cpt >= 0:\n",
        "    print(cpt)\n",
        "    cpt -= 1      # cpt = cpt - 1\n",
        "print(\"Boom\")"
      ],
      "id": "82460e71"
    },
    {
      "cell_type": "code",
      "execution_count": null,
      "metadata": {
        "tags": []
      },
      "outputs": [],
      "source": [
        "# Testez votre réponse dans cette cellule\n"
      ],
      "id": "dd23a799"
    },
    {
      "cell_type": "markdown",
      "metadata": {},
      "source": [
        "## Exercice 3\n",
        "\n",
        "Réécrivez la boucle `for` suivante à l’aide d’une boucle `while`."
      ],
      "id": "d8a92bdd-6e58-4f7d-bf9a-942fcb6e9c6c"
    },
    {
      "cell_type": "code",
      "execution_count": 7,
      "metadata": {
        "tags": []
      },
      "outputs": [
        {
          "output_type": "stream",
          "name": "stdout",
          "text": [
            "La note numéro 0 de la gamme de do majeur est do\n",
            "La note numéro 1 de la gamme de do majeur est re\n",
            "La note numéro 2 de la gamme de do majeur est mi\n",
            "La note numéro 3 de la gamme de do majeur est fa\n",
            "La note numéro 4 de la gamme de do majeur est sol\n",
            "La note numéro 5 de la gamme de do majeur est la\n",
            "La note numéro 6 de la gamme de do majeur est si"
          ]
        }
      ],
      "source": [
        "gamme = ['do', 're', 'mi', 'fa', 'sol', 'la', 'si']\n",
        "\n",
        "for i, note in enumerate(gamme):\n",
        "    print(\"La note numéro \" + str(i) + \" de la gamme de do majeur est \" + note)"
      ],
      "id": "6e2a0582"
    },
    {
      "cell_type": "code",
      "execution_count": null,
      "metadata": {
        "tags": []
      },
      "outputs": [],
      "source": [
        "# Testez votre réponse dans cette cellule\n"
      ],
      "id": "9bb2bf36"
    },
    {
      "cell_type": "markdown",
      "metadata": {},
      "source": [
        "## Exercice 4\n",
        "\n",
        "Triez la liste ci-dessous à l’aide de 2 boucles **for** (sans utiliser\n",
        "de méthode toute faite de tri) : \\*\n",
        "`liste = [34, 7, 20, 12, 50, 23, 16, 28, 6, 11, 19, 13, 26, 8, 9]`"
      ],
      "id": "4536e67b-1e62-4c2f-bb29-37fe398e976b"
    },
    {
      "cell_type": "code",
      "execution_count": null,
      "metadata": {
        "tags": []
      },
      "outputs": [],
      "source": [
        "# Testez votre réponse dans cette cellule\n"
      ],
      "id": "d52550ab"
    },
    {
      "cell_type": "markdown",
      "metadata": {},
      "source": [
        "## Exercice 5\n",
        "\n",
        "Ecrivez un programme permettant de calculer les 10 premiers termes de la\n",
        "suite de Fibonacci à l’aide d’une boucle **for**.  \n",
        "Même question avec une boucle **while**.\n",
        "\n",
        "Rappel : La suite de Fibonacci se définit de la manière suivante : - les\n",
        "deux premiers nombres sont 0 et 1 - chaque autre nombre de la suite\n",
        "s’obtient en additionnant les deux nombres qui le précèdent"
      ],
      "id": "014dcc43-995b-4dac-91dd-07f32a1c5f70"
    },
    {
      "cell_type": "code",
      "execution_count": null,
      "metadata": {
        "tags": []
      },
      "outputs": [],
      "source": [
        "# Testez votre réponse dans cette cellule\n"
      ],
      "id": "5142f201"
    },
    {
      "cell_type": "markdown",
      "metadata": {},
      "source": [
        "## Exercice 6\n",
        "\n",
        "Calculer le minimum et le maximum de la série de valeurs suivantes, sans\n",
        "utiliser les fonctions `min` et `max` de Python.\n",
        "\n",
        "x = \\[8, 18, 6, 0, 15, 17.5, 9, 1\\]"
      ],
      "id": "74668f10-6f6e-4f17-a5c3-8769ccfbee70"
    },
    {
      "cell_type": "code",
      "execution_count": 6,
      "metadata": {
        "tags": []
      },
      "outputs": [],
      "source": [
        "# Testez votre réponse dans cette cellule\n"
      ],
      "id": "45434230"
    },
    {
      "cell_type": "markdown",
      "metadata": {},
      "source": [
        "## Exercice 7\n",
        "\n",
        "À l’aide de boucles **for** et **while**, parcourez ce dictionnaire et\n",
        "affichez la moyenne de chaque élève."
      ],
      "id": "48bad482-5cdb-4ecf-b09e-78edaab7edef"
    },
    {
      "cell_type": "code",
      "execution_count": 6,
      "metadata": {
        "tags": []
      },
      "outputs": [],
      "source": [
        "notes = {\n",
        "    \"Miranda\"  : [16, 5, 8, 12],\n",
        "    \"Celestin\" : [19, 1, 7, 10],\n",
        "    \"Hypolyte\" : [18, 3, 12],\n",
        "    \"Josephine\": [12, 15, 14, 14]\n",
        "}"
      ],
      "id": "0d906097"
    },
    {
      "cell_type": "code",
      "execution_count": 1,
      "metadata": {},
      "outputs": [],
      "source": [
        "# Testez votre réponse dans cette cellule\n"
      ],
      "id": "fd5ef412-0be8-47e1-86fc-91e22260b5cc"
    },
    {
      "cell_type": "markdown",
      "metadata": {},
      "source": [
        "## Exercice 8\n",
        "\n",
        "Calculer la moyenne et la variance de la série de valeurs suivantes,\n",
        "sans utiliser des fonctions déjà codées :\n",
        "\n",
        "x = \\[8, 18, 6, 0, 15, 17.5, 9, 1\\]\n",
        "\n",
        "Pour rappel, les formules sont : - moyenne :\n",
        "$$\\bar{x} = {\\frac {1}{n}}\\sum_{i=1}^{n}x_{i}$$ - variance :\n",
        "$$\\sigma^2 = {\\frac {1}{n}}\\sum_{i=1}^{n} (x_{i}-\\bar{x})^2$$"
      ],
      "id": "79039cb5-9de9-482e-bce3-9e57a63e263b"
    },
    {
      "cell_type": "code",
      "execution_count": null,
      "metadata": {
        "tags": []
      },
      "outputs": [],
      "source": [
        "# Testez votre réponse dans cette cellule\n"
      ],
      "id": "120ddc65"
    },
    {
      "cell_type": "code",
      "execution_count": 10,
      "metadata": {},
      "outputs": [
        {
          "output_type": "stream",
          "name": "stdout",
          "text": [
            "Mean     :  9.3125\n",
            "Variance :  42.93359375"
          ]
        }
      ],
      "source": [
        "# Pour vérifier vos résultats\n",
        "import numpy as np\n",
        "\n",
        "# Create an array of numbers\n",
        "x = [8, 18, 6, 0, 15, 17.5, 9, 1]\n",
        "\n",
        "print(\"Mean     : \", np.mean(x))\n",
        "print(\"Variance : \", np.var(x))"
      ],
      "id": "b4d87253-5f62-49eb-8072-2ccc7d6f116f"
    }
  ],
  "nbformat": 4,
  "nbformat_minor": 5,
  "metadata": {
    "jupytext": {
      "cell_metadata_filter": "tags,-all",
      "main_language": "python",
      "notebook_metadata_filter": "-all"
    },
    "kernelspec": {
      "name": "python3",
      "display_name": "Python 3",
      "language": "python"
    },
    "language_info": {
      "name": "python",
      "codemirror_mode": {
        "name": "ipython",
        "version": "3"
      },
      "file_extension": ".py",
      "mimetype": "text/x-python",
      "nbconvert_exporter": "python",
      "pygments_lexer": "ipython3",
      "version": "3.7.10"
    }
  }
}