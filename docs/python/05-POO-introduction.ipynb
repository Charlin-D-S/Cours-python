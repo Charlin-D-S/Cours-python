{
  "cells": [
    {
      "cell_type": "markdown",
      "metadata": {},
      "source": [
        "# Introduction à la POO\n",
        "\n",
        "Ludovic Deneuville\n",
        "\n",
        "## Avant de commencer\n",
        "\n",
        "-   Téléchargez ce\n",
        "    <a href=\"05-POO-introduction.ipynb\" target=\"_blank\">notebook Jupyter</a>\n",
        "-   Connectez-vous au\n",
        "    <a href=\"https://jupyther.ensai.fr/\" target=\"_blank\">Jupyter</a>\n",
        "    ENSAI avec id et mot de passe\n",
        "    -   ou une autre plate-forme (SSPCloud, Jupyter Lab, Google Colab,\n",
        "        Kaggle…)\n",
        "-   Importez le fichier .ipynb\n",
        "\n",
        "## 1 La programmation orientée objet\n",
        "\n",
        "La Programmation Orientée Objet (POO) est un paradigme de programmation\n",
        "qui permet de structurer les programmes autour d’**objets**, qui\n",
        "contiennent :\n",
        "\n",
        "-   des **attributs** (caractéristiques de l’objet)\n",
        "-   des **méthodes** (fonctions propres à l’objet)\n",
        "\n",
        "En Python, il est possible mais pas obligatoire d’utiliser la POO.\n",
        "Cependant, le fonctionnement interne de Python est fortement teinté de\n",
        "POO.\n",
        "\n",
        "### 1.1 « Tout est objet »\n",
        "\n",
        "**En Python, tout est un objet** (au sens de la POO). Regardons ce que\n",
        "cela signifie en récupérant le type de différents objets que nous avons\n",
        "vus dans les précédents tutoriels."
      ],
      "id": "208b0faf-04d4-488a-9972-c13b574aab3c"
    },
    {
      "cell_type": "code",
      "execution_count": 1,
      "metadata": {},
      "outputs": [],
      "source": [
        "print(type(1))\n",
        "print(type(\"bonjour\"))\n",
        "print(type([]))\n",
        "print(type({}))          \n",
        "print(type(lambda x: x**2))"
      ],
      "id": "9ca00ff1"
    },
    {
      "cell_type": "markdown",
      "metadata": {},
      "source": [
        "### 1.2 Définir ses propres objets\n",
        "\n",
        "Pour créer un **objet**, nous avons besoin dans un premier temps d’un\n",
        "modèle : une **classe**.  \n",
        "Nous pouvons voir la classe comme un « *moule* » qui permettra ensuite\n",
        "de construire des objets.  \n",
        "Par exemple, nous créons une classe `Velo` dont voici la documentation :\n",
        "\n",
        "``` python\n",
        "    \"\"\"\n",
        "    Classe représentant un vélo.\n",
        "\n",
        "    Attributs:\n",
        "        couleur (str): La couleur du vélo.\n",
        "        vitesse (int): La vitesse actuelle du vélo.\n",
        "        porte_bagage (bool): Indique si le vélo a un porte-bagage.\n",
        "\n",
        "    Méthodes:\n",
        "        __init__(couleur, porte_bagage=False): Construit un nouvel objet Velo \n",
        "        __str__(): représentation en chaîne de caractères d'un objet Velo\n",
        "        accelerer(acceleration): Accélère le vélo en ajoutant l'accélération à sa vitesse actuelle.\n",
        "        ralentir(deceleration): Ralentit le vélo en soustrayant la décélération de sa vitesse actuelle.\n",
        "        installer_porte_bagage(): Installe un porte-bagage sur le vélo en le mettant à True.\n",
        "        est_arrete(): Vérifie si le vélo est complètement arrêté.\n",
        "\n",
        "    \"\"\"\n",
        "```"
      ],
      "id": "bb01447e-df71-41e6-9cdd-a00ce69081b1"
    },
    {
      "cell_type": "code",
      "execution_count": 2,
      "metadata": {},
      "outputs": [],
      "source": [
        "class Velo:\n",
        "    def __init__(self, couleur, porte_bagage=False):\n",
        "        self.couleur = couleur\n",
        "        self.vitesse = 0\n",
        "        self.porte_bagage = porte_bagage\n",
        "        \n",
        "    def __str__(self):\n",
        "        s = \"Je suis un vélo \" + self.couleur + \".\"\n",
        "        s += \" Ma vitesse est de : \" + str(self.vitesse) + \".\"\n",
        "        if self.porte_bagage:\n",
        "            s += \" J'ai un porte-bagages.\"\n",
        "        return s\n",
        "\n",
        "    def accelerer(self, acceleration):\n",
        "        self.vitesse += acceleration\n",
        "\n",
        "    def ralentir(self, deceleration):\n",
        "        self.vitesse -= deceleration\n",
        "        if self.vitesse < 0:\n",
        "            self.vitesse = 0\n",
        "\n",
        "    def installer_porte_bagage(self):\n",
        "        self.porte_bagage = True\n",
        "            \n",
        "    def est_arrete(self):\n",
        "        return self.vitesse == 0"
      ],
      "id": "8a565f49"
    },
    {
      "cell_type": "markdown",
      "metadata": {},
      "source": [
        "Avec cette classe nous pouvons maintenant créer des **instances**\n",
        "(objets) de type `Velo`"
      ],
      "id": "6a41741c-1b8c-4af6-a408-3d026061f8e9"
    },
    {
      "cell_type": "code",
      "execution_count": 3,
      "metadata": {},
      "outputs": [],
      "source": [
        "v1 = Velo(\"bleu\")\n",
        "print(v1)\n",
        "\n",
        "v2 = Velo(\"violet\", True)\n",
        "print(v2)"
      ],
      "id": "094aa590"
    },
    {
      "cell_type": "code",
      "execution_count": 4,
      "metadata": {},
      "outputs": [],
      "source": [
        "## Nous pouvons appliquer les méthodes définies dans la classe à cet objet velo\n",
        "v1.accelerer(20)\n",
        "v1.installer_porte_bagage()\n",
        "print(v1)"
      ],
      "id": "a6ea0312"
    },
    {
      "cell_type": "markdown",
      "metadata": {},
      "source": [
        "Analysons la syntaxe de construction d’une classe d’objets :\n",
        "\n",
        "-   l’instruction `class` définit la **classe d’objets**. Différents\n",
        "    objets pourront être créés selon le modèle défini par cette\n",
        "    classe.  \n",
        "    Par convention, le nom de la classe doit commencer par une\n",
        "    majuscule.\n",
        "-   la classe spécifie un certains nombres de fonctions que l’on appelle\n",
        "    **méthodes** : ce sont des fonctions spécifiques à la classe\n",
        "    d’objets définie.\n",
        "-   la méthode `__init__`, est appelée le **constructeur**. Elle est\n",
        "    **obligatoire**, sinon il est impossible d’instancier d’objets de la\n",
        "    classe.  \n",
        "    Elle permet de définir les **attributs** attachés à cette classe\n",
        "    d’objets.  \n",
        "    Il est possible de passer des paramètres au constructeur (ex :\n",
        "    `couleur`) pour définir des attributs propres à une **instance** de\n",
        "    l’objet.\n",
        "-   le constructeur a un paramètre obligatoire : `self`. C’est une\n",
        "    référence aux **instances** qui vont être créées à partir de cette\n",
        "    classe.  \n",
        "    La syntaxe suivante définit un attribut : `self.attribut = valeur`.\n",
        "-   La méthode `__str__` (facultative) permet de redéfinir la\n",
        "    représentation en chaîne de caractères d’un objet.\n",
        "-   les autres méthodes sont définies par l’utilisateur. Elles prennent\n",
        "    également le `self` en paramètre, pour accéder aux attributs et\n",
        "    méthodes.  \n",
        "    Comme ce sont des fonctions, elles peuvent également admettre\n",
        "    d’autres paramètres.\n",
        "\n",
        "### 1.3 Attributs\n",
        "\n",
        "Un attribut est une **variable associée à un objet**. Un attribut peut\n",
        "contenir n’importe quel objet Python.\n",
        "\n",
        "#### Accéder aux attributs\n",
        "\n",
        "Une fois que l’objet est instancié, il est possible d’accéder à ses\n",
        "attributs. La syntaxe est simple : `instance.attribut`."
      ],
      "id": "4d2d6f72-517c-436a-b33b-9a87a78e8366"
    },
    {
      "cell_type": "code",
      "execution_count": 5,
      "metadata": {},
      "outputs": [],
      "source": [
        "print(v1.couleur)\n",
        "print(v2.couleur)\n",
        "print()\n",
        "print(v1.vitesse)\n",
        "print(v2.vitesse)"
      ],
      "id": "494b6ee6"
    },
    {
      "cell_type": "markdown",
      "metadata": {},
      "source": [
        "On voit bien que les deux instances sont **autonomes** : bien qu’elles\n",
        "soient du même type, leurs attributs diffèrent.\n",
        "\n",
        "#### Modifier un attribut\n",
        "\n",
        "Modifier un attribut d’une instance est très simple, la syntaxe est :\n",
        "`instance.attribut = nouvelle_valeur`."
      ],
      "id": "e4cc5276-0d5b-4474-a1be-c9409a6fbbce"
    },
    {
      "cell_type": "code",
      "execution_count": 6,
      "metadata": {},
      "outputs": [],
      "source": [
        "v2.couleur = \"jaune\"\n",
        "print(v2.couleur)"
      ],
      "id": "ac0f0e50"
    },
    {
      "cell_type": "markdown",
      "metadata": {},
      "source": [
        "#### Attributs de classe\n",
        "\n",
        "Chaque instance de `Velo` a ses propres attributs d’instance (couleur,\n",
        "vitesse, porte_bagage).  \n",
        "Il est possible d’avoir des attributs communs à tous les Velos : **les\n",
        "attributs de classe**.\n",
        "\n",
        "Créons la classe `VeloBis` pour illustrer avec un attribut comptant le\n",
        "nombre de `VeloBis` créés."
      ],
      "id": "a9c14b54-43da-433c-9a96-aa4080497282"
    },
    {
      "cell_type": "code",
      "execution_count": 7,
      "metadata": {},
      "outputs": [],
      "source": [
        "class VeloBis:\n",
        "    nb_velos_bis = 0                                       # Attribut de classe pour compter le nombre de VeloBis\n",
        "\n",
        "    def __init__(self, couleur, porte_bagage=False):\n",
        "        self.couleur = couleur\n",
        "        self.vitesse = 0\n",
        "        self.porte_bagage = porte_bagage\n",
        "        VeloBis.nb_velos_bis += 1"
      ],
      "id": "3eacd17a"
    },
    {
      "cell_type": "code",
      "execution_count": 8,
      "metadata": {},
      "outputs": [],
      "source": [
        "print(VeloBis.nb_velos_bis)\n",
        "vb1 = VeloBis(\"rose\")\n",
        "print(VeloBis.nb_velos_bis)\n",
        "vb2 = VeloBis(\"orange\")\n",
        "print(VeloBis.nb_velos_bis)"
      ],
      "id": "47269b09"
    },
    {
      "cell_type": "markdown",
      "metadata": {},
      "source": [
        "### 1.4 Méthodes\n",
        "\n",
        "Une méthode est une **fonction associée à un objet**. Elle peut utiliser\n",
        "ses attributs, les modifier, et faire intervenir d’autres méthodes de\n",
        "l’objet.\n",
        "\n",
        "#### Appeler une méthode\n",
        "\n",
        "La syntaxe pour appeler une méthode d’un objet instancié est la suivante\n",
        ": `instance.methode(parametres)`."
      ],
      "id": "cee82925-b0cc-455a-ae60-54edf7a6d508"
    },
    {
      "cell_type": "code",
      "execution_count": 9,
      "metadata": {},
      "outputs": [],
      "source": [
        "v1.est_arrete()"
      ],
      "id": "b7376a9b"
    },
    {
      "cell_type": "markdown",
      "metadata": {},
      "source": [
        "**Remarque** : les méthodes n’ont pas d’existence propre en dehors de\n",
        "l’objet.  \n",
        "Nous ne pouvons pas appeler la méthode `est_arrete()` seule, cela n’a\n",
        "pas de sens."
      ],
      "id": "11495faa-1a84-4eea-9565-ad4bf037e401"
    },
    {
      "cell_type": "code",
      "execution_count": 10,
      "metadata": {},
      "outputs": [],
      "source": [
        "est_arrete()"
      ],
      "id": "fbfc806e"
    },
    {
      "cell_type": "markdown",
      "metadata": {},
      "source": [
        "**Remarque 2** :\n",
        "\n",
        "-   le 1er paramètre de chaque méthode d’instance est toujours `self`\n",
        "    pour faire référence à l’objet lui même\n",
        "-   lors des appels aux méthodes, on ne spécifie pas ce paramètre `self`\n",
        "\n",
        "#### Agir sur les attributs\n",
        "\n",
        "Tout l’intérêt des méthodes est qu’elles peuvent accéder aux attributs,\n",
        "les modifier et mettre en place des contrôles.  \n",
        "Par exemple :\n",
        "\n",
        "-   si l’on n’utilise pas les méthodes `accelerer` et `decelerer`, il\n",
        "    est possible de se retrouver avec une vitesse négative"
      ],
      "id": "fd20cd1b-d7ea-4f2d-a4e4-690aafd8066c"
    },
    {
      "cell_type": "code",
      "execution_count": 11,
      "metadata": {},
      "outputs": [],
      "source": [
        "v1.vitesse = -10\n",
        "print(v1)"
      ],
      "id": "aa3c58ed"
    },
    {
      "cell_type": "markdown",
      "metadata": {},
      "source": [
        "Modifier directement un attribut de cette manière est une mauvaise\n",
        "pratique car on n’effectue aucun contrôle sur ce qui est saisi.  \n",
        "Il est possible d’aller encore plus loin :"
      ],
      "id": "0699611b-94ce-46ee-b698-59d96c9dfc98"
    },
    {
      "cell_type": "code",
      "execution_count": 12,
      "metadata": {},
      "outputs": [],
      "source": [
        "v1.vitesse = \"Jean-Michel\"\n",
        "print(v1)"
      ],
      "id": "9b0b8df1"
    },
    {
      "cell_type": "markdown",
      "metadata": {},
      "source": [
        "En utilisant les **méthodes**, cela évite de se retrouver dans des\n",
        "situations absurdes ou incohérentes."
      ],
      "id": "f3921fa2-8b24-4899-896f-a5512475233d"
    },
    {
      "cell_type": "code",
      "execution_count": 13,
      "metadata": {},
      "outputs": [],
      "source": [
        "v1 = Velo(\"Bleu\")\n",
        "v1.accelerer(10)\n",
        "print(v1)\n",
        "v1.ralentir(20)\n",
        "print(v1)"
      ],
      "id": "ba27b8d9"
    },
    {
      "cell_type": "markdown",
      "metadata": {},
      "source": [
        "### 1.5 Bonus : la classe Property\n",
        "\n",
        "Pour écarter tout problème, une solution intéressante est d’utiliser la\n",
        "classe\n",
        "[**property**](https://python.sdv.univ-paris-diderot.fr/19_avoir_la_classe_avec_les_objets/#1952-la-solution-la-classe-property).  \n",
        "Cette classe property permet sans changer la syntaxe d’accès aux\n",
        "attributs d’appeler des mutateurs."
      ],
      "id": "ca09244d-4738-4b58-969d-c39cc1c24d21"
    },
    {
      "cell_type": "code",
      "execution_count": 14,
      "metadata": {},
      "outputs": [],
      "source": [
        "class Velo:\n",
        "    def __init__(self, couleur, porte_bagage=False):\n",
        "        self.couleur = couleur\n",
        "        self._vitesse = 0                                    # Attribut privé pour stocker la vitesse\n",
        "        self.porte_bagage = porte_bagage\n",
        "\n",
        "    def __str__(self):\n",
        "        s = \"Je suis un vélo \" + self.couleur + \".\"\n",
        "        s += \" Ma vitesse est de : \" + str(self.vitesse) + \".\"\n",
        "        if self.porte_bagage:\n",
        "            s += \" J'ai un porte-bagages.\"\n",
        "        return s\n",
        "\n",
        "    @property\n",
        "    def vitesse(self):\n",
        "        return self._vitesse\n",
        "\n",
        "    @vitesse.setter\n",
        "    def vitesse(self, nouvelle_vitesse):\n",
        "        if nouvelle_vitesse >= 0:\n",
        "            self._vitesse = nouvelle_vitesse\n",
        "        else:\n",
        "            raise ValueError(\"La vitesse doit être un nombre positif.\")\n",
        "\n",
        "    def installer_porte_bagage(self):\n",
        "        self.porte_bagage = True\n",
        "\n",
        "    def est_arrete(self):\n",
        "        return self.vitesse == 0"
      ],
      "id": "6e0ffb34"
    },
    {
      "cell_type": "code",
      "execution_count": 15,
      "metadata": {},
      "outputs": [],
      "source": [
        "v3 = Velo(\"noir\")\n",
        "print(v3)\n",
        "v3.vitesse = 10\n",
        "print(v3)\n",
        "v3.vitesse = -20\n",
        "print(v3)"
      ],
      "id": "f89ce208"
    },
    {
      "cell_type": "markdown",
      "metadata": {},
      "source": [
        "------------------------------------------------------------------------\n",
        "\n",
        "## 2 Bonnes pratiques\n",
        "\n",
        "Pour conclure cette introduction au langage Python, voici une liste de\n",
        "bonnes pratiques généralement suivies par les développeurs.  \n",
        "Le respect de ces pratiques est fortement recommandé et vous aidera à\n",
        "mieux coder.\n",
        "\n",
        "### 2.1 Convention de nommage\n",
        "\n",
        "-   variables\n",
        "    -   donner des noms explicites (éviter les `toto`, `var1` …)\n",
        "    -   en minuscules avec des mots séparés par des underscores\n",
        "        (snake_case)\n",
        "        -   exception pour les variables **constantes** : utiliser des\n",
        "            MAJUSCULES avec des mots séparés par des underscores\n",
        "    -   cela permet d’avoir un code plus lisible pour vous même et pour\n",
        "        les autres\n",
        "-   fonctions et méthodes\n",
        "    -   idem que pour les variables\n",
        "-   classes\n",
        "    -   utiliser le **camelCase** : chaque mot commence par une\n",
        "        Majuscule.\n",
        "    -   ex : `VeloElectrique`\n",
        "\n",
        "### 2.2 Indenter correctement le code\n",
        "\n",
        "Utilisez une indentation de 4 espaces pour chaque niveau\n",
        "d’indentation.  \n",
        "L’indentation correcte est essentielle en Python, car elle détermine la\n",
        "structure du code.\n",
        "\n",
        "### 2.3 Ajouter des commentaires pertinents\n",
        "\n",
        "Dès qu’il y a un peu de complexité, commentez votre code pour expliquer\n",
        "son fonctionnement.  \n",
        "Ajoutez des docstrings aux fonctions, classes et modules pour expliquer\n",
        "leur fonctionnement, leurs paramètres et leurs valeurs de retour.\n",
        "\n",
        "------------------------------------------------------------------------\n",
        "\n",
        "## 3 Exercices\n",
        "\n",
        "### 3.1 Exercice 1\n",
        "\n",
        "Créez une classe `Etudiant` avec les attributs :\n",
        "\n",
        "-   nom\n",
        "-   age\n",
        "-   liste_notes\n",
        "\n",
        "Avec les méthodes :\n",
        "\n",
        "-   **init**() : constructeur\n",
        "-   ajouter_note() : pour ajouter une nouvelle note à la liste\n",
        "-   calculer_moyenne() : calculer la moyenne des notes"
      ],
      "id": "90cea8d4-c3c7-4179-9fa4-b84867c9cc38"
    },
    {
      "cell_type": "code",
      "execution_count": 16,
      "metadata": {},
      "outputs": [],
      "source": [
        "## Testez votre réponse dans cette cellule"
      ],
      "id": "b766d544"
    },
    {
      "cell_type": "markdown",
      "metadata": {},
      "source": [
        "### 3.2 Exercice 2\n",
        "\n",
        "Créer une classe `Point` qui représente les coordonnées d’un point en\n",
        "2D.  \n",
        "Ajouter une méthode distance(autre_point) qui calcule la distance avec\n",
        "un autre point.\n",
        "\n",
        "Créez une classe `Cercle` avec les attributs centre (de la classe Point)\n",
        "et rayon.  \n",
        "Ajoutez une méthode calculer_surface() qui renvoie la surface du cercle."
      ],
      "id": "90a1eba6-4253-4e8f-8a63-e8e773bab7bc"
    },
    {
      "cell_type": "code",
      "execution_count": 17,
      "metadata": {},
      "outputs": [],
      "source": [
        "## Testez votre réponse dans cette cellule"
      ],
      "id": "7d8596c7"
    },
    {
      "cell_type": "markdown",
      "metadata": {},
      "source": [
        "### 3.3 Exercice 3\n",
        "\n",
        "Créez une classe CompteBancaire avec les attributs suivants :\n",
        "\n",
        "-   titulaire : le nom du titulaire du compte (chaîne de caractères)\n",
        "-   solde : le solde du compte (nombre réel)\n",
        "\n",
        "La classe devra avoir les méthodes suivantes :\n",
        "\n",
        "-   `__init__(self, titulaire)` : le constructeur de la classe\n",
        "-   `deposer(self, montant)` : une méthode qui permet de déposer un\n",
        "    montant sur le compte. Le montant devra être ajouté au solde\n",
        "-   `retirer(self, montant)` : une méthode qui permet de retirer un\n",
        "    montant du compte. Le montant devra être soustrait du solde\n",
        "-   `afficher_solde(self)` : une méthode qui affiche le solde du compte\n",
        "-   `transferer(autreCompte, montant)` qui transfère de l’argent du\n",
        "    compte vers l’autre si le solde est suffisant\n",
        "\n",
        "Créer 2 Comptes et tester les différentes fonctionnalités."
      ],
      "id": "b0622bd6-07b1-4dd1-9451-47cea0a804c4"
    },
    {
      "cell_type": "code",
      "execution_count": 18,
      "metadata": {},
      "outputs": [],
      "source": [
        "## Testez votre réponse dans cette cellule"
      ],
      "id": "de426503"
    }
  ],
  "nbformat": 4,
  "nbformat_minor": 5,
  "metadata": {
    "kernelspec": {
      "name": "python3",
      "display_name": "Python 3 (ipykernel)",
      "language": "python",
      "path": "/opt/hostedtoolcache/Python/3.10.14/x64/share/jupyter/kernels/python3"
    },
    "language_info": {
      "name": "python",
      "codemirror_mode": {
        "name": "ipython",
        "version": "3"
      },
      "file_extension": ".py",
      "mimetype": "text/x-python",
      "nbconvert_exporter": "python",
      "pygments_lexer": "ipython3",
      "version": "3.10.14"
    }
  }
}