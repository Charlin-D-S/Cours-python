{
  "cells": [
    {
      "cell_type": "markdown",
      "metadata": {},
      "source": [
        "# Tests et Boucles\n",
        "\n",
        "Ludovic Deneuville\n",
        "\n",
        "## Avant de commencer\n",
        "\n",
        "-   Téléchargez ce\n",
        "    <a href=\"03-tests-et-boucles.ipynb\" target=\"_blank\">notebook Jupyter</a>\n",
        "-   Connectez-vous au\n",
        "    <a href=\"https://jupyther.ensai.fr/\" target=\"_blank\">Jupyter</a>\n",
        "    ENSAI avec id et mot de passe\n",
        "    -   ou une autre plate-forme (SSPCloud, Jupyter Lab, Google Colab,\n",
        "        Kaggle…)\n",
        "-   Importez le fichier .ipynb\n",
        "\n",
        "## 1 Structures condionnelles et boucles\n",
        "\n",
        "Dans ce Notebook, nous allons aborder les thèmes suivants :\n",
        "\n",
        "-   les structures **if, else**\n",
        "-   la boucle **for**\n",
        "-   la boucle **while**\n",
        "-   les instructions **break** et **continue**\n",
        "\n",
        "------------------------------------------------------------------------\n",
        "\n",
        "## 2 Structures conditionnelles\n",
        "\n",
        "Nous allons tester différentes conditions booléennes (voir Notebook 1)\n",
        "en utilisant les mots clés : **if**, **else** et **elif**.\n",
        "\n",
        "Le principe est le suivant :\n",
        "\n",
        "    if condition1:\n",
        "        # Bloc de code à exécuter si la condition1 est vraie\n",
        "    elif condition2:\n",
        "        # Bloc de code à exécuter si la condition1 est fausse et condition2 est vraie\n",
        "    else:\n",
        "        # Bloc de code à exécuter si la condition1 et 2 sont fausses\n",
        "\n",
        "**Remarques** :\n",
        "\n",
        "-   il peut y avoir autant de **elif** que nécessaire (entre 0 et\n",
        "    infini)\n",
        "-   le **else** est facultatif\n",
        "\n",
        "**Attention** : Il est important de respecter la syntaxe, en particulier\n",
        "l’indentation !"
      ],
      "id": "4ee308b6-290f-421a-8432-6d1f5ee9cf6d"
    },
    {
      "cell_type": "code",
      "execution_count": 1,
      "metadata": {},
      "outputs": [],
      "source": [
        "a = 12\n",
        "\n",
        "# Simple if\n",
        "if a > 5:\n",
        "    print(\"la variable a({}) est strictement supérieure à 5\".format(a))"
      ],
      "id": "ef991fdf"
    },
    {
      "cell_type": "code",
      "execution_count": 2,
      "metadata": {},
      "outputs": [],
      "source": [
        "a = 3\n",
        "\n",
        "# if else\n",
        "if a > 5:\n",
        "    print(\"la variable a({}) est strictement supérieure à 5\".format(a))\n",
        "else:\n",
        "    print(\"la variable a({}) est inférieure ou égale à 5\".format(a))"
      ],
      "id": "287af0ce"
    },
    {
      "cell_type": "code",
      "execution_count": 3,
      "metadata": {},
      "outputs": [],
      "source": [
        "nb_habitants = 750\n",
        "\n",
        "if nb_habitants < 500:\n",
        "    print(\"village\")\n",
        "elif nb_habitants < 10000:\n",
        "    print(\"ville\")\n",
        "else:\n",
        "    print(\"grande ville\")"
      ],
      "id": "53b00077"
    },
    {
      "cell_type": "code",
      "execution_count": 4,
      "metadata": {},
      "outputs": [],
      "source": [
        "# Conditions multiples\n",
        "\n",
        "note_maths = 14\n",
        "note_info = 20\n",
        "validation_anglais = True\n",
        "\n",
        "if note_maths > 10 and note_info > 10 and validation_anglais:\n",
        "    print(\"Année validée\")"
      ],
      "id": "da0282fa"
    },
    {
      "cell_type": "code",
      "execution_count": 5,
      "metadata": {},
      "outputs": [],
      "source": [
        "# Conditions en cascade\n",
        "if note_maths > 10:\n",
        "    if note_info > 10:\n",
        "        if validation_anglais:\n",
        "            print(\"Félicitation, continuez comme ça !\")\n",
        "        else:\n",
        "            print(\"Work harder\")\n",
        "    else:\n",
        "        print(\"il y a 10 types de personnes, ceux qui sont bons en info et les autres\")\n",
        "else:\n",
        "    print(\"1+1=2\")"
      ],
      "id": "baa31b98"
    },
    {
      "cell_type": "markdown",
      "metadata": {},
      "source": [
        "------------------------------------------------------------------------\n",
        "\n",
        "## 3 Boucles\n",
        "\n",
        "Les boucles sont utiles pour répéter de nombreuses fois la même\n",
        "opération.  \n",
        "Par exemple si l’on souhaite afficher tous les éléments d’une liste,\n",
        "écrire autant de **print** qu’il y a d’éléments serait assez pénible.\n",
        "\n",
        "Comme pour les structures conditionnelles, il est très important de\n",
        "respecter l’indentation !\n",
        "\n",
        "### 3.1 La boucle for\n",
        "\n",
        "Il y a plusieurs manières d’utiliser la boucle **for**, voici quelques\n",
        "exemples.\n",
        "\n",
        "Il est très fréquent d’utiliser avec les boucles la méthode\n",
        "**range(start, stop, step)** qui génére une suite d’entiers\n",
        "\n",
        "-   start : Valeur de départ de la séquence (optionnelle). Par défaut,\n",
        "    elle est définie à 0.\n",
        "-   stop : Valeur de fin de la séquence (exclue).\n",
        "-   step : Pas d’incrément (optionnel). Par défaut, il est défini à 1."
      ],
      "id": "d4167869-ed66-4c2f-9861-e95be187b488"
    },
    {
      "cell_type": "code",
      "execution_count": 6,
      "metadata": {},
      "outputs": [],
      "source": [
        "# Afficher les entiers entre 1 et 6\n",
        "for i in range(1, 6):\n",
        "    print(i)"
      ],
      "id": "55919d6c"
    },
    {
      "cell_type": "code",
      "execution_count": 7,
      "metadata": {},
      "outputs": [],
      "source": [
        "for i in range(6):\n",
        "    print(i, i ** 2, sep=\"\\t\")"
      ],
      "id": "a1d489ee"
    },
    {
      "cell_type": "code",
      "execution_count": 8,
      "metadata": {},
      "outputs": [],
      "source": [
        "# Parcours d'une liste\n",
        "personnages = [\"Luke\", \"Leia\", \"Han\", \"Obi-Wan\"]\n",
        "\n",
        "for p in personnages:\n",
        "    print(\"Hello \" + p)"
      ],
      "id": "1bf65db8"
    },
    {
      "cell_type": "code",
      "execution_count": 9,
      "metadata": {},
      "outputs": [],
      "source": [
        "# Parcours d'une liste par indice\n",
        "for i in range(len(personnages)):\n",
        "    print(\"Personnage \" + str(i) + \" : \" + personnages[i])"
      ],
      "id": "8176df35"
    },
    {
      "cell_type": "markdown",
      "metadata": {},
      "source": [
        "La fonction **enumerate()** est utilisée pour itérer simultanément sur\n",
        "les indices et les éléments.  \n",
        "Elle permet de générer un tuple(indice, élément)"
      ],
      "id": "f26af14b-835d-4579-9e19-15b1cc51f247"
    },
    {
      "cell_type": "code",
      "execution_count": 10,
      "metadata": {},
      "outputs": [],
      "source": [
        "list(enumerate(personnages))"
      ],
      "id": "207d7957"
    },
    {
      "cell_type": "code",
      "execution_count": 11,
      "metadata": {},
      "outputs": [],
      "source": [
        "# Parcours d'une liste en utilisant enumerate\n",
        "for numero, nom in enumerate(personnages):\n",
        "    print(\"Personnage \" + str(numero) + \" : \" + nom)"
      ],
      "id": "4ad7da67"
    },
    {
      "cell_type": "code",
      "execution_count": 12,
      "metadata": {},
      "outputs": [],
      "source": [
        "# Parcours d'une chaîne de caractères\n",
        "for char in \"Dark Vador\":\n",
        "    print(char, end=\" - \")"
      ],
      "id": "d0ddbc01"
    },
    {
      "cell_type": "code",
      "execution_count": 13,
      "metadata": {},
      "outputs": [],
      "source": [
        "import time\n",
        "\n",
        "message = \"Salut les lapinous\"\n",
        "for i in range(len(message)):\n",
        "    time.sleep(0.5)\n",
        "    print(message[i], end=\"\")"
      ],
      "id": "d45625f7"
    },
    {
      "cell_type": "code",
      "execution_count": 14,
      "metadata": {},
      "outputs": [],
      "source": [
        "ingredients = {'sucre': '100g', 'poire': 2, 'lait': '1L', 'sel': True}\n",
        "\n",
        "# Parcours des clés d'un dictionnaire\n",
        "for cle in ingredients:\n",
        "    print(cle)"
      ],
      "id": "6812497e"
    },
    {
      "cell_type": "markdown",
      "metadata": {},
      "source": [
        "### 3.2 La boucle while\n",
        "\n",
        "Le principe de la boucle **while** est le suivant :\n",
        "\n",
        "-   une condition d’entrée dans la boucle est définie\n",
        "-   tant que la condition est vérifiée, le code dans la boucle est\n",
        "    exécuté\n",
        "-   et ainsi de suite, jusqu’à ce que l’on sorte de la boucle (ou que\n",
        "    l’on reste coincé dedans à tout jamais…)"
      ],
      "id": "2c7d5c69-68b5-4388-b969-5baa0580d308"
    },
    {
      "cell_type": "code",
      "execution_count": 15,
      "metadata": {},
      "outputs": [],
      "source": [
        "cpt = 5\n",
        "while cpt >= 0:\n",
        "    print(cpt, end=\"...\")\n",
        "    cpt -= 1      # cpt = cpt - 1\n",
        "print(\"Boom\")"
      ],
      "id": "9b603345"
    },
    {
      "cell_type": "code",
      "execution_count": 16,
      "metadata": {},
      "outputs": [],
      "source": [
        "user_input = input(\"Entrez un nombre pair : \")\n",
        "while int(user_input) % 2 != 0:\n",
        "    print(\"Ce n'est pas un nombre pair.\")\n",
        "    user_input = input(\"Entrez un nombre pair : \")\n",
        "print(\"Merci, vous avez entré un nombre pair.\")"
      ],
      "id": "d46f9df8"
    },
    {
      "cell_type": "markdown",
      "metadata": {},
      "source": [
        "#### Critère d’arrêt\n",
        "\n",
        "La différence principale avec la boucle **for** est le critère\n",
        "d’arrêt.  \n",
        "Dans une boucle **for**, ce critère est clair : la boucle itère sur les\n",
        "éléments d’un objet itérable, nécessairement de taille finie.\n",
        "\n",
        "Au contraire, dans la boucle **while**, ce critère peut ne jamais se\n",
        "réaliser et l’on se retrouve alors dans une boucle infinie…\n",
        "\n",
        "Par exemple si l’on se trompe dans le nom des indices, voici le résultat\n",
        ":"
      ],
      "id": "9cc93a69-f367-4865-b259-72f1085891c2"
    },
    {
      "cell_type": "code",
      "execution_count": 17,
      "metadata": {},
      "outputs": [],
      "source": [
        "# Utilisez le bouton \"Stop\" (carré noir) de Jupyter pour arrêter le programme en cours\n",
        "i = 1\n",
        "j = 1\n",
        "while i <= 5:\n",
        "    j = j + 1"
      ],
      "id": "0529f546"
    },
    {
      "cell_type": "markdown",
      "metadata": {},
      "source": [
        "Comme `i = 1` et ne change jamais, la condition `i <= 5` est toujours\n",
        "égale à **True**"
      ],
      "id": "4e5b18c7-91c2-45ee-b0ed-740f9ff139b9"
    },
    {
      "cell_type": "code",
      "execution_count": 18,
      "metadata": {},
      "outputs": [],
      "source": [
        "print(i)\n",
        "print(j)"
      ],
      "id": "02589893"
    },
    {
      "cell_type": "markdown",
      "metadata": {},
      "source": [
        "### 3.3 L’instruction break\n",
        "\n",
        "Une autre possibilité pour sortir d’une boucle **for** ou **while** est\n",
        "d’utiliser l’instruction **break**.\n",
        "\n",
        "Le code ci-dessous montre une utilisation de cette instruction :\n",
        "\n",
        "-   On rentre dans une boucle infinie (`While true`)\n",
        "-   Le seul moyen d’en sortir est de trouver le bon nombre, ce qui nous\n",
        "    envoie vers le `break`\n",
        "\n",
        "Le code contient également des instructions `try` et `except` qui gérent\n",
        "le cas ou la valeur saisie n’est pas numérique.\n",
        "\n",
        "Remarque : en cas de boucles imbriquées, le **break** ne met fin qu’à la\n",
        "boucle de niveau supérieur."
      ],
      "id": "dd9cf5b8-0b4e-4566-8767-57ddb61e76c5"
    },
    {
      "cell_type": "code",
      "execution_count": 19,
      "metadata": {},
      "outputs": [],
      "source": [
        "import random\n",
        "\n",
        "nombre_aleatoire = random.randint(1, 20)\n",
        "\n",
        "print(\"Entrez un nombre entre 1 et 20\")\n",
        "while True:\n",
        "    nombre_saisi = input()\n",
        "    try:\n",
        "        nombre_saisi = int(nombre_saisi)\n",
        "        if nombre_saisi == nombre_aleatoire:\n",
        "            break\n",
        "        elif nombre_saisi < 1 or nombre_saisi > 20:\n",
        "            print(\"Entre 1 et 20 !!!\")        \n",
        "        elif nombre_saisi > nombre_aleatoire:\n",
        "            print(\"c'est moins\")\n",
        "        elif nombre_saisi < nombre_aleatoire:\n",
        "            print(\"c'est plus\")\n",
        "    except ValueError:\n",
        "        print(\"Veuillez entrer un entier valide\")\n",
        "        \n",
        "print(\"Félicitations, vous avez trouvé le nombre secret :\", nombre_aleatoire)"
      ],
      "id": "a5a2d0b9"
    },
    {
      "cell_type": "markdown",
      "metadata": {},
      "source": [
        "### 3.4 L’instruction continue\n",
        "\n",
        "L’instruction **continue** permet de passer à l’itération suivante de la\n",
        "boucle.\n",
        "\n",
        "Dans l’exemple ci-dessus :\n",
        "\n",
        "-   on rentre dans une boucle infinie\n",
        "-   tant que l’on ne rentre pas le bon prénom, on recommence au début de\n",
        "    la boucle\n",
        "    -   puis on ne sort de la boucle que lorsque l’on a rentré le bon\n",
        "        mot de passe"
      ],
      "id": "76b601e7-f988-48d0-8d93-c8b5dc1467f9"
    },
    {
      "cell_type": "code",
      "execution_count": 20,
      "metadata": {},
      "outputs": [],
      "source": [
        "votre_prenom = \"alice\"\n",
        "\n",
        "while True:\n",
        "    print(\"Veuillez entrer votre prénom.\")\n",
        "    prenom = input()\n",
        "    if prenom != votre_prenom:\n",
        "        continue\n",
        "    print(\"Veuillez entrer votre mot de passe.\")\n",
        "    mdp = input()\n",
        "    if mdp == \"123456\":\n",
        "        break\n",
        "print(\"Bienvenue \" + votre_prenom)"
      ],
      "id": "4726f2f3"
    },
    {
      "cell_type": "markdown",
      "metadata": {},
      "source": [
        "## 4 Exercices\n",
        "\n",
        "### 4.1 Exercice 1\n",
        "\n",
        "Ecrire un programme qui calcule la somme des 10 premiers entiers au\n",
        "carré.  \n",
        "Ecrire un programme qui calcule la somme des 5 premiers entiers impairs\n",
        "au carré."
      ],
      "id": "0d2781a3-368c-46b0-b6bd-ae42535b7b77"
    },
    {
      "cell_type": "code",
      "execution_count": 21,
      "metadata": {},
      "outputs": [],
      "source": [
        "# Testez votre réponse dans cette cellule"
      ],
      "id": "f7b78794"
    },
    {
      "cell_type": "code",
      "execution_count": 22,
      "metadata": {},
      "outputs": [],
      "source": [
        "# Remarque : avec Python il est possible parfois de condenser l'écriture\n",
        "sum(i**2 for i in range(1,11) if i%2 == 1)"
      ],
      "id": "494ada04"
    },
    {
      "cell_type": "markdown",
      "metadata": {},
      "source": [
        "### 4.2 Exercice 2\n",
        "\n",
        "Ré-écrivez le code ci-dessous à l’aide d’une boucle **for**.  \n",
        "Indice : explorez les différentes utilisations de la méthode **range()**"
      ],
      "id": "b88d9d9a-b86a-4603-ab7d-b9804975f764"
    },
    {
      "cell_type": "code",
      "execution_count": 23,
      "metadata": {},
      "outputs": [],
      "source": [
        "cpt = 5\n",
        "while cpt >= 0:\n",
        "    print(cpt)\n",
        "    cpt -= 1      # cpt = cpt - 1\n",
        "print(\"Boom\")"
      ],
      "id": "1078652f"
    },
    {
      "cell_type": "code",
      "execution_count": 24,
      "metadata": {
        "tags": []
      },
      "outputs": [],
      "source": [
        "# Testez votre réponse dans cette cellule"
      ],
      "id": "afd44f5b"
    },
    {
      "cell_type": "markdown",
      "metadata": {},
      "source": [
        "### 4.3 Exercice 3\n",
        "\n",
        "Réécrivez la boucle `for` suivante à l’aide d’une boucle `while`."
      ],
      "id": "05f86a84-766c-4650-9ede-7d8b7ca8bffb"
    },
    {
      "cell_type": "code",
      "execution_count": 25,
      "metadata": {
        "tags": []
      },
      "outputs": [],
      "source": [
        "gamme = ['do', 're', 'mi', 'fa', 'sol', 'la', 'si']\n",
        "\n",
        "for i, note in enumerate(gamme):\n",
        "    print(\"La note numéro \" + str(i) + \" de la gamme de do majeur est \" + note)"
      ],
      "id": "b8d9409e"
    },
    {
      "cell_type": "code",
      "execution_count": 26,
      "metadata": {
        "tags": []
      },
      "outputs": [],
      "source": [
        "# Testez votre réponse dans cette cellule"
      ],
      "id": "82375c9c"
    },
    {
      "cell_type": "markdown",
      "metadata": {},
      "source": [
        "### 4.4 Exercice 4\n",
        "\n",
        "Triez la liste ci-dessous à l’aide de 2 boucles **for** (sans utiliser\n",
        "de méthode toute faite de tri) :\n",
        "\n",
        "-   `liste = [34, 7, 20, 12, 50, 23, 16, 28, 6, 11, 19, 13, 26, 8, 9]`"
      ],
      "id": "d1672bd6-a507-4e6e-9c32-564401042966"
    },
    {
      "cell_type": "code",
      "execution_count": 27,
      "metadata": {
        "tags": []
      },
      "outputs": [],
      "source": [
        "# Testez votre réponse dans cette cellule"
      ],
      "id": "3856d202"
    },
    {
      "cell_type": "markdown",
      "metadata": {},
      "source": [
        "### 4.5 Exercice 5\n",
        "\n",
        "Ecrivez un programme permettant de calculer les 10 premiers termes de la\n",
        "suite de Fibonacci à l’aide d’une boucle **for**.  \n",
        "Même question avec une boucle **while**.\n",
        "\n",
        "Rappel : La suite de Fibonacci se définit de la manière suivante :\n",
        "\n",
        "-   les deux premiers nombres sont 0 et 1\n",
        "-   chaque autre nombre de la suite s’obtient en additionnant les deux\n",
        "    nombres qui le précèdent"
      ],
      "id": "b424633c-a29a-43f4-b669-4bd6001cd79b"
    },
    {
      "cell_type": "code",
      "execution_count": 28,
      "metadata": {
        "tags": []
      },
      "outputs": [],
      "source": [
        "# Testez votre réponse dans cette cellule"
      ],
      "id": "b7d4a388"
    },
    {
      "cell_type": "markdown",
      "metadata": {},
      "source": [
        "### 4.6 Exercice 6\n",
        "\n",
        "Calculer le minimum et le maximum de la série de valeurs suivantes, sans\n",
        "utiliser les fonctions `min` et `max` de Python.\n",
        "\n",
        "x = \\[8, 18, 6, 0, 15, 17.5, 9, 1\\]"
      ],
      "id": "8759bab8-2b99-463f-9db0-e4ca8a5d446e"
    },
    {
      "cell_type": "code",
      "execution_count": 29,
      "metadata": {
        "tags": []
      },
      "outputs": [],
      "source": [
        "# Testez votre réponse dans cette cellule"
      ],
      "id": "0593546f"
    },
    {
      "cell_type": "markdown",
      "metadata": {},
      "source": [
        "### 4.7 Exercice 7\n",
        "\n",
        "À l’aide de boucles **for** et **while**, parcourez ce dictionnaire et\n",
        "affichez la moyenne de chaque élève."
      ],
      "id": "0c99d820-fffa-4d7a-9a0d-f74097888e97"
    },
    {
      "cell_type": "code",
      "execution_count": 30,
      "metadata": {
        "tags": []
      },
      "outputs": [],
      "source": [
        "notes = {\n",
        "    \"Miranda\"  : [16, 5, 8, 12],\n",
        "    \"Celestin\" : [19, 1, 7, 10],\n",
        "    \"Hypolyte\" : [18, 3, 12],\n",
        "    \"Josephine\": [12, 15, 14, 14]\n",
        "}"
      ],
      "id": "af82db0e"
    },
    {
      "cell_type": "code",
      "execution_count": 31,
      "metadata": {},
      "outputs": [],
      "source": [
        "# Testez votre réponse dans cette cellule"
      ],
      "id": "4456f6e2"
    },
    {
      "cell_type": "markdown",
      "metadata": {},
      "source": [
        "### 4.8 Exercice 8\n",
        "\n",
        "Calculer la moyenne et la variance de la série de valeurs suivantes,\n",
        "sans utiliser des fonctions déjà codées :\n",
        "\n",
        "x = \\[8, 18, 6, 0, 15, 17.5, 9, 1\\]\n",
        "\n",
        "Pour rappel, les formules sont :\n",
        "\n",
        "-   moyenne : $$\\bar{x} = {\\frac {1}{n}}\\sum_{i=1}^{n}x_{i}$$\n",
        "-   variance :\n",
        "    $$\\sigma^2 = {\\frac {1}{n}}\\sum_{i=1}^{n} (x_{i}-\\bar{x})^2$$"
      ],
      "id": "e464857a-9d51-418b-823d-e3de7e2bfe10"
    },
    {
      "cell_type": "code",
      "execution_count": 32,
      "metadata": {
        "tags": []
      },
      "outputs": [],
      "source": [
        "# Testez votre réponse dans cette cellule"
      ],
      "id": "081e8ec6"
    },
    {
      "cell_type": "code",
      "execution_count": 33,
      "metadata": {},
      "outputs": [],
      "source": [
        "# Pour vérifier vos résultats\n",
        "import numpy as np\n",
        "\n",
        "# Create an array of numbers\n",
        "x = [8, 18, 6, 0, 15, 17.5, 9, 1]\n",
        "\n",
        "print(\"Mean     : \", np.mean(x))\n",
        "print(\"Variance : \", np.var(x))"
      ],
      "id": "b3cba7f3"
    }
  ],
  "nbformat": 4,
  "nbformat_minor": 5,
  "metadata": {
    "kernelspec": {
      "name": "python3",
      "display_name": "Python 3 (ipykernel)",
      "language": "python"
    },
    "language_info": {
      "name": "python",
      "codemirror_mode": {
        "name": "ipython",
        "version": "3"
      },
      "file_extension": ".py",
      "mimetype": "text/x-python",
      "nbconvert_exporter": "python",
      "pygments_lexer": "ipython3",
      "version": "3.10.14"
    }
  }
}