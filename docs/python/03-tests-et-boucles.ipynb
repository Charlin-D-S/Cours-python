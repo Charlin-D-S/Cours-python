{
 "cells": [
  {
   "cell_type": "raw",
   "metadata": {},
   "source": [
    "---\n",
    "title: Tests et Boucles\n",
    "description: |\n",
    "  - Téléchargez ce notebook en cliquant sur *Jupyter* (en dessous de la table des matières)\n",
    "  - Importez le fichier .ipynb dans [Jupyter](https://jupyther.ensai.fr/){.external target=\"_blank\"}\n",
    "author: \"Ludovic Deneuville\"\n",
    "format: \n",
    "  html:\n",
    "    toc: true\n",
    "    toc-location: left\n",
    "    toc-expand: 3\n",
    "  ipynb: default\n",
    "from: markdown+emoji\n",
    "---"
   ]
  },
  {
   "cell_type": "markdown",
   "id": "9f2a6f38-8511-45a1-b123-ea4b955ce6f7",
   "metadata": {},
   "source": [
    "# Structures condionnelles et boucles\n",
    "\n",
    "Dans ce Notebook, nous allons aborder les thèmes suivants : \n",
    "* les structures **if, else**\n",
    "* la boucle **for**\n",
    "* la boucle **while**\n",
    "* les instructions **break** et **continue**\n",
    "\n",
    "\n",
    "---\n",
    "\n",
    "# Structures conditionnelles\n",
    "\n",
    "Nous allons tester différentes conditions booléennes (voir Notebook 1) en utilisant les mots clés : **if**, **else** et **elif**. \n",
    "\n",
    "Le principe est le suivant :\n",
    "```\n",
    "if condition1:\n",
    "    # Bloc de code à exécuter si la condition1 est vraie\n",
    "elif condition2:\n",
    "    # Bloc de code à exécuter si la condition1 est fausse et condition2 est vraie\n",
    "else:\n",
    "    # Bloc de code à exécuter si la condition1 et 2 sont fausses\n",
    "```\n",
    "\n",
    "**Remarques** :\n",
    "- il peut y avoir autant de **elif** que nécessaire (entre 0 et infini)\n",
    "- le **else** est facultatif\n",
    "\n",
    "**Attention** : Il est important de respecter la syntaxe, en particulier l'indentation !"
   ]
  },
  {
   "cell_type": "code",
   "execution_count": 8,
   "id": "84dd3b07-53eb-466e-b70e-2cda2a94c196",
   "metadata": {},
   "outputs": [
    {
     "name": "stdout",
     "output_type": "stream",
     "text": [
      "la variable a(12) est strictement supérieure à 5\n"
     ]
    }
   ],
   "source": [
    "a = 12\n",
    "\n",
    "# Simple if\n",
    "if a > 5:\n",
    "    print(\"la variable a({}) est strictement supérieure à 5\".format(a))"
   ]
  },
  {
   "cell_type": "code",
   "execution_count": 10,
   "id": "8145a313-826f-45a8-993d-4beb8e061b78",
   "metadata": {},
   "outputs": [
    {
     "name": "stdout",
     "output_type": "stream",
     "text": [
      "la variable a(3) est inférieure ou égale à 5\n"
     ]
    }
   ],
   "source": [
    "a = 3\n",
    "\n",
    "# if else\n",
    "if a > 5:\n",
    "    print(\"la variable a({}) est strictement supérieure à 5\".format(a))\n",
    "else:\n",
    "    print(\"la variable a({}) est inférieure ou égale à 5\".format(a))"
   ]
  },
  {
   "cell_type": "code",
   "execution_count": 11,
   "id": "5dd4d3de-5857-41a3-bc4e-15dd795f97ae",
   "metadata": {},
   "outputs": [
    {
     "name": "stdout",
     "output_type": "stream",
     "text": [
      "ville\n"
     ]
    }
   ],
   "source": [
    "nb_habitants = 750\n",
    "\n",
    "if nb_habitants < 500:\n",
    "    print(\"village\")\n",
    "elif nb_habitants < 10000:\n",
    "    print(\"ville\")\n",
    "else:\n",
    "    print(\"grande ville\")"
   ]
  },
  {
   "cell_type": "code",
   "execution_count": 15,
   "id": "7815cef8-44ca-49b3-9817-2ea0825f9c16",
   "metadata": {},
   "outputs": [
    {
     "name": "stdout",
     "output_type": "stream",
     "text": [
      "Année validée\n"
     ]
    }
   ],
   "source": [
    "# Conditions multiples\n",
    "\n",
    "note_maths = 14\n",
    "note_info = 20\n",
    "validation_anglais = True\n",
    "\n",
    "if note_maths > 10 and note_info > 10 and validation_anglais:\n",
    "    print(\"Année validée\")"
   ]
  },
  {
   "cell_type": "code",
   "execution_count": 17,
   "id": "9a09ef06-6919-4cb1-b5e7-149f2aa59c50",
   "metadata": {},
   "outputs": [
    {
     "name": "stdout",
     "output_type": "stream",
     "text": [
      "Félicitation, continuez comme ça !\n"
     ]
    }
   ],
   "source": [
    "# Conditions en cascade\n",
    "if note_maths > 10:\n",
    "    if note_info > 10:\n",
    "        if validation_anglais:\n",
    "            print(\"Félicitation, continuez comme ça !\")\n",
    "        else:\n",
    "            print(\"Work harder\")\n",
    "    else:\n",
    "        print(\"il y a 10 types de personnes, ceux qui sont bons en info et les autres\")\n",
    "else:\n",
    "    print(\"1+1=2\")"
   ]
  },
  {
   "cell_type": "markdown",
   "id": "c4c5c961",
   "metadata": {},
   "source": [
    "---\n",
    "\n",
    "# Boucles"
   ]
  },
  {
   "cell_type": "markdown",
   "id": "7e1fd944",
   "metadata": {},
   "source": [
    "Les boucles sont utiles pour répéter de nombreuses fois la même opération.  \n",
    "Par exemple si l'on souhaite afficher tous les éléments d'une liste, écrire autant de **print** qu'il y a d'éléments serait assez pénible.  \n",
    "  \n",
    "Comme pour les structures conditionnelles, il est très important de respecter l'indentation !"
   ]
  },
  {
   "cell_type": "markdown",
   "id": "55b55b8a",
   "metadata": {},
   "source": [
    "## La boucle for\n",
    "\n",
    "Il y a plusieurs manières d'utiliser la boucle **for**, voici quelques exemples.  \n",
    "  \n",
    "Il est très fréquent d'utiliser avec les boucles la méthode **range(start, stop, step)** qui génére une suite d'entiers\n",
    "* start : Valeur de départ de la séquence (optionnelle). Par défaut, elle est définie à 0.\n",
    "* stop : Valeur de fin de la séquence (exclue).\n",
    "* step : Pas d'incrément (optionnel). Par défaut, il est défini à 1."
   ]
  },
  {
   "cell_type": "code",
   "execution_count": 6,
   "id": "8fbebc28-bb46-4305-8c95-11bd39ea539e",
   "metadata": {},
   "outputs": [
    {
     "name": "stdout",
     "output_type": "stream",
     "text": [
      "1\n",
      "2\n",
      "3\n",
      "4\n",
      "5\n"
     ]
    }
   ],
   "source": [
    "# Afficher les entiers entre 1 et 6\n",
    "for i in range(1, 6):\n",
    "    print(i)"
   ]
  },
  {
   "cell_type": "code",
   "execution_count": 15,
   "id": "727b1eb8-dafb-4981-aac9-595e88cdc668",
   "metadata": {},
   "outputs": [
    {
     "name": "stdout",
     "output_type": "stream",
     "text": [
      "0\t0\n",
      "1\t1\n",
      "2\t4\n",
      "3\t9\n",
      "4\t16\n",
      "5\t25\n"
     ]
    }
   ],
   "source": [
    "for i in range(6):\n",
    "    print(i, i ** 2, sep=\"\\t\")"
   ]
  },
  {
   "cell_type": "code",
   "execution_count": 1,
   "id": "0b89419d-4716-4e6e-a17a-9a4ff5b612c6",
   "metadata": {},
   "outputs": [
    {
     "name": "stdout",
     "output_type": "stream",
     "text": [
      "Hello Luke\n",
      "Hello Leia\n",
      "Hello Han\n",
      "Hello Obi-Wan\n"
     ]
    }
   ],
   "source": [
    "# Parcours d'une liste\n",
    "personnages = [\"Luke\", \"Leia\", \"Han\", \"Obi-Wan\"]\n",
    "\n",
    "for p in personnages:\n",
    "    print(\"Hello \" + p)"
   ]
  },
  {
   "cell_type": "code",
   "execution_count": 21,
   "id": "38f13664-4253-4f9c-a660-b13cdee95fb5",
   "metadata": {},
   "outputs": [
    {
     "name": "stdout",
     "output_type": "stream",
     "text": [
      "Personnage 0 : Luke\n",
      "Personnage 1 : Leia\n",
      "Personnage 2 : Han\n",
      "Personnage 3 : Obi-Wan\n"
     ]
    }
   ],
   "source": [
    "# Parcours d'une liste par indice\n",
    "for i in range(len(personnages)):\n",
    "    print(\"Personnage \" + str(i) + \" : \" + personnages[i])"
   ]
  },
  {
   "cell_type": "markdown",
   "id": "d10db939-f1f7-4125-81d0-2baa306ecff9",
   "metadata": {},
   "source": [
    "La fonction **enumerate()** est utilisée pour itérer simultanément sur les indices et les éléments.  \n",
    "Elle permet de générer un tuple(indice, élément)"
   ]
  },
  {
   "cell_type": "code",
   "execution_count": 24,
   "id": "22c84d8d-8778-4741-81b3-f82df31ae5fa",
   "metadata": {},
   "outputs": [
    {
     "data": {
      "text/plain": [
       "[(0, 'Luke'), (1, 'Leia'), (2, 'Han'), (3, 'Obi-Wan')]"
      ]
     },
     "execution_count": 24,
     "metadata": {},
     "output_type": "execute_result"
    }
   ],
   "source": [
    "list(enumerate(personnages))"
   ]
  },
  {
   "cell_type": "code",
   "execution_count": 22,
   "id": "8db778d6-c08e-46f3-b5ee-d683c8925bea",
   "metadata": {},
   "outputs": [
    {
     "name": "stdout",
     "output_type": "stream",
     "text": [
      "Personnage 0 : Luke\n",
      "Personnage 1 : Leia\n",
      "Personnage 2 : Han\n",
      "Personnage 3 : Obi-Wan\n"
     ]
    }
   ],
   "source": [
    "# Parcours d'une liste en utilisant enumerate\n",
    "for numero, nom in enumerate(personnages):\n",
    "    print(\"Personnage \" + str(numero) + \" : \" + nom)"
   ]
  },
  {
   "cell_type": "code",
   "execution_count": 9,
   "id": "243282af-573e-4740-8f45-0f41a8722832",
   "metadata": {},
   "outputs": [
    {
     "name": "stdout",
     "output_type": "stream",
     "text": [
      "D - a - r - k -   - V - a - d - o - r - "
     ]
    }
   ],
   "source": [
    "# Parcours d'une chaîne de caractères\n",
    "for char in \"Dark Vador\":\n",
    "    print(char, end=\" - \")"
   ]
  },
  {
   "cell_type": "code",
   "execution_count": 19,
   "id": "a3fbd442-7d4a-40e0-8e3e-4d7f74587786",
   "metadata": {},
   "outputs": [
    {
     "name": "stdout",
     "output_type": "stream",
     "text": [
      "Salut les lapinous"
     ]
    }
   ],
   "source": [
    "import time\n",
    "\n",
    "message = \"Salut les lapinous\"\n",
    "for i in range(len(message)):\n",
    "    time.sleep(0.5)\n",
    "    print(message[i], end=\"\")"
   ]
  },
  {
   "cell_type": "code",
   "execution_count": 12,
   "id": "93bc590c-94db-4f5d-9b9f-4dad7b2c3dec",
   "metadata": {},
   "outputs": [
    {
     "name": "stdout",
     "output_type": "stream",
     "text": [
      "sucre\n",
      "poire\n",
      "lait\n",
      "sel\n"
     ]
    }
   ],
   "source": [
    "ingredients = {'sucre': '100g', 'poire': 2, 'lait': '1L', 'sel': True}\n",
    "\n",
    "# Parcours des clés d'un dictionnaire\n",
    "for cle in ingredients:\n",
    "    print(cle)"
   ]
  },
  {
   "cell_type": "markdown",
   "id": "96722b86",
   "metadata": {},
   "source": [
    "## La boucle while\n",
    "\n",
    "Le principe de la boucle **while** est le suivant :\n",
    "* une condition d'entrée dans la boucle est définie\n",
    "* tant que la condition est vérifiée, le code dans la boucle est exécuté\n",
    "* et ainsi de suite, jusqu'à ce que l'on sorte de la boucle (ou que l'on reste coincé dedans à tout jamais...)"
   ]
  },
  {
   "cell_type": "code",
   "execution_count": 32,
   "id": "90e966ed",
   "metadata": {},
   "outputs": [
    {
     "name": "stdout",
     "output_type": "stream",
     "text": [
      "5...4...3...2...1...0...Boom\n"
     ]
    }
   ],
   "source": [
    "cpt = 5\n",
    "while cpt >= 0:\n",
    "    print(cpt, end=\"...\")\n",
    "    cpt -= 1      # cpt = cpt - 1\n",
    "print(\"Boom\")"
   ]
  },
  {
   "cell_type": "code",
   "execution_count": 35,
   "id": "f60d63f7-5195-4eb1-8eaf-6d67e7b6eb63",
   "metadata": {},
   "outputs": [
    {
     "name": "stdout",
     "output_type": "stream",
     "text": [
      "Entrez un nombre pair :  3\n"
     ]
    },
    {
     "name": "stdout",
     "output_type": "stream",
     "text": [
      "Ce n'est pas un nombre pair.\n"
     ]
    },
    {
     "name": "stdout",
     "output_type": "stream",
     "text": [
      "Entrez un nombre pair :  5\n"
     ]
    },
    {
     "name": "stdout",
     "output_type": "stream",
     "text": [
      "Ce n'est pas un nombre pair.\n"
     ]
    },
    {
     "name": "stdout",
     "output_type": "stream",
     "text": [
      "Entrez un nombre pair :  4\n"
     ]
    },
    {
     "name": "stdout",
     "output_type": "stream",
     "text": [
      "Merci, vous avez entré un nombre pair.\n"
     ]
    }
   ],
   "source": [
    "user_input = input(\"Entrez un nombre pair : \")\n",
    "while int(user_input) % 2 != 0:\n",
    "    print(\"Ce n'est pas un nombre pair.\")\n",
    "    user_input = input(\"Entrez un nombre pair : \")\n",
    "print(\"Merci, vous avez entré un nombre pair.\")"
   ]
  },
  {
   "cell_type": "markdown",
   "id": "996d14a7",
   "metadata": {},
   "source": [
    "### Critère d'arrêt\n",
    "\n",
    "La différence principale avec la boucle **for** est le critère d'arrêt.  \n",
    "Dans une boucle **for**, ce critère est clair : la boucle itère sur les éléments d'un objet itérable, nécessairement de taille finie.  \n",
    "  \n",
    "Au contraire, dans la boucle **while**, ce critère peut ne jamais se réaliser et l'on se retrouve alors dans une boucle infinie...  \n",
    "\n",
    "Par exemple si l'on se trompe dans le nom des indices, voici le résultat :"
   ]
  },
  {
   "cell_type": "code",
   "execution_count": null,
   "id": "1ce2c93f",
   "metadata": {},
   "outputs": [],
   "source": [
    "# Utilisez le bouton \"Stop\" (carré noir) de Jupyter pour arrêter le programme en cours\n",
    "i = 1\n",
    "j = 1\n",
    "while i <= 5:\n",
    "    j = j + 1"
   ]
  },
  {
   "cell_type": "markdown",
   "id": "4f3af49d-7868-4321-b773-10cf823a82c6",
   "metadata": {},
   "source": [
    "Comme `i = 1` et ne change jamais, la condition `i <= 5` est toujours égale à **True**"
   ]
  },
  {
   "cell_type": "code",
   "execution_count": 34,
   "id": "0f94122a",
   "metadata": {},
   "outputs": [
    {
     "name": "stdout",
     "output_type": "stream",
     "text": [
      "1\n",
      "67414191\n"
     ]
    }
   ],
   "source": [
    "print(i)\n",
    "print(j)"
   ]
  },
  {
   "cell_type": "markdown",
   "id": "814219e1",
   "metadata": {},
   "source": [
    "## L'instruction break"
   ]
  },
  {
   "cell_type": "markdown",
   "id": "c7b2fbf1",
   "metadata": {},
   "source": [
    "Une autre possibilité pour sortir d'une boucle **for** ou **while** est d'utiliser l'instruction **break**.  \n",
    "\n",
    "Le code ci-dessous montre une utilisation de cette instruction :\n",
    "* On rentre dans une boucle infinie (`While true`)\n",
    "* Le seul moyen d'en sortir est de trouver le bon nombre, ce qui nous envoie vers le `break`\n",
    "\n",
    "Le code contient également des instructions `try` et `except` qui gérent le cas ou la valeur saisie n'est pas numérique.  \n",
    "  \n",
    "Remarque : en cas de boucles imbriquées, le **break** ne met fin qu'à la boucle de niveau supérieur."
   ]
  },
  {
   "cell_type": "code",
   "execution_count": 1,
   "id": "206829d8",
   "metadata": {},
   "outputs": [
    {
     "name": "stdout",
     "output_type": "stream",
     "text": [
      "Entrez un nombre entre 1 et 20\n"
     ]
    },
    {
     "name": "stdout",
     "output_type": "stream",
     "text": [
      " 10\n"
     ]
    },
    {
     "name": "stdout",
     "output_type": "stream",
     "text": [
      "c'est plus\n"
     ]
    },
    {
     "name": "stdout",
     "output_type": "stream",
     "text": [
      " 15\n"
     ]
    },
    {
     "name": "stdout",
     "output_type": "stream",
     "text": [
      "c'est plus\n"
     ]
    },
    {
     "name": "stdout",
     "output_type": "stream",
     "text": [
      " 17\n"
     ]
    },
    {
     "name": "stdout",
     "output_type": "stream",
     "text": [
      "c'est moins\n"
     ]
    },
    {
     "name": "stdout",
     "output_type": "stream",
     "text": [
      " 16\n"
     ]
    },
    {
     "name": "stdout",
     "output_type": "stream",
     "text": [
      "Félicitations, vous avez trouvé le nombre secret : 16\n"
     ]
    }
   ],
   "source": [
    "import random\n",
    "\n",
    "nombre_aleatoire = random.randint(1, 20)\n",
    "\n",
    "print(\"Entrez un nombre entre 1 et 20\")\n",
    "while True:\n",
    "    nombre_saisi = input()\n",
    "    try:\n",
    "        nombre_saisi = int(nombre_saisi)\n",
    "        if nombre_saisi == nombre_aleatoire:\n",
    "            break\n",
    "        elif nombre_saisi < 1 or nombre_saisi > 20:\n",
    "            print(\"Entre 1 et 20 !!!\")        \n",
    "        elif nombre_saisi > nombre_aleatoire:\n",
    "            print(\"c'est moins\")\n",
    "        elif nombre_saisi < nombre_aleatoire:\n",
    "            print(\"c'est plus\")\n",
    "    except ValueError:\n",
    "        print(\"Veuillez entrer un entier valide\")\n",
    "        \n",
    "print(\"Félicitations, vous avez trouvé le nombre secret :\", nombre_aleatoire)"
   ]
  },
  {
   "cell_type": "markdown",
   "id": "094dc86f",
   "metadata": {},
   "source": [
    "## L'instruction continue"
   ]
  },
  {
   "cell_type": "markdown",
   "id": "cf914709",
   "metadata": {},
   "source": [
    "L'instruction **continue** permet de passer à l'itération suivante de la boucle.  \n",
    "  \n",
    "Dans l'exemple ci-dessus :\n",
    "* on rentre dans une boucle infinie\n",
    "* tant que l'on ne rentre pas le bon prénom, on recommence au début de la boucle\n",
    "    * puis on ne sort de la boucle que lorsque l'on a rentré le bon mot de passe"
   ]
  },
  {
   "cell_type": "code",
   "execution_count": 3,
   "id": "ca4de212",
   "metadata": {},
   "outputs": [
    {
     "name": "stdout",
     "output_type": "stream",
     "text": [
      "Veuillez entrer votre prénom.\n"
     ]
    },
    {
     "name": "stdout",
     "output_type": "stream",
     "text": [
      " alice\n"
     ]
    },
    {
     "name": "stdout",
     "output_type": "stream",
     "text": [
      "Veuillez entrer votre mot de passe.\n"
     ]
    },
    {
     "name": "stdout",
     "output_type": "stream",
     "text": [
      " 123456\n"
     ]
    },
    {
     "name": "stdout",
     "output_type": "stream",
     "text": [
      "Bienvenue alice\n"
     ]
    }
   ],
   "source": [
    "votre_prenom = \"alice\"\n",
    "\n",
    "while True:\n",
    "    print(\"Veuillez entrer votre prénom.\")\n",
    "    prenom = input()\n",
    "    if prenom != votre_prenom:\n",
    "        continue\n",
    "    print(\"Veuillez entrer votre mot de passe.\")\n",
    "    mdp = input()\n",
    "    if mdp == \"123456\":\n",
    "        break\n",
    "print(\"Bienvenue \" + votre_prenom)"
   ]
  },
  {
   "cell_type": "markdown",
   "id": "db5ddd0a",
   "metadata": {},
   "source": [
    "---\n",
    "\n",
    "# Exercices\n",
    "\n",
    "## Exercice 1\n",
    "\n",
    "Ecrire un programme qui calcule la somme des 10 premiers entiers au carré.  \n",
    "Ecrire un programme qui calcule la somme des 5 premiers entiers impairs au carré."
   ]
  },
  {
   "cell_type": "code",
   "execution_count": 5,
   "id": "976b103e-b63a-45c8-8738-17bade175e17",
   "metadata": {},
   "outputs": [
    {
     "data": {
      "text/plain": [
       "165"
      ]
     },
     "execution_count": 5,
     "metadata": {},
     "output_type": "execute_result"
    }
   ],
   "source": [
    "# Testez votre réponse dans cette cellule\n"
   ]
  },
  {
   "cell_type": "code",
   "execution_count": 11,
   "id": "399462b9-8d4b-4c85-b4d7-6153268eaa7f",
   "metadata": {},
   "outputs": [
    {
     "data": {
      "text/plain": [
       "165"
      ]
     },
     "execution_count": 11,
     "metadata": {},
     "output_type": "execute_result"
    }
   ],
   "source": [
    "# Remarque : avec Python il est possible parfois de condenser l'écriture\n",
    "sum(i**2 for i in range(1,11) if i%2 == 1)"
   ]
  },
  {
   "cell_type": "markdown",
   "id": "a7e16495-8b0c-4cef-8612-0796826c50ed",
   "metadata": {},
   "source": [
    "## Exercice 2\n",
    "\n",
    "Ré-écrivez le code ci-dessous à l'aide d'une boucle **for**.  \n",
    "Indice : explorez les différentes utilisations de la méthode **range()**"
   ]
  },
  {
   "cell_type": "code",
   "execution_count": 1,
   "id": "82460e71",
   "metadata": {},
   "outputs": [
    {
     "name": "stdout",
     "output_type": "stream",
     "text": [
      "5\n",
      "4\n",
      "3\n",
      "2\n",
      "1\n",
      "0\n",
      "Boom\n"
     ]
    }
   ],
   "source": [
    "cpt = 5\n",
    "while cpt >= 0:\n",
    "    print(cpt)\n",
    "    cpt -= 1      # cpt = cpt - 1\n",
    "print(\"Boom\")"
   ]
  },
  {
   "cell_type": "code",
   "execution_count": null,
   "id": "dd23a799",
   "metadata": {
    "tags": []
   },
   "outputs": [],
   "source": [
    "# Testez votre réponse dans cette cellule\n"
   ]
  },
  {
   "cell_type": "markdown",
   "id": "0786a04d",
   "metadata": {},
   "source": [
    "## Exercice 3"
   ]
  },
  {
   "cell_type": "markdown",
   "id": "0ecba721",
   "metadata": {},
   "source": [
    "Réécrivez la boucle `for` suivante à l'aide d'une boucle `while`."
   ]
  },
  {
   "cell_type": "code",
   "execution_count": 7,
   "id": "6e2a0582",
   "metadata": {
    "tags": []
   },
   "outputs": [
    {
     "name": "stdout",
     "output_type": "stream",
     "text": [
      "La note numéro 0 de la gamme de do majeur est do\n",
      "La note numéro 1 de la gamme de do majeur est re\n",
      "La note numéro 2 de la gamme de do majeur est mi\n",
      "La note numéro 3 de la gamme de do majeur est fa\n",
      "La note numéro 4 de la gamme de do majeur est sol\n",
      "La note numéro 5 de la gamme de do majeur est la\n",
      "La note numéro 6 de la gamme de do majeur est si\n"
     ]
    }
   ],
   "source": [
    "gamme = ['do', 're', 'mi', 'fa', 'sol', 'la', 'si']\n",
    "\n",
    "for i, note in enumerate(gamme):\n",
    "    print(\"La note numéro \" + str(i) + \" de la gamme de do majeur est \" + note)"
   ]
  },
  {
   "cell_type": "code",
   "execution_count": null,
   "id": "9bb2bf36",
   "metadata": {
    "tags": []
   },
   "outputs": [],
   "source": [
    "# Testez votre réponse dans cette cellule\n"
   ]
  },
  {
   "cell_type": "markdown",
   "id": "0defdf4c",
   "metadata": {},
   "source": [
    "## Exercice 4"
   ]
  },
  {
   "cell_type": "markdown",
   "id": "ccb5117f",
   "metadata": {},
   "source": [
    "Triez la liste ci-dessous à l'aide de 2 boucles **for** (sans utiliser de méthode toute faite de tri) :\n",
    "* `liste = [34, 7, 20, 12, 50, 23, 16, 28, 6, 11, 19, 13, 26, 8, 9]`\n"
   ]
  },
  {
   "cell_type": "code",
   "execution_count": null,
   "id": "d52550ab",
   "metadata": {
    "tags": []
   },
   "outputs": [],
   "source": [
    "# Testez votre réponse dans cette cellule\n"
   ]
  },
  {
   "cell_type": "markdown",
   "id": "0d32db43",
   "metadata": {},
   "source": [
    "## Exercice 5"
   ]
  },
  {
   "cell_type": "markdown",
   "id": "5d665c77",
   "metadata": {
    "tags": []
   },
   "source": [
    "Ecrivez un programme permettant de calculer les 10 premiers termes de la suite de Fibonacci à l'aide d'une boucle **for**.  \n",
    "Même question avec une boucle **while**.\n",
    "\n",
    "Rappel : La suite de Fibonacci se définit de la manière suivante : \n",
    "- les deux premiers nombres sont 0 et 1\n",
    "- chaque autre nombre de la suite s'obtient en additionnant les deux nombres qui le précèdent\n",
    "\n"
   ]
  },
  {
   "cell_type": "code",
   "execution_count": null,
   "id": "5142f201",
   "metadata": {
    "tags": []
   },
   "outputs": [],
   "source": [
    "# Testez votre réponse dans cette cellule\n"
   ]
  },
  {
   "cell_type": "markdown",
   "id": "616c94c8",
   "metadata": {},
   "source": [
    "## Exercice 6"
   ]
  },
  {
   "cell_type": "markdown",
   "id": "886186de",
   "metadata": {
    "tags": []
   },
   "source": [
    "Calculer le minimum et le maximum de la série de valeurs suivantes, sans utiliser les fonctions `min` et `max` de Python. \n",
    "\n",
    "x = [8, 18, 6, 0, 15, 17.5, 9, 1]"
   ]
  },
  {
   "cell_type": "code",
   "execution_count": 6,
   "id": "45434230",
   "metadata": {
    "tags": []
   },
   "outputs": [],
   "source": [
    "# Testez votre réponse dans cette cellule\n"
   ]
  },
  {
   "cell_type": "markdown",
   "id": "a837ed45-73f9-4c4f-b612-013a2f54e08d",
   "metadata": {},
   "source": [
    "## Exercice 7\n",
    "\n",
    "À l'aide de boucles **for** et **while**, parcourez ce dictionnaire et affichez la moyenne de chaque élève."
   ]
  },
  {
   "cell_type": "code",
   "execution_count": 6,
   "id": "0d906097",
   "metadata": {
    "tags": []
   },
   "outputs": [],
   "source": [
    "notes = {\n",
    "    \"Miranda\"  : [16, 5, 8, 12],\n",
    "    \"Celestin\" : [19, 1, 7, 10],\n",
    "    \"Hypolyte\" : [18, 3, 12],\n",
    "    \"Josephine\": [12, 15, 14, 14]\n",
    "}"
   ]
  },
  {
   "cell_type": "code",
   "execution_count": 1,
   "id": "fd5ef412-0be8-47e1-86fc-91e22260b5cc",
   "metadata": {},
   "outputs": [],
   "source": [
    "# Testez votre réponse dans cette cellule\n"
   ]
  },
  {
   "cell_type": "markdown",
   "id": "1ccced65",
   "metadata": {},
   "source": [
    "## Exercice 8"
   ]
  },
  {
   "cell_type": "markdown",
   "id": "a9b419b8",
   "metadata": {
    "tags": []
   },
   "source": [
    "Calculer la moyenne et la variance de la série de valeurs suivantes, sans utiliser des fonctions déjà codées : \n",
    "\n",
    "x = [8, 18, 6, 0, 15, 17.5, 9, 1]\n",
    "\n",
    "Pour rappel, les formules sont :\n",
    "- moyenne : $$\\bar{x} = {\\frac {1}{n}}\\sum_{i=1}^{n}x_{i}$$\n",
    "- variance : $$\\sigma^2 = {\\frac {1}{n}}\\sum_{i=1}^{n} (x_{i}-\\bar{x})^2$$"
   ]
  },
  {
   "cell_type": "code",
   "execution_count": null,
   "id": "120ddc65",
   "metadata": {
    "tags": []
   },
   "outputs": [],
   "source": [
    "# Testez votre réponse dans cette cellule\n"
   ]
  },
  {
   "cell_type": "code",
   "execution_count": 10,
   "id": "b4d87253-5f62-49eb-8072-2ccc7d6f116f",
   "metadata": {},
   "outputs": [
    {
     "name": "stdout",
     "output_type": "stream",
     "text": [
      "Mean     :  9.3125\n",
      "Variance :  42.93359375\n"
     ]
    }
   ],
   "source": [
    "# Pour vérifier vos résultats\n",
    "import numpy as np\n",
    "\n",
    "# Create an array of numbers\n",
    "x = [8, 18, 6, 0, 15, 17.5, 9, 1]\n",
    "\n",
    "print(\"Mean     : \", np.mean(x))\n",
    "print(\"Variance : \", np.var(x))"
   ]
  }
 ],
 "metadata": {
  "jupytext": {
   "cell_metadata_filter": "tags,-all",
   "main_language": "python",
   "notebook_metadata_filter": "-all"
  },
  "kernelspec": {
   "display_name": "Python 3",
   "language": "python",
   "name": "python3"
  },
  "language_info": {
   "codemirror_mode": {
    "name": "ipython",
    "version": 3
   },
   "file_extension": ".py",
   "mimetype": "text/x-python",
   "name": "python",
   "nbconvert_exporter": "python",
   "pygments_lexer": "ipython3",
   "version": "3.7.10"
  }
 },
 "nbformat": 4,
 "nbformat_minor": 5
}
