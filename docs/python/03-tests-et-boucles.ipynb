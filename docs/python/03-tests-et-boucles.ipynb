{
  "cells": [
    {
      "cell_type": "markdown",
      "metadata": {},
      "source": [
        "# Tests et Boucles\n",
        "\n",
        "Ludovic Deneuville\n",
        "\n",
        "## Avant de commencer\n",
        "\n",
        "-   Téléchargez ce\n",
        "    <a href=\"03-tests-et-boucles.ipynb\" target=\"_blank\">notebook Jupyter</a>\n",
        "-   Connectez-vous au\n",
        "    <a href=\"https://jupyther.ensai.fr/\" target=\"_blank\">Jupyter</a>\n",
        "    ENSAI avec id et mot de passe\n",
        "    -   ou une autre plate-forme (SSPCloud, Jupyter Lab, Google Colab,\n",
        "        Kaggle…)\n",
        "-   Importez le fichier .ipynb\n",
        "\n",
        "## 1 Structures condionnelles et boucles\n",
        "\n",
        "Dans ce Notebook, nous allons aborder les thèmes suivants :\n",
        "\n",
        "-   les structures **if, else**\n",
        "-   la boucle **for**\n",
        "-   la boucle **while**\n",
        "-   les instructions **break** et **continue**\n",
        "\n",
        "------------------------------------------------------------------------\n",
        "\n",
        "## 2 Structures conditionnelles\n",
        "\n",
        "Nous allons tester différentes conditions booléennes (voir Notebook 1)\n",
        "en utilisant les mots clés : **if**, **else** et **elif**.\n",
        "\n",
        "Le principe est le suivant :\n",
        "\n",
        "    if condition1:\n",
        "        # Bloc de code à exécuter si la condition1 est vraie\n",
        "    elif condition2:\n",
        "        # Bloc de code à exécuter si la condition1 est fausse et condition2 est vraie\n",
        "    else:\n",
        "        # Bloc de code à exécuter si la condition1 et 2 sont fausses\n",
        "\n",
        "**Remarques** :\n",
        "\n",
        "-   il peut y avoir autant de **elif** que nécessaire (entre 0 et\n",
        "    infini)\n",
        "-   le **else** est facultatif\n",
        "\n",
        "**Attention** : Il est important de respecter la syntaxe, en particulier\n",
        "l’indentation !"
      ],
      "id": "678037cc-8571-41ef-a013-f4b9e9f34a61"
    },
    {
      "cell_type": "code",
      "execution_count": 1,
      "metadata": {},
      "outputs": [],
      "source": [
        "a = 12\n",
        "\n",
        "# Simple if\n",
        "if a > 5:\n",
        "    print(\"la variable a({}) est strictement supérieure à 5\".format(a))"
      ],
      "id": "f25671f4"
    },
    {
      "cell_type": "code",
      "execution_count": 2,
      "metadata": {},
      "outputs": [],
      "source": [
        "a = 3\n",
        "\n",
        "# if else\n",
        "if a > 5:\n",
        "    print(\"la variable a({}) est strictement supérieure à 5\".format(a))\n",
        "else:\n",
        "    print(\"la variable a({}) est inférieure ou égale à 5\".format(a))"
      ],
      "id": "a5d9ba7b"
    },
    {
      "cell_type": "code",
      "execution_count": 3,
      "metadata": {},
      "outputs": [],
      "source": [
        "nb_habitants = 750\n",
        "\n",
        "if nb_habitants < 500:\n",
        "    print(\"village\")\n",
        "elif nb_habitants < 10000:\n",
        "    print(\"ville\")\n",
        "else:\n",
        "    print(\"grande ville\")"
      ],
      "id": "4eaaae2e"
    },
    {
      "cell_type": "code",
      "execution_count": 4,
      "metadata": {},
      "outputs": [],
      "source": [
        "# Conditions multiples\n",
        "\n",
        "note_maths = 14\n",
        "note_info = 20\n",
        "validation_anglais = True\n",
        "\n",
        "if note_maths > 10 and note_info > 10 and validation_anglais:\n",
        "    print(\"Année validée\")"
      ],
      "id": "69075d9a"
    },
    {
      "cell_type": "code",
      "execution_count": 5,
      "metadata": {},
      "outputs": [],
      "source": [
        "# Conditions en cascade\n",
        "if note_maths > 10:\n",
        "    if note_info > 10:\n",
        "        if validation_anglais:\n",
        "            print(\"Félicitation, continuez comme ça !\")\n",
        "        else:\n",
        "            print(\"Work harder\")\n",
        "    else:\n",
        "        print(\"il y a 10 types de personnes, ceux qui sont bons en info et les autres\")\n",
        "else:\n",
        "    print(\"1+1=2\")"
      ],
      "id": "25aa4f75"
    },
    {
      "cell_type": "markdown",
      "metadata": {},
      "source": [
        "------------------------------------------------------------------------\n",
        "\n",
        "## 3 Boucles\n",
        "\n",
        "Les boucles sont utiles pour répéter de nombreuses fois la même\n",
        "opération.  \n",
        "Par exemple si l’on souhaite afficher tous les éléments d’une liste,\n",
        "écrire autant de **print** qu’il y a d’éléments serait assez pénible.\n",
        "\n",
        "Comme pour les structures conditionnelles, il est très important de\n",
        "respecter l’indentation !\n",
        "\n",
        "### 3.1 La boucle for\n",
        "\n",
        "Il y a plusieurs manières d’utiliser la boucle **for**, voici quelques\n",
        "exemples.\n",
        "\n",
        "Il est très fréquent d’utiliser avec les boucles la méthode\n",
        "**range(start, stop, step)** qui génére une suite d’entiers\n",
        "\n",
        "-   start : Valeur de départ de la séquence (optionnelle). Par défaut,\n",
        "    elle est définie à 0.\n",
        "-   stop : Valeur de fin de la séquence (exclue).\n",
        "-   step : Pas d’incrément (optionnel). Par défaut, il est défini à 1."
      ],
      "id": "3e14d830-c8be-49e9-96f2-4df8bc54d0a4"
    },
    {
      "cell_type": "code",
      "execution_count": 6,
      "metadata": {},
      "outputs": [],
      "source": [
        "# Afficher les entiers entre 1 et 6\n",
        "for i in range(1, 6):\n",
        "    print(i)"
      ],
      "id": "abe1b48b"
    },
    {
      "cell_type": "code",
      "execution_count": 7,
      "metadata": {},
      "outputs": [],
      "source": [
        "for i in range(6):\n",
        "    print(i, i ** 2, sep=\"\\t\")"
      ],
      "id": "100281d8"
    },
    {
      "cell_type": "code",
      "execution_count": 8,
      "metadata": {},
      "outputs": [],
      "source": [
        "# Parcours d'une liste\n",
        "personnages = [\"Luke\", \"Leia\", \"Han\", \"Obi-Wan\"]\n",
        "\n",
        "for p in personnages:\n",
        "    print(\"Hello \" + p)"
      ],
      "id": "e418445a"
    },
    {
      "cell_type": "code",
      "execution_count": 9,
      "metadata": {},
      "outputs": [],
      "source": [
        "# Parcours d'une liste par indice\n",
        "for i in range(len(personnages)):\n",
        "    print(\"Personnage \" + str(i) + \" : \" + personnages[i])"
      ],
      "id": "bc494029"
    },
    {
      "cell_type": "markdown",
      "metadata": {},
      "source": [
        "La fonction **enumerate()** est utilisée pour itérer simultanément sur\n",
        "les indices et les éléments.  \n",
        "Elle permet de générer un tuple(indice, élément)"
      ],
      "id": "a2686a12-6cf5-4c57-9926-c6108edefb58"
    },
    {
      "cell_type": "code",
      "execution_count": 10,
      "metadata": {},
      "outputs": [],
      "source": [
        "list(enumerate(personnages))"
      ],
      "id": "bb17efb0"
    },
    {
      "cell_type": "code",
      "execution_count": 11,
      "metadata": {},
      "outputs": [],
      "source": [
        "# Parcours d'une liste en utilisant enumerate\n",
        "for numero, nom in enumerate(personnages):\n",
        "    print(\"Personnage \" + str(numero) + \" : \" + nom)"
      ],
      "id": "e7c83b70"
    },
    {
      "cell_type": "code",
      "execution_count": 12,
      "metadata": {},
      "outputs": [],
      "source": [
        "# Parcours d'une chaîne de caractères\n",
        "for char in \"Dark Vador\":\n",
        "    print(char, end=\" - \")"
      ],
      "id": "5a6141cd"
    },
    {
      "cell_type": "code",
      "execution_count": 13,
      "metadata": {},
      "outputs": [],
      "source": [
        "import time\n",
        "\n",
        "message = \"Salut les lapinous\"\n",
        "for i in range(len(message)):\n",
        "    time.sleep(0.5)\n",
        "    print(message[i], end=\"\")"
      ],
      "id": "bdd74653"
    },
    {
      "cell_type": "code",
      "execution_count": 14,
      "metadata": {},
      "outputs": [],
      "source": [
        "ingredients = {'sucre': '100g', 'poire': 2, 'lait': '1L', 'sel': True}\n",
        "\n",
        "# Parcours des clés d'un dictionnaire\n",
        "for cle in ingredients:\n",
        "    print(cle)"
      ],
      "id": "bdede408"
    },
    {
      "cell_type": "markdown",
      "metadata": {},
      "source": [
        "### 3.2 La boucle while\n",
        "\n",
        "Le principe de la boucle **while** est le suivant :\n",
        "\n",
        "-   une condition d’entrée dans la boucle est définie\n",
        "-   tant que la condition est vérifiée, le code dans la boucle est\n",
        "    exécuté\n",
        "-   et ainsi de suite, jusqu’à ce que l’on sorte de la boucle (ou que\n",
        "    l’on reste coincé dedans à tout jamais…)"
      ],
      "id": "54bb82a6-4a4f-4808-bb16-c58ffca3b3d2"
    },
    {
      "cell_type": "code",
      "execution_count": 15,
      "metadata": {},
      "outputs": [],
      "source": [
        "cpt = 5\n",
        "while cpt >= 0:\n",
        "    print(cpt, end=\"...\")\n",
        "    cpt -= 1      # cpt = cpt - 1\n",
        "print(\"Boom\")"
      ],
      "id": "9542c07f"
    },
    {
      "cell_type": "code",
      "execution_count": 16,
      "metadata": {},
      "outputs": [],
      "source": [
        "user_input = input(\"Entrez un nombre pair : \")\n",
        "while int(user_input) % 2 != 0:\n",
        "    print(\"Ce n'est pas un nombre pair.\")\n",
        "    user_input = input(\"Entrez un nombre pair : \")\n",
        "print(\"Merci, vous avez entré un nombre pair.\")"
      ],
      "id": "33ea64fd"
    },
    {
      "cell_type": "markdown",
      "metadata": {},
      "source": [
        "#### Critère d’arrêt\n",
        "\n",
        "La différence principale avec la boucle **for** est le critère\n",
        "d’arrêt.  \n",
        "Dans une boucle **for**, ce critère est clair : la boucle itère sur les\n",
        "éléments d’un objet itérable, nécessairement de taille finie.\n",
        "\n",
        "Au contraire, dans la boucle **while**, ce critère peut ne jamais se\n",
        "réaliser et l’on se retrouve alors dans une boucle infinie…\n",
        "\n",
        "Par exemple si l’on se trompe dans le nom des indices, voici le résultat\n",
        ":"
      ],
      "id": "ed9c736b-08da-4a2d-abdf-d8e2d71bb54b"
    },
    {
      "cell_type": "code",
      "execution_count": 17,
      "metadata": {},
      "outputs": [],
      "source": [
        "# Utilisez le bouton \"Stop\" (carré noir) de Jupyter pour arrêter le programme en cours\n",
        "i = 1\n",
        "j = 1\n",
        "while i <= 5:\n",
        "    j = j + 1"
      ],
      "id": "e2d5ce63"
    },
    {
      "cell_type": "markdown",
      "metadata": {},
      "source": [
        "Comme `i = 1` et ne change jamais, la condition `i <= 5` est toujours\n",
        "égale à **True**"
      ],
      "id": "468cd7a6-70b4-4a13-8c47-5b4111533ee9"
    },
    {
      "cell_type": "code",
      "execution_count": 18,
      "metadata": {},
      "outputs": [],
      "source": [
        "print(i)\n",
        "print(j)"
      ],
      "id": "4dda5a67"
    },
    {
      "cell_type": "markdown",
      "metadata": {},
      "source": [
        "### 3.3 L’instruction break\n",
        "\n",
        "Une autre possibilité pour sortir d’une boucle **for** ou **while** est\n",
        "d’utiliser l’instruction **break**.\n",
        "\n",
        "Le code ci-dessous montre une utilisation de cette instruction :\n",
        "\n",
        "-   On rentre dans une boucle infinie (`While true`)\n",
        "-   Le seul moyen d’en sortir est de trouver le bon nombre, ce qui nous\n",
        "    envoie vers le `break`\n",
        "\n",
        "Le code contient également des instructions `try` et `except` qui gérent\n",
        "le cas ou la valeur saisie n’est pas numérique.\n",
        "\n",
        "Remarque : en cas de boucles imbriquées, le **break** ne met fin qu’à la\n",
        "boucle de niveau supérieur."
      ],
      "id": "1eb79d69-dd19-4644-ac21-08b134405839"
    },
    {
      "cell_type": "code",
      "execution_count": 19,
      "metadata": {},
      "outputs": [],
      "source": [
        "import random\n",
        "\n",
        "nombre_aleatoire = random.randint(1, 20)\n",
        "\n",
        "print(\"Entrez un nombre entre 1 et 20\")\n",
        "while True:\n",
        "    nombre_saisi = input()\n",
        "    try:\n",
        "        nombre_saisi = int(nombre_saisi)\n",
        "        if nombre_saisi == nombre_aleatoire:\n",
        "            break\n",
        "        elif nombre_saisi < 1 or nombre_saisi > 20:\n",
        "            print(\"Entre 1 et 20 !!!\")        \n",
        "        elif nombre_saisi > nombre_aleatoire:\n",
        "            print(\"c'est moins\")\n",
        "        elif nombre_saisi < nombre_aleatoire:\n",
        "            print(\"c'est plus\")\n",
        "    except ValueError:\n",
        "        print(\"Veuillez entrer un entier valide\")\n",
        "        \n",
        "print(\"Félicitations, vous avez trouvé le nombre secret :\", nombre_aleatoire)"
      ],
      "id": "14b1ce45"
    },
    {
      "cell_type": "markdown",
      "metadata": {},
      "source": [
        "### 3.4 L’instruction continue\n",
        "\n",
        "L’instruction **continue** permet de passer à l’itération suivante de la\n",
        "boucle.\n",
        "\n",
        "Dans l’exemple ci-dessus :\n",
        "\n",
        "-   on rentre dans une boucle infinie\n",
        "-   tant que l’on ne rentre pas le bon prénom, on recommence au début de\n",
        "    la boucle\n",
        "    -   puis on ne sort de la boucle que lorsque l’on a rentré le bon\n",
        "        mot de passe"
      ],
      "id": "4baa8ece-effb-41e8-bfb3-e693477295c7"
    },
    {
      "cell_type": "code",
      "execution_count": 20,
      "metadata": {},
      "outputs": [],
      "source": [
        "votre_prenom = \"alice\"\n",
        "\n",
        "while True:\n",
        "    print(\"Veuillez entrer votre prénom.\")\n",
        "    prenom = input()\n",
        "    if prenom != votre_prenom:\n",
        "        continue\n",
        "    print(\"Veuillez entrer votre mot de passe.\")\n",
        "    mdp = input()\n",
        "    if mdp == \"123456\":\n",
        "        break\n",
        "print(\"Bienvenue \" + votre_prenom)"
      ],
      "id": "59e70187"
    },
    {
      "cell_type": "markdown",
      "metadata": {},
      "source": [
        "## 4 Exercices\n",
        "\n",
        "### 4.1 Exercice 1\n",
        "\n",
        "Ecrire un programme qui calcule la somme des 10 premiers entiers au\n",
        "carré.  \n",
        "Ecrire un programme qui calcule la somme des 5 premiers entiers impairs\n",
        "au carré."
      ],
      "id": "bcf4d076-be87-4a23-bfd4-4b0299e08c1b"
    },
    {
      "cell_type": "code",
      "execution_count": 21,
      "metadata": {},
      "outputs": [],
      "source": [
        "# Testez votre réponse dans cette cellule"
      ],
      "id": "c9d12c26"
    },
    {
      "cell_type": "code",
      "execution_count": 22,
      "metadata": {},
      "outputs": [],
      "source": [
        "# Remarque : avec Python il est possible parfois de condenser l'écriture\n",
        "sum(i**2 for i in range(1,11) if i%2 == 1)"
      ],
      "id": "d3601e5f"
    },
    {
      "cell_type": "markdown",
      "metadata": {},
      "source": [
        "### 4.2 Exercice 2\n",
        "\n",
        "Ré-écrivez le code ci-dessous à l’aide d’une boucle **for**.  \n",
        "Indice : explorez les différentes utilisations de la méthode **range()**"
      ],
      "id": "aa92c039-b85d-4e48-a116-7d7e0d8bf558"
    },
    {
      "cell_type": "code",
      "execution_count": 23,
      "metadata": {},
      "outputs": [],
      "source": [
        "cpt = 5\n",
        "while cpt >= 0:\n",
        "    print(cpt)\n",
        "    cpt -= 1      # cpt = cpt - 1\n",
        "print(\"Boom\")"
      ],
      "id": "9d016118"
    },
    {
      "cell_type": "code",
      "execution_count": 24,
      "metadata": {
        "tags": []
      },
      "outputs": [],
      "source": [
        "# Testez votre réponse dans cette cellule"
      ],
      "id": "90a26b9e"
    },
    {
      "cell_type": "markdown",
      "metadata": {},
      "source": [
        "### 4.3 Exercice 3\n",
        "\n",
        "Réécrivez la boucle `for` suivante à l’aide d’une boucle `while`."
      ],
      "id": "3328192d-6a6e-4417-ae16-53a2f1ce2b40"
    },
    {
      "cell_type": "code",
      "execution_count": 25,
      "metadata": {
        "tags": []
      },
      "outputs": [],
      "source": [
        "gamme = ['do', 're', 'mi', 'fa', 'sol', 'la', 'si']\n",
        "\n",
        "for i, note in enumerate(gamme):\n",
        "    print(\"La note numéro \" + str(i) + \" de la gamme de do majeur est \" + note)"
      ],
      "id": "6b974529"
    },
    {
      "cell_type": "code",
      "execution_count": 26,
      "metadata": {
        "tags": []
      },
      "outputs": [],
      "source": [
        "# Testez votre réponse dans cette cellule"
      ],
      "id": "d9ae83bd"
    },
    {
      "cell_type": "markdown",
      "metadata": {},
      "source": [
        "### 4.4 Exercice 4\n",
        "\n",
        "Triez la liste ci-dessous à l’aide de 2 boucles **for** (sans utiliser\n",
        "de méthode toute faite de tri) :\n",
        "\n",
        "-   `liste = [34, 7, 20, 12, 50, 23, 16, 28, 6, 11, 19, 13, 26, 8, 9]`"
      ],
      "id": "288c1dd6-19f3-46b7-b2db-3d738bd0e42c"
    },
    {
      "cell_type": "code",
      "execution_count": 27,
      "metadata": {
        "tags": []
      },
      "outputs": [],
      "source": [
        "# Testez votre réponse dans cette cellule"
      ],
      "id": "1d95adfb"
    },
    {
      "cell_type": "markdown",
      "metadata": {},
      "source": [
        "### 4.5 Exercice 5\n",
        "\n",
        "Ecrivez un programme permettant de calculer les 10 premiers termes de la\n",
        "suite de Fibonacci à l’aide d’une boucle **for**.  \n",
        "Même question avec une boucle **while**.\n",
        "\n",
        "Rappel : La suite de Fibonacci se définit de la manière suivante :\n",
        "\n",
        "-   les deux premiers nombres sont 0 et 1\n",
        "-   chaque autre nombre de la suite s’obtient en additionnant les deux\n",
        "    nombres qui le précèdent"
      ],
      "id": "b56fd0f0-d530-4c5f-8f63-fb4fc953339e"
    },
    {
      "cell_type": "code",
      "execution_count": 28,
      "metadata": {
        "tags": []
      },
      "outputs": [],
      "source": [
        "# Testez votre réponse dans cette cellule"
      ],
      "id": "e4da7ca9"
    },
    {
      "cell_type": "markdown",
      "metadata": {},
      "source": [
        "### 4.6 Exercice 6\n",
        "\n",
        "Calculer le minimum et le maximum de la série de valeurs suivantes, sans\n",
        "utiliser les fonctions `min` et `max` de Python.\n",
        "\n",
        "x = \\[8, 18, 6, 0, 15, 17.5, 9, 1\\]"
      ],
      "id": "d31738e1-3f79-4128-8035-397ec1280dda"
    },
    {
      "cell_type": "code",
      "execution_count": 29,
      "metadata": {
        "tags": []
      },
      "outputs": [],
      "source": [
        "# Testez votre réponse dans cette cellule"
      ],
      "id": "8817dd0c"
    },
    {
      "cell_type": "markdown",
      "metadata": {},
      "source": [
        "### 4.7 Exercice 7\n",
        "\n",
        "À l’aide de boucles **for** et **while**, parcourez ce dictionnaire et\n",
        "affichez la moyenne de chaque élève."
      ],
      "id": "ce89ac1f-cdd9-4d74-8e15-eb281f466870"
    },
    {
      "cell_type": "code",
      "execution_count": 30,
      "metadata": {
        "tags": []
      },
      "outputs": [],
      "source": [
        "notes = {\n",
        "    \"Miranda\"  : [16, 5, 8, 12],\n",
        "    \"Celestin\" : [19, 1, 7, 10],\n",
        "    \"Hypolyte\" : [18, 3, 12],\n",
        "    \"Josephine\": [12, 15, 14, 14]\n",
        "}"
      ],
      "id": "c9ad616f"
    },
    {
      "cell_type": "code",
      "execution_count": 31,
      "metadata": {},
      "outputs": [],
      "source": [
        "# Testez votre réponse dans cette cellule"
      ],
      "id": "090bb0a1"
    },
    {
      "cell_type": "markdown",
      "metadata": {},
      "source": [
        "### 4.8 Exercice 8\n",
        "\n",
        "Calculer la moyenne et la variance de la série de valeurs suivantes,\n",
        "sans utiliser des fonctions déjà codées :\n",
        "\n",
        "x = \\[8, 18, 6, 0, 15, 17.5, 9, 1\\]\n",
        "\n",
        "Pour rappel, les formules sont :\n",
        "\n",
        "-   moyenne : $$\\bar{x} = {\\frac {1}{n}}\\sum_{i=1}^{n}x_{i}$$\n",
        "-   variance :\n",
        "    $$\\sigma^2 = {\\frac {1}{n}}\\sum_{i=1}^{n} (x_{i}-\\bar{x})^2$$"
      ],
      "id": "b6d968fb-af18-4680-b2b9-c11e1dc202bc"
    },
    {
      "cell_type": "code",
      "execution_count": 32,
      "metadata": {
        "tags": []
      },
      "outputs": [],
      "source": [
        "# Testez votre réponse dans cette cellule"
      ],
      "id": "a56426c1"
    },
    {
      "cell_type": "code",
      "execution_count": 33,
      "metadata": {},
      "outputs": [],
      "source": [
        "# Pour vérifier vos résultats\n",
        "import numpy as np\n",
        "\n",
        "# Create an array of numbers\n",
        "x = [8, 18, 6, 0, 15, 17.5, 9, 1]\n",
        "\n",
        "print(\"Mean     : \", np.mean(x))\n",
        "print(\"Variance : \", np.var(x))"
      ],
      "id": "66a6916b"
    }
  ],
  "nbformat": 4,
  "nbformat_minor": 5,
  "metadata": {
    "kernelspec": {
      "name": "python3",
      "display_name": "Python 3 (ipykernel)",
      "language": "python",
      "path": "/opt/hostedtoolcache/Python/3.10.14/x64/share/jupyter/kernels/python3"
    },
    "language_info": {
      "name": "python",
      "codemirror_mode": {
        "name": "ipython",
        "version": "3"
      },
      "file_extension": ".py",
      "mimetype": "text/x-python",
      "nbconvert_exporter": "python",
      "pygments_lexer": "ipython3",
      "version": "3.10.14"
    }
  }
}